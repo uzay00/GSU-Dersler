{
 "cells": [
  {
   "cell_type": "markdown",
   "metadata": {
    "id": "xAq88ezZueOI"
   },
   "source": [
    "# INF236 Programlama Uygulamaları\n",
    "\n",
    "## Jupyter notebook/Python\n",
    "## programalama : OBEB\n",
    "## Algoritma: ikili arama (sıralı liste)\n",
    "## Doğal Dil İşleme: jaccard benzerliği\n",
    "## Olasılık: empirik şekilde pi’yi bulmak"
   ]
  },
  {
   "cell_type": "code",
   "execution_count": 1,
   "metadata": {
    "colab": {
     "base_uri": "https://localhost:8080/"
    },
    "id": "0EgOQFifuHPF",
    "outputId": "181cffcd-a719-4630-a4f1-00766d1d9738"
   },
   "outputs": [
    {
     "name": "stdout",
     "output_type": "stream",
     "text": [
      "Hello World\n"
     ]
    }
   ],
   "source": [
    "print('Hello World')"
   ]
  },
  {
   "cell_type": "code",
   "execution_count": 2,
   "metadata": {
    "id": "q_cbr-pxwJVc"
   },
   "outputs": [],
   "source": [
    "customer_IDs = [2,5,7,9,12,34,56,89]"
   ]
  },
  {
   "cell_type": "code",
   "execution_count": 8,
   "metadata": {
    "colab": {
     "base_uri": "https://localhost:8080/"
    },
    "id": "CH8bhVYXwfhj",
    "outputId": "b0211641-4f11-4bf1-8f1c-b148cd14bc5f"
   },
   "outputs": [
    {
     "data": {
      "text/plain": [
       "2"
      ]
     },
     "execution_count": 8,
     "metadata": {},
     "output_type": "execute_result"
    }
   ],
   "source": [
    "customer_IDs[0]"
   ]
  },
  {
   "cell_type": "code",
   "execution_count": 9,
   "metadata": {
    "colab": {
     "base_uri": "https://localhost:8080/"
    },
    "id": "4uamPa9KwpG9",
    "outputId": "793e4ac1-b6ed-4509-d9fb-df90dceecab1"
   },
   "outputs": [
    {
     "data": {
      "text/plain": [
       "89"
      ]
     },
     "execution_count": 9,
     "metadata": {},
     "output_type": "execute_result"
    }
   ],
   "source": [
    "customer_IDs[-1]"
   ]
  },
  {
   "cell_type": "code",
   "execution_count": 10,
   "metadata": {
    "colab": {
     "base_uri": "https://localhost:8080/"
    },
    "id": "LCTzZ3mfwx6r",
    "outputId": "6489bef6-3657-476e-bab1-185cf259e003"
   },
   "outputs": [
    {
     "data": {
      "text/plain": [
       "8"
      ]
     },
     "execution_count": 10,
     "metadata": {},
     "output_type": "execute_result"
    }
   ],
   "source": [
    "len(customer_IDs)"
   ]
  },
  {
   "cell_type": "code",
   "execution_count": 12,
   "metadata": {
    "colab": {
     "base_uri": "https://localhost:8080/"
    },
    "id": "VspuZwFww1H7",
    "outputId": "b3ca2533-cd4d-4804-f22d-3f9b710d7632"
   },
   "outputs": [
    {
     "data": {
      "text/plain": [
       "False"
      ]
     },
     "execution_count": 12,
     "metadata": {},
     "output_type": "execute_result"
    }
   ],
   "source": [
    "# esitlik kontrolu \n",
    "customer_IDs[0] == 9"
   ]
  },
  {
   "cell_type": "code",
   "execution_count": 13,
   "metadata": {
    "id": "yw_m14z-w8Vg"
   },
   "outputs": [],
   "source": [
    "# atama islemi\n",
    "customer_IDs[0] = 9"
   ]
  },
  {
   "cell_type": "code",
   "execution_count": 14,
   "metadata": {
    "colab": {
     "base_uri": "https://localhost:8080/"
    },
    "id": "g4KaXMsaxMxf",
    "outputId": "c45133c5-490a-4868-a323-ab4fa2745a5c"
   },
   "outputs": [
    {
     "data": {
      "text/plain": [
       "[9, 5, 7, 9, 12, 34, 56, 89]"
      ]
     },
     "execution_count": 14,
     "metadata": {},
     "output_type": "execute_result"
    }
   ],
   "source": [
    "customer_IDs"
   ]
  },
  {
   "cell_type": "code",
   "execution_count": 15,
   "metadata": {
    "id": "tB4HiUfQxNof"
   },
   "outputs": [],
   "source": [
    "customer_IDs[0] = 1"
   ]
  },
  {
   "cell_type": "code",
   "execution_count": 16,
   "metadata": {
    "colab": {
     "base_uri": "https://localhost:8080/"
    },
    "id": "BeumMExmxWcv",
    "outputId": "7fd0abe7-a4e2-4935-e3d1-d3e31d25df52"
   },
   "outputs": [
    {
     "data": {
      "text/plain": [
       "[1, 5, 7, 9, 12, 34, 56, 89]"
      ]
     },
     "execution_count": 16,
     "metadata": {},
     "output_type": "execute_result"
    }
   ],
   "source": [
    "customer_IDs"
   ]
  },
  {
   "cell_type": "code",
   "execution_count": 20,
   "metadata": {
    "colab": {
     "base_uri": "https://localhost:8080/"
    },
    "id": "dr5HQFnnxXL8",
    "outputId": "3bbd1b92-4ec4-43b6-eaae-e98c5463f77e"
   },
   "outputs": [
    {
     "data": {
      "text/plain": [
       "4"
      ]
     },
     "execution_count": 20,
     "metadata": {},
     "output_type": "execute_result"
    }
   ],
   "source": [
    "bas_indeks = 0\n",
    "son_indeks = len(customer_IDs)\n",
    "\n",
    "orta_indeks = bas_indeks + (son_indeks - bas_indeks)//2\n",
    "orta_indeks"
   ]
  },
  {
   "cell_type": "code",
   "execution_count": 21,
   "metadata": {
    "colab": {
     "base_uri": "https://localhost:8080/"
    },
    "id": "dRdgzJtVyJIi",
    "outputId": "60e5cd7f-aa11-4db9-bc10-d87c4361a419"
   },
   "outputs": [
    {
     "data": {
      "text/plain": [
       "8"
      ]
     },
     "execution_count": 21,
     "metadata": {},
     "output_type": "execute_result"
    }
   ],
   "source": [
    "son_indeks"
   ]
  },
  {
   "cell_type": "code",
   "execution_count": 23,
   "metadata": {
    "id": "vuENwckxyKq6"
   },
   "outputs": [],
   "source": [
    "def ikili_arama(liste, k):\n",
    "  \"\"\"\n",
    "  Parametreler\n",
    "    - liste: arama yapilacak liste\n",
    "    - k: aranan (key)\n",
    "\n",
    "  Return\n",
    "   - k bulunduysa indeksi dondur\n",
    "   - k bulunmadiysa -1 dondur\n",
    "  \"\"\"\n",
    "\n",
    "  bas_indeks = 0\n",
    "  son_indeks = len(liste)\n",
    "\n",
    "  orta_indeks = bas_indeks + (son_indeks - bas_indeks)//2\n",
    "\n",
    "  if liste[orta_indeks] == k:\n",
    "    return orta_indeks\n",
    "  else:\n",
    "    return -1"
   ]
  },
  {
   "cell_type": "code",
   "execution_count": 24,
   "metadata": {
    "colab": {
     "base_uri": "https://localhost:8080/"
    },
    "id": "WeDn9I5W1vJz",
    "outputId": "eb7c1579-5bfb-409c-c4c9-1dd649bebc9e"
   },
   "outputs": [
    {
     "data": {
      "text/plain": [
       "4"
      ]
     },
     "execution_count": 24,
     "metadata": {},
     "output_type": "execute_result"
    }
   ],
   "source": [
    "ikili_arama(liste = customer_IDs, k = 12)"
   ]
  },
  {
   "cell_type": "code",
   "execution_count": 25,
   "metadata": {
    "colab": {
     "base_uri": "https://localhost:8080/"
    },
    "id": "-iGfuhJT2e5a",
    "outputId": "36cb05db-b5f4-4c0c-bc6c-29ffa45c9518"
   },
   "outputs": [
    {
     "data": {
      "text/plain": [
       "-1"
      ]
     },
     "execution_count": 25,
     "metadata": {},
     "output_type": "execute_result"
    }
   ],
   "source": [
    "ikili_arama(liste = customer_IDs, k = 11)"
   ]
  },
  {
   "cell_type": "code",
   "execution_count": 49,
   "metadata": {
    "id": "QBXlobkN2hbh"
   },
   "outputs": [],
   "source": [
    "def ikili_arama(liste, k):\n",
    "  \"\"\"\n",
    "  Parametreler\n",
    "    - liste: arama yapilacak liste\n",
    "    - k: aranan (key)\n",
    "\n",
    "  Return\n",
    "   - k bulunduysa indeksi dondur\n",
    "   - k bulunmadiysa -1 dondur\n",
    "  \"\"\"\n",
    "  bas_indeks = 0\n",
    "  son_indeks = len(liste)-1\n",
    "  while bas_indeks <= son_indeks:\n",
    "    orta_indeks = bas_indeks + (1 + son_indeks - bas_indeks)//2\n",
    "    #print('bas_indeks', bas_indeks, 'bas eleman = ', liste[bas_indeks])\n",
    "    #print('orta_indeks', orta_indeks, 'orta eleman = ', liste[orta_indeks])\n",
    "    #print('son_indeks', son_indeks, 'son eleman = ', liste[son_indeks])\n",
    "    #print()\n",
    "    if liste[orta_indeks] == k:\n",
    "      return orta_indeks\n",
    "    elif liste[orta_indeks] < k:\n",
    "      bas_indeks = orta_indeks + 1\n",
    "    elif liste[orta_indeks] > k:\n",
    "      son_indeks = orta_indeks - 1\n",
    "  return -1"
   ]
  },
  {
   "cell_type": "code",
   "execution_count": 50,
   "metadata": {
    "colab": {
     "base_uri": "https://localhost:8080/"
    },
    "id": "qprJSOO23HWz",
    "outputId": "d132f501-64f7-4e18-aef8-463647d3549a"
   },
   "outputs": [
    {
     "name": "stdout",
     "output_type": "stream",
     "text": [
      "bas_indeks 0 bas eleman =  1\n",
      "orta_indeks 4 orta eleman =  12\n",
      "son_indeks 7 son eleman =  89\n",
      "\n"
     ]
    },
    {
     "data": {
      "text/plain": [
       "4"
      ]
     },
     "execution_count": 50,
     "metadata": {},
     "output_type": "execute_result"
    }
   ],
   "source": [
    "ikili_arama(liste = customer_IDs, k = 12)"
   ]
  },
  {
   "cell_type": "code",
   "execution_count": 51,
   "metadata": {
    "colab": {
     "base_uri": "https://localhost:8080/"
    },
    "id": "XPRiA5ts3Ky4",
    "outputId": "7d178eb1-82ba-4528-c94c-2536420a37c7"
   },
   "outputs": [
    {
     "name": "stdout",
     "output_type": "stream",
     "text": [
      "bas_indeks 0 bas eleman =  1\n",
      "orta_indeks 4 orta eleman =  12\n",
      "son_indeks 7 son eleman =  89\n",
      "\n",
      "bas_indeks 0 bas eleman =  1\n",
      "orta_indeks 2 orta eleman =  7\n",
      "son_indeks 3 son eleman =  9\n",
      "\n"
     ]
    },
    {
     "data": {
      "text/plain": [
       "2"
      ]
     },
     "execution_count": 51,
     "metadata": {},
     "output_type": "execute_result"
    }
   ],
   "source": [
    "ikili_arama(liste = customer_IDs, k = 7)"
   ]
  },
  {
   "cell_type": "code",
   "execution_count": 52,
   "metadata": {
    "colab": {
     "base_uri": "https://localhost:8080/"
    },
    "id": "1s_0k2Cj3iZi",
    "outputId": "dbb5f57f-e662-4461-8f10-eb02f633806a"
   },
   "outputs": [
    {
     "name": "stdout",
     "output_type": "stream",
     "text": [
      "bas_indeks 0 bas eleman =  1\n",
      "orta_indeks 4 orta eleman =  12\n",
      "son_indeks 7 son eleman =  89\n",
      "\n",
      "bas_indeks 5 bas eleman =  34\n",
      "orta_indeks 6 orta eleman =  56\n",
      "son_indeks 7 son eleman =  89\n",
      "\n",
      "bas_indeks 7 bas eleman =  89\n",
      "orta_indeks 7 orta eleman =  89\n",
      "son_indeks 7 son eleman =  89\n",
      "\n"
     ]
    },
    {
     "data": {
      "text/plain": [
       "7"
      ]
     },
     "execution_count": 52,
     "metadata": {},
     "output_type": "execute_result"
    }
   ],
   "source": [
    "ikili_arama(liste = customer_IDs, k = 89)"
   ]
  },
  {
   "cell_type": "markdown",
   "metadata": {
    "id": "ppbEPs0P_U_O"
   },
   "source": [
    "# Recursive  code"
   ]
  },
  {
   "cell_type": "code",
   "execution_count": 72,
   "metadata": {
    "id": "41TZh7wI_YnU"
   },
   "outputs": [],
   "source": [
    "def factorial(n):\n",
    "  # Temel Durum (Base Case)\n",
    "  if n ==1:\n",
    "    return 1\n",
    "  # Tekrar Eden Durum (Recursive Case)\n",
    "  else: \n",
    "    return n * factorial(n-1)"
   ]
  },
  {
   "cell_type": "code",
   "execution_count": 73,
   "metadata": {
    "colab": {
     "base_uri": "https://localhost:8080/"
    },
    "id": "EFPXaBch_hCS",
    "outputId": "e46120e6-c21e-429a-f100-710d20b2941d"
   },
   "outputs": [
    {
     "data": {
      "text/plain": [
       "6"
      ]
     },
     "execution_count": 73,
     "metadata": {},
     "output_type": "execute_result"
    }
   ],
   "source": [
    "factorial(n = 3)"
   ]
  },
  {
   "cell_type": "code",
   "execution_count": 59,
   "metadata": {
    "id": "gBEVwfci4Mfq"
   },
   "outputs": [],
   "source": [
    "def rec_ikili_arama(liste, bas_indeks, son_indeks, k):\n",
    "  \"\"\"\n",
    "  Parametreler\n",
    "    - liste: arama yapilacak liste\n",
    "    - k: aranan (key)\n",
    "    - bas_indeks, son_indeks: bas ve son eleman indeksleri\n",
    "\n",
    "  Return\n",
    "   - k bulunduysa indeksi dondur\n",
    "   - k bulunmadiysa -1 dondur\n",
    "  \"\"\"\n",
    "  orta_indeks = bas_indeks + (1 + son_indeks - bas_indeks)//2\n",
    "\n",
    "  # Temel Durum (Base Case)\n",
    "  if bas_indeks > son_indeks:\n",
    "    return -1\n",
    "  if liste[orta_indeks] == k:\n",
    "    return orta_indeks\n",
    "  # Tekrar Eden Durum (Recursive Case)\n",
    "  elif liste[orta_indeks] < k:\n",
    "    return rec_ikili_arama(liste, orta_indeks + 1, son_indeks, k)\n",
    "    # bas_indeks = orta_indeks + 1\n",
    "  elif liste[orta_indeks] > k:\n",
    "    return rec_ikili_arama(liste, bas_indeks, orta_indeks - 1, k)\n",
    "    # son_indeks = orta_indeks - 1\n",
    "\n",
    "  \n",
    "\n",
    "\n",
    "\n",
    "\n",
    "\n",
    "\n",
    "  "
   ]
  },
  {
   "cell_type": "code",
   "execution_count": 60,
   "metadata": {
    "colab": {
     "base_uri": "https://localhost:8080/"
    },
    "id": "I-tFmTK-5flZ",
    "outputId": "47a66217-f30d-4e72-81b1-24cf114b453d"
   },
   "outputs": [
    {
     "data": {
      "text/plain": [
       "4"
      ]
     },
     "execution_count": 60,
     "metadata": {},
     "output_type": "execute_result"
    }
   ],
   "source": [
    "rec_ikili_arama(liste = customer_IDs, \n",
    "                bas_indeks = 0, \n",
    "                son_indeks = len(customer_IDs)-1, \n",
    "                k = 12)"
   ]
  },
  {
   "cell_type": "code",
   "execution_count": 61,
   "metadata": {
    "colab": {
     "base_uri": "https://localhost:8080/"
    },
    "id": "Aj0XUJWX5i8G",
    "outputId": "a89c2308-e482-44d1-84ff-42af40ca6a10"
   },
   "outputs": [
    {
     "data": {
      "text/plain": [
       "5"
      ]
     },
     "execution_count": 61,
     "metadata": {},
     "output_type": "execute_result"
    }
   ],
   "source": [
    "rec_ikili_arama(liste = customer_IDs, \n",
    "                bas_indeks = 0, \n",
    "                son_indeks = len(customer_IDs)-1, \n",
    "                k = 34)"
   ]
  },
  {
   "cell_type": "code",
   "execution_count": 62,
   "metadata": {
    "colab": {
     "base_uri": "https://localhost:8080/"
    },
    "id": "sXPtpcdN503E",
    "outputId": "4e52e956-92cf-4ecd-e35d-bf94dd8a4a06"
   },
   "outputs": [
    {
     "data": {
      "text/plain": [
       "7"
      ]
     },
     "execution_count": 62,
     "metadata": {},
     "output_type": "execute_result"
    }
   ],
   "source": [
    "rec_ikili_arama(liste = customer_IDs, \n",
    "                bas_indeks = 0, \n",
    "                son_indeks = len(customer_IDs)-1, \n",
    "                k = 89)"
   ]
  },
  {
   "cell_type": "code",
   "execution_count": 63,
   "metadata": {
    "colab": {
     "base_uri": "https://localhost:8080/"
    },
    "id": "KI7KqXct6CeG",
    "outputId": "886119ef-7392-401b-c35f-8317576fdd4b"
   },
   "outputs": [
    {
     "data": {
      "text/plain": [
       "-1"
      ]
     },
     "execution_count": 63,
     "metadata": {},
     "output_type": "execute_result"
    }
   ],
   "source": [
    "rec_ikili_arama(liste = customer_IDs, \n",
    "                bas_indeks = 0, \n",
    "                son_indeks = len(customer_IDs)-1, \n",
    "                k = 11)"
   ]
  },
  {
   "cell_type": "markdown",
   "metadata": {
    "id": "p9gg080d9lhm"
   },
   "source": [
    "# Denemeler"
   ]
  },
  {
   "cell_type": "code",
   "execution_count": 64,
   "metadata": {
    "id": "Y7jpF7D46Dhh"
   },
   "outputs": [],
   "source": [
    "customer_IDs = [2,3,4]"
   ]
  },
  {
   "cell_type": "code",
   "execution_count": 65,
   "metadata": {
    "colab": {
     "base_uri": "https://localhost:8080/"
    },
    "id": "E0YeAfQB9o2b",
    "outputId": "ce163947-124c-4004-8d0e-10988417ccab"
   },
   "outputs": [
    {
     "data": {
      "text/plain": [
       "0"
      ]
     },
     "execution_count": 65,
     "metadata": {},
     "output_type": "execute_result"
    }
   ],
   "source": [
    "rec_ikili_arama(liste = customer_IDs, \n",
    "                bas_indeks = 0, \n",
    "                son_indeks = len(customer_IDs)-1, \n",
    "                k = 2)"
   ]
  },
  {
   "cell_type": "code",
   "execution_count": 66,
   "metadata": {
    "colab": {
     "base_uri": "https://localhost:8080/"
    },
    "id": "Whqx-UnD9rt1",
    "outputId": "f9cfcdfd-7b10-4221-f5ba-8d8610e664e7"
   },
   "outputs": [
    {
     "data": {
      "text/plain": [
       "2"
      ]
     },
     "execution_count": 66,
     "metadata": {},
     "output_type": "execute_result"
    }
   ],
   "source": [
    "rec_ikili_arama(liste = customer_IDs, \n",
    "                bas_indeks = 0, \n",
    "                son_indeks = len(customer_IDs)-1, \n",
    "                k = 4)"
   ]
  },
  {
   "cell_type": "code",
   "execution_count": 69,
   "metadata": {
    "colab": {
     "base_uri": "https://localhost:8080/"
    },
    "id": "Jj9rnKNX9xaJ",
    "outputId": "804c21cf-60a1-4d01-fad2-971ba0c40782"
   },
   "outputs": [
    {
     "data": {
      "text/plain": [
       "-1"
      ]
     },
     "execution_count": 69,
     "metadata": {},
     "output_type": "execute_result"
    }
   ],
   "source": [
    "rec_ikili_arama(liste = customer_IDs, \n",
    "                bas_indeks = 0, \n",
    "                son_indeks = len(customer_IDs)-1, \n",
    "                k = 5000)"
   ]
  },
  {
   "cell_type": "code",
   "execution_count": 70,
   "metadata": {
    "colab": {
     "base_uri": "https://localhost:8080/"
    },
    "id": "Z7G5z05S9z3p",
    "outputId": "61920fcf-df20-4749-d33e-9ee44399d19d"
   },
   "outputs": [
    {
     "name": "stdout",
     "output_type": "stream",
     "text": [
      "bas_indeks 0 bas eleman =  2\n",
      "orta_indeks 1 orta eleman =  3\n",
      "son_indeks 2 son eleman =  4\n",
      "\n",
      "bas_indeks 2 bas eleman =  4\n",
      "orta_indeks 2 orta eleman =  4\n",
      "son_indeks 2 son eleman =  4\n",
      "\n"
     ]
    },
    {
     "data": {
      "text/plain": [
       "-1"
      ]
     },
     "execution_count": 70,
     "metadata": {},
     "output_type": "execute_result"
    }
   ],
   "source": [
    "\n",
    "customer_IDs = [2,3,4]\n",
    "ikili_arama(liste = customer_IDs, k = 12)"
   ]
  },
  {
   "cell_type": "code",
   "execution_count": 71,
   "metadata": {
    "colab": {
     "base_uri": "https://localhost:8080/"
    },
    "id": "vcYuC9SQ97XT",
    "outputId": "5b40bcf7-faed-4370-8a92-5475ea07f990"
   },
   "outputs": [
    {
     "name": "stdout",
     "output_type": "stream",
     "text": [
      "bas_indeks 0 bas eleman =  2\n",
      "orta_indeks 1 orta eleman =  3\n",
      "son_indeks 2 son eleman =  4\n",
      "\n",
      "bas_indeks 0 bas eleman =  2\n",
      "orta_indeks 0 orta eleman =  2\n",
      "son_indeks 0 son eleman =  2\n",
      "\n"
     ]
    },
    {
     "data": {
      "text/plain": [
       "0"
      ]
     },
     "execution_count": 71,
     "metadata": {},
     "output_type": "execute_result"
    }
   ],
   "source": [
    "ikili_arama(liste = customer_IDs, k = 2)"
   ]
  },
  {
   "cell_type": "code",
   "execution_count": null,
   "metadata": {
    "id": "47sLTuly99Kl"
   },
   "outputs": [],
   "source": []
  }
 ],
 "metadata": {
  "colab": {
   "name": "GSU INF236 Ders 1.ipynb",
   "provenance": []
  },
  "kernelspec": {
   "display_name": "Python 3",
   "language": "python",
   "name": "python3"
  },
  "language_info": {
   "codemirror_mode": {
    "name": "ipython",
    "version": 3
   },
   "file_extension": ".py",
   "mimetype": "text/x-python",
   "name": "python",
   "nbconvert_exporter": "python",
   "pygments_lexer": "ipython3",
   "version": "3.8.3"
  },
  "toc": {
   "base_numbering": 1,
   "nav_menu": {},
   "number_sections": true,
   "sideBar": true,
   "skip_h1_title": false,
   "title_cell": "Table of Contents",
   "title_sidebar": "Contents",
   "toc_cell": false,
   "toc_position": {},
   "toc_section_display": true,
   "toc_window_display": false
  },
  "varInspector": {
   "cols": {
    "lenName": 16,
    "lenType": 16,
    "lenVar": 40
   },
   "kernels_config": {
    "python": {
     "delete_cmd_postfix": "",
     "delete_cmd_prefix": "del ",
     "library": "var_list.py",
     "varRefreshCmd": "print(var_dic_list())"
    },
    "r": {
     "delete_cmd_postfix": ") ",
     "delete_cmd_prefix": "rm(",
     "library": "var_list.r",
     "varRefreshCmd": "cat(var_dic_list()) "
    }
   },
   "types_to_exclude": [
    "module",
    "function",
    "builtin_function_or_method",
    "instance",
    "_Feature"
   ],
   "window_display": false
  }
 },
 "nbformat": 4,
 "nbformat_minor": 1
}
