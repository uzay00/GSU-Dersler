{
 "cells": [
  {
   "cell_type": "markdown",
   "metadata": {},
   "source": [
    "https://mertmekatronik.com/turkce-speech-recognition\n",
    "\n",
    "\n",
    ">  Konuşma tanıma konusunda ücretli Google Speech Recognition API servisine nazaran ücretsizdir. Ama bir dezavantajı ise gerçek zamanlı kelimeleri yazıya çeviremez yapamaz. Bir konuşmayı algılaması için sizin cümleyi bitirmeniz beklenir ve kaydedilen ses dosyasını ücretsiz Google sunucularına yollanarak geri dönüş alınır. \n"
   ]
  },
  {
   "cell_type": "code",
   "execution_count": 2,
   "metadata": {},
   "outputs": [],
   "source": [
    "#!brew install portaudio\n",
    "#!pip install pyaudio\n",
    "#!pip install SpeechRecognition"
   ]
  },
  {
   "cell_type": "code",
   "execution_count": 3,
   "metadata": {},
   "outputs": [],
   "source": [
    "import speech_recognition as sr\n",
    "mic = sr.Microphone()\n",
    "r = sr.Recognizer()"
   ]
  },
  {
   "cell_type": "code",
   "execution_count": 4,
   "metadata": {},
   "outputs": [
    {
     "name": "stdout",
     "output_type": "stream",
     "text": [
      "Arka plan gürültüsü:52.83009202580046\n",
      "Dinliyorum: \n",
      "Merhaba bugün hava nasıl\n"
     ]
    }
   ],
   "source": [
    "with sr.Microphone() as source:\n",
    "    r.adjust_for_ambient_noise(source)\n",
    "    print(\"Arka plan gürültüsü:\" + str(r.energy_threshold))\n",
    "\n",
    "    try:\n",
    "        print(\"Dinliyorum: \")\n",
    "        ses = r.listen(source, timeout=2, phrase_time_limit=5)\n",
    "        print(r.recognize_google(ses, language='tr-tr'))\n",
    "    except sr.WaitTimeoutError:\n",
    "        print(\"Dinleme zaman aşımına uğradı\")\n",
    "\n",
    "    except sr.UnknownValueError:\n",
    "        print(\"Ne dediğini anlayamadım\")\n",
    "\n",
    "    except sr.RequestError:\n",
    "        print(\"İnternete bağlanamıyorum\")"
   ]
  },
  {
   "cell_type": "code",
   "execution_count": 5,
   "metadata": {},
   "outputs": [
    {
     "name": "stdout",
     "output_type": "stream",
     "text": [
      "Dinliyorum: \n",
      "Merhaba\n"
     ]
    }
   ],
   "source": [
    "with sr.Microphone() as source:\n",
    "    try:\n",
    "        print(\"Dinliyorum: \")\n",
    "        ses = r.listen(source, timeout=2, phrase_time_limit=5)\n",
    "        print(r.recognize_google(ses, language='tr-tr'))\n",
    "    except sr.WaitTimeoutError:\n",
    "        print(\"Dinleme zaman aşımına uğradı\")\n",
    "\n",
    "    except sr.UnknownValueError:\n",
    "        print(\"Ne dediğini anlayamadım\")\n",
    "\n",
    "    except sr.RequestError:\n",
    "        print(\"İnternete bağlanamıyorum\")"
   ]
  },
  {
   "cell_type": "markdown",
   "metadata": {},
   "source": [
    "https://realpython.com/python-speech-recognition/"
   ]
  },
  {
   "cell_type": "code",
   "execution_count": 6,
   "metadata": {},
   "outputs": [],
   "source": [
    "def recognize_speech_from_mic(recognizer, microphone, firsttime = False):\n",
    "    \"\"\"Transcribe speech from recorded from `microphone`.\n",
    "\n",
    "    Returns a dictionary with three keys:\n",
    "    \"success\": a boolean indicating whether or not the API request was\n",
    "               successful\n",
    "    \"error\":   `None` if no error occured, otherwise a string containing\n",
    "               an error message if the API could not be reached or\n",
    "               speech was unrecognizable\n",
    "    \"transcription\": `None` if speech could not be transcribed,\n",
    "               otherwise a string containing the transcribed text\n",
    "    \"\"\"\n",
    "    # check that recognizer and microphone arguments are appropriate type\n",
    "    if not isinstance(recognizer, sr.Recognizer):\n",
    "        raise TypeError(\"`recognizer` must be `Recognizer` instance\")\n",
    "\n",
    "    if not isinstance(microphone, sr.Microphone):\n",
    "        raise TypeError(\"`microphone` must be `Microphone` instance\")\n",
    "\n",
    "    # adjust the recognizer sensitivity to ambient noise and record audio\n",
    "    # from the microphone\n",
    "    with microphone as source:\n",
    "        if firsttime == True:\n",
    "            recognizer.adjust_for_ambient_noise(source)\n",
    "        print('recording..')\n",
    "        audio = recognizer.listen(source)\n",
    "\n",
    "    # set up the response object\n",
    "    response = {\n",
    "        \"success\": True,\n",
    "        \"error\": None,\n",
    "        \"transcription\": None\n",
    "    }\n",
    "\n",
    "    # try recognizing the speech in the recording\n",
    "    # if a RequestError or UnknownValueError exception is caught,\n",
    "    #     update the response object accordingly\n",
    "    try:\n",
    "        response[\"transcription\"] = recognizer.recognize_google(audio, language='tr-tr')\n",
    "    except sr.RequestError:\n",
    "        # API was unreachable or unresponsive\n",
    "        response[\"success\"] = False\n",
    "        response[\"error\"] = \"API unavailable\"\n",
    "    except sr.UnknownValueError:\n",
    "        # speech was unintelligible\n",
    "        response[\"error\"] = \"Unable to recognize speech\"\n",
    "\n",
    "    return response"
   ]
  },
  {
   "cell_type": "code",
   "execution_count": 13,
   "metadata": {},
   "outputs": [
    {
     "name": "stdout",
     "output_type": "stream",
     "text": [
      "recording..\n"
     ]
    }
   ],
   "source": [
    "guess = recognize_speech_from_mic(r, mic)"
   ]
  },
  {
   "cell_type": "code",
   "execution_count": 14,
   "metadata": {},
   "outputs": [
    {
     "data": {
      "text/plain": [
       "'Bugün hava çok kötü'"
      ]
     },
     "execution_count": 14,
     "metadata": {},
     "output_type": "execute_result"
    }
   ],
   "source": [
    "guess['transcription']"
   ]
  },
  {
   "cell_type": "code",
   "execution_count": 15,
   "metadata": {},
   "outputs": [],
   "source": [
    "#!pip install sumapi"
   ]
  },
  {
   "cell_type": "code",
   "execution_count": 16,
   "metadata": {},
   "outputs": [],
   "source": [
    "from sumapi.api import SumAPI\n",
    "\n",
    "api = SumAPI(username='GSUINF236', password='RPXfvP2yU7v4')"
   ]
  },
  {
   "cell_type": "code",
   "execution_count": 17,
   "metadata": {},
   "outputs": [
    {
     "data": {
      "text/plain": [
       "{'body': 'Bu harika bir filmdi.',\n",
       " 'evaluation': {'label': 'positive', 'score': 0.9839390516281128}}"
      ]
     },
     "execution_count": 17,
     "metadata": {},
     "output_type": "execute_result"
    }
   ],
   "source": [
    "api.sentiment_analysis('Bu harika bir filmdi.', domain='general')"
   ]
  },
  {
   "cell_type": "code",
   "execution_count": 18,
   "metadata": {},
   "outputs": [
    {
     "data": {
      "text/plain": [
       "'Bugün hava çok kötü'"
      ]
     },
     "execution_count": 18,
     "metadata": {},
     "output_type": "execute_result"
    }
   ],
   "source": [
    "guess['transcription']"
   ]
  },
  {
   "cell_type": "code",
   "execution_count": 19,
   "metadata": {},
   "outputs": [
    {
     "data": {
      "text/plain": [
       "{'body': 'Bugün hava çok kötü',\n",
       " 'evaluation': {'label': 'negative', 'score': 0.9931999444961548}}"
      ]
     },
     "execution_count": 19,
     "metadata": {},
     "output_type": "execute_result"
    }
   ],
   "source": [
    "api.sentiment_analysis(guess['transcription'], domain='general')"
   ]
  },
  {
   "cell_type": "code",
   "execution_count": 20,
   "metadata": {},
   "outputs": [],
   "source": [
    "def cagri():\n",
    "    guess = recognize_speech_from_mic(r, mic)\n",
    "    transcription = guess['transcription']\n",
    "    print(transcription)\n",
    "    analysis = api.sentiment_analysis(transcription, domain='general')\n",
    "    return analysis['evaluation']"
   ]
  },
  {
   "cell_type": "code",
   "execution_count": 21,
   "metadata": {},
   "outputs": [
    {
     "name": "stdout",
     "output_type": "stream",
     "text": [
      "recording..\n",
      "Yaz geldi havalar çok güzel\n"
     ]
    },
    {
     "data": {
      "text/plain": [
       "{'label': 'positive', 'score': 0.6519173383712769}"
      ]
     },
     "execution_count": 21,
     "metadata": {},
     "output_type": "execute_result"
    }
   ],
   "source": [
    "cagri()"
   ]
  },
  {
   "cell_type": "code",
   "execution_count": null,
   "metadata": {},
   "outputs": [],
   "source": [
    "cagri()"
   ]
  },
  {
   "cell_type": "code",
   "execution_count": null,
   "metadata": {},
   "outputs": [],
   "source": [
    "api.zero_shot_classification('Bu nasıl bir hizmet, gerçekten rezilsiniz.', categories='talep,şikayet,öneri')"
   ]
  },
  {
   "cell_type": "code",
   "execution_count": null,
   "metadata": {},
   "outputs": [],
   "source": [
    "api.zero_shot_classification('Mac book pro super bir GPU sahip', \n",
    "                             categories='teknoloji, spor, ekonomi')"
   ]
  },
  {
   "cell_type": "code",
   "execution_count": null,
   "metadata": {},
   "outputs": [],
   "source": [
    "api.zero_shot_classification('Yelken kullan', \n",
    "                             categories='teknoloji, spor, ekonomi')"
   ]
  },
  {
   "cell_type": "code",
   "execution_count": null,
   "metadata": {},
   "outputs": [],
   "source": []
  }
 ],
 "metadata": {
  "kernelspec": {
   "display_name": "Python 3",
   "language": "python",
   "name": "python3"
  },
  "toc": {
   "base_numbering": 1,
   "nav_menu": {},
   "number_sections": true,
   "sideBar": true,
   "skip_h1_title": false,
   "title_cell": "Table of Contents",
   "title_sidebar": "Contents",
   "toc_cell": false,
   "toc_position": {},
   "toc_section_display": true,
   "toc_window_display": false
  },
  "varInspector": {
   "cols": {
    "lenName": 16,
    "lenType": 16,
    "lenVar": 40
   },
   "kernels_config": {
    "python": {
     "delete_cmd_postfix": "",
     "delete_cmd_prefix": "del ",
     "library": "var_list.py",
     "varRefreshCmd": "print(var_dic_list())"
    },
    "r": {
     "delete_cmd_postfix": ") ",
     "delete_cmd_prefix": "rm(",
     "library": "var_list.r",
     "varRefreshCmd": "cat(var_dic_list()) "
    }
   },
   "types_to_exclude": [
    "module",
    "function",
    "builtin_function_or_method",
    "instance",
    "_Feature"
   ],
   "window_display": false
  }
 },
 "nbformat": 4,
 "nbformat_minor": 4
}
