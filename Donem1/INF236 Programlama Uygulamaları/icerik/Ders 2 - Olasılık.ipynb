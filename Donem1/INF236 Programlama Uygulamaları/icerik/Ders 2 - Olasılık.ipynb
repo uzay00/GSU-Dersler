{
 "cells": [
  {
   "cell_type": "markdown",
   "metadata": {},
   "source": [
    "# Olasılık: empirik şekilde pi’yi bulmak\n",
    "\n",
    "## Rastgele veri üret \n",
    "$n$ adet 2 boytulu veri üret. Her bir boyut $[-1, 1]$ aralığında olsun.\n",
    "\n",
    "```\n",
    "import random\n",
    "# r [0, 1] aralığında\n",
    "r = random.random()\n",
    "\n",
    "# r [-1, 1] aralığında\n",
    "r = 2 * r - 1\n",
    "```\n",
    "\n",
    "## Kaç tanesi daire içinde kaldığını hesapla\n",
    "Verilerin kaçı merkezi orijin olan ve yarıçapı 1 olan daire içinde kaldığını hesapla. Bu değere $d$ diyelim.\n",
    "\n",
    "\n",
    "```\n",
    "import math\n",
    "# Öklid Mesafesi\n",
    "mesafe = math.sqrt(x**2 + y**2)\n",
    "\n",
    "# Daire icinde mi\n",
    "if mesafe < 1:\n",
    "    return True\n",
    "return False\n",
    "```\n",
    "\n",
    "## Empirik şekilde pi’yi hesapla\n",
    "$$\n",
    "4 \\times \\frac{d}{n} \\approx \\pi\n",
    "$$\n",
    "\n",
    "## Hata analizi\n",
    "$$\n",
    "hata = 4 \\times \\frac{d}{n} - \\pi\n",
    "$$\n",
    "\n",
    "$n$ arttikça hata değerimiz nasıl değiştiğini ölç.\n",
    "\n"
   ]
  },
  {
   "cell_type": "code",
   "execution_count": 1,
   "metadata": {},
   "outputs": [],
   "source": [
    "import random\n",
    "# r [0, 1] aralığında\n",
    "r = random.random()\n",
    "\n",
    "# r [-1, 1] aralığında\n",
    "r = 2 * r - 1"
   ]
  },
  {
   "cell_type": "code",
   "execution_count": 2,
   "metadata": {},
   "outputs": [],
   "source": [
    "def veri_uret():\n",
    "    \"\"\"\n",
    "    return:\n",
    "        2 boytulu veri üret. \n",
    "        Her bir boyut $[-1, 1]$ aralığında olsun.\n",
    "    \"\"\"\n",
    "    x = 2 * random.random() - 1\n",
    "    y = 2 * random.random() - 1\n",
    "\n",
    "    return x,y"
   ]
  },
  {
   "cell_type": "code",
   "execution_count": 3,
   "metadata": {},
   "outputs": [
    {
     "data": {
      "text/plain": [
       "(0.4151211812223603, -0.8317588275251135)"
      ]
     },
     "execution_count": 3,
     "metadata": {},
     "output_type": "execute_result"
    }
   ],
   "source": [
    "veri_uret()"
   ]
  },
  {
   "cell_type": "code",
   "execution_count": 4,
   "metadata": {},
   "outputs": [
    {
     "name": "stdout",
     "output_type": "stream",
     "text": [
      "-0.01156091861702313 -0.498636235286668\n",
      "True\n"
     ]
    }
   ],
   "source": [
    "import math\n",
    "\n",
    "x, y = veri_uret()\n",
    "print(x,y)\n",
    "# Öklid Mesafesi\n",
    "mesafe = math.sqrt(x**2 + y**2)\n",
    "\n",
    "# Daire icinde mi\n",
    "if mesafe < 1:\n",
    "    print(True)\n"
   ]
  },
  {
   "cell_type": "code",
   "execution_count": 5,
   "metadata": {},
   "outputs": [],
   "source": [
    "def daire_icinde_mi(veri):\n",
    "    \"\"\"\n",
    "    parametre:\n",
    "        veri 2 boyutlu \n",
    "        Her bir boyut $[-1, 1]$ aralığında \n",
    "    \n",
    "    \"\"\"\n",
    "    x, y = veri\n",
    "    # Öklid Mesafesi\n",
    "    mesafe = math.sqrt(x**2 + y**2)\n",
    "\n",
    "    # Daire icinde mi\n",
    "    if mesafe < 1:\n",
    "        return True\n",
    "    return False"
   ]
  },
  {
   "cell_type": "code",
   "execution_count": 6,
   "metadata": {},
   "outputs": [
    {
     "name": "stdout",
     "output_type": "stream",
     "text": [
      "(-0.8547771096727255, -0.7631228915276262)\n"
     ]
    },
    {
     "data": {
      "text/plain": [
       "False"
      ]
     },
     "execution_count": 6,
     "metadata": {},
     "output_type": "execute_result"
    }
   ],
   "source": [
    "veri = veri_uret()\n",
    "print(veri)\n",
    "daire_icinde_mi(veri)"
   ]
  },
  {
   "cell_type": "markdown",
   "metadata": {},
   "source": [
    "## Kod"
   ]
  },
  {
   "cell_type": "code",
   "execution_count": 7,
   "metadata": {},
   "outputs": [],
   "source": [
    "import random\n",
    "import math\n",
    "random.seed(42)\n",
    "\n",
    "def veri_uret():\n",
    "    \"\"\"\n",
    "    return:\n",
    "        2 boytulu veri üret. \n",
    "        Her bir boyut $[-1, 1]$ aralığında olsun.\n",
    "    \"\"\"\n",
    "    x = 2 * random.random() - 1\n",
    "    y = 2 * random.random() - 1\n",
    "\n",
    "    return x,y\n",
    "\n",
    "def daire_icinde_mi(veri):\n",
    "    \"\"\"\n",
    "    parametre:\n",
    "        veri 2 boyutlu \n",
    "        Her bir boyut $[-1, 1]$ aralığında \n",
    "    \n",
    "    \"\"\"\n",
    "    x, y = veri\n",
    "    # Öklid Mesafesi\n",
    "    mesafe = math.sqrt(x**2 + y**2)\n",
    "\n",
    "    # Daire icinde mi\n",
    "    if mesafe < 1:\n",
    "        return True\n",
    "    return False"
   ]
  },
  {
   "cell_type": "code",
   "execution_count": 8,
   "metadata": {},
   "outputs": [
    {
     "name": "stdout",
     "output_type": "stream",
     "text": [
      "(0.2788535969157675, -0.9499784895546661)\n"
     ]
    },
    {
     "data": {
      "text/plain": [
       "True"
      ]
     },
     "execution_count": 8,
     "metadata": {},
     "output_type": "execute_result"
    }
   ],
   "source": [
    "veri = veri_uret()\n",
    "print(veri)\n",
    "daire_icinde_mi(veri) # (0.2788535969157675, -0.9499784895546661)"
   ]
  },
  {
   "cell_type": "code",
   "execution_count": 9,
   "metadata": {},
   "outputs": [],
   "source": [
    "def pi_hesapla(n = 10000):\n",
    "    \"\"\"\n",
    "    Empirik sekilde pi'yi hesapla\n",
    "    \"\"\"\n",
    "    veriler = [veri_uret() for i in range(n)]\n",
    "\n",
    "    d = 0\n",
    "    for veri in veriler:\n",
    "        if daire_icinde_mi(veri):\n",
    "            d +=1\n",
    "            \n",
    "    return 4 * d / n"
   ]
  },
  {
   "cell_type": "code",
   "execution_count": 10,
   "metadata": {},
   "outputs": [
    {
     "data": {
      "text/plain": [
       "3.1392"
      ]
     },
     "execution_count": 10,
     "metadata": {},
     "output_type": "execute_result"
    }
   ],
   "source": [
    "pi_hesapla(n = 10000)"
   ]
  },
  {
   "cell_type": "markdown",
   "metadata": {},
   "source": [
    "# Hata Analizi"
   ]
  },
  {
   "cell_type": "code",
   "execution_count": 11,
   "metadata": {},
   "outputs": [
    {
     "data": {
      "text/plain": [
       "3.141592653589793"
      ]
     },
     "execution_count": 11,
     "metadata": {},
     "output_type": "execute_result"
    }
   ],
   "source": [
    "math.pi"
   ]
  },
  {
   "cell_type": "code",
   "execution_count": 36,
   "metadata": {},
   "outputs": [
    {
     "data": {
      "text/plain": [
       "3.24"
      ]
     },
     "execution_count": 36,
     "metadata": {},
     "output_type": "execute_result"
    }
   ],
   "source": [
    "pi_hesapla(n = 100) "
   ]
  },
  {
   "cell_type": "code",
   "execution_count": 35,
   "metadata": {},
   "outputs": [
    {
     "data": {
      "text/plain": [
       "3.13628"
      ]
     },
     "execution_count": 35,
     "metadata": {},
     "output_type": "execute_result"
    }
   ],
   "source": [
    "pi_hesapla(n = 100000) "
   ]
  },
  {
   "cell_type": "code",
   "execution_count": null,
   "metadata": {},
   "outputs": [],
   "source": []
  },
  {
   "cell_type": "code",
   "execution_count": 12,
   "metadata": {},
   "outputs": [
    {
     "data": {
      "text/plain": [
       "3.14252"
      ]
     },
     "execution_count": 12,
     "metadata": {},
     "output_type": "execute_result"
    }
   ],
   "source": [
    "pi_hesapla(n = 100000) # 3.14252"
   ]
  },
  {
   "cell_type": "code",
   "execution_count": 13,
   "metadata": {},
   "outputs": [
    {
     "data": {
      "text/plain": [
       "3.140028"
      ]
     },
     "execution_count": 13,
     "metadata": {},
     "output_type": "execute_result"
    }
   ],
   "source": [
    "pi_hesapla(n = 1000000) # 3.140028"
   ]
  },
  {
   "cell_type": "code",
   "execution_count": 14,
   "metadata": {},
   "outputs": [
    {
     "data": {
      "text/plain": [
       "3.143368"
      ]
     },
     "execution_count": 14,
     "metadata": {},
     "output_type": "execute_result"
    }
   ],
   "source": [
    "pi_hesapla(n = 1000000) # 3.143368"
   ]
  },
  {
   "cell_type": "markdown",
   "metadata": {},
   "source": [
    "## Ortalama Deger\n",
    "\n",
    "20 Kosturmanin ortalamasi"
   ]
  },
  {
   "cell_type": "code",
   "execution_count": 15,
   "metadata": {},
   "outputs": [],
   "source": [
    "def hata(n = 100, k = 20):\n",
    "    pi = 0\n",
    "    for i in range(k):\n",
    "        pi += pi_hesapla(n)\n",
    "    pi = pi / k\n",
    "    \n",
    "    return abs(math.pi - pi)"
   ]
  },
  {
   "cell_type": "code",
   "execution_count": 16,
   "metadata": {},
   "outputs": [
    {
     "data": {
      "text/plain": [
       "0.07640734641020774"
      ]
     },
     "execution_count": 16,
     "metadata": {},
     "output_type": "execute_result"
    }
   ],
   "source": [
    "hata(n = 100, k = 20)"
   ]
  },
  {
   "cell_type": "code",
   "execution_count": 17,
   "metadata": {},
   "outputs": [],
   "source": [
    "ns = [i * 10 for i in range(1, 300)]\n",
    "hatalar = [hata(n = n, k = 20) for n in ns]    "
   ]
  },
  {
   "cell_type": "code",
   "execution_count": 18,
   "metadata": {},
   "outputs": [
    {
     "data": {
      "image/png": "[encoded data removed]",
      "text/plain": [
       "<Figure size 432x288 with 1 Axes>"
      ]
     },
     "metadata": {
      "needs_background": "light"
     },
     "output_type": "display_data"
    }
   ],
   "source": [
    "import matplotlib.pyplot as plt\n",
    "\n",
    "\n",
    "plt.plot(ns, hatalar)\n",
    "plt.xlabel('n')\n",
    "plt.ylabel('Emprik Hata')\n",
    "plt.grid()"
   ]
  },
  {
   "cell_type": "code",
   "execution_count": null,
   "metadata": {},
   "outputs": [],
   "source": []
  }
 ],
 "metadata": {
  "kernelspec": {
   "display_name": "Python 3",
   "language": "python",
   "name": "python3"
  },
  "language_info": {
   "codemirror_mode": {
    "name": "ipython",
    "version": 3
   },
   "file_extension": ".py",
   "mimetype": "text/x-python",
   "name": "python",
   "nbconvert_exporter": "python",
   "pygments_lexer": "ipython3",
   "version": "3.8.3"
  },
  "toc": {
   "base_numbering": 1,
   "nav_menu": {},
   "number_sections": true,
   "sideBar": true,
   "skip_h1_title": false,
   "title_cell": "Table of Contents",
   "title_sidebar": "Contents",
   "toc_cell": false,
   "toc_position": {},
   "toc_section_display": true,
   "toc_window_display": false
  },
  "varInspector": {
   "cols": {
    "lenName": 16,
    "lenType": 16,
    "lenVar": 40
   },
   "kernels_config": {
    "python": {
     "delete_cmd_postfix": "",
     "delete_cmd_prefix": "del ",
     "library": "var_list.py",
     "varRefreshCmd": "print(var_dic_list())"
    },
    "r": {
     "delete_cmd_postfix": ") ",
     "delete_cmd_prefix": "rm(",
     "library": "var_list.r",
     "varRefreshCmd": "cat(var_dic_list()) "
    }
   },
   "types_to_exclude": [
    "module",
    "function",
    "builtin_function_or_method",
    "instance",
    "_Feature"
   ],
   "window_display": false
  }
 },
 "nbformat": 4,
 "nbformat_minor": 4
}
