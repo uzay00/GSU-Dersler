{
 "cells": [
  {
   "cell_type": "markdown",
   "metadata": {},
   "source": [
    "# Socket Programming in Python (Guide)\n",
    "Source: https://realpython.com/python-sockets/\n",
    "\n",
    "## Socket\n",
    "Sockets are the end-point of a two-way communication link. An endpoint is a combination of IP address and the port number.\n",
    "\n",
    "> Sockets allow communication between processes that lie on the same machine, or on different machines working in diverse environment and even across different continents.\n",
    "\n",
    "\n",
    "Sockets and the socket API are used to send messages across a network.\n",
    "> They provide a form of inter-process communication (IPC). \n",
    "\n",
    "port should be an integer from 1-65535 (0 is reserved). It’s the TCP port number to accept connections on from clients. Some systems may require superuser privileges if the port is < 1024.\n",
    "\n",
    "## Client -Server\n",
    "one side acts as the server and waits for connections from clients.\n",
    "\n",
    "\n",
    "### Python socket module\n",
    "\n",
    "> Networks are a best-effort delivery system. There’s no guarantee that your data will reach its destination\n",
    "\n",
    "https://docs.python.org/3/library/socket.html\n",
    "\n",
    "\n",
    " - `socket()`: create a socket\n",
    "  - specify the socket type as `socket.SOCK_STREAM` for `TCP` (relieable, in order)\n",
    "  - `socket.SOCK_DGRAM` is for `UDP` (not relieable, out of order, fast)\n",
    " - `bind()`\n",
    "  - bind() is used to associate the socket with a specific network interface and port number:\n",
    " - `listen()`\n",
    "  - It listens for connections from clients.\n",
    "  - listen() enables a server to accept() connections. It makes it a “listening” socket:\n",
    " - `accept()`\n",
    "  - When a client connects, the server calls accept()\n",
    "  - accept() blocks and waits for an incoming connection. \n",
    "  - When a client connects, it returns a new socket object representing the connection and a tuple holding the address of the client.\n",
    " - `connect()`\n",
    "  - The client calls connect() to establish a connection to the server\n",
    " - `connect_ex()`\n",
    " - `send()`\n",
    "  - exchange data\n",
    " - `recv()`\n",
    "  - exchange data\n",
    " - `close()`\n",
    "  - Client Server close() their respective sockets."
   ]
  },
  {
   "cell_type": "markdown",
   "metadata": {},
   "source": [
    "## TCP\n",
    "TCP relieves you from having to worry about packet loss\n",
    "\n",
    "![](https://files.realpython.com/media/sockets-tcp-flow.1da426797e37.jpg)"
   ]
  },
  {
   "cell_type": "markdown",
   "metadata": {},
   "source": [
    "## Server Code\n",
    "\n",
    "```\n",
    "import socket\n",
    "\n",
    "HOST = '127.0.0.1'  # Standard loopback interface address (localhost)\n",
    "PORT = 65432        # Port to listen on (non-privileged ports are > 1023)\n",
    "\n",
    "with socket.socket(socket.AF_INET, socket.SOCK_STREAM) as s:\n",
    "    # bind() is used to associate the socket with a specific network interface and port number:\n",
    "    s.bind((HOST, PORT))\n",
    "    s.listen()\n",
    "    conn, addr = s.accept()\n",
    "    with conn:\n",
    "        print('Connected by', addr)\n",
    "        while True:\n",
    "            data = conn.recv(1024)\n",
    "            if not data:\n",
    "                break\n",
    "            conn.sendall(data)\n",
    "```\n",
    "\n",
    "In comparison to the server, the client is pretty simple. It creates a socket object, connects to the server and calls s.sendall() to send its message. Lastly, it calls s.recv() to read the server’s reply and then prints it.\n",
    "\n",
    "## Client Code\n",
    "\n",
    "```\n",
    "#!/usr/bin/env python3\n",
    "\n",
    "import socket\n",
    "\n",
    "HOST = '127.0.0.1'  # The server's hostname or IP address\n",
    "PORT = 65432        # The port used by the server\n",
    "\n",
    "with socket.socket(socket.AF_INET, socket.SOCK_STREAM) as s:\n",
    "    s.connect((HOST, PORT))\n",
    "    s.sendall(b'Hello, world')\n",
    "    data = s.recv(1024)\n",
    "\n",
    "print('Received', repr(data))\n",
    "```\n",
    "\n",
    "![](https://files.realpython.com/media/sockets-loopback-interface.44fa30c53c70.jpg)\n",
    "\n",
    "\n",
    "## Communication Breakdown\n",
    "lsof -i -n\n",
    "\n",
    "> lsof gives you the COMMAND, PID (process id), and USER (user id) of open Internet sockets when used with the -i option."
   ]
  },
  {
   "cell_type": "markdown",
   "metadata": {},
   "source": [
    "# Handling Multiple Connections\n",
    "\n",
    "Source: https://www.geeksforgeeks.org/socket-programming-multi-threading-python/\n",
    "\n",
    "How do we handle multiple connections concurrently?\n",
    ">  The biggest being that it serves only one client and then exits. \n",
    "\n",
    "Check sent data. We need to call send() and recv() until all data is sent or received.\n",
    "\n",
    "> “Applications are responsible for checking that all data has been sent; if only some of the data was transmitted, the application needs to attempt delivery of the remaining data.”\n"
   ]
  },
  {
   "cell_type": "code",
   "execution_count": 4,
   "metadata": {},
   "outputs": [
    {
     "name": "stdout",
     "output_type": "stream",
     "text": [
      "PING www.google.com (142.250.184.132): 56 data bytes\n",
      "64 bytes from 142.250.184.132: icmp_seq=0 ttl=57 time=17.128 ms\n",
      "64 bytes from 142.250.184.132: icmp_seq=1 ttl=57 time=17.047 ms\n",
      "64 bytes from 142.250.184.132: icmp_seq=2 ttl=57 time=16.653 ms\n",
      "64 bytes from 142.250.184.132: icmp_seq=3 ttl=57 time=16.954 ms\n",
      "64 bytes from 142.250.184.132: icmp_seq=4 ttl=57 time=17.072 ms\n",
      "64 bytes from 142.250.184.132: icmp_seq=5 ttl=57 time=16.562 ms\n",
      "64 bytes from 142.250.184.132: icmp_seq=6 ttl=57 time=16.408 ms\n",
      "64 bytes from 142.250.184.132: icmp_seq=7 ttl=57 time=17.257 ms\n",
      "64 bytes from 142.250.184.132: icmp_seq=8 ttl=57 time=17.037 ms\n",
      "64 bytes from 142.250.184.132: icmp_seq=9 ttl=57 time=16.886 ms\n",
      "64 bytes from 142.250.184.132: icmp_seq=10 ttl=57 time=17.259 ms\n",
      "64 bytes from 142.250.184.132: icmp_seq=11 ttl=57 time=16.639 ms\n",
      "^C\n",
      "\n",
      "--- www.google.com ping statistics ---\n",
      "12 packets transmitted, 12 packets received, 0.0% packet loss\n",
      "round-trip min/avg/max/stddev = 16.408/16.909/17.259/0.269 ms\n"
     ]
    }
   ],
   "source": [
    "#You can find the IP of the server by using this\n",
    "!ping www.google.com"
   ]
  },
  {
   "cell_type": "code",
   "execution_count": 5,
   "metadata": {},
   "outputs": [
    {
     "name": "stdout",
     "output_type": "stream",
     "text": [
      "142.250.184.132\n"
     ]
    }
   ],
   "source": [
    "import socket \n",
    "\n",
    "ip = socket.gethostbyname('www.google.com')\n",
    "print(ip)"
   ]
  },
  {
   "cell_type": "markdown",
   "metadata": {},
   "source": [
    "\n",
    "## What is a Thread?\n",
    "A thread is a light-weight process that does not require much memory overhead, they are cheaper than processes.\n",
    "\n",
    "\n",
    "`threading.Lock()` has two states, “locked” or “unlocked”. \n",
    " -  acquire() : change state to locked \n",
    " - release(): change state to unlocked \n",
    "\n",
    "# Multi-Threading Socket Programming\n",
    "\n",
    "https://www.geeksforgeeks.org/socket-programming-multi-threading-python/\n"
   ]
  },
  {
   "cell_type": "code",
   "execution_count": null,
   "metadata": {},
   "outputs": [],
   "source": []
  }
 ],
 "metadata": {
  "kernelspec": {
   "display_name": "Python 3",
   "language": "python",
   "name": "python3"
  },
  "language_info": {
   "codemirror_mode": {
    "name": "ipython",
    "version": 3
   },
   "file_extension": ".py",
   "mimetype": "text/x-python",
   "name": "python",
   "nbconvert_exporter": "python",
   "pygments_lexer": "ipython3",
   "version": "3.8.3"
  },
  "toc": {
   "base_numbering": 1,
   "nav_menu": {},
   "number_sections": true,
   "sideBar": true,
   "skip_h1_title": false,
   "title_cell": "Table of Contents",
   "title_sidebar": "Contents",
   "toc_cell": false,
   "toc_position": {},
   "toc_section_display": true,
   "toc_window_display": false
  },
  "varInspector": {
   "cols": {
    "lenName": 16,
    "lenType": 16,
    "lenVar": 40
   },
   "kernels_config": {
    "python": {
     "delete_cmd_postfix": "",
     "delete_cmd_prefix": "del ",
     "library": "var_list.py",
     "varRefreshCmd": "print(var_dic_list())"
    },
    "r": {
     "delete_cmd_postfix": ") ",
     "delete_cmd_prefix": "rm(",
     "library": "var_list.r",
     "varRefreshCmd": "cat(var_dic_list()) "
    }
   },
   "types_to_exclude": [
    "module",
    "function",
    "builtin_function_or_method",
    "instance",
    "_Feature"
   ],
   "window_display": false
  }
 },
 "nbformat": 4,
 "nbformat_minor": 4
}
