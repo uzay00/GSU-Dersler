{
 "cells": [
  {
   "cell_type": "markdown",
   "metadata": {},
   "source": [
    "The random.random() method returns a random float number between 0.0 to 1.0. The function doesn't need any arguments."
   ]
  },
  {
   "cell_type": "code",
   "execution_count": 1,
   "metadata": {},
   "outputs": [
    {
     "data": {
      "text/plain": [
       "0.6394267984578837"
      ]
     },
     "execution_count": 1,
     "metadata": {},
     "output_type": "execute_result"
    }
   ],
   "source": [
    "import random\n",
    "import math\n",
    "import time\n",
    "random.seed(42)\n",
    "\n",
    "random.random()"
   ]
  },
  {
   "cell_type": "markdown",
   "metadata": {},
   "source": [
    "Generate 2D coords in the range -1, 1"
   ]
  },
  {
   "cell_type": "code",
   "execution_count": 2,
   "metadata": {},
   "outputs": [],
   "source": [
    "# Generate 2D coords in the range -1, 1\n",
    "def generate_coords():\n",
    "    x, y = 2 * random.random() - 1, 2 * random.random() - 1\n",
    "    return (x,y)"
   ]
  },
  {
   "cell_type": "code",
   "execution_count": 3,
   "metadata": {},
   "outputs": [
    {
     "data": {
      "text/plain": [
       "(-0.9499784895546661, -0.4499413632617615)"
      ]
     },
     "execution_count": 3,
     "metadata": {},
     "output_type": "execute_result"
    }
   ],
   "source": [
    "generate_coords()"
   ]
  },
  {
   "cell_type": "markdown",
   "metadata": {},
   "source": [
    "Understand if it is in circle with radius 1"
   ]
  },
  {
   "cell_type": "code",
   "execution_count": 4,
   "metadata": {},
   "outputs": [],
   "source": [
    "def is_in_circle(point2D):\n",
    "    x, y = point2D\n",
    "    if math.sqrt(x**2 + y**2) < 1:\n",
    "        return True\n",
    "    return False"
   ]
  },
  {
   "cell_type": "code",
   "execution_count": 5,
   "metadata": {},
   "outputs": [
    {
     "name": "stdout",
     "output_type": "stream",
     "text": [
      "(-0.5535785237023545, 0.4729424283280248)\n"
     ]
    },
    {
     "data": {
      "text/plain": [
       "True"
      ]
     },
     "execution_count": 5,
     "metadata": {},
     "output_type": "execute_result"
    }
   ],
   "source": [
    "p = generate_coords()\n",
    "print(p)\n",
    "is_in_circle(p)"
   ]
  },
  {
   "cell_type": "code",
   "execution_count": 6,
   "metadata": {},
   "outputs": [
    {
     "name": "stdout",
     "output_type": "stream",
     "text": [
      "Pi:  3.1411136\n"
     ]
    }
   ],
   "source": [
    "n = 5_000_000\n",
    "\n",
    "in_circle_counter = 0\n",
    "for i in range(n):\n",
    "    p = generate_coords()\n",
    "    in_circle_counter += is_in_circle(p)\n",
    "print('Pi: ', 4 * in_circle_counter/n)"
   ]
  },
  {
   "cell_type": "code",
   "execution_count": 7,
   "metadata": {},
   "outputs": [
    {
     "name": "stdout",
     "output_type": "stream",
     "text": [
      "Error:  0.00047905358979294377\n"
     ]
    }
   ],
   "source": [
    "print('Error: ', math.pi - (4 * in_circle_counter/n))"
   ]
  },
  {
   "cell_type": "markdown",
   "metadata": {},
   "source": [
    "# Compute `Emprically` pi in single Core\n",
    "\n",
    "![](https://static.scientificamerican.com/sciam/cache/file/136B824E-D306-4855-AF5EC22E68ACC4D8_source.jpg?w=590&h=800&CEE1411F-7C0D-4FEA-811DBC984C27839D)"
   ]
  },
  {
   "cell_type": "code",
   "execution_count": 8,
   "metadata": {},
   "outputs": [],
   "source": [
    "# Generate 2D coords in the range -1, 1\n",
    "def generate_coords():\n",
    "    x, y = 2 * random.random() - 1, 2 * random.random() - 1\n",
    "    return (x,y)\n",
    "\n",
    "#Understand if it is in circle with radius 1\n",
    "def is_in_circle(point2D):\n",
    "    x, y = point2D\n",
    "    if math.sqrt(x**2 + y**2) < 1:\n",
    "        return True\n",
    "    return False\n",
    "\n",
    "def pi_computer(n):\n",
    "    in_circle_counter = 0\n",
    "    for i in range(n):\n",
    "        p = generate_coords()\n",
    "        in_circle_counter += is_in_circle(p)\n",
    "    return 4 * in_circle_counter/n"
   ]
  },
  {
   "cell_type": "code",
   "execution_count": 9,
   "metadata": {},
   "outputs": [
    {
     "name": "stdout",
     "output_type": "stream",
     "text": [
      "Duration 29.773674964904785 seconds\n",
      "After Computation the value of Pi 3.1414258\n"
     ]
    }
   ],
   "source": [
    "n = 20_000_000\n",
    "\n",
    "start_time = time.time()\n",
    "pi_value = pi_computer(n)\n",
    "duration = time.time() - start_time\n",
    "\n",
    "print(f\"Duration {duration} seconds\")\n",
    "print(f\"After Computation the value of Pi {pi_value}\")"
   ]
  },
  {
   "cell_type": "code",
   "execution_count": 10,
   "metadata": {},
   "outputs": [
    {
     "name": "stdout",
     "output_type": "stream",
     "text": [
      "Error:  0.0001668535897931811\n"
     ]
    }
   ],
   "source": [
    "print('Error: ', math.pi - pi_value)"
   ]
  },
  {
   "cell_type": "markdown",
   "metadata": {},
   "source": [
    "# Compute `Emprically` pi in Multiple Cores\n",
    "\n",
    "![](https://static.scientificamerican.com/sciam/cache/file/136B824E-D306-4855-AF5EC22E68ACC4D8_source.jpg?w=590&h=800&CEE1411F-7C0D-4FEA-811DBC984C27839D)"
   ]
  },
  {
   "cell_type": "code",
   "execution_count": 11,
   "metadata": {},
   "outputs": [
    {
     "name": "stdout",
     "output_type": "stream",
     "text": [
      "Duration 28.801045894622803 seconds\n"
     ]
    }
   ],
   "source": [
    "import multiprocessing\n",
    "import multi_process_example as mpe\n",
    "\n",
    "def find_pi(n):\n",
    "    with multiprocessing.Pool() as pool:\n",
    "        values = pool.map(mpe.pi_computer, n)\n",
    "    return values\n",
    "\n",
    "n = 20_000_000\n",
    "k = 4\n",
    "numbers = [n] * k\n",
    "\n",
    "start_time = time.time()\n",
    "values = find_pi(numbers)\n",
    "duration = time.time() - start_time\n",
    "print(f\"Duration {duration} seconds\")"
   ]
  },
  {
   "cell_type": "code",
   "execution_count": 12,
   "metadata": {},
   "outputs": [
    {
     "data": {
      "text/plain": [
       "[20000000, 20000000, 20000000, 20000000]"
      ]
     },
     "execution_count": 12,
     "metadata": {},
     "output_type": "execute_result"
    }
   ],
   "source": [
    "numbers"
   ]
  },
  {
   "cell_type": "code",
   "execution_count": 13,
   "metadata": {},
   "outputs": [
    {
     "data": {
      "text/plain": [
       "[3.140853, 3.1415598, 3.1419842, 3.1415234]"
      ]
     },
     "execution_count": 13,
     "metadata": {},
     "output_type": "execute_result"
    }
   ],
   "source": [
    "values"
   ]
  },
  {
   "cell_type": "code",
   "execution_count": 14,
   "metadata": {},
   "outputs": [
    {
     "data": {
      "text/plain": [
       "3.1414801"
      ]
     },
     "execution_count": 14,
     "metadata": {},
     "output_type": "execute_result"
    }
   ],
   "source": [
    "sum(values)/k"
   ]
  },
  {
   "cell_type": "code",
   "execution_count": 15,
   "metadata": {},
   "outputs": [
    {
     "name": "stdout",
     "output_type": "stream",
     "text": [
      "Duration 28.801045894622803 seconds\n",
      "After Computation the value of Pi 3.1414801\n"
     ]
    }
   ],
   "source": [
    "print(f\"Duration {duration} seconds\")\n",
    "print(f\"After Computation the value of Pi {sum(values)/k}\")"
   ]
  },
  {
   "cell_type": "code",
   "execution_count": 16,
   "metadata": {},
   "outputs": [
    {
     "data": {
      "text/plain": [
       "3.141592653589793"
      ]
     },
     "execution_count": 16,
     "metadata": {},
     "output_type": "execute_result"
    }
   ],
   "source": [
    "math.pi"
   ]
  },
  {
   "cell_type": "code",
   "execution_count": 17,
   "metadata": {},
   "outputs": [
    {
     "name": "stdout",
     "output_type": "stream",
     "text": [
      "Error:  0.00011255358979322949\n"
     ]
    }
   ],
   "source": [
    "print('Error: ', math.pi - sum(values)/k)"
   ]
  },
  {
   "cell_type": "markdown",
   "metadata": {},
   "source": [
    "# Error Analysis"
   ]
  },
  {
   "cell_type": "code",
   "execution_count": 25,
   "metadata": {},
   "outputs": [],
   "source": [
    "pi_values = []\n",
    "durations = []\n",
    "for i in range(1,100):\n",
    "    n = i * 10000\n",
    "    start_time = time.time()\n",
    "    pi_value = pi_computer(n)\n",
    "    duration = time.time() - start_time\n",
    "    \n",
    "    pi_values.append(pi_value)\n",
    "    durations.append(duration)"
   ]
  },
  {
   "cell_type": "code",
   "execution_count": 26,
   "metadata": {},
   "outputs": [
    {
     "data": {
      "text/plain": [
       "[<matplotlib.lines.Line2D at 0x7fd57077ecd0>]"
      ]
     },
     "execution_count": 26,
     "metadata": {},
     "output_type": "execute_result"
    },
    {
     "data": {
      "image/png": "[encoded data removed]",
      "text/plain": [
       "<Figure size 432x288 with 1 Axes>"
      ]
     },
     "metadata": {
      "needs_background": "light"
     },
     "output_type": "display_data"
    }
   ],
   "source": [
    "import matplotlib.pyplot as plt\n",
    "\n",
    "plt.plot(pi_values)"
   ]
  },
  {
   "cell_type": "code",
   "execution_count": 27,
   "metadata": {},
   "outputs": [
    {
     "data": {
      "text/plain": [
       "[<matplotlib.lines.Line2D at 0x7fd5708b7c10>]"
      ]
     },
     "execution_count": 27,
     "metadata": {},
     "output_type": "execute_result"
    },
    {
     "data": {
      "image/png": "[encoded data removed]",
      "text/plain": [
       "<Figure size 432x288 with 1 Axes>"
      ]
     },
     "metadata": {
      "needs_background": "light"
     },
     "output_type": "display_data"
    }
   ],
   "source": [
    "plt.plot(durations)"
   ]
  },
  {
   "cell_type": "code",
   "execution_count": null,
   "metadata": {},
   "outputs": [],
   "source": []
  }
 ],
 "metadata": {
  "kernelspec": {
   "display_name": "Python 3",
   "language": "python",
   "name": "python3"
  },
  "language_info": {
   "codemirror_mode": {
    "name": "ipython",
    "version": 3
   },
   "file_extension": ".py",
   "mimetype": "text/x-python",
   "name": "python",
   "nbconvert_exporter": "python",
   "pygments_lexer": "ipython3",
   "version": "3.8.3"
  },
  "toc": {
   "base_numbering": 1,
   "nav_menu": {},
   "number_sections": true,
   "sideBar": true,
   "skip_h1_title": false,
   "title_cell": "Table of Contents",
   "title_sidebar": "Contents",
   "toc_cell": false,
   "toc_position": {},
   "toc_section_display": true,
   "toc_window_display": false
  },
  "varInspector": {
   "cols": {
    "lenName": 16,
    "lenType": 16,
    "lenVar": 40
   },
   "kernels_config": {
    "python": {
     "delete_cmd_postfix": "",
     "delete_cmd_prefix": "del ",
     "library": "var_list.py",
     "varRefreshCmd": "print(var_dic_list())"
    },
    "r": {
     "delete_cmd_postfix": ") ",
     "delete_cmd_prefix": "rm(",
     "library": "var_list.r",
     "varRefreshCmd": "cat(var_dic_list()) "
    }
   },
   "types_to_exclude": [
    "module",
    "function",
    "builtin_function_or_method",
    "instance",
    "_Feature"
   ],
   "window_display": false
  }
 },
 "nbformat": 4,
 "nbformat_minor": 4
}
