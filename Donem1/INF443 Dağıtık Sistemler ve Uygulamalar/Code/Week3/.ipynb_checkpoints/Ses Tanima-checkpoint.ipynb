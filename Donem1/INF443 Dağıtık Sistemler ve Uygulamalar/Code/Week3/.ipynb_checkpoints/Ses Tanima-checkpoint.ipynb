{
 "cells": [
  {
   "cell_type": "markdown",
   "metadata": {},
   "source": [
    "https://mertmekatronik.com/turkce-speech-recognition\n",
    "\n",
    "\n",
    ">  Konuşma tanıma konusunda ücretli Google Speech Recognition API servisine nazaran ücretsizdir. Ama bir dezavantajı ise gerçek zamanlı kelimeleri yazıya çeviremez yapamaz. Bir konuşmayı algılaması için sizin cümleyi bitirmeniz beklenir ve kaydedilen ses dosyasını ücretsiz Google sunucularına yollanarak geri dönüş alınır. \n"
   ]
  },
  {
   "cell_type": "code",
   "execution_count": 1,
   "metadata": {},
   "outputs": [],
   "source": [
    "#!pip install SpeechRecognition"
   ]
  },
  {
   "cell_type": "code",
   "execution_count": 2,
   "metadata": {},
   "outputs": [],
   "source": [
    "#!brew install portaudio"
   ]
  },
  {
   "cell_type": "code",
   "execution_count": 3,
   "metadata": {},
   "outputs": [],
   "source": [
    "#!pip install pyaudio"
   ]
  },
  {
   "cell_type": "code",
   "execution_count": 4,
   "metadata": {},
   "outputs": [],
   "source": [
    "import speech_recognition as sr\n",
    "mic = sr.Microphone()\n",
    "r = sr.Recognizer()"
   ]
  },
  {
   "cell_type": "code",
   "execution_count": 5,
   "metadata": {},
   "outputs": [
    {
     "name": "stdout",
     "output_type": "stream",
     "text": [
      "Arka plan gürültüsü:325.0782837668629\n",
      "Merhaba dediklerimi\n"
     ]
    }
   ],
   "source": [
    "with sr.Microphone() as source:\n",
    "    r.adjust_for_ambient_noise(source)\n",
    "    print(\"Arka plan gürültüsü:\" + str(r.energy_threshold))\n",
    "\n",
    "    try:\n",
    "        ses = r.listen(source, timeout=2, phrase_time_limit=5)\n",
    "        print(r.recognize_google(ses, language='tr-tr'))\n",
    "    except sr.WaitTimeoutError:\n",
    "        print(\"Dinleme zaman aşımına uğradı\")\n",
    "\n",
    "    except sr.UnknownValueError:\n",
    "        print(\"Ne dediğini anlayamadım\")\n",
    "\n",
    "    except sr.RequestError:\n",
    "        print(\"İnternete bağlanamıyorum\")"
   ]
  },
  {
   "cell_type": "markdown",
   "metadata": {},
   "source": [
    "https://realpython.com/python-speech-recognition/"
   ]
  },
  {
   "cell_type": "code",
   "execution_count": 51,
   "metadata": {},
   "outputs": [],
   "source": [
    "def recognize_speech_from_mic(recognizer, microphone):\n",
    "    \"\"\"Transcribe speech from recorded from `microphone`.\n",
    "\n",
    "    Returns a dictionary with three keys:\n",
    "    \"success\": a boolean indicating whether or not the API request was\n",
    "               successful\n",
    "    \"error\":   `None` if no error occured, otherwise a string containing\n",
    "               an error message if the API could not be reached or\n",
    "               speech was unrecognizable\n",
    "    \"transcription\": `None` if speech could not be transcribed,\n",
    "               otherwise a string containing the transcribed text\n",
    "    \"\"\"\n",
    "    # check that recognizer and microphone arguments are appropriate type\n",
    "    if not isinstance(recognizer, sr.Recognizer):\n",
    "        raise TypeError(\"`recognizer` must be `Recognizer` instance\")\n",
    "\n",
    "    if not isinstance(microphone, sr.Microphone):\n",
    "        raise TypeError(\"`microphone` must be `Microphone` instance\")\n",
    "\n",
    "    # adjust the recognizer sensitivity to ambient noise and record audio\n",
    "    # from the microphone\n",
    "    with microphone as source:\n",
    "        recognizer.adjust_for_ambient_noise(source)\n",
    "        print('recording..')\n",
    "        audio = recognizer.listen(source)\n",
    "\n",
    "    # set up the response object\n",
    "    response = {\n",
    "        \"success\": True,\n",
    "        \"error\": None,\n",
    "        \"transcription\": None\n",
    "    }\n",
    "\n",
    "    # try recognizing the speech in the recording\n",
    "    # if a RequestError or UnknownValueError exception is caught,\n",
    "    #     update the response object accordingly\n",
    "    try:\n",
    "        response[\"transcription\"] = recognizer.recognize_google(audio, language='tr-tr')\n",
    "    except sr.RequestError:\n",
    "        # API was unreachable or unresponsive\n",
    "        response[\"success\"] = False\n",
    "        response[\"error\"] = \"API unavailable\"\n",
    "    except sr.UnknownValueError:\n",
    "        # speech was unintelligible\n",
    "        response[\"error\"] = \"Unable to recognize speech\"\n",
    "\n",
    "    return response"
   ]
  },
  {
   "cell_type": "code",
   "execution_count": 52,
   "metadata": {},
   "outputs": [
    {
     "name": "stdout",
     "output_type": "stream",
     "text": [
      "recording..\n"
     ]
    }
   ],
   "source": [
    "guess = recognize_speech_from_mic(r, mic)"
   ]
  },
  {
   "cell_type": "code",
   "execution_count": 53,
   "metadata": {},
   "outputs": [
    {
     "data": {
      "text/plain": [
       "{'success': True,\n",
       " 'error': None,\n",
       " 'transcription': \"şu an konuşuyorum Trabzon'a gideceğim yarın Çanakkale'den başlayarak 12 saatlik yol gideceğim bakalım neler olacak Ne kadar sürer şu an kaydetmeye devam ediyor musun Ben Susma dakika sen yazacaksın acaba Şimdi hala daha yazıyor musun halam ne yapıyor Çanakkale'de yoruldum iyi geceler Şimdi yazacağım\"}"
      ]
     },
     "execution_count": 53,
     "metadata": {},
     "output_type": "execute_result"
    }
   ],
   "source": [
    "guess"
   ]
  },
  {
   "cell_type": "code",
   "execution_count": null,
   "metadata": {},
   "outputs": [],
   "source": []
  },
  {
   "cell_type": "code",
   "execution_count": null,
   "metadata": {},
   "outputs": [],
   "source": []
  },
  {
   "cell_type": "markdown",
   "metadata": {},
   "source": [
    "Hata duzeltme https://pypi.org/project/turkishnlp/"
   ]
  },
  {
   "cell_type": "code",
   "execution_count": 12,
   "metadata": {},
   "outputs": [
    {
     "name": "stdout",
     "output_type": "stream",
     "text": [
      "Collecting turkishnlp\n",
      "  Downloading turkishnlp-0.0.61.tar.gz (8.4 kB)\n",
      "Building wheels for collected packages: turkishnlp\n",
      "  Building wheel for turkishnlp (setup.py) ... \u001b[?25ldone\n",
      "\u001b[?25h  Created wheel for turkishnlp: filename=turkishnlp-0.0.61-py3-none-any.whl size=7555 sha256=31ea1ce4ce1c4e89065b38651cf4f9c23f9b5808987d69f5682c39f3da31cd41\n",
      "  Stored in directory: /Users/uzaycetin/Library/Caches/pip/wheels/2a/d4/5f/d87fb6bfd87059a2749b78fd8ffa63b53cc5599935df147f8b\n",
      "Successfully built turkishnlp\n",
      "Installing collected packages: turkishnlp\n",
      "Successfully installed turkishnlp-0.0.61\n"
     ]
    }
   ],
   "source": [
    "!pip install turkishnlp"
   ]
  },
  {
   "cell_type": "code",
   "execution_count": 16,
   "metadata": {},
   "outputs": [],
   "source": [
    "from turkishnlp import detector\n",
    "obj = detector.TurkishNLP()\n"
   ]
  },
  {
   "cell_type": "code",
   "execution_count": 18,
   "metadata": {},
   "outputs": [
    {
     "name": "stdout",
     "output_type": "stream",
     "text": [
      "Download is successful\n"
     ]
    }
   ],
   "source": [
    "obj.download()"
   ]
  },
  {
   "cell_type": "code",
   "execution_count": 20,
   "metadata": {},
   "outputs": [],
   "source": [
    "obj.create_word_set()"
   ]
  },
  {
   "cell_type": "code",
   "execution_count": 25,
   "metadata": {},
   "outputs": [
    {
     "name": "stdout",
     "output_type": "stream",
     "text": [
      "['veri', 'kümesi', 'idare', 'eder', 'ancakadaha', 'güzel', 'kalbiler']\n"
     ]
    }
   ],
   "source": [
    "lwords = obj.list_words(\"vri kümsi idrae edre ancakadaha güezl oaflbiler\")\n",
    "print(obj.auto_correct(lwords))\n"
   ]
  },
  {
   "cell_type": "code",
   "execution_count": 24,
   "metadata": {},
   "outputs": [
    {
     "data": {
      "text/plain": [
       "'türkçe doğal dil işleme'"
      ]
     },
     "execution_count": 24,
     "metadata": {},
     "output_type": "execute_result"
    }
   ],
   "source": [
    "obj.correct_text_without_space('türkçedoğaldilişleme')"
   ]
  },
  {
   "cell_type": "code",
   "execution_count": null,
   "metadata": {},
   "outputs": [],
   "source": []
  }
 ],
 "metadata": {
  "kernelspec": {
   "display_name": "Python 3",
   "language": "python",
   "name": "python3"
  },
  "language_info": {
   "codemirror_mode": {
    "name": "ipython",
    "version": 3
   },
   "file_extension": ".py",
   "mimetype": "text/x-python",
   "name": "python",
   "nbconvert_exporter": "python",
   "pygments_lexer": "ipython3",
   "version": "3.8.3"
  },
  "toc": {
   "base_numbering": 1,
   "nav_menu": {},
   "number_sections": true,
   "sideBar": true,
   "skip_h1_title": false,
   "title_cell": "Table of Contents",
   "title_sidebar": "Contents",
   "toc_cell": false,
   "toc_position": {},
   "toc_section_display": true,
   "toc_window_display": false
  },
  "varInspector": {
   "cols": {
    "lenName": 16,
    "lenType": 16,
    "lenVar": 40
   },
   "kernels_config": {
    "python": {
     "delete_cmd_postfix": "",
     "delete_cmd_prefix": "del ",
     "library": "var_list.py",
     "varRefreshCmd": "print(var_dic_list())"
    },
    "r": {
     "delete_cmd_postfix": ") ",
     "delete_cmd_prefix": "rm(",
     "library": "var_list.r",
     "varRefreshCmd": "cat(var_dic_list()) "
    }
   },
   "types_to_exclude": [
    "module",
    "function",
    "builtin_function_or_method",
    "instance",
    "_Feature"
   ],
   "window_display": false
  }
 },
 "nbformat": 4,
 "nbformat_minor": 4
}
