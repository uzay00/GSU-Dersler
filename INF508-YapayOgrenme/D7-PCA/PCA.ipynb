{
 "cells": [
  {
   "cell_type": "markdown",
   "metadata": {},
   "source": [
    "# Veri"
   ]
  },
  {
   "cell_type": "code",
   "execution_count": 1,
   "metadata": {},
   "outputs": [
    {
     "data": {
      "text/plain": [
       "array([[-1.41421356,  0.81649658, -1.36216257],\n",
       "       [-0.70710678, -1.22474487, -0.66718167],\n",
       "       [ 0.        ,  0.81649658, -0.25019312],\n",
       "       [ 0.70710678, -1.22474487,  1.0007725 ],\n",
       "       [ 1.41421356,  0.81649658,  1.27876486]])"
      ]
     },
     "execution_count": 1,
     "metadata": {},
     "output_type": "execute_result"
    }
   ],
   "source": [
    "import numpy as np\n",
    "import pandas as pd\n",
    "import matplotlib.pyplot as plt\n",
    "import seaborn as sns\n",
    "sns.set()\n",
    "\n",
    "X = np.array([\n",
    "    [1,2,4],\n",
    "    [2,-2,9],\n",
    "    [3,2,12],\n",
    "    [4,-2,21],\n",
    "    [5,2,23],\n",
    "])\n",
    "\n",
    "# standardization\n",
    "X_normal = (X - X.mean(axis = 0))/(X.std(axis = 0))\n",
    "X_normal"
   ]
  },
  {
   "cell_type": "markdown",
   "metadata": {},
   "source": [
    "# Sklearn PCA"
   ]
  },
  {
   "cell_type": "code",
   "execution_count": 2,
   "metadata": {},
   "outputs": [
    {
     "name": "stdout",
     "output_type": "stream",
     "text": [
      "\n",
      "eigenvalue: 2.490302413639413\n",
      "[-0.70041477  0.09705232 -0.70710678]\n",
      "eigenvector length: 0.9999999999999997\n",
      "\n",
      "eigenvalue: 1.2500000000000002\n",
      "[-0.1372527  -0.99053606  0.        ]\n",
      "eigenvector length: 1.0\n"
     ]
    }
   ],
   "source": [
    "from sklearn.decomposition import PCA\n",
    "pca = PCA(2)\n",
    "pca.fit(X_normal)\n",
    "\n",
    "for eigenvalue, eigenvector in zip(pca.explained_variance_, pca.components_):\n",
    "    print(\"\\neigenvalue: {}\".format(eigenvalue))\n",
    "    print(eigenvector)\n",
    "    print(\"eigenvector length: {}\".format(eigenvector.dot(eigenvector.T)))"
   ]
  },
  {
   "cell_type": "markdown",
   "metadata": {},
   "source": [
    "# El yapimi PCA"
   ]
  },
  {
   "cell_type": "code",
   "execution_count": 3,
   "metadata": {},
   "outputs": [
    {
     "name": "stdout",
     "output_type": "stream",
     "text": [
      "\n",
      "Ozvektor 1 : Temel Bilesen 1\n",
      "[[ 0.70041477]\n",
      " [-0.09705232]\n",
      " [-0.70710678]]\n",
      "Ozdeger 1: 0.009697586360586818\n",
      "eigenvector length: [[1.]]\n",
      "\n",
      "Ozvektor 2 : Temel Bilesen 2\n",
      "[[ 0.70041477]\n",
      " [-0.09705232]\n",
      " [ 0.70710678]]\n",
      "Ozdeger 2: 2.490302413639412\n",
      "eigenvector length: [[1.]]\n",
      "\n",
      "Ozvektor 3 : Temel Bilesen 3\n",
      "[[ 1.37252703e-01]\n",
      " [ 9.90536065e-01]\n",
      " [-3.14764774e-17]]\n",
      "Ozdeger 2: 1.25\n",
      "eigenvector length: [[1.]]\n"
     ]
    }
   ],
   "source": [
    "COV = (1/(X.shape[0] - 1)) * X_normal.T.dot(X_normal)\n",
    "ozdegerler, ozvektorler = np.linalg.eig(COV)\n",
    "\n",
    "ozvektorler_tersi = np.linalg.inv(ozvektorler)\n",
    "ozdegerler = ozdegerler\n",
    "\n",
    "w1,w2, w3 = ozvektorler[:,0:1], ozvektorler[:,1:2], ozvektorler[:,2:]\n",
    "print(\"\\nOzvektor 1 : Temel Bilesen 1\")\n",
    "print(w1)\n",
    "print(\"Ozdeger 1: {}\".format(ozdegerler[0]))\n",
    "print(\"eigenvector length: {}\".format(w1.T.dot(w1)))\n",
    "\n",
    "print(\"\\nOzvektor 2 : Temel Bilesen 2\")\n",
    "print(w2)\n",
    "print(\"Ozdeger 2: {}\".format(ozdegerler[1]))\n",
    "print(\"eigenvector length: {}\".format(w2.T.dot(w2)))\n",
    "\n",
    "print(\"\\nOzvektor 3 : Temel Bilesen 3\")\n",
    "print(w3)\n",
    "print(\"Ozdeger 2: {}\".format(ozdegerler[2]))\n",
    "print(\"eigenvector length: {}\".format(w3.T.dot(w3)))"
   ]
  },
  {
   "cell_type": "markdown",
   "metadata": {},
   "source": [
    "# Verinin Geri Donusumu"
   ]
  },
  {
   "cell_type": "code",
   "execution_count": 4,
   "metadata": {},
   "outputs": [
    {
     "data": {
      "text/plain": [
       "array([[-0.10658456],\n",
       "       [ 0.09536498],\n",
       "       [ 0.09767037],\n",
       "       [-0.09352066],\n",
       "       [ 0.00706988]])"
      ]
     },
     "execution_count": 4,
     "metadata": {},
     "output_type": "execute_result"
    }
   ],
   "source": [
    "z1 = X_normal.dot(w1)\n",
    "z1"
   ]
  },
  {
   "cell_type": "code",
   "execution_count": 5,
   "metadata": {},
   "outputs": [
    {
     "data": {
      "text/plain": [
       "array([[ 0.70041477, -0.09705232, -0.70710678]])"
      ]
     },
     "execution_count": 5,
     "metadata": {},
     "output_type": "execute_result"
    }
   ],
   "source": [
    "w1T = ozvektorler_tersi[0:1]\n",
    "w1T"
   ]
  },
  {
   "cell_type": "code",
   "execution_count": 6,
   "metadata": {},
   "outputs": [
    {
     "data": {
      "text/plain": [
       "array([[-0.0746534 ,  0.01034428,  0.07536667],\n",
       "       [ 0.06679504, -0.00925539, -0.06743322],\n",
       "       [ 0.06840977, -0.00947914, -0.06906338],\n",
       "       [-0.06550325,  0.0090764 ,  0.06612909],\n",
       "       [ 0.00495185, -0.00068615, -0.00499916]])"
      ]
     },
     "execution_count": 6,
     "metadata": {},
     "output_type": "execute_result"
    }
   ],
   "source": [
    "z1.dot(w1T)"
   ]
  },
  {
   "cell_type": "code",
   "execution_count": 7,
   "metadata": {},
   "outputs": [
    {
     "data": {
      "text/plain": [
       "array([[-1.41421356e+00,  8.16496581e-01, -1.36216257e+00],\n",
       "       [-7.07106781e-01, -1.22474487e+00, -6.67181666e-01],\n",
       "       [-1.38777878e-17,  8.16496581e-01, -2.50193125e-01],\n",
       "       [ 7.07106781e-01, -1.22474487e+00,  1.00077250e+00],\n",
       "       [ 1.41421356e+00,  8.16496581e-01,  1.27876486e+00]])"
      ]
     },
     "execution_count": 7,
     "metadata": {},
     "output_type": "execute_result"
    }
   ],
   "source": [
    "z2 = X_normal.dot(w2)\n",
    "w2T = ozvektorler_tersi[1:2]\n",
    "\n",
    "z3 = X_normal.dot(w3)\n",
    "w3T = ozvektorler_tersi[2:]\n",
    "\n",
    "z1.dot(w1T) + z2.dot(w2T) + z3.dot(w3T)"
   ]
  },
  {
   "cell_type": "code",
   "execution_count": 8,
   "metadata": {},
   "outputs": [
    {
     "data": {
      "text/plain": [
       "array([[-1.41421356,  0.81649658, -1.36216257],\n",
       "       [-0.70710678, -1.22474487, -0.66718167],\n",
       "       [ 0.        ,  0.81649658, -0.25019312],\n",
       "       [ 0.70710678, -1.22474487,  1.0007725 ],\n",
       "       [ 1.41421356,  0.81649658,  1.27876486]])"
      ]
     },
     "execution_count": 8,
     "metadata": {},
     "output_type": "execute_result"
    }
   ],
   "source": [
    "X_normal"
   ]
  },
  {
   "cell_type": "code",
   "execution_count": 9,
   "metadata": {},
   "outputs": [
    {
     "data": {
      "text/plain": [
       "array([[-1.41421356e+00,  8.16496581e-01, -1.36216257e+00],\n",
       "       [-7.07106781e-01, -1.22474487e+00, -6.67181666e-01],\n",
       "       [ 3.56711290e-17,  8.16496581e-01, -2.50193125e-01],\n",
       "       [ 7.07106781e-01, -1.22474487e+00,  1.00077250e+00],\n",
       "       [ 1.41421356e+00,  8.16496581e-01,  1.27876486e+00]])"
      ]
     },
     "execution_count": 9,
     "metadata": {},
     "output_type": "execute_result"
    }
   ],
   "source": [
    "X_normal.dot(ozvektorler).dot(ozvektorler_tersi)"
   ]
  },
  {
   "cell_type": "markdown",
   "metadata": {},
   "source": [
    "# Anomali Tespiti"
   ]
  },
  {
   "cell_type": "code",
   "execution_count": 24,
   "metadata": {},
   "outputs": [
    {
     "data": {
      "text/plain": [
       "array([[ 0.70178542,  0.73083915, -0.26303123],\n",
       "       [ 1.73809601, -0.28526034, -0.15837587],\n",
       "       [-0.72132   , -1.1567106 , -0.97885882],\n",
       "       ...,\n",
       "       [ 0.03872626, -0.35373986,  0.24417658],\n",
       "       [-0.55996611,  1.39324623, -0.56674409],\n",
       "       [-0.97464354, -2.50937847,  2.4939911 ]])"
      ]
     },
     "execution_count": 24,
     "metadata": {},
     "output_type": "execute_result"
    }
   ],
   "source": [
    "X1 = np.random.randn(1000,1)\n",
    "X2 = np.random.randn(1000,1)\n",
    "\n",
    "# Generate test data with the special pattern X3 = - X1 - X2\n",
    "# REMEMBER: \n",
    "  # This is the pattern that is fed to the AutoEncoder in the training phase\n",
    "  # At training phase, AutoEncoder succesfully learned to encode and decode that pattern\n",
    "X = np.concatenate([X1, X2, - X1 - X2], axis = 1)\n",
    "\n",
    "# Inject anomaly: without the pattern such that X3 = - X1 - X2\n",
    "X[:100] = np.random.randn(100,3)\n",
    "# standardization\n",
    "X_normal = (X - X.mean(axis = 0))/(X.std(axis = 0))\n",
    "X_normal"
   ]
  },
  {
   "cell_type": "code",
   "execution_count": 13,
   "metadata": {},
   "outputs": [
    {
     "name": "stdout",
     "output_type": "stream",
     "text": [
      "\n",
      "Ozvektor 1 : Temel Bilesen 1\n",
      "[[0.50261759]\n",
      " [0.50932681]\n",
      " [0.69854259]]\n",
      "Ozdeger 1: 0.07427573733224846\n",
      "eigenvector length: [[1.]]\n",
      "\n",
      "Ozvektor 2 : Temel Bilesen 2\n",
      "[[ 7.12262361e-01]\n",
      " [-7.01912980e-01]\n",
      " [-7.05025768e-04]]\n",
      "Ozdeger 2: 1.0445756341322026\n",
      "eigenvector length: [[1.]]\n",
      "\n",
      "Ozvektor 3 : Temel Bilesen 3\n",
      "[[-0.48995702]\n",
      " [-0.49789995]\n",
      " [ 0.71556813]]\n",
      "Ozdeger 2: 1.8841516315385514\n",
      "eigenvector length: [[1.]]\n"
     ]
    }
   ],
   "source": [
    "COV = (1/(X.shape[0] - 1)) * X_normal.T.dot(X_normal)\n",
    "ozdegerler, ozvektorler = np.linalg.eig(COV)\n",
    "\n",
    "ozvektorler_tersi = np.linalg.inv(ozvektorler)\n",
    "ozdegerler = ozdegerler\n",
    "\n",
    "w1,w2, w3 = ozvektorler[:,0:1], ozvektorler[:,1:2], ozvektorler[:,2:]\n",
    "print(\"\\nOzvektor 1 : Temel Bilesen 1\")\n",
    "print(w1)\n",
    "print(\"Ozdeger 1: {}\".format(ozdegerler[0]))\n",
    "print(\"eigenvector length: {}\".format(w1.T.dot(w1)))\n",
    "\n",
    "print(\"\\nOzvektor 2 : Temel Bilesen 2\")\n",
    "print(w2)\n",
    "print(\"Ozdeger 2: {}\".format(ozdegerler[1]))\n",
    "print(\"eigenvector length: {}\".format(w2.T.dot(w2)))\n",
    "\n",
    "print(\"\\nOzvektor 3 : Temel Bilesen 3\")\n",
    "print(w3)\n",
    "print(\"Ozdeger 2: {}\".format(ozdegerler[2]))\n",
    "print(\"eigenvector length: {}\".format(w3.T.dot(w3)))"
   ]
  },
  {
   "cell_type": "code",
   "execution_count": 16,
   "metadata": {},
   "outputs": [
    {
     "data": {
      "text/plain": [
       "array([[-0.44421977, -1.04682332, -0.99033428],\n",
       "       [-0.9955065 , -0.2219772 , -0.18733672],\n",
       "       [ 0.8193525 ,  0.29698507,  1.64084533],\n",
       "       ...,\n",
       "       [-0.35155525, -1.32935446,  1.22286614],\n",
       "       [ 0.15682742,  0.98817174, -0.8531967 ],\n",
       "       [-0.11696329, -0.51425027,  0.45143273]])"
      ]
     },
     "execution_count": 16,
     "metadata": {},
     "output_type": "execute_result"
    }
   ],
   "source": [
    "z1 = X_normal.dot(w1)\n",
    "w1T = ozvektorler_tersi[0:1]\n",
    "\n",
    "z2 = X_normal.dot(w2)\n",
    "w2T = ozvektorler_tersi[1:2]\n",
    "\n",
    "z3 = X_normal.dot(w3)\n",
    "w3T = ozvektorler_tersi[2:]\n",
    "\n",
    "z1.dot(w1T) + z2.dot(w2T) + z3.dot(w3T)"
   ]
  },
  {
   "cell_type": "code",
   "execution_count": 15,
   "metadata": {},
   "outputs": [
    {
     "data": {
      "text/plain": [
       "array([[ 0.28369039, -0.3091966 ,  0.02132202],\n",
       "       [-0.62141793,  0.15710491,  0.33257505],\n",
       "       [-0.0397636 , -0.57359899,  0.4468378 ],\n",
       "       ...,\n",
       "       [-0.3517816 , -1.32958384,  1.22255155],\n",
       "       [ 0.16379754,  0.99523491, -0.84350955],\n",
       "       [-0.11426711, -0.5115181 ,  0.4551799 ]])"
      ]
     },
     "execution_count": 15,
     "metadata": {},
     "output_type": "execute_result"
    }
   ],
   "source": [
    "N = z2.dot(w2T) + z3.dot(w3T)\n",
    "N"
   ]
  },
  {
   "cell_type": "code",
   "execution_count": 17,
   "metadata": {},
   "outputs": [
    {
     "data": {
      "text/plain": [
       "array([[-7.27910164e-01, -7.37626718e-01, -1.01165630e+00],\n",
       "       [-3.74088572e-01, -3.79082117e-01, -5.19911767e-01],\n",
       "       [ 8.59116103e-01,  8.70584068e-01,  1.19400753e+00],\n",
       "       ...,\n",
       "       [ 2.26358283e-04,  2.29379841e-04,  3.14594842e-04],\n",
       "       [-6.97012546e-03, -7.06316661e-03, -9.68714502e-03],\n",
       "       [-2.69617855e-03, -2.73216866e-03, -3.74717396e-03]])"
      ]
     },
     "execution_count": 17,
     "metadata": {},
     "output_type": "execute_result"
    }
   ],
   "source": [
    "X_normal - N "
   ]
  },
  {
   "cell_type": "code",
   "execution_count": 18,
   "metadata": {},
   "outputs": [
    {
     "data": {
      "text/plain": [
       "array([[-7.27910164e-01, -7.37626718e-01, -1.01165630e+00],\n",
       "       [-3.74088572e-01, -3.79082117e-01, -5.19911767e-01],\n",
       "       [ 8.59116103e-01,  8.70584068e-01,  1.19400753e+00],\n",
       "       ...,\n",
       "       [ 2.26358283e-04,  2.29379841e-04,  3.14594842e-04],\n",
       "       [-6.97012546e-03, -7.06316661e-03, -9.68714502e-03],\n",
       "       [-2.69617855e-03, -2.73216866e-03, -3.74717396e-03]])"
      ]
     },
     "execution_count": 18,
     "metadata": {},
     "output_type": "execute_result"
    }
   ],
   "source": [
    "A = z1.dot(w1T)\n",
    "A"
   ]
  },
  {
   "cell_type": "code",
   "execution_count": 22,
   "metadata": {},
   "outputs": [],
   "source": [
    "A2 = A**2\n",
    "E = A2.sum(axis = 1)"
   ]
  },
  {
   "cell_type": "code",
   "execution_count": 23,
   "metadata": {},
   "outputs": [
    {
     "data": {
      "text/plain": [
       "[<matplotlib.lines.Line2D at 0x7fcf64f7a3a0>]"
      ]
     },
     "execution_count": 23,
     "metadata": {},
     "output_type": "execute_result"
    },
    {
     "data": {
      "image/png": "[encoded data removed]",
      "text/plain": [
       "<Figure size 432x288 with 1 Axes>"
      ]
     },
     "metadata": {},
     "output_type": "display_data"
    }
   ],
   "source": [
    "plt.plot(E)"
   ]
  },
  {
   "cell_type": "code",
   "execution_count": null,
   "metadata": {},
   "outputs": [],
   "source": []
  }
 ],
 "metadata": {
  "kernelspec": {
   "display_name": "Python 3",
   "language": "python",
   "name": "python3"
  },
  "language_info": {
   "codemirror_mode": {
    "name": "ipython",
    "version": 3
   },
   "file_extension": ".py",
   "mimetype": "text/x-python",
   "name": "python",
   "nbconvert_exporter": "python",
   "pygments_lexer": "ipython3",
   "version": "3.8.3"
  },
  "toc": {
   "base_numbering": 1,
   "nav_menu": {},
   "number_sections": true,
   "sideBar": true,
   "skip_h1_title": false,
   "title_cell": "Table of Contents",
   "title_sidebar": "Contents",
   "toc_cell": false,
   "toc_position": {},
   "toc_section_display": true,
   "toc_window_display": false
  },
  "varInspector": {
   "cols": {
    "lenName": 16,
    "lenType": 16,
    "lenVar": 40
   },
   "kernels_config": {
    "python": {
     "delete_cmd_postfix": "",
     "delete_cmd_prefix": "del ",
     "library": "var_list.py",
     "varRefreshCmd": "print(var_dic_list())"
    },
    "r": {
     "delete_cmd_postfix": ") ",
     "delete_cmd_prefix": "rm(",
     "library": "var_list.r",
     "varRefreshCmd": "cat(var_dic_list()) "
    }
   },
   "types_to_exclude": [
    "module",
    "function",
    "builtin_function_or_method",
    "instance",
    "_Feature"
   ],
   "window_display": false
  }
 },
 "nbformat": 4,
 "nbformat_minor": 4
}
