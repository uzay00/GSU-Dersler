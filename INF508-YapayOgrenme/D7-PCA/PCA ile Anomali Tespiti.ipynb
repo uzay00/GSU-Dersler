{
 "cells": [
  {
   "cell_type": "markdown",
   "metadata": {},
   "source": [
    "# Veri"
   ]
  },
  {
   "cell_type": "code",
   "execution_count": 8,
   "metadata": {},
   "outputs": [
    {
     "data": {
      "text/plain": [
       "[<matplotlib.lines.Line2D at 0x1a1e5597b8>]"
      ]
     },
     "execution_count": 8,
     "metadata": {},
     "output_type": "execute_result"
    },
    {
     "data": {
      "image/png": "[encoded data removed]",
      "text/plain": [
       "<Figure size 432x288 with 1 Axes>"
      ]
     },
     "metadata": {},
     "output_type": "display_data"
    }
   ],
   "source": [
    "import numpy as np\n",
    "import pandas as pd\n",
    "import matplotlib.pyplot as plt\n",
    "import seaborn as sns\n",
    "sns.set()\n",
    "\n",
    "X = np.array([\n",
    "    [1,4],\n",
    "    [2,9],\n",
    "    [3,12],\n",
    "    [4,21],\n",
    "    [5,23],\n",
    "    [3,50]\n",
    "])\n",
    "\n",
    "# standardization\n",
    "X_normal = (X - X.mean(axis = 0))/(X.std(axis = 0))\n",
    "plt.plot(X_normal[:,0], X_normal[:,1], 'o')"
   ]
  },
  {
   "cell_type": "markdown",
   "metadata": {},
   "source": [
    "# El yapimi PCA"
   ]
  },
  {
   "cell_type": "code",
   "execution_count": 11,
   "metadata": {},
   "outputs": [
    {
     "name": "stdout",
     "output_type": "stream",
     "text": [
      "Maksimize etmek istedigimiz varyans\n",
      "[[2.14529809e+00 2.22044605e-16]\n",
      " [1.11022302e-16 8.54701911e-01]]\n",
      "\n",
      "Ozvektor 1 : Temel Bilesen 1\n",
      "[0.70710678 0.70710678]\n",
      "Ozdeger 1: 2.1452980890170688\n",
      "\n",
      "Ozvektor 2 : Temel Bilesen 2\n",
      "[-0.70710678  0.70710678]\n",
      "Ozdeger 2: 0.8547019109829314\n"
     ]
    }
   ],
   "source": [
    "COV = X_normal.T.dot(X_normal)\n",
    "ozdegerler, ozvektorler = np.linalg.eig(COV)\n",
    "\n",
    "ozvektorler_tersi = np.linalg.inv(ozvektorler)\n",
    "ozdegerler = ozdegerler/4\n",
    "\n",
    "print(\"Maksimize etmek istedigimiz varyans\")\n",
    "print((1/4) * ozvektorler_tersi.dot(COV).dot(ozvektorler))\n",
    "\n",
    "w1,w2 = ozvektorler[:,0], ozvektorler[:,1]\n",
    "print(\"\\nOzvektor 1 : Temel Bilesen 1\")\n",
    "print(w1)\n",
    "print(\"Ozdeger 1: {}\".format(ozdegerler[0]))\n",
    "\n",
    "print(\"\\nOzvektor 2 : Temel Bilesen 2\")\n",
    "print(w2)\n",
    "print(\"Ozdeger 2: {}\".format(ozdegerler[1]))"
   ]
  },
  {
   "cell_type": "code",
   "execution_count": 12,
   "metadata": {},
   "outputs": [
    {
     "data": {
      "image/png": "[encoded data removed]",
      "text/plain": [
       "<Figure size 1080x288 with 3 Axes>"
      ]
     },
     "metadata": {},
     "output_type": "display_data"
    }
   ],
   "source": [
    "X_donus = X_normal.dot(ozvektorler) \n",
    "\n",
    "fig = plt.figure(figsize = (15,4))\n",
    "\n",
    "plt.subplot(1, 3, 1)\n",
    "plt.plot(X[:,0], X[:,1], 'o')\n",
    "plt.title('Orjinal Veri')\n",
    "\n",
    "plt.subplot(1, 3, 2)\n",
    "plt.plot(X_normal[:,0], X_normal[:,1], 'o')\n",
    "plt.title('Nomalize Edilmis Veri')\n",
    "#plt.ylim((-2,2))\n",
    "plt.xlim((-2,2))\n",
    "\n",
    "plt.subplot(1, 3, 3)\n",
    "plt.plot(X_donus[:,0], X_donus[:,1], 'o')\n",
    "plt.title('Temel Bilesenler Ekseninde Veri')\n",
    "plt.ylim((-2,2))\n",
    "plt.xlim((-2,2))\n",
    "\n",
    "plt.tight_layout()"
   ]
  },
  {
   "cell_type": "markdown",
   "metadata": {},
   "source": [
    "# Normal Uzayda veri"
   ]
  },
  {
   "cell_type": "code",
   "execution_count": 14,
   "metadata": {},
   "outputs": [
    {
     "data": {
      "text/plain": [
       "array([-1.84160535, -1.05825324, -0.36915296,  0.60270279,  1.24467716,\n",
       "        1.4216316 ])"
      ]
     },
     "execution_count": 14,
     "metadata": {},
     "output_type": "execute_result"
    }
   ],
   "source": [
    "X_N = X_normal.dot(ozvektorler[:,0]) \n",
    "X_N"
   ]
  },
  {
   "cell_type": "code",
   "execution_count": 16,
   "metadata": {},
   "outputs": [
    {
     "data": {
      "text/plain": [
       "1.1959091629431473"
      ]
     },
     "execution_count": 16,
     "metadata": {},
     "output_type": "execute_result"
    }
   ],
   "source": [
    "np.std(X_N)"
   ]
  },
  {
   "cell_type": "markdown",
   "metadata": {},
   "source": [
    "# Anomali Uzayinda veri"
   ]
  },
  {
   "cell_type": "code",
   "execution_count": 15,
   "metadata": {},
   "outputs": [
    {
     "data": {
      "text/plain": [
       "array([ 0.34928488,  0.03719187, -0.36915296, -0.49274233, -0.94621307,\n",
       "        1.4216316 ])"
      ]
     },
     "execution_count": 15,
     "metadata": {},
     "output_type": "execute_result"
    }
   ],
   "source": [
    "X_A = X_normal.dot(ozvektorler[:,1]) \n",
    "X_A"
   ]
  },
  {
   "cell_type": "code",
   "execution_count": 17,
   "metadata": {},
   "outputs": [
    {
     "data": {
      "text/plain": [
       "0.7548518225377884"
      ]
     },
     "execution_count": 17,
     "metadata": {},
     "output_type": "execute_result"
    }
   ],
   "source": [
    "np.std(X_A)"
   ]
  },
  {
   "cell_type": "markdown",
   "metadata": {},
   "source": [
    "# Sklearn PCA"
   ]
  },
  {
   "cell_type": "code",
   "execution_count": 18,
   "metadata": {},
   "outputs": [
    {
     "name": "stdout",
     "output_type": "stream",
     "text": [
      "\n",
      "eigenvalue: 1.716238471213655\n",
      "[-0.70710678 -0.70710678]\n",
      "eigenvector length: 0.9999999999999998\n",
      "\n",
      "eigenvalue: 0.6837615287863448\n",
      "[-0.70710678  0.70710678]\n",
      "eigenvector length: 0.9999999999999998\n"
     ]
    }
   ],
   "source": [
    "from sklearn.decomposition import PCA\n",
    "pca = PCA(2)\n",
    "pca.fit(X_normal)\n",
    "\n",
    "for eigenvalue, eigenvector in zip(pca.explained_variance_, pca.components_):\n",
    "    print(\"\\neigenvalue: {}\".format(eigenvalue))\n",
    "    print(eigenvector)\n",
    "    print(\"eigenvector length: {}\".format(eigenvector.dot(eigenvector.T)))"
   ]
  },
  {
   "cell_type": "code",
   "execution_count": 19,
   "metadata": {},
   "outputs": [
    {
     "data": {
      "text/plain": [
       "array([0.71509936, 0.28490064])"
      ]
     },
     "execution_count": 19,
     "metadata": {},
     "output_type": "execute_result"
    }
   ],
   "source": [
    "pca.explained_variance_ / np.sum(pca.explained_variance_)"
   ]
  },
  {
   "cell_type": "code",
   "execution_count": 20,
   "metadata": {},
   "outputs": [],
   "source": [
    "PC1 = pca.components_[0]\n",
    "PC2 = pca.components_[1]"
   ]
  },
  {
   "cell_type": "markdown",
   "metadata": {},
   "source": [
    "# Scalar Projection"
   ]
  },
  {
   "cell_type": "code",
   "execution_count": 21,
   "metadata": {},
   "outputs": [
    {
     "name": "stdout",
     "output_type": "stream",
     "text": [
      "[ 1.84160535  1.05825324  0.36915296 -0.60270279 -1.24467716 -1.4216316 ]\n"
     ]
    }
   ],
   "source": [
    "izdusum1 = X_normal.dot(PC1)\n",
    "print(izdusum1)"
   ]
  },
  {
   "cell_type": "code",
   "execution_count": 25,
   "metadata": {},
   "outputs": [
    {
     "data": {
      "text/plain": [
       "1.195909162943147"
      ]
     },
     "execution_count": 25,
     "metadata": {},
     "output_type": "execute_result"
    }
   ],
   "source": [
    "np.std(izdusum1)"
   ]
  },
  {
   "cell_type": "code",
   "execution_count": 22,
   "metadata": {},
   "outputs": [
    {
     "name": "stdout",
     "output_type": "stream",
     "text": [
      "[ 0.34928488  0.03719187 -0.36915296 -0.49274233 -0.94621307  1.4216316 ]\n"
     ]
    }
   ],
   "source": [
    "izdusum2 = X_normal.dot(PC2)\n",
    "print(izdusum2)"
   ]
  },
  {
   "cell_type": "code",
   "execution_count": 24,
   "metadata": {},
   "outputs": [
    {
     "data": {
      "text/plain": [
       "0.7548518225377883"
      ]
     },
     "execution_count": 24,
     "metadata": {},
     "output_type": "execute_result"
    }
   ],
   "source": [
    "np.std(izdusum2)"
   ]
  },
  {
   "cell_type": "code",
   "execution_count": 28,
   "metadata": {},
   "outputs": [
    {
     "data": {
      "text/plain": [
       "array([[-1.54919334, -1.05522992],\n",
       "       [-0.77459667, -0.72199942],\n",
       "       [ 0.        , -0.52206112],\n",
       "       [ 0.77459667,  0.07775378],\n",
       "       [ 1.54919334,  0.21104598],\n",
       "       [ 0.        ,  2.01049069]])"
      ]
     },
     "execution_count": 28,
     "metadata": {},
     "output_type": "execute_result"
    }
   ],
   "source": [
    "X_normal"
   ]
  },
  {
   "cell_type": "markdown",
   "metadata": {},
   "source": [
    "# Vectorel Projection"
   ]
  },
  {
   "cell_type": "code",
   "execution_count": 29,
   "metadata": {},
   "outputs": [
    {
     "data": {
      "text/plain": [
       "array([-0.70710678, -0.70710678])"
      ]
     },
     "execution_count": 29,
     "metadata": {},
     "output_type": "execute_result"
    }
   ],
   "source": [
    "PC1"
   ]
  },
  {
   "cell_type": "code",
   "execution_count": 31,
   "metadata": {},
   "outputs": [
    {
     "data": {
      "text/plain": [
       "((6,), (2,))"
      ]
     },
     "execution_count": 31,
     "metadata": {},
     "output_type": "execute_result"
    }
   ],
   "source": [
    "izdusum1.shape, PC1.shape"
   ]
  },
  {
   "cell_type": "code",
   "execution_count": 32,
   "metadata": {},
   "outputs": [
    {
     "data": {
      "text/plain": [
       "array([[-1.30221163, -1.30221163],\n",
       "       [-0.74829804, -0.74829804],\n",
       "       [-0.26103056, -0.26103056],\n",
       "       [ 0.42617523,  0.42617523],\n",
       "       [ 0.88011966,  0.88011966],\n",
       "       [ 1.00524534,  1.00524534]])"
      ]
     },
     "execution_count": 32,
     "metadata": {},
     "output_type": "execute_result"
    }
   ],
   "source": [
    "izdusum1.reshape(6,1) * PC1.reshape(1,2)"
   ]
  },
  {
   "cell_type": "markdown",
   "metadata": {},
   "source": [
    "## veri = Anomali uzayina olan izdusum + normal uzaya olan izdusum\n",
    "\n",
    "burada bahsedilen scalar izdusum degil, vektorel izdusumdur.\n",
    "\n",
    "<img src=\"resim/anomali_tespiti.JPG\" alt=\"izdusumu\" width=\"600\">"
   ]
  },
  {
   "cell_type": "code",
   "execution_count": 37,
   "metadata": {},
   "outputs": [
    {
     "data": {
      "text/plain": [
       "array([[-1.30221163, -1.30221163],\n",
       "       [-0.74829804, -0.74829804],\n",
       "       [-0.26103056, -0.26103056],\n",
       "       [ 0.42617523,  0.42617523],\n",
       "       [ 0.88011966,  0.88011966],\n",
       "       [ 1.00524534,  1.00524534]])"
      ]
     },
     "execution_count": 37,
     "metadata": {},
     "output_type": "execute_result"
    }
   ],
   "source": [
    "normal_uzay = izdusum1.reshape(6,1) * PC1.reshape(1,2)\n",
    "normal_uzay"
   ]
  },
  {
   "cell_type": "code",
   "execution_count": 38,
   "metadata": {},
   "outputs": [
    {
     "data": {
      "text/plain": [
       "array([[-0.24698171,  0.24698171],\n",
       "       [-0.02629863,  0.02629863],\n",
       "       [ 0.26103056, -0.26103056],\n",
       "       [ 0.34842144, -0.34842144],\n",
       "       [ 0.66907368, -0.66907368],\n",
       "       [-1.00524534,  1.00524534]])"
      ]
     },
     "execution_count": 38,
     "metadata": {},
     "output_type": "execute_result"
    }
   ],
   "source": [
    "anomali_uzay = izdusum2.reshape(6,1) * PC2.reshape(1,2)\n",
    "anomali_uzay"
   ]
  },
  {
   "cell_type": "code",
   "execution_count": 39,
   "metadata": {},
   "outputs": [
    {
     "data": {
      "text/plain": [
       "array([[-1.54919334, -1.05522992],\n",
       "       [-0.77459667, -0.72199942],\n",
       "       [ 0.        , -0.52206112],\n",
       "       [ 0.77459667,  0.07775378],\n",
       "       [ 1.54919334,  0.21104598],\n",
       "       [ 0.        ,  2.01049069]])"
      ]
     },
     "execution_count": 39,
     "metadata": {},
     "output_type": "execute_result"
    }
   ],
   "source": [
    "X_normal"
   ]
  },
  {
   "cell_type": "code",
   "execution_count": 40,
   "metadata": {},
   "outputs": [
    {
     "data": {
      "text/plain": [
       "array([[-1.54919334, -1.05522992],\n",
       "       [-0.77459667, -0.72199942],\n",
       "       [ 0.        , -0.52206112],\n",
       "       [ 0.77459667,  0.07775378],\n",
       "       [ 1.54919334,  0.21104598],\n",
       "       [ 0.        ,  2.01049069]])"
      ]
     },
     "execution_count": 40,
     "metadata": {},
     "output_type": "execute_result"
    }
   ],
   "source": [
    "anomali_uzay + normal_uzay"
   ]
  },
  {
   "cell_type": "markdown",
   "metadata": {},
   "source": [
    "# anomali tespiti"
   ]
  },
  {
   "cell_type": "code",
   "execution_count": 41,
   "metadata": {},
   "outputs": [
    {
     "data": {
      "text/plain": [
       "array([[-0.24698171,  0.24698171],\n",
       "       [-0.02629863,  0.02629863],\n",
       "       [ 0.26103056, -0.26103056],\n",
       "       [ 0.34842144, -0.34842144],\n",
       "       [ 0.66907368, -0.66907368],\n",
       "       [-1.00524534,  1.00524534]])"
      ]
     },
     "execution_count": 41,
     "metadata": {},
     "output_type": "execute_result"
    }
   ],
   "source": [
    "anomali_uzay"
   ]
  },
  {
   "cell_type": "code",
   "execution_count": 47,
   "metadata": {},
   "outputs": [
    {
     "data": {
      "text/plain": [
       "array([0.34928488, 0.03719187, 0.36915296, 0.49274233, 0.94621307,\n",
       "       1.4216316 ])"
      ]
     },
     "execution_count": 47,
     "metadata": {},
     "output_type": "execute_result"
    }
   ],
   "source": [
    "uzunluk = np.sum(anomali_uzay**2, axis = 1)**0.5\n",
    "uzunluk"
   ]
  },
  {
   "cell_type": "code",
   "execution_count": 48,
   "metadata": {},
   "outputs": [
    {
     "data": {
      "text/plain": [
       "array([ True,  True,  True,  True,  True,  True])"
      ]
     },
     "execution_count": 48,
     "metadata": {},
     "output_type": "execute_result"
    }
   ],
   "source": [
    "uzunluk > 0.001"
   ]
  },
  {
   "cell_type": "markdown",
   "metadata": {},
   "source": [
    "# Incremental PCA\n",
    " - Online Learning"
   ]
  },
  {
   "cell_type": "code",
   "execution_count": 66,
   "metadata": {},
   "outputs": [],
   "source": [
    "from sklearn.decomposition import IncrementalPCA\n",
    "\n",
    "X1 = X_normal[:3,:]"
   ]
  },
  {
   "cell_type": "code",
   "execution_count": 67,
   "metadata": {},
   "outputs": [
    {
     "data": {
      "text/plain": [
       "array([[-1.54919334, -1.05522992],\n",
       "       [-0.77459667, -0.72199942],\n",
       "       [ 0.        , -0.52206112]])"
      ]
     },
     "execution_count": 67,
     "metadata": {},
     "output_type": "execute_result"
    }
   ],
   "source": [
    "X1"
   ]
  },
  {
   "cell_type": "code",
   "execution_count": 68,
   "metadata": {},
   "outputs": [
    {
     "data": {
      "text/plain": [
       "array([[0.77459667, 0.07775378],\n",
       "       [1.54919334, 0.21104598],\n",
       "       [0.        , 2.01049069]])"
      ]
     },
     "execution_count": 68,
     "metadata": {},
     "output_type": "execute_result"
    }
   ],
   "source": [
    "X2 = X_normal[3:,:]\n",
    "X2"
   ]
  },
  {
   "cell_type": "code",
   "execution_count": 69,
   "metadata": {},
   "outputs": [
    {
     "data": {
      "text/plain": [
       "IncrementalPCA(batch_size=None, copy=True, n_components=2, whiten=False)"
      ]
     },
     "execution_count": 69,
     "metadata": {},
     "output_type": "execute_result"
    }
   ],
   "source": [
    "transformer = IncrementalPCA(n_components=2)\n",
    "transformer.partial_fit(X1)"
   ]
  },
  {
   "cell_type": "code",
   "execution_count": 70,
   "metadata": {},
   "outputs": [],
   "source": [
    "X_transformed = transformer.fit_transform(X1)"
   ]
  },
  {
   "cell_type": "code",
   "execution_count": 71,
   "metadata": {},
   "outputs": [
    {
     "data": {
      "text/plain": [
       "array([[-0.82643048, -0.0204441 ],\n",
       "       [ 0.01448747,  0.04200242],\n",
       "       [ 0.81194302, -0.02155833]])"
      ]
     },
     "execution_count": 71,
     "metadata": {},
     "output_type": "execute_result"
    }
   ],
   "source": [
    "X_transformed"
   ]
  },
  {
   "cell_type": "code",
   "execution_count": 72,
   "metadata": {},
   "outputs": [
    {
     "data": {
      "text/plain": [
       "IncrementalPCA(batch_size=None, copy=True, n_components=2, whiten=False)"
      ]
     },
     "execution_count": 72,
     "metadata": {},
     "output_type": "execute_result"
    }
   ],
   "source": [
    "transformer.partial_fit(X2)"
   ]
  },
  {
   "cell_type": "code",
   "execution_count": 74,
   "metadata": {},
   "outputs": [
    {
     "data": {
      "text/plain": [
       "array([[-1.84160535, -0.34928488],\n",
       "       [-1.05825324, -0.03719187],\n",
       "       [-0.36915296,  0.36915296],\n",
       "       [ 0.60270279,  0.49274233],\n",
       "       [ 1.24467716,  0.94621307],\n",
       "       [ 1.4216316 , -1.4216316 ]])"
      ]
     },
     "execution_count": 74,
     "metadata": {},
     "output_type": "execute_result"
    }
   ],
   "source": [
    "X_transformed = transformer.fit_transform(X_normal)\n",
    "X_transformed"
   ]
  },
  {
   "cell_type": "code",
   "execution_count": 75,
   "metadata": {},
   "outputs": [
    {
     "data": {
      "text/plain": [
       "array([[-1.84160535,  0.34928488],\n",
       "       [-1.05825324,  0.03719187],\n",
       "       [-0.36915296, -0.36915296],\n",
       "       [ 0.60270279, -0.49274233],\n",
       "       [ 1.24467716, -0.94621307],\n",
       "       [ 1.4216316 ,  1.4216316 ]])"
      ]
     },
     "execution_count": 75,
     "metadata": {},
     "output_type": "execute_result"
    }
   ],
   "source": [
    "X_donus"
   ]
  },
  {
   "cell_type": "code",
   "execution_count": null,
   "metadata": {},
   "outputs": [],
   "source": []
  }
 ],
 "metadata": {
  "kernelspec": {
   "display_name": "Python 3",
   "language": "python",
   "name": "python3"
  },
  "language_info": {
   "codemirror_mode": {
    "name": "ipython",
    "version": 3
   },
   "file_extension": ".py",
   "mimetype": "text/x-python",
   "name": "python",
   "nbconvert_exporter": "python",
   "pygments_lexer": "ipython3",
   "version": "3.8.3"
  },
  "toc": {
   "base_numbering": 1,
   "nav_menu": {},
   "number_sections": true,
   "sideBar": true,
   "skip_h1_title": false,
   "title_cell": "Table of Contents",
   "title_sidebar": "Contents",
   "toc_cell": false,
   "toc_position": {},
   "toc_section_display": true,
   "toc_window_display": false
  },
  "varInspector": {
   "cols": {
    "lenName": 16,
    "lenType": 16,
    "lenVar": 40
   },
   "kernels_config": {
    "python": {
     "delete_cmd_postfix": "",
     "delete_cmd_prefix": "del ",
     "library": "var_list.py",
     "varRefreshCmd": "print(var_dic_list())"
    },
    "r": {
     "delete_cmd_postfix": ") ",
     "delete_cmd_prefix": "rm(",
     "library": "var_list.r",
     "varRefreshCmd": "cat(var_dic_list()) "
    }
   },
   "types_to_exclude": [
    "module",
    "function",
    "builtin_function_or_method",
    "instance",
    "_Feature"
   ],
   "window_display": false
  }
 },
 "nbformat": 4,
 "nbformat_minor": 2
}
