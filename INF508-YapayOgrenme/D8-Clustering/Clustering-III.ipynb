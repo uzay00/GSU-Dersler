{
 "cells": [
  {
   "cell_type": "code",
   "execution_count": 15,
   "metadata": {},
   "outputs": [],
   "source": [
    "from scipy.stats import multivariate_normal\n",
    "\n",
    "import matplotlib.pyplot as plt\n",
    "import numpy as np\n",
    "\n",
    "from sklearn.datasets import make_blobs\n",
    "\n",
    "centers = np.array([[-5,7],\n",
    "                  [0,0],\n",
    "                  [10,10]])\n",
    "X, y = make_blobs(n_samples=1000, centers=centers, n_features=2, random_state=0)"
   ]
  },
  {
   "cell_type": "code",
   "execution_count": 16,
   "metadata": {
    "scrolled": true
   },
   "outputs": [
    {
     "data": {
      "image/png": "[encoded data removed]",
      "text/plain": [
       "<Figure size 432x288 with 1 Axes>"
      ]
     },
     "metadata": {
      "needs_background": "light"
     },
     "output_type": "display_data"
    }
   ],
   "source": [
    "for i in range(3):\n",
    "    plt.plot(X[y==i,0], X[y==i,1], 'o')\n",
    "for i in range(3):\n",
    "    plt.plot(centers[i,0], centers[i,1], 'kx', markersize = 15)"
   ]
  },
  {
   "cell_type": "markdown",
   "metadata": {},
   "source": [
    "# GMM\n",
    "\n",
    "Algorithm\n",
    "![](kmeans.png)\n",
    "\n",
    "EM\n",
    "![](EM.png)"
   ]
  },
  {
   "cell_type": "code",
   "execution_count": 17,
   "metadata": {},
   "outputs": [
    {
     "data": {
      "text/plain": [
       "array([[-6.04855297,  5.57998206],\n",
       "       [-3.23594765,  7.40015721],\n",
       "       [ 9.50420451, 11.21657771],\n",
       "       ...,\n",
       "       [ 0.60711167, -1.04817041],\n",
       "       [ 1.63159743,  0.37775917],\n",
       "       [ 9.02759711, 11.34622107]])"
      ]
     },
     "execution_count": 17,
     "metadata": {},
     "output_type": "execute_result"
    }
   ],
   "source": [
    "X"
   ]
  },
  {
   "cell_type": "code",
   "execution_count": 18,
   "metadata": {},
   "outputs": [
    {
     "data": {
      "text/plain": [
       "3"
      ]
     },
     "execution_count": 18,
     "metadata": {},
     "output_type": "execute_result"
    }
   ],
   "source": [
    "K = centers.shape[0]\n",
    "K"
   ]
  },
  {
   "cell_type": "code",
   "execution_count": 19,
   "metadata": {},
   "outputs": [
    {
     "data": {
      "text/plain": [
       "array([0.33333333, 0.33333333, 0.33333333])"
      ]
     },
     "execution_count": 19,
     "metadata": {},
     "output_type": "execute_result"
    }
   ],
   "source": [
    "prior = np.array([1/K] * K)\n",
    "prior"
   ]
  },
  {
   "cell_type": "code",
   "execution_count": 20,
   "metadata": {},
   "outputs": [
    {
     "data": {
      "text/plain": [
       "array([[[1, 0],\n",
       "        [0, 1]],\n",
       "\n",
       "       [[1, 0],\n",
       "        [0, 1]],\n",
       "\n",
       "       [[1, 0],\n",
       "        [0, 1]]])"
      ]
     },
     "execution_count": 20,
     "metadata": {},
     "output_type": "execute_result"
    }
   ],
   "source": [
    "S = np.array(\n",
    "    [[[1,0],[0,1]]\n",
    "    for i in range(K)])\n",
    "S"
   ]
  },
  {
   "cell_type": "code",
   "execution_count": 21,
   "metadata": {},
   "outputs": [
    {
     "data": {
      "text/plain": [
       "array([[7.31820047, 8.47862884],\n",
       "       [1.57364783, 2.8035553 ],\n",
       "       [3.23406153, 5.35233664]])"
      ]
     },
     "execution_count": 21,
     "metadata": {},
     "output_type": "execute_result"
    }
   ],
   "source": [
    "m = np.random.rand(K,X.shape[1])* 10\n",
    "m"
   ]
  },
  {
   "cell_type": "code",
   "execution_count": 27,
   "metadata": {},
   "outputs": [
    {
     "data": {
      "text/plain": [
       "array([[4.65006236e-27, 9.99963058e-01, 3.69417283e-05],\n",
       "       [1.05191045e-15, 7.10294547e-01, 2.89705453e-01],\n",
       "       [1.00000000e+00, 4.35336312e-27, 4.57987638e-14],\n",
       "       ...,\n",
       "       [8.63203718e-27, 9.99999893e-01, 1.07187455e-07],\n",
       "       [1.01494082e-20, 9.99977752e-01, 2.22480572e-05],\n",
       "       [1.00000000e+00, 3.22368221e-26, 2.13894926e-13]])"
      ]
     },
     "execution_count": 27,
     "metadata": {},
     "output_type": "execute_result"
    }
   ],
   "source": [
    "# compute h\n",
    "\n",
    "h = np.array([\n",
    "    [multivariate_normal.pdf(x, m[i], S[i]) *  prior[i] \n",
    "    for i in range(K)] for x in X])\n",
    "h = h/h.sum(keepdims =True, axis = 1)\n",
    "h"
   ]
  },
  {
   "cell_type": "code",
   "execution_count": 29,
   "metadata": {},
   "outputs": [
    {
     "data": {
      "text/plain": [
       "array([0.333     , 0.64111517, 0.02588483])"
      ]
     },
     "execution_count": 29,
     "metadata": {},
     "output_type": "execute_result"
    }
   ],
   "source": [
    "prior = h.mean(axis = 0)\n",
    "prior"
   ]
  },
  {
   "cell_type": "code",
   "execution_count": 32,
   "metadata": {},
   "outputs": [
    {
     "data": {
      "text/plain": [
       "array([[-6.04855297,  5.57998206],\n",
       "       [-3.23594765,  7.40015721],\n",
       "       [ 9.50420451, 11.21657771],\n",
       "       ...,\n",
       "       [ 0.60711167, -1.04817041],\n",
       "       [ 1.63159743,  0.37775917],\n",
       "       [ 9.02759711, 11.34622107]])"
      ]
     },
     "execution_count": 32,
     "metadata": {},
     "output_type": "execute_result"
    }
   ],
   "source": [
    "X"
   ]
  },
  {
   "cell_type": "code",
   "execution_count": 49,
   "metadata": {},
   "outputs": [
    {
     "data": {
      "text/plain": [
       "array([[332.99999833, 641.11517102,  25.88483064]])"
      ]
     },
     "execution_count": 49,
     "metadata": {},
     "output_type": "execute_result"
    }
   ],
   "source": [
    "h.sum(keepdims =True, axis = 0)"
   ]
  },
  {
   "cell_type": "code",
   "execution_count": 46,
   "metadata": {},
   "outputs": [
    {
     "data": {
      "text/plain": [
       "array([[ 3315.8229131 ,  3346.45744164],\n",
       "       [-1571.24253192,  2098.60874928],\n",
       "       [ -106.31686557,   213.03052629]])"
      ]
     },
     "execution_count": 46,
     "metadata": {},
     "output_type": "execute_result"
    }
   ],
   "source": [
    "m = np.array([(X * h[:, i:(i+1)]).sum(axis = 0) for i in range(K)])\n",
    "m"
   ]
  },
  {
   "cell_type": "code",
   "execution_count": 52,
   "metadata": {},
   "outputs": [
    {
     "data": {
      "text/plain": [
       "array([[ 9.95742622, 10.0494218 ],\n",
       "       [-2.45079605,  3.27337247],\n",
       "       [-4.10730389,  8.22993703]])"
      ]
     },
     "execution_count": 52,
     "metadata": {},
     "output_type": "execute_result"
    }
   ],
   "source": [
    "m = m/h.sum(keepdims =True, axis = 0).T\n",
    "m"
   ]
  },
  {
   "cell_type": "code",
   "execution_count": 60,
   "metadata": {},
   "outputs": [
    {
     "data": {
      "text/plain": [
       "array([[-16.00597918,  -4.46943973],\n",
       "       [-13.19337387,  -2.64926459],\n",
       "       [ -0.45322171,   1.16715592],\n",
       "       ...,\n",
       "       [ -9.35031454, -11.0975922 ],\n",
       "       [ -8.32582879,  -9.67166263],\n",
       "       [ -0.9298291 ,   1.29679928]])"
      ]
     },
     "execution_count": 60,
     "metadata": {},
     "output_type": "execute_result"
    }
   ],
   "source": [
    "i = 0\n",
    "Si = X - m[i,:]\n",
    "Si"
   ]
  },
  {
   "cell_type": "code",
   "execution_count": 61,
   "metadata": {},
   "outputs": [
    {
     "data": {
      "text/plain": [
       "array([[109143.60732905,  48730.52249238],\n",
       "       [ 48730.52249238,  38060.69518283]])"
      ]
     },
     "execution_count": 61,
     "metadata": {},
     "output_type": "execute_result"
    }
   ],
   "source": [
    "Si.T.dot(Si)"
   ]
  },
  {
   "cell_type": "code",
   "execution_count": 69,
   "metadata": {},
   "outputs": [
    {
     "data": {
      "text/plain": [
       "array([[312.11383709, -11.57721223],\n",
       "       [-11.57721223, 326.77666353]])"
      ]
     },
     "execution_count": 69,
     "metadata": {},
     "output_type": "execute_result"
    }
   ],
   "source": [
    "hi = h[:, i:(i+1)]\n",
    "Shi = Si * hi\n",
    "Shi.T.dot(Shi)"
   ]
  },
  {
   "cell_type": "code",
   "execution_count": 75,
   "metadata": {},
   "outputs": [
    {
     "data": {
      "text/plain": [
       "array([[ 0.93727879, -0.0347664 ],\n",
       "       [-0.0347664 ,  0.98131131]])"
      ]
     },
     "execution_count": 75,
     "metadata": {},
     "output_type": "execute_result"
    }
   ],
   "source": [
    "Si = Shi.T.dot(Shi)/hi.sum()\n",
    "Si"
   ]
  },
  {
   "cell_type": "markdown",
   "metadata": {},
   "source": [
    "# GMM"
   ]
  },
  {
   "cell_type": "code",
   "execution_count": 79,
   "metadata": {},
   "outputs": [],
   "source": [
    "K = centers.shape[0]\n",
    "prior = np.array([1/K] * K)\n",
    "\n",
    "S = np.array(\n",
    "    [[[1,0],[0,1]]\n",
    "    for i in range(K)])\n",
    "\n",
    "m = np.random.rand(K,X.shape[1])* 10"
   ]
  },
  {
   "cell_type": "code",
   "execution_count": 80,
   "metadata": {},
   "outputs": [],
   "source": [
    "# Expectation Step\n",
    "h = np.array([\n",
    "    [multivariate_normal.pdf(x, m[i], S[i]) *  prior[i] \n",
    "    for i in range(K)] for x in X])\n",
    "h = h/h.sum(keepdims =True, axis = 1)"
   ]
  },
  {
   "cell_type": "code",
   "execution_count": 81,
   "metadata": {},
   "outputs": [
    {
     "data": {
      "text/plain": [
       "array([[-3.9743311 ,  8.70983284],\n",
       "       [ 9.95742687, 10.04942161],\n",
       "       [-2.50911138,  3.44427568]])"
      ]
     },
     "execution_count": 81,
     "metadata": {},
     "output_type": "execute_result"
    }
   ],
   "source": [
    "# Maximisation Step\n",
    "m = np.array([(X * h[:, i:(i+1)]).sum(axis = 0) for i in range(K)])\n",
    "m = m/h.sum(keepdims =True, axis = 0).T\n",
    "m"
   ]
  },
  {
   "cell_type": "code",
   "execution_count": 84,
   "metadata": {},
   "outputs": [
    {
     "data": {
      "text/plain": [
       "array([[[ 0.07593331, -0.02086083],\n",
       "        [-0.02086083,  0.03223065]],\n",
       "\n",
       "       [[ 0.93727518, -0.03476531],\n",
       "        [-0.03476531,  0.98131122]],\n",
       "\n",
       "       [[ 7.61150801, -9.01680157],\n",
       "        [-9.01680157, 13.0774389 ]]])"
      ]
     },
     "execution_count": 84,
     "metadata": {},
     "output_type": "execute_result"
    }
   ],
   "source": [
    "S = []\n",
    "for i in range(K):\n",
    "    Si = X - m[i,:]\n",
    "    hi = h[:, i:(i+1)]\n",
    "    Shi = Si * hi\n",
    "    Shi.T.dot(Shi)\n",
    "    Si = Shi.T.dot(Shi)/hi.sum()\n",
    "    S.append(Si)\n",
    "S = np.array(S)\n",
    "S"
   ]
  },
  {
   "cell_type": "markdown",
   "metadata": {},
   "source": [
    "# GMM Code"
   ]
  },
  {
   "cell_type": "code",
   "execution_count": 91,
   "metadata": {},
   "outputs": [],
   "source": [
    "# initialization\n",
    "K = centers.shape[0]\n",
    "prior = np.array([1/K] * K)\n",
    "\n",
    "S = np.array(\n",
    "    [[[1,0],[0,1]]\n",
    "    for i in range(K)])\n",
    "\n",
    "m = np.random.rand(K,X.shape[1])* 10\n",
    "means = []\n",
    "means.append(m)"
   ]
  },
  {
   "cell_type": "code",
   "execution_count": 92,
   "metadata": {},
   "outputs": [],
   "source": [
    "for i in range(100):\n",
    "    # Expectation Step\n",
    "    h = np.array([\n",
    "        [multivariate_normal.pdf(x, m[i], S[i]) *  prior[i] \n",
    "        for i in range(K)] for x in X])\n",
    "    h = h/h.sum(keepdims =True, axis = 1)\n",
    "    \n",
    "    # Maximisation Step\n",
    "    m = np.array([(X * h[:, i:(i+1)]).sum(axis = 0) for i in range(K)])\n",
    "    m = m/h.sum(keepdims =True, axis = 0).T\n",
    "    \n",
    "    S = []\n",
    "    for i in range(K):\n",
    "        Si = X - m[i,:]\n",
    "        hi = h[:, i:(i+1)]\n",
    "        Shi = Si * hi\n",
    "        Shi.T.dot(Shi)\n",
    "        Si = Shi.T.dot(Shi)/hi.sum()\n",
    "        S.append(Si)\n",
    "    S = np.array(S)\n",
    "    \n",
    "    prior = h.mean(axis = 0)\n",
    "    \n",
    "    means.append(m)"
   ]
  },
  {
   "cell_type": "code",
   "execution_count": 93,
   "metadata": {},
   "outputs": [],
   "source": [
    "def draw(X, means, ix = 0):\n",
    "    print(means[ix])\n",
    "    for i in range(3):\n",
    "        plt.plot(X[y==i,0], X[y==i,1], 'o')\n",
    "    for i in range(3):\n",
    "        plt.plot(means[ix][i,0], means[ix][i,1], 'kx', markersize = 15)"
   ]
  },
  {
   "cell_type": "code",
   "execution_count": 94,
   "metadata": {},
   "outputs": [
    {
     "name": "stdout",
     "output_type": "stream",
     "text": [
      "[[6.99528419 5.33990429]\n",
      " [0.44182102 8.23017903]\n",
      " [2.09883494 3.05971039]]\n"
     ]
    },
    {
     "data": {
      "image/png": "[encoded data removed]",
      "text/plain": [
       "<Figure size 432x288 with 1 Axes>"
      ]
     },
     "metadata": {
      "needs_background": "light"
     },
     "output_type": "display_data"
    }
   ],
   "source": [
    "draw(X, means, ix = 0)"
   ]
  },
  {
   "cell_type": "code",
   "execution_count": 95,
   "metadata": {},
   "outputs": [
    {
     "name": "stdout",
     "output_type": "stream",
     "text": [
      "[[ 9.9574262  10.04942179]\n",
      " [-5.09062547  6.96406452]\n",
      " [ 0.0681967  -0.04311801]]\n"
     ]
    },
    {
     "data": {
      "image/png": "[encoded data removed]",
      "text/plain": [
       "<Figure size 432x288 with 1 Axes>"
      ]
     },
     "metadata": {
      "needs_background": "light"
     },
     "output_type": "display_data"
    }
   ],
   "source": [
    "draw(X, means, ix = 5)"
   ]
  },
  {
   "cell_type": "code",
   "execution_count": 96,
   "metadata": {},
   "outputs": [
    {
     "name": "stdout",
     "output_type": "stream",
     "text": [
      "[[ 9.9574262  10.04942179]\n",
      " [-5.09062547  6.96406452]\n",
      " [ 0.0681967  -0.04311801]]\n"
     ]
    },
    {
     "data": {
      "image/png": "[encoded data removed]",
      "text/plain": [
       "<Figure size 432x288 with 1 Axes>"
      ]
     },
     "metadata": {
      "needs_background": "light"
     },
     "output_type": "display_data"
    }
   ],
   "source": [
    "draw(X, means, ix = 10)"
   ]
  },
  {
   "cell_type": "code",
   "execution_count": 97,
   "metadata": {},
   "outputs": [
    {
     "name": "stdout",
     "output_type": "stream",
     "text": [
      "[[ 9.9574262  10.04942179]\n",
      " [-5.09062547  6.96406452]\n",
      " [ 0.0681967  -0.04311801]]\n"
     ]
    },
    {
     "data": {
      "image/png": "[encoded data removed]",
      "text/plain": [
       "<Figure size 432x288 with 1 Axes>"
      ]
     },
     "metadata": {
      "needs_background": "light"
     },
     "output_type": "display_data"
    }
   ],
   "source": [
    "draw(X, means, ix = 20)"
   ]
  },
  {
   "cell_type": "code",
   "execution_count": 98,
   "metadata": {},
   "outputs": [
    {
     "name": "stdout",
     "output_type": "stream",
     "text": [
      "[[ 9.9574262  10.04942179]\n",
      " [-5.09062547  6.96406452]\n",
      " [ 0.0681967  -0.04311801]]\n"
     ]
    },
    {
     "data": {
      "image/png": "[encoded data removed]",
      "text/plain": [
       "<Figure size 432x288 with 1 Axes>"
      ]
     },
     "metadata": {
      "needs_background": "light"
     },
     "output_type": "display_data"
    }
   ],
   "source": [
    "draw(X, means, ix = 50)"
   ]
  },
  {
   "cell_type": "code",
   "execution_count": null,
   "metadata": {},
   "outputs": [],
   "source": []
  }
 ],
 "metadata": {
  "kernelspec": {
   "display_name": "Python 3",
   "language": "python",
   "name": "python3"
  },
  "language_info": {
   "codemirror_mode": {
    "name": "ipython",
    "version": 3
   },
   "file_extension": ".py",
   "mimetype": "text/x-python",
   "name": "python",
   "nbconvert_exporter": "python",
   "pygments_lexer": "ipython3",
   "version": "3.8.3"
  },
  "toc": {
   "base_numbering": 1,
   "nav_menu": {},
   "number_sections": true,
   "sideBar": true,
   "skip_h1_title": false,
   "title_cell": "Table of Contents",
   "title_sidebar": "Contents",
   "toc_cell": false,
   "toc_position": {},
   "toc_section_display": true,
   "toc_window_display": false
  },
  "varInspector": {
   "cols": {
    "lenName": 16,
    "lenType": 16,
    "lenVar": 40
   },
   "kernels_config": {
    "python": {
     "delete_cmd_postfix": "",
     "delete_cmd_prefix": "del ",
     "library": "var_list.py",
     "varRefreshCmd": "print(var_dic_list())"
    },
    "r": {
     "delete_cmd_postfix": ") ",
     "delete_cmd_prefix": "rm(",
     "library": "var_list.r",
     "varRefreshCmd": "cat(var_dic_list()) "
    }
   },
   "types_to_exclude": [
    "module",
    "function",
    "builtin_function_or_method",
    "instance",
    "_Feature"
   ],
   "window_display": false
  }
 },
 "nbformat": 4,
 "nbformat_minor": 4
}
