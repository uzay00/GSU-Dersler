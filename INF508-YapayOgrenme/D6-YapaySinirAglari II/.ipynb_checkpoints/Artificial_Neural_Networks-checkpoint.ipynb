{
 "cells": [
  {
   "cell_type": "markdown",
   "metadata": {
    "id": "03IvVWyo6loO"
   },
   "source": [
    "# Artificial Neural Networks\n",
    "\n",
    "### Data\n",
    "Composed of $X$ and $y$\n",
    "\n",
    " - X comes with shape $[d \\times n]$ \n",
    " - Each column vector is another unique observation with d features\n",
    " - There is a corresponding real value in vector $y$ with shape $[1 \\times n]$\n",
    "\n",
    " \n",
    "### Architecture of an ANN\n",
    " \n",
    "![](Figures/ANN_Weights.pdf)"
   ]
  },
  {
   "cell_type": "markdown",
   "metadata": {
    "id": "LpgGDGK_6loP"
   },
   "source": [
    "## Forward Propagation\n",
    "\n",
    "$\\hspace{8cm}$ Take the input data (here $d^{[0]} = d$)\n",
    "\n",
    "$$\n",
    "a^{[0]} = X\n",
    "$$\n",
    "\n",
    "$\\hspace{8cm}$ Calculate the outcome of next layer\n",
    "\n",
    "\\begin{equation} \\label{eq1}\n",
    "\\begin{split}\n",
    "z^{[i+1]} & =  W^{[i+1]} a^{[i]} + b^{[i+1]} \\\\\n",
    "a^{[i+1]} & = \\sigma(z^{[i+1]})\n",
    "\\end{split}\n",
    "\\end{equation}\n",
    "\n",
    "\n",
    "\n",
    "\n",
    "\n",
    "__Check Dimensions__\n",
    "\n",
    "> $W^{[1]} a^{[0]}$ with dimensions $[d^{[1]} \\times d^{[0]}]$ and $[d^{[0]} \\times n]$ outputs first hidden layer with dimensions $[d^{[1]} \\times n]$.\n",
    "\n",
    "Similarly\n",
    ">$W^{[i+1]} a^{[i]}$ outputs a vector with shape $[d^{[i+1]} \\times d^{[i]}] \\times [d^{[i]} \\times n] = [d^{[i + 1]} \\times n]$ \n"
   ]
  },
  {
   "cell_type": "markdown",
   "metadata": {
    "id": "KRcdeP5Y6loR"
   },
   "source": [
    "![](Figures/board.JPG)"
   ]
  },
  {
   "cell_type": "markdown",
   "metadata": {
    "id": "O2rVhlTm6loS"
   },
   "source": [
    "# Data\n",
    " - Recruitment Robot"
   ]
  },
  {
   "cell_type": "code",
   "execution_count": 1,
   "metadata": {
    "id": "G4eg44z86loT"
   },
   "outputs": [],
   "source": [
    "import numpy as np\n",
    "import pandas as pd\n",
    "import matplotlib.pyplot as plt\n",
    "import seaborn as sns\n",
    "sns.set()\n",
    "\n",
    "from sklearn.model_selection import train_test_split\n",
    "from sklearn.metrics import accuracy_score, confusion_matrix\n",
    "import requests\n",
    "import io\n",
    "\n",
    "url = \"https://raw.githubusercontent.com/uzay00/KaVe-Egitim/master/ARGE/Sorular/1-İseAlımRobotu/data.csv\"\n",
    "s = requests.get(url).content\n",
    "\n",
    "data = pd.read_csv(io.StringIO(s.decode('utf-8')))\n",
    "M = data.values\n",
    "X = M[:,:-1]\n",
    "y = M[:,-1:]\n",
    "\n",
    "X_train, X_test, y_train, y_test = train_test_split(X, y, test_size=0.33, random_state=42)\n",
    "\n",
    "# For our implemenatation, transposes are needed. \n",
    "X_train, X_test, y_train, y_test = X_train.T, X_test.T, y_train.T, y_test.T"
   ]
  },
  {
   "cell_type": "code",
   "execution_count": 2,
   "metadata": {
    "colab": {
     "base_uri": "https://localhost:8080/"
    },
    "id": "sqYR6jAk6loY",
    "outputId": "3a81ab11-3ff4-40d1-c8f5-845c894b89aa"
   },
   "outputs": [
    {
     "data": {
      "text/plain": [
       "((4, 670), (1, 670))"
      ]
     },
     "execution_count": 2,
     "metadata": {},
     "output_type": "execute_result"
    }
   ],
   "source": [
    "X_train.shape, y_train.shape"
   ]
  },
  {
   "cell_type": "code",
   "execution_count": 3,
   "metadata": {
    "colab": {
     "base_uri": "https://localhost:8080/",
     "height": 206
    },
    "id": "cP0nnYWz6lob",
    "outputId": "d17ae64e-845b-4590-ca5f-8f307d6f5e1a"
   },
   "outputs": [
    {
     "data": {
      "text/html": [
       "\n",
       "  <div id=\"df-64f1ab71-900a-4d25-ad56-28e287814245\">\n",
       "    <div class=\"colab-df-container\">\n",
       "      <div>\n",
       "<style scoped>\n",
       "    .dataframe tbody tr th:only-of-type {\n",
       "        vertical-align: middle;\n",
       "    }\n",
       "\n",
       "    .dataframe tbody tr th {\n",
       "        vertical-align: top;\n",
       "    }\n",
       "\n",
       "    .dataframe thead th {\n",
       "        text-align: right;\n",
       "    }\n",
       "</style>\n",
       "<table border=\"1\" class=\"dataframe\">\n",
       "  <thead>\n",
       "    <tr style=\"text-align: right;\">\n",
       "      <th></th>\n",
       "      <th>age</th>\n",
       "      <th>algorithm</th>\n",
       "      <th>gpa</th>\n",
       "      <th>social</th>\n",
       "      <th>y</th>\n",
       "    </tr>\n",
       "  </thead>\n",
       "  <tbody>\n",
       "    <tr>\n",
       "      <th>0</th>\n",
       "      <td>3.576113</td>\n",
       "      <td>3.728920</td>\n",
       "      <td>0.930603</td>\n",
       "      <td>4.438372</td>\n",
       "      <td>1</td>\n",
       "    </tr>\n",
       "    <tr>\n",
       "      <th>1</th>\n",
       "      <td>1.829891</td>\n",
       "      <td>4.393183</td>\n",
       "      <td>3.137649</td>\n",
       "      <td>4.831307</td>\n",
       "      <td>1</td>\n",
       "    </tr>\n",
       "    <tr>\n",
       "      <th>2</th>\n",
       "      <td>3.981593</td>\n",
       "      <td>4.050717</td>\n",
       "      <td>3.886304</td>\n",
       "      <td>4.865860</td>\n",
       "      <td>1</td>\n",
       "    </tr>\n",
       "    <tr>\n",
       "      <th>3</th>\n",
       "      <td>1.734623</td>\n",
       "      <td>4.605488</td>\n",
       "      <td>2.605315</td>\n",
       "      <td>3.663224</td>\n",
       "      <td>1</td>\n",
       "    </tr>\n",
       "    <tr>\n",
       "      <th>4</th>\n",
       "      <td>2.759050</td>\n",
       "      <td>4.288383</td>\n",
       "      <td>1.894925</td>\n",
       "      <td>3.238931</td>\n",
       "      <td>1</td>\n",
       "    </tr>\n",
       "  </tbody>\n",
       "</table>\n",
       "</div>\n",
       "      <button class=\"colab-df-convert\" onclick=\"convertToInteractive('df-64f1ab71-900a-4d25-ad56-28e287814245')\"\n",
       "              title=\"Convert this dataframe to an interactive table.\"\n",
       "              style=\"display:none;\">\n",
       "        \n",
       "  <svg xmlns=\"http://www.w3.org/2000/svg\" height=\"24px\"viewBox=\"0 0 24 24\"\n",
       "       width=\"24px\">\n",
       "    <path d=\"M0 0h24v24H0V0z\" fill=\"none\"/>\n",
       "    <path d=\"M18.56 5.44l.94 2.06.94-2.06 2.06-.94-2.06-.94-.94-2.06-.94 2.06-2.06.94zm-11 1L8.5 8.5l.94-2.06 2.06-.94-2.06-.94L8.5 2.5l-.94 2.06-2.06.94zm10 10l.94 2.06.94-2.06 2.06-.94-2.06-.94-.94-2.06-.94 2.06-2.06.94z\"/><path d=\"M17.41 7.96l-1.37-1.37c-.4-.4-.92-.59-1.43-.59-.52 0-1.04.2-1.43.59L10.3 9.45l-7.72 7.72c-.78.78-.78 2.05 0 2.83L4 21.41c.39.39.9.59 1.41.59.51 0 1.02-.2 1.41-.59l7.78-7.78 2.81-2.81c.8-.78.8-2.07 0-2.86zM5.41 20L4 18.59l7.72-7.72 1.47 1.35L5.41 20z\"/>\n",
       "  </svg>\n",
       "      </button>\n",
       "      \n",
       "  <style>\n",
       "    .colab-df-container {\n",
       "      display:flex;\n",
       "      flex-wrap:wrap;\n",
       "      gap: 12px;\n",
       "    }\n",
       "\n",
       "    .colab-df-convert {\n",
       "      background-color: #E8F0FE;\n",
       "      border: none;\n",
       "      border-radius: 50%;\n",
       "      cursor: pointer;\n",
       "      display: none;\n",
       "      fill: #1967D2;\n",
       "      height: 32px;\n",
       "      padding: 0 0 0 0;\n",
       "      width: 32px;\n",
       "    }\n",
       "\n",
       "    .colab-df-convert:hover {\n",
       "      background-color: #E2EBFA;\n",
       "      box-shadow: 0px 1px 2px rgba(60, 64, 67, 0.3), 0px 1px 3px 1px rgba(60, 64, 67, 0.15);\n",
       "      fill: #174EA6;\n",
       "    }\n",
       "\n",
       "    [theme=dark] .colab-df-convert {\n",
       "      background-color: #3B4455;\n",
       "      fill: #D2E3FC;\n",
       "    }\n",
       "\n",
       "    [theme=dark] .colab-df-convert:hover {\n",
       "      background-color: #434B5C;\n",
       "      box-shadow: 0px 1px 3px 1px rgba(0, 0, 0, 0.15);\n",
       "      filter: drop-shadow(0px 1px 2px rgba(0, 0, 0, 0.3));\n",
       "      fill: #FFFFFF;\n",
       "    }\n",
       "  </style>\n",
       "\n",
       "      <script>\n",
       "        const buttonEl =\n",
       "          document.querySelector('#df-64f1ab71-900a-4d25-ad56-28e287814245 button.colab-df-convert');\n",
       "        buttonEl.style.display =\n",
       "          google.colab.kernel.accessAllowed ? 'block' : 'none';\n",
       "\n",
       "        async function convertToInteractive(key) {\n",
       "          const element = document.querySelector('#df-64f1ab71-900a-4d25-ad56-28e287814245');\n",
       "          const dataTable =\n",
       "            await google.colab.kernel.invokeFunction('convertToInteractive',\n",
       "                                                     [key], {});\n",
       "          if (!dataTable) return;\n",
       "\n",
       "          const docLinkHtml = 'Like what you see? Visit the ' +\n",
       "            '<a target=\"_blank\" href=https://colab.research.google.com/notebooks/data_table.ipynb>data table notebook</a>'\n",
       "            + ' to learn more about interactive tables.';\n",
       "          element.innerHTML = '';\n",
       "          dataTable['output_type'] = 'display_data';\n",
       "          await google.colab.output.renderOutput(dataTable, element);\n",
       "          const docLink = document.createElement('div');\n",
       "          docLink.innerHTML = docLinkHtml;\n",
       "          element.appendChild(docLink);\n",
       "        }\n",
       "      </script>\n",
       "    </div>\n",
       "  </div>\n",
       "  "
      ],
      "text/plain": [
       "        age  algorithm       gpa    social  y\n",
       "0  3.576113   3.728920  0.930603  4.438372  1\n",
       "1  1.829891   4.393183  3.137649  4.831307  1\n",
       "2  3.981593   4.050717  3.886304  4.865860  1\n",
       "3  1.734623   4.605488  2.605315  3.663224  1\n",
       "4  2.759050   4.288383  1.894925  3.238931  1"
      ]
     },
     "execution_count": 3,
     "metadata": {},
     "output_type": "execute_result"
    }
   ],
   "source": [
    "data.head()"
   ]
  },
  {
   "cell_type": "code",
   "execution_count": 4,
   "metadata": {
    "colab": {
     "base_uri": "https://localhost:8080/"
    },
    "id": "w5Dih2sR6loe",
    "outputId": "2d830389-4103-4cb5-c153-5c9b57e7cd6f"
   },
   "outputs": [
    {
     "data": {
      "text/plain": [
       "0    900\n",
       "1    100\n",
       "Name: y, dtype: int64"
      ]
     },
     "execution_count": 4,
     "metadata": {},
     "output_type": "execute_result"
    }
   ],
   "source": [
    "data.y.value_counts()"
   ]
  },
  {
   "cell_type": "markdown",
   "metadata": {
    "id": "ljFBUQA26loh"
   },
   "source": [
    "## Linear Transformation\n",
    "\n",
    "$$W^{[1]} \\times a^{[0]} = z^{[1]}$$"
   ]
  },
  {
   "cell_type": "code",
   "execution_count": 5,
   "metadata": {
    "colab": {
     "base_uri": "https://localhost:8080/"
    },
    "id": "MAi-TIGh6loh",
    "outputId": "22cff1f9-5b75-4ba7-f393-21ef1a54b9e1"
   },
   "outputs": [
    {
     "data": {
      "text/plain": [
       "(3, 5)"
      ]
     },
     "execution_count": 5,
     "metadata": {},
     "output_type": "execute_result"
    }
   ],
   "source": [
    "W1 = np.random.randint(2, size = (3,5))\n",
    "W1.shape"
   ]
  },
  {
   "cell_type": "code",
   "execution_count": 6,
   "metadata": {
    "colab": {
     "base_uri": "https://localhost:8080/"
    },
    "id": "Pyv4Mjpk6lok",
    "outputId": "11ba1683-8b20-4faa-bc5c-4cb68a9a322b"
   },
   "outputs": [
    {
     "data": {
      "text/plain": [
       "(5, 4)"
      ]
     },
     "execution_count": 6,
     "metadata": {},
     "output_type": "execute_result"
    }
   ],
   "source": [
    "a0 = np.random.randint(2, size = (5,4))\n",
    "a0.shape"
   ]
  },
  {
   "cell_type": "code",
   "execution_count": 7,
   "metadata": {
    "colab": {
     "base_uri": "https://localhost:8080/"
    },
    "id": "XKj1tGFk6loo",
    "outputId": "96dfe541-9f79-4f21-9d5f-23d6c7ccd9f2"
   },
   "outputs": [
    {
     "data": {
      "text/plain": [
       "(3, 4)"
      ]
     },
     "execution_count": 7,
     "metadata": {},
     "output_type": "execute_result"
    }
   ],
   "source": [
    "z1 = W1.dot(a0)\n",
    "z1.shape"
   ]
  },
  {
   "cell_type": "code",
   "execution_count": 8,
   "metadata": {
    "colab": {
     "base_uri": "https://localhost:8080/"
    },
    "id": "koaqXUSJ6loq",
    "outputId": "5db2d6a4-f8a2-4bbc-951d-871489413035"
   },
   "outputs": [
    {
     "name": "stdout",
     "output_type": "stream",
     "text": [
      "(3, 5)  x  (5, 4)  =  (3, 4)\n"
     ]
    }
   ],
   "source": [
    "print(W1.shape , ' x ', a0.shape,  ' = ',z1.shape)"
   ]
  },
  {
   "cell_type": "markdown",
   "metadata": {
    "id": "i4ON2J5H6lot"
   },
   "source": [
    "# Neural Network Architecture"
   ]
  },
  {
   "cell_type": "code",
   "execution_count": 9,
   "metadata": {
    "colab": {
     "base_uri": "https://localhost:8080/"
    },
    "id": "7t4D27Gb6lou",
    "outputId": "c90476c1-0509-4792-93e4-75152c157429"
   },
   "outputs": [
    {
     "name": "stdout",
     "output_type": "stream",
     "text": [
      "weight_dims:  [(6, 4), (6, 6), (1, 6)]\n",
      "bias_dims:  [6, 6, 1]\n"
     ]
    }
   ],
   "source": [
    "layers = [4,6,6,1]\n",
    "\n",
    "weight_dims = list(zip(layers[1:], layers[:-1]))\n",
    "bias_dims = layers[1:]\n",
    "\n",
    "print(\"weight_dims: \", weight_dims)\n",
    "print(\"bias_dims: \", bias_dims)"
   ]
  },
  {
   "cell_type": "code",
   "execution_count": 10,
   "metadata": {
    "colab": {
     "base_uri": "https://localhost:8080/"
    },
    "id": "edBwaHCT6low",
    "outputId": "b9ca915b-3f75-4616-e5ac-74b67683a5f9"
   },
   "outputs": [
    {
     "name": "stdout",
     "output_type": "stream",
     "text": [
      "weights  [array([[-5.95136176e-03, -8.72526068e-03,  3.51001906e-03,\n",
      "        -2.49713031e-02],\n",
      "       [ 1.77030761e-03,  1.90876641e-02, -1.70467431e-03,\n",
      "        -3.95179288e-03],\n",
      "       [ 5.52508507e-03,  8.83471460e-03,  5.85029047e-03,\n",
      "        -1.05700277e-03],\n",
      "       [ 1.21930602e-05, -7.19373220e-03, -5.12881058e-03,\n",
      "         3.38183406e-02],\n",
      "       [ 6.15977882e-03, -6.91112889e-03,  1.30390317e-02,\n",
      "        -2.00034223e-03],\n",
      "       [ 3.90375581e-03, -1.70140264e-02,  7.64309775e-03,\n",
      "        -1.41606243e-03]]), array([[ 1.79105706e-02, -1.07201846e-02, -2.08700360e-03,\n",
      "         6.15802500e-03,  3.98329153e-03, -1.42860230e-02],\n",
      "       [ 4.66410846e-03, -5.08275826e-03,  6.81888539e-03,\n",
      "        -3.10676869e-03,  1.36876312e-02,  5.91755352e-03],\n",
      "       [-4.68766698e-03, -1.21026980e-02, -5.71955055e-03,\n",
      "         1.64690089e-02,  9.02612004e-03,  2.33710864e-03],\n",
      "       [-5.16878077e-03,  4.77685188e-03, -2.26766412e-03,\n",
      "        -1.99173208e-02,  4.12529057e-03,  5.05099555e-03],\n",
      "       [ 1.95482982e-02, -3.43469257e-03,  4.70413480e-03,\n",
      "        -1.66773688e-04,  8.08306810e-04, -3.68370401e-03],\n",
      "       [-2.06364099e-02, -3.71784693e-02,  2.92725415e-03,\n",
      "        -9.17861878e-03, -6.36785038e-05, -2.97626682e-03]]), array([[-0.01753392, -0.00507977, -0.00123304, -0.0044063 ,  0.0025053 ,\n",
      "        -0.00775208]])]\n",
      "biases:  [array([-0.00353105, -0.00042662,  0.01035694,  0.0117134 , -0.01166153,\n",
      "        0.00211366]), array([ 0.00183856, -0.01473758,  0.00877412,  0.00730233,  0.00477409,\n",
      "       -0.00255874]), array([0.00542635])]\n"
     ]
    }
   ],
   "source": [
    "weights = [np.random.randn(n,d)/100 for n,d in weight_dims]\n",
    "biases = [np.random.randn(d)/100 for d in bias_dims]\n",
    "\n",
    "print(\"weights \", weights)\n",
    "print(\"biases: \", biases)"
   ]
  },
  {
   "cell_type": "markdown",
   "metadata": {
    "id": "tIbHa4KO6loy"
   },
   "source": [
    "# Forward Propagation"
   ]
  },
  {
   "cell_type": "code",
   "execution_count": 11,
   "metadata": {
    "colab": {
     "base_uri": "https://localhost:8080/"
    },
    "id": "MGSVPhFX6loy",
    "outputId": "e3aaae6d-9e6c-4a51-8131-e5d0d8e4bda8"
   },
   "outputs": [
    {
     "data": {
      "text/plain": [
       "((6, 4), (4, 670))"
      ]
     },
     "execution_count": 11,
     "metadata": {},
     "output_type": "execute_result"
    }
   ],
   "source": [
    "weights[0].shape, X_train.shape"
   ]
  },
  {
   "cell_type": "code",
   "execution_count": 12,
   "metadata": {
    "id": "EwDjBj586lo0"
   },
   "outputs": [],
   "source": [
    "def sigmoid(z):\n",
    "    return 1 / (1 + np.exp(-z))\n",
    "\n",
    "def derivative_sigmoid(z):\n",
    "    s = sigmoid(z)\n",
    "    return s * (1.0-s)"
   ]
  },
  {
   "cell_type": "code",
   "execution_count": 13,
   "metadata": {
    "id": "Xaw8ZiUt6lo2"
   },
   "outputs": [],
   "source": [
    "a = X_train\n",
    "for i in range(len(weights)):\n",
    "    W = weights[i]\n",
    "    b = biases[i]\n",
    "    z = W.dot(a) + b.reshape(-1,1)\n",
    "    a = sigmoid(z)"
   ]
  },
  {
   "cell_type": "code",
   "execution_count": 14,
   "metadata": {
    "colab": {
     "base_uri": "https://localhost:8080/"
    },
    "id": "ctYFzLKf6lo4",
    "outputId": "eafbddaa-96cc-4a68-aa94-e67ce4530301"
   },
   "outputs": [
    {
     "data": {
      "text/plain": [
       "((1, 670), (1, 670))"
      ]
     },
     "execution_count": 14,
     "metadata": {},
     "output_type": "execute_result"
    }
   ],
   "source": [
    "a.shape, y_train.shape"
   ]
  },
  {
   "cell_type": "markdown",
   "metadata": {
    "id": "RVS6E7UT6lo5"
   },
   "source": [
    "## Calculate Error"
   ]
  },
  {
   "cell_type": "code",
   "execution_count": 15,
   "metadata": {
    "id": "xFbrOYkP6lo6"
   },
   "outputs": [],
   "source": [
    "def cross_entropy_loss(a, y):\n",
    "    cost = - (y* np.log(a) + (1 - y) * (np.log(1 - a)))\n",
    "    return cost"
   ]
  },
  {
   "cell_type": "code",
   "execution_count": 16,
   "metadata": {
    "id": "pWT5IQHh6lo7"
   },
   "outputs": [],
   "source": [
    "#cross_entropy_loss(a, y_train)"
   ]
  },
  {
   "cell_type": "markdown",
   "metadata": {
    "id": "wzsgNYOK6lo8"
   },
   "source": [
    "## $\\hspace{7cm}$Backward Propagation\n",
    "\n",
    "#### $\\hspace{8cm}$Vectorized Cost Function \n",
    "$$\n",
    "J =  \\frac{1}{n}( - y \\log a^{[i+1]}  - (1 - y) \\log (1 - a^{[i+1]}))\n",
    "$$\n",
    "\n",
    "#### $\\hspace{8cm}$Error at last layer to backpropagate\n",
    "\n",
    "\\begin{equation} \n",
    "\\begin{split}\n",
    "dz^{[i+1]}\n",
    "&= \\frac{\\partial J}{\\partial z^{[i+1]}} &= \\frac{\\partial J}{\\partial a^{[i+1]}}  \\frac{\\partial a^{[i+1]}}{\\partial z^{[i+1]}}  \\\\\n",
    "& &= \\frac{1}{n} \\left( \\frac{-y}{a^{[i+1]}} - (-1) \\frac{1-y}{1- a^{[i+1]}}\\right)  \\frac{\\partial a^{[i+1]}}{\\partial z^{[i+1]}}\\\\\n",
    "& &= \\frac{1}{n} \\left( \\frac{a^{[i+1]}-y}{a^{[i+1]}(1-a^{[i+1]})}\\right) \\left(a^{[i+1]}(1-a^{[i+1]})\\right)\\\\\n",
    "& &= \\frac{1}{n}  \\left(a^{[i+1]}-y\\right)\n",
    "\\end{split}\n",
    "\\end{equation}\n",
    "\n",
    "$\\hspace{8cm}$ __In python:__ `dz = np.mean(a-y)`\n"
   ]
  },
  {
   "cell_type": "markdown",
   "metadata": {
    "id": "4uMFzhOe6lo8"
   },
   "source": [
    "### $\\hspace{7cm}$Backpropagate to previous layer\n",
    "### $\\hspace{8cm}$Forward\n",
    "\\begin{equation} \n",
    "\\begin{split}\n",
    "a^{[i]} \n",
    "&= \\sigma(z^{[i]})\\\\\n",
    "z^{[i+1]} \n",
    "&=  W^{[i+1]} a^{[i]} + b^{[i+1]} \\\\\n",
    "\\end{split}\n",
    "\\end{equation}\n",
    "\n",
    "### $\\hspace{8cm}$Backward\n",
    "\n",
    "\\begin{equation} \n",
    "\\begin{split}\n",
    "dz^{[i]} \n",
    "&= \\frac{\\partial J}{\\partial z^{[i]}} &=   \\frac{\\partial J}{\\partial z^{[i+1]}} \\frac{\\partial z^{[i+1]}}{\\partial a^{[i]}} \\frac{\\partial a^{[i]}}{\\partial z^{[i]}}\\\\\n",
    "& &= \\left(  \\left(W^{[i+1]}\\right)^{T} dz^{[i+1]} \\right)  \\sigma'(z^{[i]})\\\\\n",
    "\\end{split}\n",
    "\\end{equation}\n",
    "\n",
    "$\\hspace{8cm}$ __In python:__ `dz = np.dot(W.T , dz) * derivative_sigma(z)` \n",
    "\n",
    "##### $\\hspace{8cm}$ Dimension Check\n",
    "\n",
    "\\begin{equation} \n",
    "\\begin{split}\n",
    "W^{[i+1]} & \\rightarrow & \\;[d^{[i+1]}, d^{[i]}] \\\\\n",
    "dz^{[i+1]} & \\rightarrow & \\;[d^{[i+1]}, 1] \\\\\n",
    "z^{[i]} & \\rightarrow & \\;[d^{[i]},1] \\\\\n",
    "\\end{split}\n",
    "\\end{equation}"
   ]
  },
  {
   "cell_type": "code",
   "execution_count": 16,
   "metadata": {
    "id": "Oe__ADBM6lo9"
   },
   "outputs": [],
   "source": []
  },
  {
   "cell_type": "markdown",
   "metadata": {
    "id": "O7Xtr0yC6lo-"
   },
   "source": [
    "## Backward Propagation\n",
    "\n",
    "####  Cost Function for one example\n",
    "$$\n",
    "J =  - y_{i} \\log a_{i}  - (1 - y_{i}) \\log (1 - a))\n",
    "$$\n"
   ]
  },
  {
   "cell_type": "markdown",
   "metadata": {
    "id": "N_z7wXrK6lo_"
   },
   "source": [
    "### Architecture of an ANN\n",
    " \n",
    "![](Figures/ANN_Weights.pdf)"
   ]
  },
  {
   "cell_type": "markdown",
   "metadata": {
    "id": "Uu2MNMkx6lo_"
   },
   "source": [
    "#### Error at last layer to backpropagate\n",
    "For one example\n",
    "\\begin{equation} \n",
    "\\begin{split}\n",
    "dz \n",
    "&= \\frac{\\partial J}{\\partial z} &= \\frac{\\partial J}{\\partial a}  \\frac{\\partial a}{\\partial z}  \\\\\n",
    "& &= \\frac{a-y}{a(1-a)} a(1-a)\\\\\n",
    "& &= a-y\n",
    "\\end{split}\n",
    "\\end{equation}\n",
    "\n",
    "Error for whole dataset\n",
    "\\begin{equation} \n",
    "\\begin{split}\n",
    "dz \n",
    "&= np.mean(a-y)\n",
    "\\end{split}\n",
    "\\end{equation}"
   ]
  },
  {
   "cell_type": "markdown",
   "metadata": {
    "id": "HCwlYhu36lo_"
   },
   "source": [
    "#### Backward Propagation\n",
    "\\begin{equation} \n",
    "\\begin{split}\n",
    "dz^{[i]} \n",
    "&= \\frac{\\partial J}{\\partial z^{[i]}} &=   \\frac{\\partial J}{\\partial z^{[i+1]}} \\frac{\\partial z^{[i+1]}}{\\partial a^{[i]}} \\frac{\\partial a^{[i]}}{\\partial z^{[i]}}\\\\\n",
    "& &= dz^{[i+1]} W^{[i+1]}  \\sigma'(z^{[i]})\\\\\n",
    "& &= np.dot(W^{[i+1]}.T, dz^{[i+1]}) \\sigma'(z^{[i]})\n",
    "\\end{split}\n",
    "\\end{equation}\n",
    "\n",
    "#### Update Parameters\n",
    "\n",
    "$\\hspace{8cm}$ Weight update\n",
    "\n",
    "\\begin{equation} \n",
    "\\begin{split}\n",
    "\\frac{\\partial J}{\\partial W^{[i+1]}} \n",
    "&= \\frac{\\partial J}{\\partial z^{[i+1]}} \\frac{\\partial z^{[i+1]}}{\\partial W^{[i+1]}} \\\\\n",
    "&= dz^{[i+1]} a^{[i]}.T \\\\\n",
    "\\end{split}\n",
    "\\end{equation}\n",
    "\n",
    "$\\hspace{8cm}$ Bias update\n",
    "\n",
    "\\begin{equation} \n",
    "\\begin{split}\n",
    "\\frac{\\partial J}{\\partial b^{[i+1]}} \n",
    "&= \\frac{\\partial J}{\\partial z^{[i+1]}} \\frac{\\partial z^{[i+1]}}{\\partial b^{[i+1]}} \\\\\n",
    "&= dz^{[i+1]}\\\\\n",
    "\\end{split}\n",
    "\\end{equation}\n",
    "\n",
    "\n",
    "#### Key to backprogation\n",
    "\n",
    "\\begin{equation} \n",
    "\\begin{split}\n",
    "dz^{[i+1]}\n",
    "&= \n",
    "\\frac{\\partial J}{\\partial z^{[i+1]}} \\\\\n",
    "\\end{split}\n",
    "\\end{equation}"
   ]
  },
  {
   "cell_type": "code",
   "execution_count": 17,
   "metadata": {
    "id": "EBPOqK2O6lo_"
   },
   "outputs": [],
   "source": [
    "# forward propagation\n",
    "a = X_train\n",
    "cache = {'a0':a}\n",
    "for i in range(len(weights)):\n",
    "    W = weights[i]\n",
    "    b = biases[i]\n",
    "    z = W.dot(a) + b.reshape(-1,1)\n",
    "    a = sigmoid(z)\n",
    "    \n",
    "    cache[f'W{i+1}'] = W\n",
    "    cache[f'b{i+1}'] = b\n",
    "    cache[f'a{i+1}'] = a\n",
    "    cache[f'z{i+1}'] = z"
   ]
  },
  {
   "cell_type": "code",
   "execution_count": 18,
   "metadata": {
    "colab": {
     "base_uri": "https://localhost:8080/"
    },
    "id": "NTOAaAsC6lpB",
    "outputId": "4cc1ec3b-87a7-4988-9d09-bfef0ce63731"
   },
   "outputs": [
    {
     "data": {
      "text/plain": [
       "[('a0', (4, 670)),\n",
       " ('W1', (6, 4)),\n",
       " ('b1', (6,)),\n",
       " ('a1', (6, 670)),\n",
       " ('z1', (6, 670)),\n",
       " ('W2', (6, 6)),\n",
       " ('b2', (6,)),\n",
       " ('a2', (6, 670)),\n",
       " ('z2', (6, 670)),\n",
       " ('W3', (1, 6)),\n",
       " ('b3', (1,)),\n",
       " ('a3', (1, 670)),\n",
       " ('z3', (1, 670))]"
      ]
     },
     "execution_count": 18,
     "metadata": {},
     "output_type": "execute_result"
    }
   ],
   "source": [
    "[(key, cache[key].shape) for key in cache.keys()]"
   ]
  },
  {
   "cell_type": "markdown",
   "metadata": {
    "id": "H-uZQ8eT6lpC"
   },
   "source": [
    "<figure> \n",
    "    <img src=\"Figures/w3.png\" alt=\"flamingo\", width=\"340\"> \n",
    "    <figcaption><i>fig. 1</i> Update on last weight matrix</figcaption> \n",
    "</figure>\n"
   ]
  },
  {
   "cell_type": "code",
   "execution_count": 19,
   "metadata": {
    "colab": {
     "base_uri": "https://localhost:8080/"
    },
    "id": "s40ttnqa6lpC",
    "outputId": "6806ae49-f8f3-4fe6-cc03-49f2c18297df"
   },
   "outputs": [
    {
     "data": {
      "text/plain": [
       "(1, 670)"
      ]
     },
     "execution_count": 19,
     "metadata": {},
     "output_type": "execute_result"
    }
   ],
   "source": [
    "# dz[3]\n",
    "dz = cache['a3'] - y_train ## Error at last layer\n",
    "dz.shape"
   ]
  },
  {
   "cell_type": "code",
   "execution_count": 20,
   "metadata": {
    "colab": {
     "base_uri": "https://localhost:8080/"
    },
    "id": "pij8m6C06lpD",
    "outputId": "27f62387-03d5-415d-85b6-2ee564ee4e15"
   },
   "outputs": [
    {
     "data": {
      "text/plain": [
       "array([0.40166404])"
      ]
     },
     "execution_count": 20,
     "metadata": {},
     "output_type": "execute_result"
    }
   ],
   "source": [
    "db = dz.mean(axis = 1)\n",
    "db"
   ]
  },
  {
   "cell_type": "code",
   "execution_count": 21,
   "metadata": {
    "colab": {
     "base_uri": "https://localhost:8080/"
    },
    "id": "Im2Ukf9h6lpF",
    "outputId": "97d133f6-d96f-4558-c782-00827d03a347"
   },
   "outputs": [
    {
     "data": {
      "text/plain": [
       "((6, 670), (1, 670))"
      ]
     },
     "execution_count": 21,
     "metadata": {},
     "output_type": "execute_result"
    }
   ],
   "source": [
    "cache['a2'].shape, cache['z3'].shape"
   ]
  },
  {
   "cell_type": "code",
   "execution_count": 22,
   "metadata": {
    "colab": {
     "base_uri": "https://localhost:8080/"
    },
    "id": "eoLBqbQO6lpG",
    "outputId": "dc2554e6-08a2-430d-efca-cffb24ffa0dc"
   },
   "outputs": [
    {
     "data": {
      "text/plain": [
       "((1, 6), (1, 6))"
      ]
     },
     "execution_count": 22,
     "metadata": {},
     "output_type": "execute_result"
    }
   ],
   "source": [
    "dw = dz.dot(cache['a2'].T)\n",
    "dw.shape, cache['W3'].shape"
   ]
  },
  {
   "cell_type": "code",
   "execution_count": 23,
   "metadata": {
    "id": "OLkv2hqn6lpH"
   },
   "outputs": [],
   "source": [
    "## Learning rate\n",
    "alpha = 0.01"
   ]
  },
  {
   "cell_type": "code",
   "execution_count": 24,
   "metadata": {
    "colab": {
     "base_uri": "https://localhost:8080/"
    },
    "id": "FjB4i9P86lpI",
    "outputId": "0c9f4db4-e160-4af6-b1e8-793ac8fb1afb"
   },
   "outputs": [
    {
     "data": {
      "text/plain": [
       "(1, 6)"
      ]
     },
     "execution_count": 24,
     "metadata": {},
     "output_type": "execute_result"
    }
   ],
   "source": [
    "cache['W3'] = cache['W3'] - alpha * dw \n",
    "cache['W3'].shape"
   ]
  },
  {
   "cell_type": "code",
   "execution_count": 25,
   "metadata": {
    "colab": {
     "base_uri": "https://localhost:8080/"
    },
    "id": "7yf_Rh106lpJ",
    "outputId": "8d54859b-2dc6-4a94-f9d2-9fe9813a7b1c"
   },
   "outputs": [
    {
     "data": {
      "text/plain": [
       "(1,)"
      ]
     },
     "execution_count": 25,
     "metadata": {},
     "output_type": "execute_result"
    }
   ],
   "source": [
    "cache['b3'] = cache['b3'] - alpha * db\n",
    "cache['b3'].shape"
   ]
  },
  {
   "cell_type": "markdown",
   "metadata": {
    "id": "QSxUj9mZ6lpK"
   },
   "source": [
    "<figure> \n",
    "    <img src=\"Figures/w3.png\" alt=\"flamingo\", width=\"340\"> \n",
    "    <figcaption><i>fig. 1</i> Update on last weight matrix</figcaption> \n",
    "</figure>\n",
    "\n",
    "#### Backward Propagation\n",
    "\\begin{equation} \n",
    "\\begin{split}\n",
    "dz^{[i]} = np.dot(W^{[i+1]}.T, dz^{[i+1]}) \\sigma'(z^{[i]})\n",
    "\\end{split}\n",
    "\\end{equation}\n",
    "\n",
    "\n"
   ]
  },
  {
   "cell_type": "code",
   "execution_count": 26,
   "metadata": {
    "colab": {
     "base_uri": "https://localhost:8080/"
    },
    "id": "UxchULn-6lpK",
    "outputId": "c15c4ce7-1233-421a-f140-812b6c2596db"
   },
   "outputs": [
    {
     "data": {
      "text/plain": [
       "(1, 670)"
      ]
     },
     "execution_count": 26,
     "metadata": {},
     "output_type": "execute_result"
    }
   ],
   "source": [
    "dz.shape"
   ]
  },
  {
   "cell_type": "code",
   "execution_count": 27,
   "metadata": {
    "colab": {
     "base_uri": "https://localhost:8080/"
    },
    "id": "L68vTton6lpL",
    "outputId": "b5ba5e18-64ef-41cc-9248-4920ffa275e9"
   },
   "outputs": [
    {
     "data": {
      "text/plain": [
       "(6, 670)"
      ]
     },
     "execution_count": 27,
     "metadata": {},
     "output_type": "execute_result"
    }
   ],
   "source": [
    "# bacpropagate from d[z3] to d[z2]\n",
    "dz = np.dot(cache['W3'].T, dz) * derivative_sigmoid(cache['z2'])\n",
    "dz.shape"
   ]
  },
  {
   "cell_type": "markdown",
   "metadata": {
    "id": "ekBwvsKS6lpM"
   },
   "source": [
    "<figure> \n",
    "    <img src=\"Figures/w2.png\" alt=\"flamingo\", width=\"340\"> \n",
    "    <figcaption><i>fig. 1</i> Update on previous layer</figcaption> \n",
    "</figure>\n",
    "\n",
    "#### Update Parameters\n",
    "\n",
    "Weight update\n",
    "\n",
    "\\begin{equation} \n",
    "\\begin{split}\n",
    "\\frac{\\partial J}{\\partial W^{[i+1]}} \n",
    "&= dz^{[i+1]} a^{[i]}.T \\\\\n",
    "\\end{split}\n",
    "\\end{equation}\n",
    "\n",
    "Bias update\n",
    "\n",
    "\\begin{equation} \n",
    "\\begin{split}\n",
    "\\frac{\\partial J}{\\partial b^{[i+1]}} \n",
    "&= dz^{[i+1]}\\\\\n",
    "\\end{split}\n",
    "\\end{equation}"
   ]
  },
  {
   "cell_type": "code",
   "execution_count": 28,
   "metadata": {
    "colab": {
     "base_uri": "https://localhost:8080/"
    },
    "id": "R5dSaPEm6lpM",
    "outputId": "bf856c23-6f93-4890-fb46-d09178b6d08b"
   },
   "outputs": [
    {
     "data": {
      "text/plain": [
       "((6, 670), (6, 670))"
      ]
     },
     "execution_count": 28,
     "metadata": {},
     "output_type": "execute_result"
    }
   ],
   "source": [
    "dz.shape, cache['a2'].shape"
   ]
  },
  {
   "cell_type": "code",
   "execution_count": 29,
   "metadata": {
    "colab": {
     "base_uri": "https://localhost:8080/"
    },
    "id": "yD4Uqdtl6lpN",
    "outputId": "a5178308-6c6d-4c5f-d90d-fc0444282162"
   },
   "outputs": [
    {
     "data": {
      "text/plain": [
       "(6, 6)"
      ]
     },
     "execution_count": 29,
     "metadata": {},
     "output_type": "execute_result"
    }
   ],
   "source": [
    "dw = dz.dot(cache['a1'].T)\n",
    "dw.shape"
   ]
  },
  {
   "cell_type": "code",
   "execution_count": 30,
   "metadata": {
    "colab": {
     "base_uri": "https://localhost:8080/"
    },
    "id": "JyCf_bUZ6lpP",
    "outputId": "9bafb964-fa6c-4d31-e173-bdf9e0464bb1"
   },
   "outputs": [
    {
     "data": {
      "text/plain": [
       "(6, 6)"
      ]
     },
     "execution_count": 30,
     "metadata": {},
     "output_type": "execute_result"
    }
   ],
   "source": [
    "cache['W2'] = cache['W2'] - alpha * dw \n",
    "cache['W2'].shape"
   ]
  },
  {
   "cell_type": "code",
   "execution_count": 31,
   "metadata": {
    "colab": {
     "base_uri": "https://localhost:8080/"
    },
    "id": "QXO-ddXZ6lpQ",
    "outputId": "773e81dc-d907-4ccd-b993-5f83ce325117"
   },
   "outputs": [
    {
     "data": {
      "text/plain": [
       "(6,)"
      ]
     },
     "execution_count": 31,
     "metadata": {},
     "output_type": "execute_result"
    }
   ],
   "source": [
    "db = dz.mean(axis = 1)\n",
    "db.shape"
   ]
  },
  {
   "cell_type": "code",
   "execution_count": 32,
   "metadata": {
    "colab": {
     "base_uri": "https://localhost:8080/"
    },
    "id": "NY3Fo5Rr6lpR",
    "outputId": "8989ed89-2552-43c9-f796-bcf29cf40e46"
   },
   "outputs": [
    {
     "data": {
      "text/plain": [
       "(6,)"
      ]
     },
     "execution_count": 32,
     "metadata": {},
     "output_type": "execute_result"
    }
   ],
   "source": [
    "cache['b2'] = cache['b2'] - alpha * db\n",
    "cache['b2'].shape"
   ]
  },
  {
   "cell_type": "markdown",
   "metadata": {
    "id": "3uCtBE4Q6lpS"
   },
   "source": [
    "\n",
    "#### Backward Propagation\n",
    "\\begin{equation} \n",
    "\\begin{split}\n",
    "dz^{[i]} = np.dot(W^{[i+1]}.T, dz^{[i+1]}) \\sigma'(z^{[i]})\n",
    "\\end{split}\n",
    "\\end{equation}\n",
    "\n",
    "\n"
   ]
  },
  {
   "cell_type": "code",
   "execution_count": 33,
   "metadata": {
    "colab": {
     "base_uri": "https://localhost:8080/"
    },
    "id": "R811LFRG6lpS",
    "outputId": "4e862a1d-f39d-4ee3-a18e-970c2f34266b"
   },
   "outputs": [
    {
     "data": {
      "text/plain": [
       "(6, 670)"
      ]
     },
     "execution_count": 33,
     "metadata": {},
     "output_type": "execute_result"
    }
   ],
   "source": [
    "dz.shape"
   ]
  },
  {
   "cell_type": "code",
   "execution_count": 34,
   "metadata": {
    "colab": {
     "base_uri": "https://localhost:8080/"
    },
    "id": "H5mRDoB16lpT",
    "outputId": "c52241cd-4df0-4300-876c-3db4da9817ac"
   },
   "outputs": [
    {
     "data": {
      "text/plain": [
       "(6, 670)"
      ]
     },
     "execution_count": 34,
     "metadata": {},
     "output_type": "execute_result"
    }
   ],
   "source": [
    "# bacpropagate from d[z2] to d[z1]\n",
    "dz = np.dot(cache['W2'].T, dz) * derivative_sigmoid(cache['z1'])\n",
    "dz.shape"
   ]
  },
  {
   "cell_type": "markdown",
   "metadata": {
    "id": "1Of5PFPq6lpU"
   },
   "source": [
    "<figure> \n",
    "    <img src=\"Figures/w1.png\" alt=\"flamingo\", width=\"340\"> \n",
    "    <figcaption><i>fig. 1</i> Update on previous layer</figcaption> \n",
    "</figure>\n",
    "\n",
    "\n",
    "#### Update Parameters\n",
    "\n",
    "Weight update\n",
    "\n",
    "\\begin{equation} \n",
    "\\begin{split}\n",
    "\\frac{\\partial J}{\\partial W^{[i+1]}} \n",
    "&= dz^{[i+1]} a^{[i]}.T \\\\\n",
    "\\end{split}\n",
    "\\end{equation}\n",
    "\n",
    "Bias update\n",
    "\n",
    "\\begin{equation} \n",
    "\\begin{split}\n",
    "\\frac{\\partial J}{\\partial b^{[i+1]}} \n",
    "&= dz^{[i+1]}\\\\\n",
    "\\end{split}\n",
    "\\end{equation}"
   ]
  },
  {
   "cell_type": "code",
   "execution_count": 35,
   "metadata": {
    "colab": {
     "base_uri": "https://localhost:8080/"
    },
    "id": "3Sso1fD76lpU",
    "outputId": "cf1beeee-78b7-4aa7-9261-b5f485685530"
   },
   "outputs": [
    {
     "data": {
      "text/plain": [
       "(6, 4)"
      ]
     },
     "execution_count": 35,
     "metadata": {},
     "output_type": "execute_result"
    }
   ],
   "source": [
    "dw = dz.dot(cache['a0'].T)\n",
    "dw.shape"
   ]
  },
  {
   "cell_type": "code",
   "execution_count": 36,
   "metadata": {
    "colab": {
     "base_uri": "https://localhost:8080/"
    },
    "id": "jkmokL5j6lpV",
    "outputId": "a770bb21-7732-481b-b1cf-9faca5043bf8"
   },
   "outputs": [
    {
     "data": {
      "text/plain": [
       "(6, 4)"
      ]
     },
     "execution_count": 36,
     "metadata": {},
     "output_type": "execute_result"
    }
   ],
   "source": [
    "cache['W1'] = cache['W1'] - alpha * dw \n",
    "cache['W1'].shape"
   ]
  },
  {
   "cell_type": "code",
   "execution_count": 37,
   "metadata": {
    "colab": {
     "base_uri": "https://localhost:8080/"
    },
    "id": "ThJypoBQ6lpW",
    "outputId": "68527a54-7695-425a-d068-6fe93bb11a91"
   },
   "outputs": [
    {
     "data": {
      "text/plain": [
       "(6,)"
      ]
     },
     "execution_count": 37,
     "metadata": {},
     "output_type": "execute_result"
    }
   ],
   "source": [
    "db = dz.mean(axis = 1)\n",
    "db.shape"
   ]
  },
  {
   "cell_type": "code",
   "execution_count": 38,
   "metadata": {
    "colab": {
     "base_uri": "https://localhost:8080/"
    },
    "id": "BAh8o3Nt6lpX",
    "outputId": "45138d73-360f-4780-bc3b-5e10766ddca8"
   },
   "outputs": [
    {
     "data": {
      "text/plain": [
       "(6,)"
      ]
     },
     "execution_count": 38,
     "metadata": {},
     "output_type": "execute_result"
    }
   ],
   "source": [
    "cache['b2'] = cache['b2'] - alpha * db\n",
    "cache['b2'].shape"
   ]
  },
  {
   "cell_type": "markdown",
   "metadata": {
    "id": "DCq_HmBQ6lpY"
   },
   "source": [
    "# ANN From Scratch"
   ]
  },
  {
   "cell_type": "code",
   "execution_count": 39,
   "metadata": {
    "id": "ViFwUimM6lpY"
   },
   "outputs": [],
   "source": [
    "def cross_entropy_loss(a, y):\n",
    "    cost = - np.mean(y * np.log(a) + (1 - a) * np.log(1 - a))\n",
    "    return np.squeeze(cost)\n",
    "\n",
    "def sigmoid(z):\n",
    "    return 1 / (1 + np.exp(-z))\n",
    "\n",
    "def derivative_sigmoid(z):\n",
    "    s = sigmoid(z)\n",
    "    return s * (1.0-s)\n",
    "\n",
    "def construct(layers = [4,6,6,1]):\n",
    "    weight_dims = list(zip(layers[1:], layers[:-1]))\n",
    "    bias_dims = layers[1:]\n",
    "\n",
    "    weights = [np.random.randn(n,d)/100.0 for n,d in weight_dims]\n",
    "    biases = [np.random.randn(d,1)/100.0 for d in bias_dims]\n",
    "    \n",
    "    return weights, biases\n",
    "\n",
    "def forward_propagation(X_train, weights, biases):\n",
    "    # forward propagation\n",
    "    a = X_train\n",
    "    cache = {'a0':a}\n",
    "    for i in range(len(weights)):\n",
    "        W = weights[i]\n",
    "        b = biases[i]\n",
    "        z = W.dot(a) + b\n",
    "        a = sigmoid(z)\n",
    "\n",
    "        cache[f'W{i+1}'] = W\n",
    "        cache[f'b{i+1}'] = b\n",
    "        cache[f'a{i+1}'] = a\n",
    "        cache[f'z{i+1}'] = z\n",
    "    return cache\n",
    "\n",
    "def backward_propagation(X_train, y_train, weights, biases,alpha = 0.01, epochs = 1000):\n",
    "    cache = forward_propagation(X_train, weights, biases)\n",
    "    last = len(cache)//4 \n",
    "    n = X_train.shape[1]\n",
    "    \n",
    "    loss = cross_entropy_loss(cache[f'a{last}'], y_train)\n",
    "    J = [loss]\n",
    "\n",
    "    for epoch in range(epochs):\n",
    "        dz = cache[f'a{last}'] - y_train # d[z3]\n",
    "        for i in range(last,0,-1):\n",
    "            db = dz.mean()\n",
    "            dw = dz.dot(cache[f'a{i-1}'].T)/n\n",
    "\n",
    "            # Gradient Descent\n",
    "            cache[f'W{i}'] = cache[f'W{i}'] - alpha * dw \n",
    "            cache[f'b{i}'] = cache[f'b{i}'] - alpha * db\n",
    "\n",
    "            # backpropagate from d[z3] to d[z2]\n",
    "            if i == 1: break\n",
    "            dz = np.dot(cache[f'W{i}'].T, dz) * derivative_sigmoid(cache[f'z{i-1}'])\n",
    "\n",
    "        weights = [cache[f'W{i+1}'] for i in range(len(cache)//4)]\n",
    "        biases = [cache[f'b{i+1}'] for i in range(len(cache)//4)]\n",
    "\n",
    "        cache = forward_propagation(X_train, weights, biases)\n",
    "        loss = cross_entropy_loss(cache[f'a{last}'], y_train)\n",
    "        J.append(loss)\n",
    "    return cache, J\n",
    "\n",
    "def predict(X_test, cache):\n",
    "    last = len(cache)//4\n",
    "    \n",
    "    weights = [cache[f'W{i+1}'] for i in range(last)]\n",
    "    biases = [cache[f'b{i+1}'] for i in range(last)]\n",
    "    \n",
    "    new_cache = forward_propagation(X_test, weights, biases)\n",
    "    a = new_cache[f'a{last}']\n",
    "    \n",
    "    return (a > 0.5) + 0"
   ]
  },
  {
   "cell_type": "markdown",
   "metadata": {
    "id": "NJRSE0JB6lpZ"
   },
   "source": [
    "# Test"
   ]
  },
  {
   "cell_type": "code",
   "execution_count": 40,
   "metadata": {
    "colab": {
     "base_uri": "https://localhost:8080/",
     "height": 338
    },
    "id": "tyyy4OPG6lpZ",
    "outputId": "c1644cd1-5f7c-4715-9b08-885aaff861fa"
   },
   "outputs": [
    {
     "name": "stdout",
     "output_type": "stream",
     "text": [
      "[[294   0]\n",
      " [  2  34]]\n"
     ]
    },
    {
     "data": {
      "text/plain": [
       "Text(0, 0.5, 'Loss J')"
      ]
     },
     "execution_count": 40,
     "metadata": {},
     "output_type": "execute_result"
    },
    {
     "data": {
      "image/png": "[encoded data removed]",
      "text/plain": [
       "<Figure size 432x288 with 1 Axes>"
      ]
     },
     "metadata": {
      "needs_background": "light"
     },
     "output_type": "display_data"
    }
   ],
   "source": [
    "weights, biases = construct(layers = [4,1] )\n",
    "cache, J = backward_propagation(X_train, y_train, weights, biases, alpha = 0.1, epochs = 1000)\n",
    "\n",
    "y_pred = predict(X_test, cache)\n",
    "print(confusion_matrix(y_test[0], y_pred[0]))\n",
    "\n",
    "plt.plot(J);plt.xlabel('Epoch');plt.ylabel('Loss J')"
   ]
  },
  {
   "cell_type": "code",
   "execution_count": 41,
   "metadata": {
    "colab": {
     "base_uri": "https://localhost:8080/"
    },
    "id": "-GB2E13y6lpa",
    "outputId": "96448324-5211-4784-9a68-724054247904"
   },
   "outputs": [
    {
     "data": {
      "text/plain": [
       "[('a0', (4, 670)),\n",
       " ('W1', (1, 4)),\n",
       " ('b1', (1, 1)),\n",
       " ('a1', (1, 670)),\n",
       " ('z1', (1, 670))]"
      ]
     },
     "execution_count": 41,
     "metadata": {},
     "output_type": "execute_result"
    }
   ],
   "source": [
    "[(key, cache[key].shape) for key in cache.keys()]"
   ]
  },
  {
   "cell_type": "code",
   "execution_count": 42,
   "metadata": {
    "colab": {
     "base_uri": "https://localhost:8080/",
     "height": 338
    },
    "id": "zztlnjA86lpb",
    "outputId": "291f5d98-f2c1-4d22-9144-050cf694727d"
   },
   "outputs": [
    {
     "name": "stdout",
     "output_type": "stream",
     "text": [
      "[[294   0]\n",
      " [  2  34]]\n"
     ]
    },
    {
     "data": {
      "text/plain": [
       "Text(0, 0.5, 'Loss J')"
      ]
     },
     "execution_count": 42,
     "metadata": {},
     "output_type": "execute_result"
    },
    {
     "data": {
      "image/png": "[encoded data removed]",
      "text/plain": [
       "<Figure size 432x288 with 1 Axes>"
      ]
     },
     "metadata": {
      "needs_background": "light"
     },
     "output_type": "display_data"
    }
   ],
   "source": [
    "weights, biases = construct(layers = [4,6,1] )\n",
    "cache, J = backward_propagation(X_train, y_train, weights, biases, alpha = 0.1, epochs = 1000)\n",
    "\n",
    "y_pred = predict(X_test, cache)\n",
    "print(confusion_matrix(y_test[0], y_pred[0]))\n",
    "\n",
    "plt.plot(J);plt.xlabel('Epoch');plt.ylabel('Loss J')"
   ]
  },
  {
   "cell_type": "code",
   "execution_count": 43,
   "metadata": {
    "colab": {
     "base_uri": "https://localhost:8080/"
    },
    "id": "n-plILF36lpc",
    "outputId": "7e97265e-f74c-4110-a2f9-4a585e04a682"
   },
   "outputs": [
    {
     "data": {
      "text/plain": [
       "[('a0', (4, 670)),\n",
       " ('W1', (6, 4)),\n",
       " ('b1', (6, 1)),\n",
       " ('a1', (6, 670)),\n",
       " ('z1', (6, 670)),\n",
       " ('W2', (1, 6)),\n",
       " ('b2', (1, 1)),\n",
       " ('a2', (1, 670)),\n",
       " ('z2', (1, 670))]"
      ]
     },
     "execution_count": 43,
     "metadata": {},
     "output_type": "execute_result"
    }
   ],
   "source": [
    "[(key, cache[key].shape) for key in cache.keys()]"
   ]
  },
  {
   "cell_type": "code",
   "execution_count": 44,
   "metadata": {
    "colab": {
     "base_uri": "https://localhost:8080/"
    },
    "id": "dA76i75j6lpd",
    "outputId": "47bde32e-2e3d-4eba-a08f-8b70e792c29c"
   },
   "outputs": [
    {
     "data": {
      "text/plain": [
       "2.0"
      ]
     },
     "execution_count": 44,
     "metadata": {},
     "output_type": "execute_result"
    }
   ],
   "source": [
    "dz = np.array([[2,2,2,2]])\n",
    "np.sum(dz) / 4"
   ]
  },
  {
   "cell_type": "markdown",
   "metadata": {
    "id": "5mGz1XU77toD"
   },
   "source": [
    "# Pytorch"
   ]
  },
  {
   "cell_type": "code",
   "execution_count": 45,
   "metadata": {
    "id": "hfUmLhNi77rd"
   },
   "outputs": [],
   "source": [
    "import numpy as np\n",
    "from matplotlib import pyplot as plt\n",
    "import seaborn as sns\n",
    "sns.set()\n",
    "\n",
    "import torch\n",
    "import torch.optim as optim\n",
    "import torch.nn as nn\n",
    "from IPython import display"
   ]
  },
  {
   "cell_type": "code",
   "execution_count": 46,
   "metadata": {
    "colab": {
     "base_uri": "https://localhost:8080/"
    },
    "id": "k0DJZQCt78C3",
    "outputId": "9b1e1801-2c5e-4d56-f6bf-7dbe2d8d1351"
   },
   "outputs": [
    {
     "name": "stdout",
     "output_type": "stream",
     "text": [
      "[EPOCH]: 999/1000, [LOSS]: 0.000097\n"
     ]
    }
   ],
   "source": [
    "device = 'cuda' if torch.cuda.is_available() else 'cpu'\n",
    "\n",
    "x_train_tensor = torch.from_numpy(X_train.T).float().to(device)\n",
    "y_train_tensor = torch.from_numpy(y_train).float().to(device)\n",
    "\n",
    "# Linear Model\n",
    "learning_rate = 0.01 # alpha\n",
    "\n",
    "# nn package to create our linear model\n",
    "# each Linear module has a weight and bias\n",
    "model = nn.Sequential(\n",
    "    nn.Linear(4, 6),\n",
    "    nn.ReLU(),\n",
    "    nn.Linear(6, 6),\n",
    "    nn.ReLU(), # https://pytorch.org/docs/stable/generated/torch.nn.ReLU.html?highlight=relu#torch.nn.ReLU\n",
    "    nn.Linear(6, 1),\n",
    "    nn.Sigmoid()\n",
    ")\n",
    "\n",
    "criterion = nn.BCELoss()\n",
    "optimizer = torch.optim.Adam(model.parameters(), \n",
    "                             lr=learning_rate)\n",
    "n_epoch = 1000\n",
    "# Training\n",
    "for t in range(n_epoch):\n",
    "    \n",
    "    # Feed forward to get the logits\n",
    "    y_pred = model(x_train_tensor)\n",
    "    \n",
    "    # Compute the loss (BCE: Binary Cross Entropy Loss)\n",
    "    loss = criterion(y_pred.T, y_train_tensor)\n",
    "    # Dont accumulate previous gradients\n",
    "    optimizer.zero_grad()\n",
    "\n",
    "    print(f\"[EPOCH]: {t}/{n_epoch}, [LOSS]: {loss.item():.6f}\")\n",
    "    display.clear_output(wait=True)\n",
    "    \n",
    "    # Backward pass to compute the gradient\n",
    "    # of loss w.r.t our learnable params. \n",
    "    loss.backward()\n",
    "    \n",
    "    # Update params\n",
    "    optimizer.step()"
   ]
  },
  {
   "cell_type": "code",
   "execution_count": 47,
   "metadata": {
    "id": "8iUxxd4Z8KVb"
   },
   "outputs": [],
   "source": [
    "x_test_tensor = torch.from_numpy(X_test.T).float().to(device)\n",
    "y_test_pred = model(x_test_tensor)"
   ]
  },
  {
   "cell_type": "code",
   "execution_count": 48,
   "metadata": {
    "id": "4IXHVE2Y9A3N"
   },
   "outputs": [],
   "source": [
    "y_test_pred = 1 * (y_test_pred > 0.5)"
   ]
  },
  {
   "cell_type": "code",
   "execution_count": 49,
   "metadata": {
    "colab": {
     "base_uri": "https://localhost:8080/"
    },
    "id": "JFAeSylg9B2v",
    "outputId": "6719a920-fdbb-4ff1-d5e8-6fe451abe364"
   },
   "outputs": [
    {
     "data": {
      "text/plain": [
       "(torch.Size([330, 1]), (330, 1))"
      ]
     },
     "execution_count": 49,
     "metadata": {},
     "output_type": "execute_result"
    }
   ],
   "source": [
    "y_test_pred.shape, y_test.T.shape"
   ]
  },
  {
   "cell_type": "code",
   "execution_count": 50,
   "metadata": {
    "colab": {
     "base_uri": "https://localhost:8080/"
    },
    "id": "i9Vsr46W9I6S",
    "outputId": "cbd24ea4-4c42-4ec4-d7c2-68268e9f845f"
   },
   "outputs": [
    {
     "name": "stdout",
     "output_type": "stream",
     "text": [
      "[[294   0]\n",
      " [  1  35]]\n"
     ]
    }
   ],
   "source": [
    "print(confusion_matrix(y_test.T, y_test_pred))"
   ]
  },
  {
   "cell_type": "code",
   "execution_count": 51,
   "metadata": {
    "colab": {
     "base_uri": "https://localhost:8080/"
    },
    "id": "0PuaUBF_9X6e",
    "outputId": "c3a8b6c2-4753-4562-88dd-6f2d17fe0a61"
   },
   "outputs": [
    {
     "data": {
      "text/plain": [
       "array([0., 0., 0., 0., 0., 0., 0., 0., 0., 0., 0., 1., 0., 0., 0., 0., 0.,\n",
       "       0., 0., 0., 0., 0., 0., 0., 0., 0., 0., 0., 0., 0., 0., 0., 0., 0.,\n",
       "       0., 0., 0., 0., 0., 1., 0., 1., 0., 0., 0., 0., 0., 0., 0., 0., 0.,\n",
       "       0., 0., 0., 1., 1., 0., 1., 0., 0., 0., 1., 0., 0., 0., 0., 0., 0.,\n",
       "       1., 0., 0., 0., 0., 0., 0., 0., 0., 1., 0., 0., 0., 1., 0., 1., 0.,\n",
       "       0., 0., 0., 0., 0., 0., 0., 0., 0., 0., 0., 0., 1., 1., 0., 0., 0.,\n",
       "       0., 0., 0., 0., 0., 0., 0., 0., 0., 0., 0., 0., 1., 0., 0., 0., 0.,\n",
       "       0., 0., 0., 0., 0., 0., 0., 0., 0., 0., 0., 0., 0., 0., 0., 0., 1.,\n",
       "       0., 0., 1., 1., 1., 0., 0., 0., 0., 0., 0., 0., 0., 0., 0., 0., 0.,\n",
       "       0., 0., 0., 0., 0., 1., 0., 0., 0., 0., 0., 0., 0., 0., 0., 0., 0.,\n",
       "       0., 0., 0., 0., 0., 0., 0., 0., 0., 0., 0., 0., 0., 0., 0., 0., 0.,\n",
       "       0., 0., 0., 0., 0., 0., 0., 0., 0., 0., 0., 0., 1., 1., 0., 0., 0.,\n",
       "       0., 0., 0., 0., 0., 0., 1., 0., 0., 0., 0., 0., 0., 0., 0., 0., 0.,\n",
       "       0., 0., 1., 0., 1., 0., 0., 0., 0., 0., 0., 0., 0., 1., 1., 0., 0.,\n",
       "       0., 0., 1., 0., 0., 0., 0., 0., 0., 1., 1., 0., 1., 0., 0., 0., 0.,\n",
       "       0., 0., 0., 0., 1., 0., 0., 1., 0., 0., 0., 0., 0., 0., 0., 0., 0.,\n",
       "       0., 0., 0., 1., 0., 0., 1., 0., 0., 0., 0., 0., 0., 0., 0., 0., 0.,\n",
       "       0., 0., 0., 0., 0., 0., 0., 0., 0., 1., 0., 0., 0., 0., 0., 0., 0.,\n",
       "       0., 0., 0., 0., 0., 0., 0., 0., 0., 0., 0., 0., 0., 0., 1., 0., 0.,\n",
       "       0., 0., 0., 0., 0., 0., 0.])"
      ]
     },
     "execution_count": 51,
     "metadata": {},
     "output_type": "execute_result"
    }
   ],
   "source": [
    "y_test.T.flatten()"
   ]
  },
  {
   "cell_type": "code",
   "execution_count": 52,
   "metadata": {
    "colab": {
     "base_uri": "https://localhost:8080/"
    },
    "id": "TKs79-b691QF",
    "outputId": "183bc3eb-1246-4447-bde1-3e23cd3a0f74"
   },
   "outputs": [
    {
     "data": {
      "text/plain": [
       "tensor([0, 0, 0, 0, 0, 0, 0, 0, 0, 0, 0, 1, 0, 0, 0, 0, 0, 0, 0, 0, 0, 0, 0, 0,\n",
       "        0, 0, 0, 0, 0, 0, 0, 0, 0, 0, 0, 0, 0, 0, 0, 1, 0, 1, 0, 0, 0, 0, 0, 0,\n",
       "        0, 0, 0, 0, 0, 0, 1, 1, 0, 1, 0, 0, 0, 1, 0, 0, 0, 0, 0, 0, 1, 0, 0, 0,\n",
       "        0, 0, 0, 0, 0, 1, 0, 0, 0, 1, 0, 1, 0, 0, 0, 0, 0, 0, 0, 0, 0, 0, 0, 0,\n",
       "        0, 1, 1, 0, 0, 0, 0, 0, 0, 0, 0, 0, 0, 0, 0, 0, 0, 0, 1, 0, 0, 0, 0, 0,\n",
       "        0, 0, 0, 0, 0, 0, 0, 0, 0, 0, 0, 0, 0, 0, 0, 1, 0, 0, 1, 1, 1, 0, 0, 0,\n",
       "        0, 0, 0, 0, 0, 0, 0, 0, 0, 0, 0, 0, 0, 0, 1, 0, 0, 0, 0, 0, 0, 0, 0, 0,\n",
       "        0, 0, 0, 0, 0, 0, 0, 0, 0, 0, 0, 0, 0, 0, 0, 0, 0, 0, 0, 0, 0, 0, 0, 0,\n",
       "        0, 0, 0, 0, 0, 0, 0, 1, 1, 0, 0, 0, 0, 0, 0, 0, 0, 0, 1, 0, 0, 0, 0, 0,\n",
       "        0, 0, 0, 0, 0, 0, 0, 1, 0, 1, 0, 0, 0, 0, 0, 0, 0, 0, 1, 1, 0, 0, 0, 0,\n",
       "        1, 0, 0, 0, 0, 0, 0, 1, 1, 0, 1, 0, 0, 0, 0, 0, 0, 0, 0, 1, 0, 0, 0, 0,\n",
       "        0, 0, 0, 0, 0, 0, 0, 0, 0, 0, 0, 1, 0, 0, 1, 0, 0, 0, 0, 0, 0, 0, 0, 0,\n",
       "        0, 0, 0, 0, 0, 0, 0, 0, 0, 0, 1, 0, 0, 0, 0, 0, 0, 0, 0, 0, 0, 0, 0, 0,\n",
       "        0, 0, 0, 0, 0, 0, 0, 0, 1, 0, 0, 0, 0, 0, 0, 0, 0, 0])"
      ]
     },
     "execution_count": 52,
     "metadata": {},
     "output_type": "execute_result"
    }
   ],
   "source": [
    "y_test_pred.flatten()"
   ]
  },
  {
   "cell_type": "code",
   "execution_count": 52,
   "metadata": {
    "id": "UL6cqzr_92mQ"
   },
   "outputs": [],
   "source": []
  }
 ],
 "metadata": {
  "colab": {
   "collapsed_sections": [
    "Uu2MNMkx6lo_"
   ],
   "name": "Artificial Neural Networks.ipynb",
   "provenance": []
  },
  "kernelspec": {
   "display_name": "Python 3",
   "language": "python",
   "name": "python3"
  },
  "language_info": {
   "codemirror_mode": {
    "name": "ipython",
    "version": 3
   },
   "file_extension": ".py",
   "mimetype": "text/x-python",
   "name": "python",
   "nbconvert_exporter": "python",
   "pygments_lexer": "ipython3",
   "version": "3.8.3"
  },
  "toc": {
   "base_numbering": 1,
   "nav_menu": {},
   "number_sections": true,
   "sideBar": true,
   "skip_h1_title": false,
   "title_cell": "Table of Contents",
   "title_sidebar": "Contents",
   "toc_cell": false,
   "toc_position": {},
   "toc_section_display": true,
   "toc_window_display": false
  },
  "varInspector": {
   "cols": {
    "lenName": 16,
    "lenType": 16,
    "lenVar": 40
   },
   "kernels_config": {
    "python": {
     "delete_cmd_postfix": "",
     "delete_cmd_prefix": "del ",
     "library": "var_list.py",
     "varRefreshCmd": "print(var_dic_list())"
    },
    "r": {
     "delete_cmd_postfix": ") ",
     "delete_cmd_prefix": "rm(",
     "library": "var_list.r",
     "varRefreshCmd": "cat(var_dic_list()) "
    }
   },
   "types_to_exclude": [
    "module",
    "function",
    "builtin_function_or_method",
    "instance",
    "_Feature"
   ],
   "window_display": false
  }
 },
 "nbformat": 4,
 "nbformat_minor": 1
}
