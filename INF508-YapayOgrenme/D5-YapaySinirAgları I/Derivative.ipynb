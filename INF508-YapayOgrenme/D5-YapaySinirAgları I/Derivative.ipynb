{
 "cells": [
  {
   "cell_type": "markdown",
   "metadata": {},
   "source": [
    "![](turev-matris.png)"
   ]
  },
  {
   "cell_type": "code",
   "execution_count": 1,
   "metadata": {},
   "outputs": [],
   "source": [
    "%matplotlib inline\n",
    "import torch\n",
    "import matplotlib.pyplot as plt"
   ]
  },
  {
   "cell_type": "code",
   "execution_count": 2,
   "metadata": {},
   "outputs": [
    {
     "data": {
      "text/plain": [
       "tensor([[1.],\n",
       "        [2.],\n",
       "        [3.]], requires_grad=True)"
      ]
     },
     "execution_count": 2,
     "metadata": {},
     "output_type": "execute_result"
    }
   ],
   "source": [
    "x = torch.tensor([[1.0] ,[2.0] , [3.0]], requires_grad=True)\n",
    "x"
   ]
  },
  {
   "cell_type": "code",
   "execution_count": 3,
   "metadata": {},
   "outputs": [],
   "source": [
    "W = torch.tensor([[2.0 ,4.0 , 6.0],\n",
    "                  [3.0 ,5.0 , 7.0]], requires_grad=True)"
   ]
  },
  {
   "cell_type": "code",
   "execution_count": 4,
   "metadata": {},
   "outputs": [
    {
     "data": {
      "text/plain": [
       "tensor([[2., 4., 6.],\n",
       "        [3., 5., 7.]], requires_grad=True)"
      ]
     },
     "execution_count": 4,
     "metadata": {},
     "output_type": "execute_result"
    }
   ],
   "source": [
    "W"
   ]
  },
  {
   "cell_type": "code",
   "execution_count": 5,
   "metadata": {},
   "outputs": [],
   "source": [
    "y = W@x\n",
    "loss = y.sum()"
   ]
  },
  {
   "cell_type": "code",
   "execution_count": 6,
   "metadata": {},
   "outputs": [
    {
     "data": {
      "text/plain": [
       "(tensor([[28.],\n",
       "         [34.]], grad_fn=<MmBackward>),\n",
       " tensor(62., grad_fn=<SumBackward0>))"
      ]
     },
     "execution_count": 6,
     "metadata": {},
     "output_type": "execute_result"
    }
   ],
   "source": [
    "y, loss"
   ]
  },
  {
   "cell_type": "code",
   "execution_count": 7,
   "metadata": {},
   "outputs": [],
   "source": [
    "loss.backward(retain_graph=True)"
   ]
  },
  {
   "cell_type": "code",
   "execution_count": 8,
   "metadata": {},
   "outputs": [
    {
     "data": {
      "text/plain": [
       "tensor([[ 5.],\n",
       "        [ 9.],\n",
       "        [13.]])"
      ]
     },
     "execution_count": 8,
     "metadata": {},
     "output_type": "execute_result"
    }
   ],
   "source": [
    "x.grad"
   ]
  },
  {
   "cell_type": "code",
   "execution_count": 9,
   "metadata": {},
   "outputs": [
    {
     "data": {
      "text/plain": [
       "tensor([[1., 2., 3.],\n",
       "        [1., 2., 3.]])"
      ]
     },
     "execution_count": 9,
     "metadata": {},
     "output_type": "execute_result"
    }
   ],
   "source": [
    "W.grad"
   ]
  },
  {
   "cell_type": "code",
   "execution_count": 10,
   "metadata": {},
   "outputs": [
    {
     "data": {
      "text/plain": [
       "tensor([[ 5.],\n",
       "        [ 9.],\n",
       "        [13.]])"
      ]
     },
     "execution_count": 10,
     "metadata": {},
     "output_type": "execute_result"
    }
   ],
   "source": [
    "x.grad"
   ]
  },
  {
   "cell_type": "code",
   "execution_count": null,
   "metadata": {},
   "outputs": [],
   "source": []
  },
  {
   "cell_type": "markdown",
   "metadata": {},
   "source": [
    "# Mult-Valued Regression \n",
    "\n",
    "$$\n",
    "Wx^t = y^t\n",
    "$$\n",
    "\n",
    "## Start with uni-valued regression\n",
    "\n",
    "$$\n",
    "wx^t = y^t\n",
    "$$"
   ]
  },
  {
   "cell_type": "code",
   "execution_count": 37,
   "metadata": {},
   "outputs": [],
   "source": [
    "N = 1000\n",
    "wstar = torch.tensor([1.0 ,0.0 , 2.0])\n",
    "X = torch.rand(3, N)\n",
    "y = wstar@X"
   ]
  },
  {
   "cell_type": "code",
   "execution_count": 38,
   "metadata": {},
   "outputs": [
    {
     "data": {
      "text/plain": [
       "tensor([[0.7970, 0.2396, 0.9354]], requires_grad=True)"
      ]
     },
     "execution_count": 38,
     "metadata": {},
     "output_type": "execute_result"
    }
   ],
   "source": [
    "w = torch.rand(1, 3, requires_grad = True)\n",
    "w "
   ]
  },
  {
   "cell_type": "code",
   "execution_count": 39,
   "metadata": {},
   "outputs": [],
   "source": [
    "a = w@X\n",
    "e = a - y\n",
    "J = (1/(2 * N)) * e@e.T"
   ]
  },
  {
   "cell_type": "code",
   "execution_count": 40,
   "metadata": {},
   "outputs": [
    {
     "data": {
      "text/plain": [
       "tensor([[0.1850]], grad_fn=<MmBackward>)"
      ]
     },
     "execution_count": 40,
     "metadata": {},
     "output_type": "execute_result"
    }
   ],
   "source": [
    "J"
   ]
  },
  {
   "cell_type": "code",
   "execution_count": 41,
   "metadata": {},
   "outputs": [],
   "source": [
    "J.backward(retain_graph=True)"
   ]
  },
  {
   "cell_type": "code",
   "execution_count": 42,
   "metadata": {},
   "outputs": [
    {
     "data": {
      "text/plain": [
       "tensor([[-0.2903, -0.2463, -0.3477]])"
      ]
     },
     "execution_count": 42,
     "metadata": {},
     "output_type": "execute_result"
    }
   ],
   "source": [
    "w.grad"
   ]
  },
  {
   "cell_type": "markdown",
   "metadata": {},
   "source": [
    "$$\n",
    "\\frac{dJ}{dW} = \\frac{dJ}{de} \\frac{de}{dW} = \\frac{1}{2N} 2e \\times X\n",
    "$$"
   ]
  },
  {
   "cell_type": "code",
   "execution_count": 45,
   "metadata": {},
   "outputs": [
    {
     "data": {
      "text/plain": [
       "tensor([[-0.2903, -0.2463, -0.3477]], grad_fn=<MmBackward>)"
      ]
     },
     "execution_count": 45,
     "metadata": {},
     "output_type": "execute_result"
    }
   ],
   "source": [
    "(1/N) * e@X.T"
   ]
  },
  {
   "cell_type": "code",
   "execution_count": 69,
   "metadata": {},
   "outputs": [],
   "source": [
    "iteration, alpha = 10000, 0.1\n",
    "w = torch.rand(1, 3, requires_grad = True)\n",
    "Js = []\n",
    "for i in range(iteration):\n",
    "    a = w@X\n",
    "    e = a - y\n",
    "    J = (1/(2 * N)) * e@e.T\n",
    "    Js.append(J.detach().numpy().flatten())\n",
    "    \n",
    "    J.backward(retain_graph=True)\n",
    "    \n",
    "    # gradient descent, don't track\n",
    "    # torch.no_grad() make all the operations in the block have no gradients.\n",
    "    with torch.no_grad():\n",
    "        w = w - alpha *  w.grad\n",
    "    w.requires_grad = True"
   ]
  },
  {
   "cell_type": "code",
   "execution_count": 70,
   "metadata": {},
   "outputs": [
    {
     "data": {
      "text/plain": [
       "tensor([[0.9399, 0.8840, 0.9249]], requires_grad=True)"
      ]
     },
     "execution_count": 70,
     "metadata": {},
     "output_type": "execute_result"
    }
   ],
   "source": [
    "w"
   ]
  },
  {
   "cell_type": "code",
   "execution_count": 71,
   "metadata": {},
   "outputs": [
    {
     "data": {
      "text/plain": [
       "[<matplotlib.lines.Line2D at 0x7f8ba8e1fc70>]"
      ]
     },
     "execution_count": 71,
     "metadata": {},
     "output_type": "execute_result"
    },
    {
     "data": {
      "image/png": "[encoded data removed]",
      "text/plain": [
       "<Figure size 432x288 with 1 Axes>"
      ]
     },
     "metadata": {
      "needs_background": "light"
     },
     "output_type": "display_data"
    }
   ],
   "source": [
    "plt.plot(Js)"
   ]
  },
  {
   "cell_type": "markdown",
   "metadata": {},
   "source": [
    "# Multi valued regression"
   ]
  },
  {
   "cell_type": "code",
   "execution_count": 72,
   "metadata": {},
   "outputs": [],
   "source": [
    "N = 1000\n",
    "wstar1 = torch.tensor([1.0 ,0.0 , 2.0])\n",
    "wstar2 = torch.tensor([2.0 ,0.0 , 1.0])\n",
    "\n",
    "X = torch.rand(3, N)\n",
    "y1 = wstar1@X\n",
    "y2 = wstar2@X"
   ]
  },
  {
   "cell_type": "code",
   "execution_count": 75,
   "metadata": {},
   "outputs": [],
   "source": [
    "iteration, alpha = 10000, 0.1\n",
    "w1 = torch.rand(1, 3, requires_grad = True)\n",
    "w2 = torch.rand(1, 3, requires_grad = True)\n",
    "Js = []\n",
    "for i in range(iteration):\n",
    "    a1 = w1@X\n",
    "    e1 = a1 - y1\n",
    "    J1 = (1/(2 * N)) * e1@e1.T\n",
    "    \n",
    "    a2 = w2@X\n",
    "    e2 = a2 - y2\n",
    "    J2 = (1/(2 * N)) * e2@e2.T\n",
    "    \n",
    "    Js.append(J1.detach().numpy().flatten()+J2.detach().numpy().flatten())\n",
    "    \n",
    "    J1.backward(retain_graph=True)\n",
    "    J2.backward(retain_graph=True)\n",
    "    \n",
    "    # gradient descent, don't track\n",
    "    # torch.no_grad() make all the operations in the block have no gradients.\n",
    "    with torch.no_grad():\n",
    "        w1 = w1 - alpha *  w1.grad\n",
    "        w2 = w2 - alpha *  w2.grad\n",
    "    w1.requires_grad = True\n",
    "    w2.requires_grad = True"
   ]
  },
  {
   "cell_type": "code",
   "execution_count": 76,
   "metadata": {},
   "outputs": [
    {
     "data": {
      "text/plain": [
       "tensor([[1.0000e+00, 3.1625e-06, 2.0000e+00]], requires_grad=True)"
      ]
     },
     "execution_count": 76,
     "metadata": {},
     "output_type": "execute_result"
    }
   ],
   "source": [
    "w1"
   ]
  },
  {
   "cell_type": "code",
   "execution_count": 77,
   "metadata": {},
   "outputs": [
    {
     "data": {
      "text/plain": [
       "tensor([[2.0000e+00, 1.1292e-06, 1.0000e+00]], requires_grad=True)"
      ]
     },
     "execution_count": 77,
     "metadata": {},
     "output_type": "execute_result"
    }
   ],
   "source": [
    "w2"
   ]
  },
  {
   "cell_type": "code",
   "execution_count": 78,
   "metadata": {},
   "outputs": [
    {
     "data": {
      "text/plain": [
       "[<matplotlib.lines.Line2D at 0x7f8ba43cdbb0>]"
      ]
     },
     "execution_count": 78,
     "metadata": {},
     "output_type": "execute_result"
    },
    {
     "data": {
      "image/png": "[encoded data removed]",
      "text/plain": [
       "<Figure size 432x288 with 1 Axes>"
      ]
     },
     "metadata": {
      "needs_background": "light"
     },
     "output_type": "display_data"
    }
   ],
   "source": [
    "plt.plot(Js)"
   ]
  },
  {
   "cell_type": "markdown",
   "metadata": {},
   "source": [
    "# MVR"
   ]
  },
  {
   "cell_type": "code",
   "execution_count": 79,
   "metadata": {},
   "outputs": [],
   "source": [
    "N = 1000\n",
    "Wstar = torch.tensor([[1.0 ,0.0 , 2.0],\n",
    "                       [2.0 ,0.0 , 1.0]])\n",
    "\n",
    "X = torch.rand(3, N)\n",
    "y = Wstar@X"
   ]
  },
  {
   "cell_type": "code",
   "execution_count": 81,
   "metadata": {},
   "outputs": [],
   "source": [
    "iteration, alpha = 10000, 0.1\n",
    "w = torch.rand(2, 3, requires_grad = True)\n",
    "Js = []\n",
    "for i in range(iteration):\n",
    "    a = w@X\n",
    "    e = a - y\n",
    "    J = (1/(2 * N)) * torch.sum(e**2)\n",
    "    Js.append(J.detach().numpy().flatten())\n",
    "    \n",
    "    J.backward(retain_graph=True)\n",
    "    \n",
    "    # gradient descent, don't track\n",
    "    # torch.no_grad() make all the operations in the block have no gradients.\n",
    "    with torch.no_grad():\n",
    "        w = w - alpha *  w.grad\n",
    "    w.requires_grad = True"
   ]
  },
  {
   "cell_type": "code",
   "execution_count": 82,
   "metadata": {},
   "outputs": [
    {
     "data": {
      "text/plain": [
       "tensor([[1.0000e+00, 3.5718e-06, 2.0000e+00],\n",
       "        [2.0000e+00, 3.6374e-06, 1.0000e+00]], requires_grad=True)"
      ]
     },
     "execution_count": 82,
     "metadata": {},
     "output_type": "execute_result"
    }
   ],
   "source": [
    "w"
   ]
  },
  {
   "cell_type": "code",
   "execution_count": 89,
   "metadata": {},
   "outputs": [
    {
     "data": {
      "text/plain": [
       "tensor([[1.0000e+00, 3.5718e-06, 2.0000e+00],\n",
       "        [2.0000e+00, 3.6374e-06, 1.0000e+00]], requires_grad=True)"
      ]
     },
     "execution_count": 89,
     "metadata": {},
     "output_type": "execute_result"
    }
   ],
   "source": [
    "import torch.optim as optim\n",
    "\n",
    "w = torch.rand(2, 3, requires_grad = True)\n",
    "alpha = 0.1\n",
    "\n",
    "# Defines a SGD optimizer to update the parameters\n",
    "optimizer = optim.SGD([w], lr=alpha)\n",
    "\n",
    "for i in range(3000):\n",
    "    # forward: use new weight to calculate y\n",
    "    a = w@X\n",
    "    e = a - y\n",
    "    J = (1/(2 * N)) * torch.sum(e**2)\n",
    "\n",
    "    # backward: calculate derivative dy/dw\n",
    "    J.backward()\n",
    "    # No more manual update!\n",
    "    optimizer.step()\n",
    "    # Do not accumulate gradients\n",
    "    optimizer.zero_grad()\n",
    "w"
   ]
  },
  {
   "cell_type": "code",
   "execution_count": null,
   "metadata": {},
   "outputs": [],
   "source": []
  }
 ],
 "metadata": {
  "kernelspec": {
   "display_name": "Python 3",
   "language": "python",
   "name": "python3"
  },
  "language_info": {
   "codemirror_mode": {
    "name": "ipython",
    "version": 3
   },
   "file_extension": ".py",
   "mimetype": "text/x-python",
   "name": "python",
   "nbconvert_exporter": "python",
   "pygments_lexer": "ipython3",
   "version": "3.8.3"
  },
  "toc": {
   "base_numbering": 1,
   "nav_menu": {},
   "number_sections": true,
   "sideBar": true,
   "skip_h1_title": false,
   "title_cell": "Table of Contents",
   "title_sidebar": "Contents",
   "toc_cell": false,
   "toc_position": {},
   "toc_section_display": true,
   "toc_window_display": false
  },
  "varInspector": {
   "cols": {
    "lenName": 16,
    "lenType": 16,
    "lenVar": 40
   },
   "kernels_config": {
    "python": {
     "delete_cmd_postfix": "",
     "delete_cmd_prefix": "del ",
     "library": "var_list.py",
     "varRefreshCmd": "print(var_dic_list())"
    },
    "r": {
     "delete_cmd_postfix": ") ",
     "delete_cmd_prefix": "rm(",
     "library": "var_list.r",
     "varRefreshCmd": "cat(var_dic_list()) "
    }
   },
   "types_to_exclude": [
    "module",
    "function",
    "builtin_function_or_method",
    "instance",
    "_Feature"
   ],
   "window_display": false
  }
 },
 "nbformat": 4,
 "nbformat_minor": 4
}
