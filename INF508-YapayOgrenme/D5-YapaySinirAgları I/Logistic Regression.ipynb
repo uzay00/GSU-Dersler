{
 "cells": [
  {
   "cell_type": "markdown",
   "metadata": {},
   "source": [
    "## Python Librarires"
   ]
  },
  {
   "cell_type": "code",
   "execution_count": 1,
   "metadata": {},
   "outputs": [],
   "source": [
    "import numpy as np\n",
    "import pandas as pd\n",
    "import matplotlib.pyplot as plt\n",
    "\n",
    "import seaborn as sns\n",
    "sns.set() # set plot style\n",
    "\n",
    "import warnings\n",
    "warnings.filterwarnings('ignore')"
   ]
  },
  {
   "cell_type": "code",
   "execution_count": 2,
   "metadata": {},
   "outputs": [
    {
     "data": {
      "text/plain": [
       "['anscombe',\n",
       " 'attention',\n",
       " 'brain_networks',\n",
       " 'car_crashes',\n",
       " 'diamonds',\n",
       " 'dots',\n",
       " 'exercise',\n",
       " 'flights',\n",
       " 'fmri',\n",
       " 'gammas',\n",
       " 'iris',\n",
       " 'mpg',\n",
       " 'planets',\n",
       " 'tips',\n",
       " 'titanic']"
      ]
     },
     "execution_count": 2,
     "metadata": {},
     "output_type": "execute_result"
    }
   ],
   "source": [
    "sns.get_dataset_names()"
   ]
  },
  {
   "cell_type": "code",
   "execution_count": 3,
   "metadata": {},
   "outputs": [
    {
     "data": {
      "text/html": [
       "<div>\n",
       "<style scoped>\n",
       "    .dataframe tbody tr th:only-of-type {\n",
       "        vertical-align: middle;\n",
       "    }\n",
       "\n",
       "    .dataframe tbody tr th {\n",
       "        vertical-align: top;\n",
       "    }\n",
       "\n",
       "    .dataframe thead th {\n",
       "        text-align: right;\n",
       "    }\n",
       "</style>\n",
       "<table border=\"1\" class=\"dataframe\">\n",
       "  <thead>\n",
       "    <tr style=\"text-align: right;\">\n",
       "      <th></th>\n",
       "      <th>survived</th>\n",
       "      <th>pclass</th>\n",
       "      <th>sex</th>\n",
       "      <th>age</th>\n",
       "      <th>sibsp</th>\n",
       "      <th>parch</th>\n",
       "      <th>fare</th>\n",
       "      <th>embarked</th>\n",
       "      <th>class</th>\n",
       "      <th>who</th>\n",
       "      <th>adult_male</th>\n",
       "      <th>deck</th>\n",
       "      <th>embark_town</th>\n",
       "      <th>alive</th>\n",
       "      <th>alone</th>\n",
       "    </tr>\n",
       "  </thead>\n",
       "  <tbody>\n",
       "    <tr>\n",
       "      <th>0</th>\n",
       "      <td>0</td>\n",
       "      <td>3</td>\n",
       "      <td>male</td>\n",
       "      <td>22.0</td>\n",
       "      <td>1</td>\n",
       "      <td>0</td>\n",
       "      <td>7.2500</td>\n",
       "      <td>S</td>\n",
       "      <td>Third</td>\n",
       "      <td>man</td>\n",
       "      <td>True</td>\n",
       "      <td>NaN</td>\n",
       "      <td>Southampton</td>\n",
       "      <td>no</td>\n",
       "      <td>False</td>\n",
       "    </tr>\n",
       "    <tr>\n",
       "      <th>1</th>\n",
       "      <td>1</td>\n",
       "      <td>1</td>\n",
       "      <td>female</td>\n",
       "      <td>38.0</td>\n",
       "      <td>1</td>\n",
       "      <td>0</td>\n",
       "      <td>71.2833</td>\n",
       "      <td>C</td>\n",
       "      <td>First</td>\n",
       "      <td>woman</td>\n",
       "      <td>False</td>\n",
       "      <td>C</td>\n",
       "      <td>Cherbourg</td>\n",
       "      <td>yes</td>\n",
       "      <td>False</td>\n",
       "    </tr>\n",
       "    <tr>\n",
       "      <th>2</th>\n",
       "      <td>1</td>\n",
       "      <td>3</td>\n",
       "      <td>female</td>\n",
       "      <td>26.0</td>\n",
       "      <td>0</td>\n",
       "      <td>0</td>\n",
       "      <td>7.9250</td>\n",
       "      <td>S</td>\n",
       "      <td>Third</td>\n",
       "      <td>woman</td>\n",
       "      <td>False</td>\n",
       "      <td>NaN</td>\n",
       "      <td>Southampton</td>\n",
       "      <td>yes</td>\n",
       "      <td>True</td>\n",
       "    </tr>\n",
       "    <tr>\n",
       "      <th>3</th>\n",
       "      <td>1</td>\n",
       "      <td>1</td>\n",
       "      <td>female</td>\n",
       "      <td>35.0</td>\n",
       "      <td>1</td>\n",
       "      <td>0</td>\n",
       "      <td>53.1000</td>\n",
       "      <td>S</td>\n",
       "      <td>First</td>\n",
       "      <td>woman</td>\n",
       "      <td>False</td>\n",
       "      <td>C</td>\n",
       "      <td>Southampton</td>\n",
       "      <td>yes</td>\n",
       "      <td>False</td>\n",
       "    </tr>\n",
       "    <tr>\n",
       "      <th>4</th>\n",
       "      <td>0</td>\n",
       "      <td>3</td>\n",
       "      <td>male</td>\n",
       "      <td>35.0</td>\n",
       "      <td>0</td>\n",
       "      <td>0</td>\n",
       "      <td>8.0500</td>\n",
       "      <td>S</td>\n",
       "      <td>Third</td>\n",
       "      <td>man</td>\n",
       "      <td>True</td>\n",
       "      <td>NaN</td>\n",
       "      <td>Southampton</td>\n",
       "      <td>no</td>\n",
       "      <td>True</td>\n",
       "    </tr>\n",
       "  </tbody>\n",
       "</table>\n",
       "</div>"
      ],
      "text/plain": [
       "   survived  pclass     sex   age  sibsp  parch     fare embarked  class  \\\n",
       "0         0       3    male  22.0      1      0   7.2500        S  Third   \n",
       "1         1       1  female  38.0      1      0  71.2833        C  First   \n",
       "2         1       3  female  26.0      0      0   7.9250        S  Third   \n",
       "3         1       1  female  35.0      1      0  53.1000        S  First   \n",
       "4         0       3    male  35.0      0      0   8.0500        S  Third   \n",
       "\n",
       "     who  adult_male deck  embark_town alive  alone  \n",
       "0    man        True  NaN  Southampton    no  False  \n",
       "1  woman       False    C    Cherbourg   yes  False  \n",
       "2  woman       False  NaN  Southampton   yes   True  \n",
       "3  woman       False    C  Southampton   yes  False  \n",
       "4    man        True  NaN  Southampton    no   True  "
      ]
     },
     "execution_count": 3,
     "metadata": {},
     "output_type": "execute_result"
    }
   ],
   "source": [
    "titanic = sns.load_dataset(\"titanic\")\n",
    "titanic.head()"
   ]
  },
  {
   "cell_type": "code",
   "execution_count": 4,
   "metadata": {},
   "outputs": [
    {
     "data": {
      "text/plain": [
       "(891, 15)"
      ]
     },
     "execution_count": 4,
     "metadata": {},
     "output_type": "execute_result"
    }
   ],
   "source": [
    "titanic.shape"
   ]
  },
  {
   "cell_type": "code",
   "execution_count": 5,
   "metadata": {},
   "outputs": [
    {
     "data": {
      "text/html": [
       "<div>\n",
       "<style scoped>\n",
       "    .dataframe tbody tr th:only-of-type {\n",
       "        vertical-align: middle;\n",
       "    }\n",
       "\n",
       "    .dataframe tbody tr th {\n",
       "        vertical-align: top;\n",
       "    }\n",
       "\n",
       "    .dataframe thead th {\n",
       "        text-align: right;\n",
       "    }\n",
       "</style>\n",
       "<table border=\"1\" class=\"dataframe\">\n",
       "  <thead>\n",
       "    <tr style=\"text-align: right;\">\n",
       "      <th></th>\n",
       "      <th>pclass</th>\n",
       "      <th>sex</th>\n",
       "      <th>age</th>\n",
       "      <th>survived</th>\n",
       "    </tr>\n",
       "  </thead>\n",
       "  <tbody>\n",
       "    <tr>\n",
       "      <th>0</th>\n",
       "      <td>3</td>\n",
       "      <td>0</td>\n",
       "      <td>22.0</td>\n",
       "      <td>0</td>\n",
       "    </tr>\n",
       "    <tr>\n",
       "      <th>1</th>\n",
       "      <td>1</td>\n",
       "      <td>1</td>\n",
       "      <td>38.0</td>\n",
       "      <td>1</td>\n",
       "    </tr>\n",
       "    <tr>\n",
       "      <th>2</th>\n",
       "      <td>3</td>\n",
       "      <td>1</td>\n",
       "      <td>26.0</td>\n",
       "      <td>1</td>\n",
       "    </tr>\n",
       "    <tr>\n",
       "      <th>3</th>\n",
       "      <td>1</td>\n",
       "      <td>1</td>\n",
       "      <td>35.0</td>\n",
       "      <td>1</td>\n",
       "    </tr>\n",
       "    <tr>\n",
       "      <th>4</th>\n",
       "      <td>3</td>\n",
       "      <td>0</td>\n",
       "      <td>35.0</td>\n",
       "      <td>0</td>\n",
       "    </tr>\n",
       "  </tbody>\n",
       "</table>\n",
       "</div>"
      ],
      "text/plain": [
       "   pclass  sex   age  survived\n",
       "0       3    0  22.0         0\n",
       "1       1    1  38.0         1\n",
       "2       3    1  26.0         1\n",
       "3       1    1  35.0         1\n",
       "4       3    0  35.0         0"
      ]
     },
     "execution_count": 5,
     "metadata": {},
     "output_type": "execute_result"
    }
   ],
   "source": [
    "data = titanic[['pclass', 'sex', 'age', 'survived']]\n",
    "data.loc[:,'sex'] = data.loc[:,'sex'].map({'male':0, 'female':1}) # Convert strings to numbers\n",
    "data.fillna(0, inplace=True) # Deal with missing values\n",
    "data.head() "
   ]
  },
  {
   "cell_type": "code",
   "execution_count": 6,
   "metadata": {},
   "outputs": [
    {
     "data": {
      "text/plain": [
       "(891, 4)"
      ]
     },
     "execution_count": 6,
     "metadata": {},
     "output_type": "execute_result"
    }
   ],
   "source": [
    "data.shape"
   ]
  },
  {
   "cell_type": "code",
   "execution_count": 7,
   "metadata": {},
   "outputs": [
    {
     "data": {
      "text/plain": [
       "array([[ 3.,  1.,  3.,  1.,  3.,  3.,  1.,  3.,  3.,  2.],\n",
       "       [ 0.,  1.,  1.,  1.,  0.,  0.,  0.,  0.,  1.,  1.],\n",
       "       [22., 38., 26., 35., 35.,  0., 54.,  2., 27., 14.]])"
      ]
     },
     "execution_count": 7,
     "metadata": {},
     "output_type": "execute_result"
    }
   ],
   "source": [
    "X = data.iloc[:,:-1].values.T\n",
    "X[:,:10] # Show the data of the first 10 people"
   ]
  },
  {
   "cell_type": "code",
   "execution_count": 8,
   "metadata": {},
   "outputs": [
    {
     "data": {
      "text/plain": [
       "array([0, 1, 1, 1, 0, 0, 0, 0, 1, 1])"
      ]
     },
     "execution_count": 8,
     "metadata": {},
     "output_type": "execute_result"
    }
   ],
   "source": [
    "y = data.iloc[:,-1].values.T\n",
    "y[:10] # Show the data of the first 10 people"
   ]
  },
  {
   "cell_type": "markdown",
   "metadata": {},
   "source": [
    "### Is 7th person alive?\n",
    " - (3rd class 2 years old  baby boy,  couldn’t make it)"
   ]
  },
  {
   "cell_type": "code",
   "execution_count": 9,
   "metadata": {},
   "outputs": [
    {
     "data": {
      "text/plain": [
       "array([3., 0., 2.])"
      ]
     },
     "execution_count": 9,
     "metadata": {},
     "output_type": "execute_result"
    }
   ],
   "source": [
    "# ith observation\n",
    "i = 7\n",
    "X[:,i]"
   ]
  },
  {
   "cell_type": "code",
   "execution_count": 10,
   "metadata": {},
   "outputs": [
    {
     "data": {
      "text/plain": [
       "0"
      ]
     },
     "execution_count": 10,
     "metadata": {},
     "output_type": "execute_result"
    }
   ],
   "source": [
    "# is he (male == 0) alive?\n",
    "y[i]"
   ]
  },
  {
   "cell_type": "markdown",
   "metadata": {},
   "source": [
    "## Sklearn Logistic Regression"
   ]
  },
  {
   "cell_type": "code",
   "execution_count": 11,
   "metadata": {},
   "outputs": [
    {
     "name": "stdout",
     "output_type": "stream",
     "text": [
      "Confusion Matrix: \n",
      " [[151  24]\n",
      " [ 36  84]]\n",
      "Accuracy on Test Data:0.8\n"
     ]
    }
   ],
   "source": [
    "from sklearn.linear_model import LogisticRegression\n",
    "from sklearn.model_selection import train_test_split\n",
    "from sklearn.metrics import accuracy_score, confusion_matrix\n",
    "\n",
    "# Logistic regression requires transpose of our data\n",
    "X_train, X_test, y_train, y_test = train_test_split(X.T, y.T, test_size=0.33, random_state=42)\n",
    "\n",
    "lr = LogisticRegression(random_state = 42)\n",
    "lr.fit(X_train, y_train) # Train on train data\n",
    "y_pred = lr.predict(X_test) # Predict on test data\n",
    "\n",
    "print(\"Confusion Matrix: \\n {}\".format(confusion_matrix(y_test, lr.predict(X_test))))\n",
    "print('Accuracy on Test Data:{:.2}'.format(accuracy_score(y_test, y_pred)))"
   ]
  },
  {
   "cell_type": "code",
   "execution_count": 12,
   "metadata": {},
   "outputs": [
    {
     "name": "stdout",
     "output_type": "stream",
     "text": [
      "Accuracy on Test Data:0.8\n"
     ]
    }
   ],
   "source": [
    "acc = (151 + 84) / (151 + 84 + 24 + 36)\n",
    "print('Accuracy on Test Data:{:.2}'.format(acc))"
   ]
  },
  {
   "cell_type": "code",
   "execution_count": 13,
   "metadata": {},
   "outputs": [
    {
     "data": {
      "text/plain": [
       "array([0, 0, 0, 0, 0, 0, 0, 0, 0, 0, 0, 0, 0])"
      ]
     },
     "execution_count": 13,
     "metadata": {},
     "output_type": "execute_result"
    }
   ],
   "source": [
    "FirstClassBoys = np.array([[1., 0., 1],\n",
    "                       [1., 0., 5],\n",
    "                       [1., 0., 10],\n",
    "                       [1., 0., 15],\n",
    "                       [1., 0., 20],\n",
    "                       [1., 0., 25],\n",
    "                       [1., 0., 30],\n",
    "                       [1., 0., 35],\n",
    "                       [1., 0., 40],\n",
    "                       [1., 0., 45],\n",
    "                       [1., 0., 50],\n",
    "                       [1., 0., 55],\n",
    "                       [1., 0., 60],\n",
    "                      ])\n",
    "\n",
    "lr.predict(FirstClassBoys)"
   ]
  },
  {
   "cell_type": "code",
   "execution_count": 14,
   "metadata": {},
   "outputs": [
    {
     "data": {
      "text/plain": [
       "array([[ 1.,  1.,  1.],\n",
       "       [ 1.,  1.,  5.],\n",
       "       [ 1.,  1., 10.],\n",
       "       [ 1.,  1., 15.],\n",
       "       [ 1.,  1., 20.],\n",
       "       [ 1.,  1., 25.],\n",
       "       [ 1.,  1., 30.],\n",
       "       [ 1.,  1., 35.],\n",
       "       [ 1.,  1., 40.],\n",
       "       [ 1.,  1., 45.],\n",
       "       [ 1.,  1., 50.],\n",
       "       [ 1.,  1., 55.],\n",
       "       [ 1.,  1., 60.]])"
      ]
     },
     "execution_count": 14,
     "metadata": {},
     "output_type": "execute_result"
    }
   ],
   "source": [
    "FirstClassGirls = FirstClassBoys.copy()\n",
    "FirstClassGirls[:,1] = 1\n",
    "FirstClassGirls"
   ]
  },
  {
   "cell_type": "code",
   "execution_count": 15,
   "metadata": {},
   "outputs": [
    {
     "data": {
      "text/plain": [
       "array([1, 1, 1, 1, 1, 1, 1, 1, 1, 1, 1, 1, 1])"
      ]
     },
     "execution_count": 15,
     "metadata": {},
     "output_type": "execute_result"
    }
   ],
   "source": [
    "lr.predict(FirstClassGirls)"
   ]
  },
  {
   "cell_type": "code",
   "execution_count": 16,
   "metadata": {},
   "outputs": [
    {
     "data": {
      "text/plain": [
       "array([[-0.87296107,  2.38758481, -0.00727172]])"
      ]
     },
     "execution_count": 16,
     "metadata": {},
     "output_type": "execute_result"
    }
   ],
   "source": [
    "lr.coef_"
   ]
  },
  {
   "cell_type": "code",
   "execution_count": 17,
   "metadata": {},
   "outputs": [
    {
     "data": {
      "text/plain": [
       "Text(0.5, 1.0, 'Survival Chance')"
      ]
     },
     "execution_count": 17,
     "metadata": {},
     "output_type": "execute_result"
    },
    {
     "data": {
      "image/png": "[encoded data removed]",
      "text/plain": [
       "<Figure size 432x288 with 1 Axes>"
      ]
     },
     "metadata": {
      "needs_background": "light"
     },
     "output_type": "display_data"
    }
   ],
   "source": [
    "plt.bar(['pclass', 'sex', 'age'], lr.coef_[0])\n",
    "plt.title('Survival Chance')"
   ]
  },
  {
   "cell_type": "markdown",
   "metadata": {},
   "source": [
    "# Sigmoid Function\n",
    "\n",
    "Returns a probability of getting $y = 1$ for given $x$ value\n",
    "$$\n",
    "P( y =1 | x) = \\sigma(wx+b) = \n",
    "\\sigma(z) = \\frac{1}{1 + e^{-z}} \\in [0,1]\n",
    "$$"
   ]
  },
  {
   "cell_type": "code",
   "execution_count": 18,
   "metadata": {},
   "outputs": [],
   "source": [
    "def sigmoid(z):\n",
    "    return 1 / (1 + np.exp(-z))"
   ]
  },
  {
   "cell_type": "code",
   "execution_count": 19,
   "metadata": {},
   "outputs": [
    {
     "data": {
      "text/plain": [
       "<matplotlib.legend.Legend at 0x1a27daee48>"
      ]
     },
     "execution_count": 19,
     "metadata": {},
     "output_type": "execute_result"
    },
    {
     "data": {
      "image/png": "[encoded data removed]",
      "text/plain": [
       "<Figure size 432x288 with 1 Axes>"
      ]
     },
     "metadata": {
      "needs_background": "light"
     },
     "output_type": "display_data"
    }
   ],
   "source": [
    "z = np.linspace(-6,6,100)\n",
    "plt.plot(z,sigmoid(z), label = '$P( y =1 | x) =  \\sigma(z)$')\n",
    "plt.xlabel('z'); plt.ylabel('Sigmoid $\\sigma (z)$'); plt.legend()"
   ]
  },
  {
   "cell_type": "markdown",
   "metadata": {},
   "source": [
    "## Derivative of Sigmoid Function\n",
    "\n",
    "$\\hspace{8cm}$ __Sigmoid Function__\n",
    "\n",
    "$$\n",
    "\\sigma(z) = \\frac{1}{1 + e^{-z}} \\in [0,1]\n",
    "$$\n",
    "\n",
    "$\\hspace{8cm}$ __Derivative of Sigmoid Function__\n",
    "\n",
    "\\begin{equation} \\label{eq1}\n",
    "\\begin{split}\n",
    "\\frac{\\partial \\sigma(z)}{\\partial z} & = \\frac{-1}{(1 + e^{-z})^2} \\frac{\\partial (1 + e^{-z})}{\\partial z} \\\\\n",
    " & = \\frac{-1}{(1 + e^{-z})^2} (0 - e^{-z}) \\\\\n",
    " & = \\frac{1}{1 + e^{-z}} \\frac{e^{-z}}{1 + e^{-z}}  \\\\\n",
    " & = \\frac{1}{1 + e^{-z}} (1 - \\frac{1}{1 + e^{-z}})  \\\\\n",
    " & = \\sigma(z) (1 - \\sigma(z))\n",
    "\\end{split}\n",
    "\\end{equation}\n",
    "\n",
    "$\\hspace{8cm}$  __Model__\n",
    "\n",
    "$$\n",
    "a^{(i)} = \\sigma(z^{(i)}) = \\sigma(wx^{(i)} + b)\n",
    "$$\n",
    "\n",
    "$\\hspace{8cm}$  __Derivative wrt w__\n",
    "\n",
    "\\begin{equation} \\label{eq2}\n",
    "\\begin{split}\n",
    "\\frac{\\partial a^{(i)}}{\\partial w} & = \\frac{\\partial \\sigma(z^{(i)})}{\\partial z^{(i)}} \\frac{\\partial z^{(i)}}{\\partial w} \n",
    "\\\\\n",
    " & = \\sigma(z^{(i)}) (1 - \\sigma(z^{(i)}) \\frac{\\partial z^{(i)}}{\\partial w} \\\\\n",
    " & = a^{(i)} (1 - a^{(i)}) \\frac{\\partial wx^{(i)} + b}{\\partial w} \\\\\n",
    " & =  a^{(i)} (1 - a^{(i)}) x^{(i)} \n",
    "\\end{split}\n",
    "\\end{equation}\n"
   ]
  },
  {
   "cell_type": "code",
   "execution_count": 20,
   "metadata": {},
   "outputs": [
    {
     "data": {
      "text/plain": [
       "0.25"
      ]
     },
     "execution_count": 20,
     "metadata": {},
     "output_type": "execute_result"
    }
   ],
   "source": [
    "z = 0\n",
    "sigmoid(z) * (1 - sigmoid(z))"
   ]
  },
  {
   "cell_type": "markdown",
   "metadata": {},
   "source": [
    "## Maximum Likelihood\n",
    "\n",
    "Goal\n",
    " - When $y^{(i)} = 1$, we want $a^{(i)} \\rightarrow 1$ _(Max $a^{(i)}$)_\n",
    " - When $y^{(i)} = 0$, we want $a^{(i)} \\rightarrow 0$ _(Max $1 - a^{(i)}$)_\n",
    " \n",
    "In condensed notation _($y^{(i)} = 1 \\Rightarrow \\text{Max} \\; a^{(i)}$ and $y^{(i)} = 0 \\Rightarrow \\text{Max} \\; 1 - a^{(i)}$ )_\n",
    "\n",
    " - Max $a^{(i)^{y^{(i)}}} (1 - a^{(i)})^{1 - y^{(i)}}$\n",
    "\n",
    " \n",
    "For all instances\n",
    "\n",
    "$$\n",
    "\\text{Max} \\;\\; {\\displaystyle \\prod_{i=1}^{n} a^{(i)^{y^{(i)}}} (1 - a^{(i)})^{1 - y^{(i)}}}\n",
    "$$\n",
    "\n",
    "## Loss Function\n",
    "Convert this maximisation problem to minimisation problem, \n",
    " - by taking logarithm and negation\n",
    " - We also divide by $n$\n",
    "\n",
    "$$\n",
    "\\text{Min} \\;\\; {\\displaystyle \\frac{-1}{n} \\sum_{i=1}^{n} y^{(i)} \\log a^{(i)}  + (1 - y^{(i)}) \\log (1 - a^{(i)})}\n",
    "$$"
   ]
  },
  {
   "cell_type": "code",
   "execution_count": 21,
   "metadata": {},
   "outputs": [],
   "source": [
    "def cross_entropy_loss(a,y):\n",
    "    a[np.where(a == 1)] = 0.99\n",
    "    a[np.where(a == 0)] = 0.01\n",
    "    return - (y* np.log(a) + (1 - y) * (np.log(1 - a)))"
   ]
  },
  {
   "cell_type": "code",
   "execution_count": 22,
   "metadata": {},
   "outputs": [
    {
     "data": {
      "text/plain": [
       "Text(0, 0.5, '$a^y (1-a)^{(1-y)}$')"
      ]
     },
     "execution_count": 22,
     "metadata": {},
     "output_type": "execute_result"
    },
    {
     "data": {
      "image/png": "[encoded data removed]",
      "text/plain": [
       "<Figure size 432x288 with 1 Axes>"
      ]
     },
     "metadata": {
      "needs_background": "light"
     },
     "output_type": "display_data"
    }
   ],
   "source": [
    "a = np.linspace(0,1, 100)\n",
    "plt.plot(a, cross_entropy_loss(a,y = 1), label = 'Cost for y = 1')\n",
    "plt.plot(a, cross_entropy_loss(a,y = 0), label = 'Cost for y = 0')\n",
    "plt.legend(); plt.xlabel('a'); plt.ylabel('$a^y (1-a)^{(1-y)}$')"
   ]
  },
  {
   "cell_type": "code",
   "execution_count": 23,
   "metadata": {},
   "outputs": [
    {
     "name": "stdout",
     "output_type": "stream",
     "text": [
      "3.46\n",
      "2.31\n",
      "1.16\n",
      "0.01\n"
     ]
    }
   ],
   "source": [
    "yy = np.array([1,1,1,1])\n",
    "\n",
    "a1 = np.array([0,0,0,1], dtype = float)\n",
    "print(\"{:.2f}\".format(np.mean(cross_entropy_loss(a1,yy))))\n",
    "\n",
    "a2 = np.array([0,0,1,1], dtype = float)\n",
    "print(\"{:.2f}\".format(np.mean(cross_entropy_loss(a2,yy))))\n",
    "\n",
    "a3 = np.array([0,1,1,1], dtype = float)\n",
    "print(\"{:.2f}\".format(np.mean(cross_entropy_loss(a3,yy))))\n",
    "\n",
    "a4 = np.array([1,1,1,1], dtype = float)\n",
    "\n",
    "print(\"{:.2f}\".format(np.mean(cross_entropy_loss(a4,yy))))"
   ]
  },
  {
   "cell_type": "markdown",
   "metadata": {},
   "source": [
    "## Derivative of Cost Function\n",
    "\n",
    "Model\n",
    "\n",
    "$$\n",
    "a^{(i)} = \\sigma(wx^{(i)} + b)\n",
    "$$\n",
    "\n",
    "Cost Function\n",
    "$$\n",
    "J (w,b) = {\\displaystyle \\frac{-1}{n} \\sum_{i=1}^{n} y^{(i)} \\log a^{(i)}  + (1 - y^{(i)}) \\log (1 - a^{(i)})}\n",
    "$$\n",
    "\n",
    "Derivative of Cost Function\n",
    "\\begin{equation} \\label{eq1}\n",
    "\\begin{split}\n",
    "\\frac{\\partial J (w,b)}{\\partial w} & = {\\displaystyle \\frac{-1}{n} \n",
    "\\sum_{i=1}^{n} y^{(i)} \\frac{\\partial \\log a^{(i)}}{\\partial w}  + \n",
    "(1 - y^{(i)}) \\frac{\\partial \\log (1 - a^{(i)})}{\\partial w}}\\\\\n",
    " & = {\\displaystyle \\frac{-1}{n} \n",
    "\\sum_{i=1}^{n} \\frac{y^{(i)}}{a^{(i)}} \n",
    "\\frac{\\partial a^{(i)}}{\\partial w}  + \n",
    "\\frac{1 - y^{(i)}}{1 - a^{(i)}}\n",
    "\\frac{\\partial(1 - a^{(i)})}{\\partial w}}\\\\\n",
    " & = {\\displaystyle \\frac{-1}{n} \n",
    "\\sum_{i=1}^{n} \\frac{y^{(i)}}{a^{(i)}} \n",
    "\\frac{\\partial a^{(i)}}{\\partial w}  -\n",
    "\\frac{1 - y^{(i)}}{1 - a^{(i)}}\n",
    "\\frac{\\partial(a^{(i)})}{\\partial w}}\\\\\n",
    " & = {\\displaystyle \\frac{-1}{n} \n",
    "\\sum_{i=1}^{n} \\frac{y^{(i)}}{a^{(i)}} \n",
    "a^{(i)} (1 - a^{(i)}) x^{(i)}  -\n",
    "\\frac{1 - y^{(i)}}{1 - a^{(i)}}\n",
    "a^{(i)} (1 - a^{(i)}) x^{(i)}}\n",
    "\\\\\n",
    " & = {\\displaystyle \\frac{-1}{n} \n",
    "\\sum_{i=1}^{n} y^{(i)}(1 - a^{(i)}) x^{(i)} -\n",
    "(1 - y^{(i)})\n",
    "a^{(i)} \n",
    "x^{(i)}}\\\\\n",
    " & = {\\displaystyle \\frac{-1}{n} \n",
    "\\sum_{i=1}^{n} y^{(i)}(1 - a^{(i)}) x^{(i)} -\n",
    "(1 - y^{(i)})\n",
    "a^{(i)} \n",
    "x^{(i)}}\\\\\n",
    " & = {\\displaystyle \\frac{1}{n} \n",
    "\\sum_{i=1}^{n} \n",
    "(1 - y^{(i)}) a^{(i)} x^{(i)}} -\n",
    "y^{(i)}(1 - a^{(i)}) x^{(i)} \\\\\n",
    " & = {\\displaystyle \\frac{1}{n} \n",
    "\\sum_{i=1}^{n} \n",
    "(a^{(i)} - y^{(i)})  x^{(i)}}\n",
    "\\\\\n",
    "\\end{split}\n",
    "\\end{equation}\n",
    "\n",
    "This is a dot product\n",
    "`1./n * np.dot(a-y,x.T)`\n",
    "\n",
    "To calculate $\\frac{\\partial J (w,b)}{\\partial b}$, you can think $b = w$ and $x = 1$ then $\\frac{\\partial J (w,b)}{\\partial b} = {\\displaystyle \\frac{1}{n} \n",
    "\\sum_{i=1}^{n} \n",
    "(a^{(i)} - y^{(i)})}$ which is `1./n * np.sum(a-y)`"
   ]
  },
  {
   "cell_type": "markdown",
   "metadata": {},
   "source": [
    "# Logistic Regression\n"
   ]
  },
  {
   "cell_type": "code",
   "execution_count": 24,
   "metadata": {},
   "outputs": [],
   "source": [
    "class Classo():\n",
    "    def __init__(self, X, y, alpha =  0.0001, iteration = 1000):\n",
    "        self.X = X\n",
    "        self.y = y\n",
    "        \n",
    "        self.d = self.X.shape[0] # d: number of features\n",
    "        self.n = self.X.shape[1] # n: number of observations\n",
    "        \n",
    "        self.alpha = alpha\n",
    "        self.iteration = iteration\n",
    "        \n",
    "        self.w  = np.random.rand(1, self.d) # Random initial w values \n",
    "        self.b = np.random.rand()  # Random initial b value\n",
    "        \n",
    "    def sigmoid(self, z):\n",
    "        return 1 / (1 + np.exp(-z))\n",
    "    \n",
    "    def cross_entropy_loss(self, a, y):\n",
    "        return - (y* np.log(a) + (1 - y) * (np.log(1 - a)))\n",
    "\n",
    "    def fit(self):\n",
    "        self.Js = [] # Store Cost value for each 100th iteration \n",
    "\n",
    "        for i in range(self.iteration):\n",
    "            # Forward Propagation\n",
    "            z = np.dot(self.w, self.X) + self.b # Model z = wX +b\n",
    "            a = self.sigmoid(z)                 # Model a = sigmoid(z)\n",
    "            # Backward Propagation\n",
    "            dw = (1 / self.n) * np.dot((a-self.y),self.X.T)\n",
    "            db = (1 / self.n) * np.sum(a-self.y)\n",
    "            # Gradient Descent \n",
    "            self.w = self.w - self.alpha * dw\n",
    "            self.b = self.b - self.alpha * db\n",
    "            \n",
    "            if i%100: # Store Cost value for each 100th iteration \n",
    "                cost = self.cross_entropy_loss(a, self.y)\n",
    "                self.Js.append(np.sum(cost))\n",
    "                \n",
    "    def predict(self, X_test):\n",
    "        z = np.dot(self.w, X_test) + self.b\n",
    "        a = self.sigmoid(z)\n",
    "        \n",
    "        return 1 * (a > 0.5)"
   ]
  },
  {
   "cell_type": "markdown",
   "metadata": {},
   "source": [
    "## Train the Model"
   ]
  },
  {
   "cell_type": "code",
   "execution_count": 25,
   "metadata": {},
   "outputs": [],
   "source": [
    "cls = Classo(X, y , alpha = 13, iteration = 10000)\n",
    "cls.fit()"
   ]
  },
  {
   "cell_type": "code",
   "execution_count": 26,
   "metadata": {},
   "outputs": [
    {
     "name": "stdout",
     "output_type": "stream",
     "text": [
      "Model parameters: \n",
      "\tw = [[-537.50254663 2378.33913022   23.065216  ]]\n",
      "\tb = 544.5399324702965\n"
     ]
    }
   ],
   "source": [
    "print(\"Model parameters: \")\n",
    "print(\"\\tw = {}\".format(cls.w))\n",
    "print(\"\\tb = {}\".format(cls.b))"
   ]
  },
  {
   "cell_type": "code",
   "execution_count": 27,
   "metadata": {},
   "outputs": [
    {
     "data": {
      "image/png": "[encoded data removed]",
      "text/plain": [
       "<Figure size 432x288 with 1 Axes>"
      ]
     },
     "metadata": {
      "needs_background": "light"
     },
     "output_type": "display_data"
    }
   ],
   "source": [
    "plt.plot(cls.Js)\n",
    "plt.xlabel('iteration number'); plt.ylabel('Cost'); "
   ]
  },
  {
   "cell_type": "code",
   "execution_count": 28,
   "metadata": {},
   "outputs": [
    {
     "data": {
      "text/plain": [
       "Text(0.5, 1.0, 'Survival Chance')"
      ]
     },
     "execution_count": 28,
     "metadata": {},
     "output_type": "execute_result"
    },
    {
     "data": {
      "image/png": "[encoded data removed]",
      "text/plain": [
       "<Figure size 432x288 with 1 Axes>"
      ]
     },
     "metadata": {
      "needs_background": "light"
     },
     "output_type": "display_data"
    }
   ],
   "source": [
    "plt.bar(['pclass', 'sex', 'age'], cls.w[0])\n",
    "plt.title('Survival Chance')"
   ]
  },
  {
   "cell_type": "code",
   "execution_count": 29,
   "metadata": {},
   "outputs": [
    {
     "data": {
      "text/plain": [
       "array([[1, 1, 1, 1, 1, 1, 1, 1, 1, 1, 1, 1, 1]])"
      ]
     },
     "execution_count": 29,
     "metadata": {},
     "output_type": "execute_result"
    }
   ],
   "source": [
    "cls.predict(FirstClassGirls.T)"
   ]
  },
  {
   "cell_type": "code",
   "execution_count": 30,
   "metadata": {},
   "outputs": [
    {
     "name": "stdout",
     "output_type": "stream",
     "text": [
      "Confusion Matrix: \n",
      " [[161  14]\n",
      " [ 70  50]]\n",
      "Accuracy on Test Data:0.72\n"
     ]
    }
   ],
   "source": [
    "cls = Classo(X, y , alpha =  0.1, iteration = 10000)\n",
    "cls.fit()\n",
    "y_pred = cls.predict(X_test.T)[0] # Predict on test data\n",
    "\n",
    "print(\"Confusion Matrix: \\n {}\".format(confusion_matrix(y_test, y_pred)))\n",
    "print('Accuracy on Test Data:{:.2}'.format(accuracy_score(y_test, y_pred)))"
   ]
  },
  {
   "cell_type": "code",
   "execution_count": 31,
   "metadata": {},
   "outputs": [
    {
     "name": "stdout",
     "output_type": "stream",
     "text": [
      "Confusion Matrix: \n",
      " [[151  24]\n",
      " [ 37  83]]\n",
      "Accuracy on Test Data:0.79\n"
     ]
    }
   ],
   "source": [
    "cls = Classo(X, y , alpha =  0.01, iteration = 10000)\n",
    "cls.fit()\n",
    "y_pred = cls.predict(X_test.T)[0] # Predict on test data\n",
    "\n",
    "print(\"Confusion Matrix: \\n {}\".format(confusion_matrix(y_test, y_pred)))\n",
    "print('Accuracy on Test Data:{:.2}'.format(accuracy_score(y_test, y_pred)))"
   ]
  },
  {
   "cell_type": "code",
   "execution_count": 32,
   "metadata": {},
   "outputs": [],
   "source": [
    "import pandas as pd\n",
    "\n",
    "import requests\n",
    "import io\n",
    "\n",
    "\n",
    "url = \"https://raw.githubusercontent.com/uzay00/KaVe-Egitim/master/ARGE/Sorular/1-İseAlımRobotu/data.csv\"\n",
    "s = requests.get(url).content\n",
    "data = pd.read_csv(io.StringIO(s.decode('utf-8')))"
   ]
  },
  {
   "cell_type": "code",
   "execution_count": 33,
   "metadata": {},
   "outputs": [],
   "source": [
    "M = data.values\n",
    "X = M[:,:-1].T\n",
    "y = M[:,-1].T"
   ]
  },
  {
   "cell_type": "code",
   "execution_count": 34,
   "metadata": {},
   "outputs": [
    {
     "data": {
      "text/plain": [
       "array([[4.38511018, 4.87239669, 4.83024224, ..., 1.52976627, 1.30197604,\n",
       "        1.34044951],\n",
       "       [3.9027371 , 4.12776812, 4.77907697, ..., 2.31600693, 1.41804449,\n",
       "        1.16548149],\n",
       "       [3.85438855, 3.80262297, 2.97946713, ..., 4.05952622, 1.52541832,\n",
       "        3.0439767 ],\n",
       "       [3.46275234, 3.29671891, 2.29136188, ..., 0.84169662, 2.95788373,\n",
       "        2.61155526]])"
      ]
     },
     "execution_count": 34,
     "metadata": {},
     "output_type": "execute_result"
    }
   ],
   "source": [
    "X"
   ]
  },
  {
   "cell_type": "code",
   "execution_count": null,
   "metadata": {},
   "outputs": [],
   "source": []
  }
 ],
 "metadata": {
  "kernelspec": {
   "display_name": "Python 3",
   "language": "python",
   "name": "python3"
  },
  "language_info": {
   "codemirror_mode": {
    "name": "ipython",
    "version": 3
   },
   "file_extension": ".py",
   "mimetype": "text/x-python",
   "name": "python",
   "nbconvert_exporter": "python",
   "pygments_lexer": "ipython3",
   "version": "3.8.3"
  },
  "toc": {
   "base_numbering": 1,
   "nav_menu": {},
   "number_sections": true,
   "sideBar": true,
   "skip_h1_title": false,
   "title_cell": "Table of Contents",
   "title_sidebar": "Contents",
   "toc_cell": false,
   "toc_position": {},
   "toc_section_display": true,
   "toc_window_display": false
  },
  "varInspector": {
   "cols": {
    "lenName": 16,
    "lenType": 16,
    "lenVar": 40
   },
   "kernels_config": {
    "python": {
     "delete_cmd_postfix": "",
     "delete_cmd_prefix": "del ",
     "library": "var_list.py",
     "varRefreshCmd": "print(var_dic_list())"
    },
    "r": {
     "delete_cmd_postfix": ") ",
     "delete_cmd_prefix": "rm(",
     "library": "var_list.r",
     "varRefreshCmd": "cat(var_dic_list()) "
    }
   },
   "types_to_exclude": [
    "module",
    "function",
    "builtin_function_or_method",
    "instance",
    "_Feature"
   ],
   "window_display": false
  }
 },
 "nbformat": 4,
 "nbformat_minor": 2
}
