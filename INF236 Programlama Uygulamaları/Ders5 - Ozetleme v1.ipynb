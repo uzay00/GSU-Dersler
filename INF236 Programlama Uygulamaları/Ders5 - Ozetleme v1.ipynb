{
 "cells": [
  {
   "cell_type": "markdown",
   "metadata": {},
   "source": [
    "![](ozet.JPG)\n",
    "\n",
    "# Basit Ozetleme"
   ]
  },
  {
   "cell_type": "code",
   "execution_count": 48,
   "metadata": {},
   "outputs": [
    {
     "data": {
      "text/plain": [
       "[['w1', 'w2', 'w3'],\n",
       " ['w2', 'w4', 'w5'],\n",
       " ['w1', 'w6', 'w7'],\n",
       " ['w2', 'w4', 'w8']]"
      ]
     },
     "execution_count": 48,
     "metadata": {},
     "output_type": "execute_result"
    }
   ],
   "source": [
    "c1 = ['w1', 'w2', 'w3']\n",
    "c2 = ['w2', 'w4', 'w5']\n",
    "c3 = ['w1', 'w6', 'w7']\n",
    "c4 = ['w2', 'w4', 'w8']\n",
    "\n",
    "sentences = [c1, c2, c3 , c4]\n",
    "sentences"
   ]
  },
  {
   "cell_type": "code",
   "execution_count": 49,
   "metadata": {},
   "outputs": [
    {
     "data": {
      "text/plain": [
       "{'w1', 'w2', 'w3', 'w4', 'w5', 'w6', 'w7', 'w8'}"
      ]
     },
     "execution_count": 49,
     "metadata": {},
     "output_type": "execute_result"
    }
   ],
   "source": [
    "words = set(c1 + c2 + c3 + c4)\n",
    "words"
   ]
  },
  {
   "cell_type": "code",
   "execution_count": 50,
   "metadata": {},
   "outputs": [
    {
     "data": {
      "text/plain": [
       "{'w6': 1, 'w1': 2, 'w7': 1, 'w4': 2, 'w3': 1, 'w8': 1, 'w2': 3, 'w5': 1}"
      ]
     },
     "execution_count": 50,
     "metadata": {},
     "output_type": "execute_result"
    }
   ],
   "source": [
    "scores = dict()\n",
    "for w in words:\n",
    "    scores[w] = 0\n",
    "    for c in sentences:\n",
    "        if w in c:\n",
    "            scores[w] += 1\n",
    "scores"
   ]
  },
  {
   "cell_type": "code",
   "execution_count": 55,
   "metadata": {},
   "outputs": [
    {
     "data": {
      "text/plain": [
       "[6, 6, 4, 6]"
      ]
     },
     "execution_count": 55,
     "metadata": {},
     "output_type": "execute_result"
    }
   ],
   "source": [
    "sentence_scores = [0] * len(sentences)\n",
    "for i, c in enumerate(sentences):\n",
    "    sentence_score = 0\n",
    "    for w in c:\n",
    "        sentence_score += scores[w]\n",
    "    sentence_scores[i] = sentence_score\n",
    "sentence_scores"
   ]
  },
  {
   "cell_type": "code",
   "execution_count": 58,
   "metadata": {},
   "outputs": [
    {
     "data": {
      "text/plain": [
       "array([2, 0, 1, 3])"
      ]
     },
     "execution_count": 58,
     "metadata": {},
     "output_type": "execute_result"
    }
   ],
   "source": [
    "scores = np.array(sentence_scores)\n",
    "select = scores.argsort()\n",
    "select"
   ]
  },
  {
   "cell_type": "code",
   "execution_count": 59,
   "metadata": {},
   "outputs": [
    {
     "name": "stdout",
     "output_type": "stream",
     "text": [
      "['w1', 'w2', 'w3']\n",
      "['w2', 'w4', 'w5']\n",
      "['w2', 'w4', 'w8']\n"
     ]
    }
   ],
   "source": [
    "# Generate summary\n",
    "for i in select[-3:]:\n",
    "    print(sentences[i])"
   ]
  },
  {
   "cell_type": "code",
   "execution_count": null,
   "metadata": {},
   "outputs": [],
   "source": []
  },
  {
   "cell_type": "code",
   "execution_count": null,
   "metadata": {},
   "outputs": [],
   "source": []
  },
  {
   "cell_type": "markdown",
   "metadata": {},
   "source": [
    "# Gelişmiş Özetleme"
   ]
  },
  {
   "cell_type": "code",
   "execution_count": 1,
   "metadata": {},
   "outputs": [],
   "source": [
    "import re\n",
    "import time\n",
    "import numpy as np\n",
    "import pandas as pd\n",
    "from gensim.models import KeyedVectors\n",
    "from sklearn.metrics.pairwise import cosine_similarity"
   ]
  },
  {
   "cell_type": "markdown",
   "metadata": {},
   "source": [
    "word2vec Turkish: https://github.com/akoksal/Turkish-Word2Vec"
   ]
  },
  {
   "cell_type": "code",
   "execution_count": 2,
   "metadata": {},
   "outputs": [
    {
     "name": "stdout",
     "output_type": "stream",
     "text": [
      "total time:  4.114732027053833\n"
     ]
    }
   ],
   "source": [
    "start = time.time()\n",
    "\n",
    "path = '/Users/uzaycetin/Desktop/INF236-word2vec/'\n",
    "word_vectors = KeyedVectors.load_word2vec_format(path + 'trmodel', binary=True)\n",
    "\n",
    "print(\"total time: \", time.time() - start)"
   ]
  },
  {
   "cell_type": "code",
   "execution_count": 136,
   "metadata": {},
   "outputs": [
    {
     "data": {
      "text/plain": [
       "array([[0.6765889]], dtype=float32)"
      ]
     },
     "execution_count": 136,
     "metadata": {},
     "output_type": "execute_result"
    }
   ],
   "source": [
    "cosine_similarity(word_vectors['elma'].reshape(1, -1), \n",
    "                  word_vectors['armut'].reshape(1, -1))"
   ]
  },
  {
   "cell_type": "code",
   "execution_count": 139,
   "metadata": {},
   "outputs": [
    {
     "data": {
      "text/plain": [
       "array([[0.49386394]], dtype=float32)"
      ]
     },
     "execution_count": 139,
     "metadata": {},
     "output_type": "execute_result"
    }
   ],
   "source": [
    "cosine_similarity(word_vectors['elma'].reshape(1, -1), \n",
    "                  word_vectors['portakal'].reshape(1, -1))"
   ]
  },
  {
   "cell_type": "code",
   "execution_count": 138,
   "metadata": {},
   "outputs": [
    {
     "data": {
      "text/plain": [
       "array([[0.06093152]], dtype=float32)"
      ]
     },
     "execution_count": 138,
     "metadata": {},
     "output_type": "execute_result"
    }
   ],
   "source": [
    "cosine_similarity(word_vectors['elma'].reshape(1, -1), \n",
    "                  word_vectors['sandalye'].reshape(1, -1))"
   ]
  },
  {
   "cell_type": "markdown",
   "metadata": {},
   "source": [
    "\n",
    "Turkce stopwords lerden kurtul : https://github.com/sgsinclair/trombone/blob/master/src/main/resources/org/voyanttools/trombone/keywords/stop.tr.turkish-lucene.txt\n",
    "\n",
    "Kelime kokune in"
   ]
  },
  {
   "cell_type": "code",
   "execution_count": 140,
   "metadata": {},
   "outputs": [],
   "source": [
    "url ='https://raw.githubusercontent.com/sgsinclair/trombone/master/src/main/resources/org/voyanttools/trombone/keywords/stop.tr.turkish-lucene.txt'\n",
    "data = pd.read_csv(url)"
   ]
  },
  {
   "cell_type": "code",
   "execution_count": 141,
   "metadata": {},
   "outputs": [
    {
     "data": {
      "text/html": [
       "<div>\n",
       "<style scoped>\n",
       "    .dataframe tbody tr th:only-of-type {\n",
       "        vertical-align: middle;\n",
       "    }\n",
       "\n",
       "    .dataframe tbody tr th {\n",
       "        vertical-align: top;\n",
       "    }\n",
       "\n",
       "    .dataframe thead th {\n",
       "        text-align: right;\n",
       "    }\n",
       "</style>\n",
       "<table border=\"1\" class=\"dataframe\">\n",
       "  <thead>\n",
       "    <tr style=\"text-align: right;\">\n",
       "      <th></th>\n",
       "      <th># Turkish stopwords from LUCENE-559</th>\n",
       "    </tr>\n",
       "  </thead>\n",
       "  <tbody>\n",
       "    <tr>\n",
       "      <th>0</th>\n",
       "      <td># merged with the list from \"Information Retri...</td>\n",
       "    </tr>\n",
       "    <tr>\n",
       "      <th>1</th>\n",
       "      <td>#   (http://www.users.muohio.edu/canf/papers/J...</td>\n",
       "    </tr>\n",
       "    <tr>\n",
       "      <th>2</th>\n",
       "      <td>acaba</td>\n",
       "    </tr>\n",
       "    <tr>\n",
       "      <th>3</th>\n",
       "      <td>altmış</td>\n",
       "    </tr>\n",
       "    <tr>\n",
       "      <th>4</th>\n",
       "      <td>altı</td>\n",
       "    </tr>\n",
       "    <tr>\n",
       "      <th>...</th>\n",
       "      <td>...</td>\n",
       "    </tr>\n",
       "    <tr>\n",
       "      <th>206</th>\n",
       "      <td>yine</td>\n",
       "    </tr>\n",
       "    <tr>\n",
       "      <th>207</th>\n",
       "      <td>yirmi</td>\n",
       "    </tr>\n",
       "    <tr>\n",
       "      <th>208</th>\n",
       "      <td>yoksa</td>\n",
       "    </tr>\n",
       "    <tr>\n",
       "      <th>209</th>\n",
       "      <td>yüz</td>\n",
       "    </tr>\n",
       "    <tr>\n",
       "      <th>210</th>\n",
       "      <td>zaten</td>\n",
       "    </tr>\n",
       "  </tbody>\n",
       "</table>\n",
       "<p>211 rows × 1 columns</p>\n",
       "</div>"
      ],
      "text/plain": [
       "                   # Turkish stopwords from LUCENE-559\n",
       "0    # merged with the list from \"Information Retri...\n",
       "1    #   (http://www.users.muohio.edu/canf/papers/J...\n",
       "2                                                acaba\n",
       "3                                               altmış\n",
       "4                                                 altı\n",
       "..                                                 ...\n",
       "206                                               yine\n",
       "207                                              yirmi\n",
       "208                                              yoksa\n",
       "209                                                yüz\n",
       "210                                              zaten\n",
       "\n",
       "[211 rows x 1 columns]"
      ]
     },
     "execution_count": 141,
     "metadata": {},
     "output_type": "execute_result"
    }
   ],
   "source": [
    "data"
   ]
  },
  {
   "cell_type": "code",
   "execution_count": 142,
   "metadata": {},
   "outputs": [],
   "source": [
    "stpwrds = set(data[2:].iloc[:, 0].values)"
   ]
  },
  {
   "cell_type": "code",
   "execution_count": 143,
   "metadata": {},
   "outputs": [],
   "source": [
    "def vectorize(cumle, stpwrds = stpwrds):\n",
    "    kelimeler = cumle.split()\n",
    "    vc = np.zeros((1, 400))\n",
    "    n = 0\n",
    "    for v in kelimeler:\n",
    "        if v in stpwrds:\n",
    "            continue\n",
    "        try:\n",
    "            vc += word_vectors[v].reshape(1,400)\n",
    "            n +=1\n",
    "        except:\n",
    "            continue\n",
    "    vc /= n \n",
    "    return vc"
   ]
  },
  {
   "cell_type": "markdown",
   "metadata": {},
   "source": [
    "# Ozetleme"
   ]
  },
  {
   "cell_type": "code",
   "execution_count": 144,
   "metadata": {},
   "outputs": [
    {
     "data": {
      "text/plain": [
       "['fenerbahçe spor klubü ciddi başarılar kazandı sen ben ben',\n",
       " 'damlayan su taşı deler ben sen o ovidius',\n",
       " 'hazine eziyet çekene gözükür ben sen ben',\n",
       " 'fenerbahçe vurdu gol oldu',\n",
       " 'galatasaray voleybol takımı kazanır']"
      ]
     },
     "execution_count": 144,
     "metadata": {},
     "output_type": "execute_result"
    }
   ],
   "source": [
    "sentences = ['Fenerbahçe spor klubü ciddi başarılar kazandı sen ben ben',\n",
    "             'Damlayan su, taşı deler ben sen o. Ovidius',\n",
    "             'Hazine, eziyet çekene gözükür ben sen ben',\n",
    "             'Fenerbahçe vurdu gol oldu',\n",
    "             'Galatasaray voleybol takımı kazanır']\n",
    "\n",
    "clean_sentences = [re.sub('[;!@#’‘?.,\\'$]', '', s).lower() for s in sentences]\n",
    "clean_sentences"
   ]
  },
  {
   "cell_type": "code",
   "execution_count": 113,
   "metadata": {},
   "outputs": [],
   "source": [
    "vectors = [vectorize(s) for s in clean_sentences]"
   ]
  },
  {
   "cell_type": "code",
   "execution_count": 114,
   "metadata": {},
   "outputs": [
    {
     "data": {
      "text/plain": [
       "(5, 1, 400)"
      ]
     },
     "execution_count": 114,
     "metadata": {},
     "output_type": "execute_result"
    }
   ],
   "source": [
    "n = len(sentences)\n",
    "X = np.concatenate(vectors).reshape(n,1,400)\n",
    "X.shape"
   ]
  },
  {
   "cell_type": "markdown",
   "metadata": {},
   "source": [
    "# Cosine"
   ]
  },
  {
   "cell_type": "code",
   "execution_count": 115,
   "metadata": {},
   "outputs": [],
   "source": [
    "def dot(X, Y):\n",
    "    result = 0\n",
    "    for i in range(len(X)):\n",
    "        result += X[i] * Y[i]\n",
    "    return result\n",
    "\n",
    "def norm(X):\n",
    "    result = dot(X, X)\n",
    "    return result**0.5\n",
    "\n",
    "def cos(X, Y):\n",
    "    return dot(X, X)/ (norm(X) * norm(Y))"
   ]
  },
  {
   "cell_type": "code",
   "execution_count": 116,
   "metadata": {},
   "outputs": [
    {
     "data": {
      "text/plain": [
       "1.0000000000000002"
      ]
     },
     "execution_count": 116,
     "metadata": {},
     "output_type": "execute_result"
    }
   ],
   "source": [
    "cos(X[0].flatten(), X[0].flatten())"
   ]
  },
  {
   "cell_type": "code",
   "execution_count": 117,
   "metadata": {},
   "outputs": [
    {
     "data": {
      "text/plain": [
       "array([[1.]])"
      ]
     },
     "execution_count": 117,
     "metadata": {},
     "output_type": "execute_result"
    }
   ],
   "source": [
    "cosine_similarity(X[0], X[0])"
   ]
  },
  {
   "cell_type": "code",
   "execution_count": 118,
   "metadata": {},
   "outputs": [],
   "source": [
    "sim_mat = np.zeros((n,n))\n",
    "for i in range(n):\n",
    "    for j in range(n):\n",
    "        sim_mat[i,j] = cos(X[i].flatten(), X[j].flatten())"
   ]
  },
  {
   "cell_type": "code",
   "execution_count": 119,
   "metadata": {},
   "outputs": [
    {
     "data": {
      "text/plain": [
       "array([[1.        , 1.41828768, 1.93636713, 0.67920516, 0.71931469],\n",
       "       [0.70507558, 1.        , 1.36528517, 0.47889097, 0.50717122],\n",
       "       [0.51643099, 0.73244771, 1.        , 0.35076259, 0.3714764 ],\n",
       "       [1.47230919, 2.08815798, 2.85093113, 1.        , 1.05905363],\n",
       "       [1.39021212, 1.97172072, 2.69196106, 0.94423925, 1.        ]])"
      ]
     },
     "execution_count": 119,
     "metadata": {},
     "output_type": "execute_result"
    }
   ],
   "source": [
    "sim_mat"
   ]
  },
  {
   "cell_type": "code",
   "execution_count": 120,
   "metadata": {},
   "outputs": [
    {
     "data": {
      "text/plain": [
       "array([5.75317466, 4.05642293, 2.9711177 , 8.47045193, 7.99813314])"
      ]
     },
     "execution_count": 120,
     "metadata": {},
     "output_type": "execute_result"
    }
   ],
   "source": [
    "scores = sim_mat.sum(axis = 1)\n",
    "scores"
   ]
  },
  {
   "cell_type": "code",
   "execution_count": 121,
   "metadata": {},
   "outputs": [
    {
     "data": {
      "text/plain": [
       "array([2, 1, 0, 4, 3])"
      ]
     },
     "execution_count": 121,
     "metadata": {},
     "output_type": "execute_result"
    }
   ],
   "source": [
    "select = scores.argsort()\n",
    "select"
   ]
  },
  {
   "cell_type": "code",
   "execution_count": 122,
   "metadata": {},
   "outputs": [
    {
     "data": {
      "text/plain": [
       "array([0, 4, 3])"
      ]
     },
     "execution_count": 122,
     "metadata": {},
     "output_type": "execute_result"
    }
   ],
   "source": [
    "select[-3:]"
   ]
  },
  {
   "cell_type": "code",
   "execution_count": 123,
   "metadata": {},
   "outputs": [
    {
     "name": "stdout",
     "output_type": "stream",
     "text": [
      "Fenerbahçe spor klubü ciddi başarılar kazandı sen ben ben\n",
      "Galatasaray voleybol takımı kazanır\n",
      "Fenerbahçe vurdu gol oldu\n"
     ]
    }
   ],
   "source": [
    "# Generate summary\n",
    "for i in select[-3:]:\n",
    "    print(sentences[i])"
   ]
  },
  {
   "cell_type": "markdown",
   "metadata": {},
   "source": [
    "Stop words atılmadıgında yanlıs ozet\n",
    "\n",
    "```\n",
    "Hazine, eziyet çekene gözükür ben sen ben\n",
    "Galatasaray voleybol takımı kazanır\n",
    "Fenerbahçe vurdu gol oldu\n",
    "```"
   ]
  },
  {
   "cell_type": "code",
   "execution_count": null,
   "metadata": {},
   "outputs": [],
   "source": []
  }
 ],
 "metadata": {
  "kernelspec": {
   "display_name": "Python 3",
   "language": "python",
   "name": "python3"
  },
  "language_info": {
   "codemirror_mode": {
    "name": "ipython",
    "version": 3
   },
   "file_extension": ".py",
   "mimetype": "text/x-python",
   "name": "python",
   "nbconvert_exporter": "python",
   "pygments_lexer": "ipython3",
   "version": "3.8.3"
  },
  "toc": {
   "base_numbering": 1,
   "nav_menu": {},
   "number_sections": true,
   "sideBar": true,
   "skip_h1_title": false,
   "title_cell": "Table of Contents",
   "title_sidebar": "Contents",
   "toc_cell": false,
   "toc_position": {},
   "toc_section_display": true,
   "toc_window_display": false
  },
  "varInspector": {
   "cols": {
    "lenName": 16,
    "lenType": 16,
    "lenVar": 40
   },
   "kernels_config": {
    "python": {
     "delete_cmd_postfix": "",
     "delete_cmd_prefix": "del ",
     "library": "var_list.py",
     "varRefreshCmd": "print(var_dic_list())"
    },
    "r": {
     "delete_cmd_postfix": ") ",
     "delete_cmd_prefix": "rm(",
     "library": "var_list.r",
     "varRefreshCmd": "cat(var_dic_list()) "
    }
   },
   "types_to_exclude": [
    "module",
    "function",
    "builtin_function_or_method",
    "instance",
    "_Feature"
   ],
   "window_display": false
  }
 },
 "nbformat": 4,
 "nbformat_minor": 4
}
