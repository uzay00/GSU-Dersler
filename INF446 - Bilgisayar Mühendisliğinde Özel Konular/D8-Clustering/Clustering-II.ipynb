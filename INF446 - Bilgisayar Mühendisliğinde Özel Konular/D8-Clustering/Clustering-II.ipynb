{
 "cells": [
  {
   "cell_type": "code",
   "execution_count": 20,
   "metadata": {},
   "outputs": [],
   "source": [
    "import matplotlib.pyplot as plt\n",
    "import numpy as np\n",
    "\n",
    "from sklearn.datasets import make_blobs\n",
    "\n",
    "centers = np.array([[-5,7],\n",
    "                  [0,0],\n",
    "                  [10,10]])\n",
    "X, y = make_blobs(n_samples=1000, centers=centers, n_features=2, random_state=0)"
   ]
  },
  {
   "cell_type": "code",
   "execution_count": 21,
   "metadata": {
    "scrolled": true
   },
   "outputs": [
    {
     "data": {
      "image/png": "[encoded data removed]",
      "text/plain": [
       "<Figure size 432x288 with 1 Axes>"
      ]
     },
     "metadata": {
      "needs_background": "light"
     },
     "output_type": "display_data"
    }
   ],
   "source": [
    "for i in range(3):\n",
    "    plt.plot(X[y==i,0], X[y==i,1], 'o')\n",
    "for i in range(3):\n",
    "    plt.plot(centers[i,0], centers[i,1], 'kx', markersize = 15)"
   ]
  },
  {
   "cell_type": "markdown",
   "metadata": {},
   "source": [
    "# GMM\n",
    "\n",
    "Algorithm\n",
    "![](kmeans.png)\n",
    "\n",
    "EM\n",
    "![](EM.png)"
   ]
  },
  {
   "cell_type": "code",
   "execution_count": 37,
   "metadata": {},
   "outputs": [
    {
     "data": {
      "text/plain": [
       "((3, 1, 2), (1, 1000, 2))"
      ]
     },
     "execution_count": 37,
     "metadata": {},
     "output_type": "execute_result"
    }
   ],
   "source": [
    "K = 3\n",
    "m = np.random.rand(K,X.shape[1])* 10\n",
    "\n",
    "me = m.reshape( m.shape[0], -1, m.shape[1])\n",
    "XE = X.reshape(-1, *X.shape)\n",
    "\n",
    "me.shape, XE.shape"
   ]
  },
  {
   "cell_type": "code",
   "execution_count": 38,
   "metadata": {},
   "outputs": [
    {
     "data": {
      "text/plain": [
       "(3, 1000, 2)"
      ]
     },
     "execution_count": 38,
     "metadata": {},
     "output_type": "execute_result"
    }
   ],
   "source": [
    "D = XE - me\n",
    "D.shape"
   ]
  },
  {
   "cell_type": "code",
   "execution_count": 39,
   "metadata": {},
   "outputs": [
    {
     "data": {
      "text/plain": [
       "(2, 1000, 3)"
      ]
     },
     "execution_count": 39,
     "metadata": {},
     "output_type": "execute_result"
    }
   ],
   "source": [
    "D.T.shape"
   ]
  },
  {
   "cell_type": "code",
   "execution_count": 54,
   "metadata": {},
   "outputs": [
    {
     "data": {
      "text/plain": [
       "array([[[40.35685468,  8.87608565],\n",
       "        [ 8.87608565, 47.92259547]],\n",
       "\n",
       "       [[70.17966412, 14.71053877],\n",
       "        [14.71053877, 19.00266975]],\n",
       "\n",
       "       [[42.03132552,  6.34153515],\n",
       "        [ 6.34153515, 35.54780416]]])"
      ]
     },
     "execution_count": 54,
     "metadata": {},
     "output_type": "execute_result"
    }
   ],
   "source": [
    "S = np.einsum('ijk,ijb->ikb',D,D) /(X.shape[0] - 1)\n",
    "S"
   ]
  },
  {
   "cell_type": "code",
   "execution_count": 49,
   "metadata": {},
   "outputs": [
    {
     "data": {
      "text/plain": [
       "array([[40.35685468,  8.87608565],\n",
       "       [ 8.87608565, 47.92259547]])"
      ]
     },
     "execution_count": 49,
     "metadata": {},
     "output_type": "execute_result"
    }
   ],
   "source": [
    "D[0].T.dot(D[0])/(X.shape[0] - 1)"
   ]
  },
  {
   "cell_type": "code",
   "execution_count": 55,
   "metadata": {},
   "outputs": [
    {
     "data": {
      "text/plain": [
       "array([[70.17966412, 14.71053877],\n",
       "       [14.71053877, 19.00266975]])"
      ]
     },
     "execution_count": 55,
     "metadata": {},
     "output_type": "execute_result"
    }
   ],
   "source": [
    "D[1].T.dot(D[1])/(X.shape[0] - 1)"
   ]
  },
  {
   "cell_type": "code",
   "execution_count": 57,
   "metadata": {},
   "outputs": [
    {
     "data": {
      "text/plain": [
       "(array([[2.25580584, 0.26386706],\n",
       "        [7.1313815 , 6.11274807],\n",
       "        [3.07149584, 1.56721697]]),\n",
       " array([[[40.35685468,  8.87608565],\n",
       "         [ 8.87608565, 47.92259547]],\n",
       " \n",
       "        [[70.17966412, 14.71053877],\n",
       "         [14.71053877, 19.00266975]],\n",
       " \n",
       "        [[42.03132552,  6.34153515],\n",
       "         [ 6.34153515, 35.54780416]]]))"
      ]
     },
     "execution_count": 57,
     "metadata": {},
     "output_type": "execute_result"
    }
   ],
   "source": [
    "m, S"
   ]
  },
  {
   "cell_type": "code",
   "execution_count": 59,
   "metadata": {},
   "outputs": [
    {
     "data": {
      "text/plain": [
       "array([0.33333333, 0.33333333, 0.33333333])"
      ]
     },
     "execution_count": 59,
     "metadata": {},
     "output_type": "execute_result"
    }
   ],
   "source": [
    "prior = np.array([1/K] * K)\n",
    "prior"
   ]
  },
  {
   "cell_type": "code",
   "execution_count": 63,
   "metadata": {},
   "outputs": [],
   "source": [
    "from scipy.stats import multivariate_normal\n",
    "\n",
    "def model(x, mu, std, prior, K =3):\n",
    "    results = np.array([multivariate_normal.pdf(x, mu[i], std[i]) *  prior[i] \n",
    "                        for i in range(K)\n",
    "                        for x in X\n",
    "                       ])\n",
    "    return results/results.sum()"
   ]
  },
  {
   "cell_type": "code",
   "execution_count": 64,
   "metadata": {},
   "outputs": [
    {
     "data": {
      "text/plain": [
       "array([0.36397212, 0.23354464, 0.40248324])"
      ]
     },
     "execution_count": 64,
     "metadata": {},
     "output_type": "execute_result"
    }
   ],
   "source": [
    "x = np.array([1,1])\n",
    "model(x = x, mu = m, std = S, prior = prior, K =3)"
   ]
  },
  {
   "cell_type": "code",
   "execution_count": 83,
   "metadata": {},
   "outputs": [],
   "source": [
    "results = np.array([[multivariate_normal.pdf(x, m[i], S[i]) *  prior[i] \n",
    "                    for i in range(K)]\n",
    "                    for x in X\n",
    "                   ])\n",
    "h = results/results.sum(keepdims =True, axis = 1)"
   ]
  },
  {
   "cell_type": "code",
   "execution_count": 84,
   "metadata": {},
   "outputs": [
    {
     "data": {
      "text/plain": [
       "array([[0.29082507, 0.3806219 , 0.32855304],\n",
       "       [0.29450092, 0.3753729 , 0.33012618],\n",
       "       [0.18814048, 0.59449286, 0.21736667],\n",
       "       ...,\n",
       "       [0.42249538, 0.14632292, 0.43118171],\n",
       "       [0.37974837, 0.20513024, 0.41512139],\n",
       "       [0.19875755, 0.57511271, 0.22612974]])"
      ]
     },
     "execution_count": 84,
     "metadata": {},
     "output_type": "execute_result"
    }
   ],
   "source": [
    "h"
   ]
  },
  {
   "cell_type": "code",
   "execution_count": 85,
   "metadata": {},
   "outputs": [
    {
     "data": {
      "text/plain": [
       "array([[2.25580584, 0.26386706],\n",
       "       [7.1313815 , 6.11274807],\n",
       "       [3.07149584, 1.56721697]])"
      ]
     },
     "execution_count": 85,
     "metadata": {},
     "output_type": "execute_result"
    }
   ],
   "source": [
    "m"
   ]
  },
  {
   "cell_type": "code",
   "execution_count": 91,
   "metadata": {},
   "outputs": [
    {
     "data": {
      "text/plain": [
       "array([[0.0725228 , 1.25646777],\n",
       "       [1.42468944, 2.93569315],\n",
       "       [0.14105128, 1.46593579]])"
      ]
     },
     "execution_count": 91,
     "metadata": {},
     "output_type": "execute_result"
    }
   ],
   "source": [
    "new_m = np.array([(X * h[:,i:(i+1)]).mean(axis = 0) for i in range(K)])\n",
    "new_m"
   ]
  },
  {
   "cell_type": "code",
   "execution_count": 92,
   "metadata": {},
   "outputs": [
    {
     "data": {
      "text/plain": [
       "array([0.14105128, 1.46593579])"
      ]
     },
     "execution_count": 92,
     "metadata": {},
     "output_type": "execute_result"
    }
   ],
   "source": [
    "i = 2\n",
    "(X * h[:,i:(i+1)]).mean(axis = 0)"
   ]
  },
  {
   "cell_type": "code",
   "execution_count": 95,
   "metadata": {},
   "outputs": [
    {
     "data": {
      "text/plain": [
       "array([[[ 1.80111317, -0.14197499],\n",
       "        [-0.14197499,  0.97364348]],\n",
       "\n",
       "       [[12.20843164,  6.99847081],\n",
       "        [ 6.99847081,  6.5758221 ]],\n",
       "\n",
       "       [[ 2.46735066, -0.04389295],\n",
       "        [-0.04389295,  1.23890711]]])"
      ]
     },
     "execution_count": 95,
     "metadata": {},
     "output_type": "execute_result"
    }
   ],
   "source": [
    "new_S = np.array([np.cov((X * h[:,i:(i+1)]).T) for i in range(K)])\n",
    "new_S"
   ]
  },
  {
   "cell_type": "code",
   "execution_count": 97,
   "metadata": {},
   "outputs": [
    {
     "data": {
      "text/plain": [
       "array([0.28774097, 0.39332565, 0.31893337])"
      ]
     },
     "execution_count": 97,
     "metadata": {},
     "output_type": "execute_result"
    }
   ],
   "source": [
    "new_prior = h.mean(axis = 0)\n",
    "new_prior"
   ]
  },
  {
   "cell_type": "markdown",
   "metadata": {},
   "source": [
    "# GMM"
   ]
  },
  {
   "cell_type": "code",
   "execution_count": 177,
   "metadata": {},
   "outputs": [
    {
     "name": "stdout",
     "output_type": "stream",
     "text": [
      "[[8.36793848 9.11619277]\n",
      " [4.37252536 5.79137974]\n",
      " [9.01377763 4.2698103 ]]\n"
     ]
    }
   ],
   "source": [
    "K = 3\n",
    "m = np.random.rand(K,X.shape[1])* 10\n",
    "\n",
    "me = m.reshape( m.shape[0], -1, m.shape[1])\n",
    "XE = X.reshape(-1, *X.shape)\n",
    "\n",
    "D = XE - me\n",
    "S = np.einsum('ijk,ijb->ikb',D,D) /(X.shape[0] - 1)\n",
    "prior = np.array([1/K] * K)\n",
    "print(m)"
   ]
  },
  {
   "cell_type": "code",
   "execution_count": 178,
   "metadata": {
    "scrolled": false
   },
   "outputs": [
    {
     "name": "stdout",
     "output_type": "stream",
     "text": [
      "[[[6.44363606 2.07750415]\n",
      "  [2.07750415 1.53701408]]\n",
      "\n",
      " [[8.01973815 2.24848398]\n",
      "  [2.24848398 3.48633892]]\n",
      "\n",
      " [[8.55325282 0.24694514]\n",
      "  [0.24694514 1.30164326]]]\n",
      "[[[ 4.90968295e-02  4.02661779e-02]\n",
      "  [ 4.02661779e-02  1.55746411e-01]]\n",
      "\n",
      " [[ 4.00428446e+01  1.43769080e+01]\n",
      "  [ 1.43769080e+01  2.40310855e+01]]\n",
      "\n",
      " [[ 4.73594220e-02 -2.55037766e-03]\n",
      "  [-2.55037766e-03  5.16950817e-02]]]\n",
      "[[[1.30675211e-02 3.73097670e-02]\n",
      "  [3.73097670e-02 1.32612707e-01]]\n",
      "\n",
      " [[4.07202628e+01 1.44955787e+01]\n",
      "  [1.44955787e+01 2.56170067e+01]]\n",
      "\n",
      " [[6.74022762e-03 1.19061916e-02]\n",
      "  [1.19061916e-02 2.94775283e-02]]]\n",
      "[[[4.81417746e-03 1.58315678e-02]\n",
      "  [1.58315678e-02 5.31804428e-02]]\n",
      "\n",
      " [[4.07805478e+01 1.46795278e+01]\n",
      "  [1.46795278e+01 2.63457490e+01]]\n",
      "\n",
      " [[5.42757960e-04 1.50237043e-03]\n",
      "  [1.50237043e-03 4.24550796e-03]]]\n",
      "[[[1.32134088e-03 4.35936462e-03]\n",
      "  [4.35936462e-03 1.43999791e-02]]\n",
      "\n",
      " [[4.07994992e+01 1.47515157e+01]\n",
      "  [1.47515157e+01 2.66245858e+01]]\n",
      "\n",
      " [[1.04489105e-11 2.90882099e-11]\n",
      "  [2.90882099e-11 8.09772682e-11]]]\n",
      "[[[7.68721787e-12 2.55911228e-11]\n",
      "  [2.55911228e-11 8.51940943e-11]]\n",
      "\n",
      " [[4.08045849e+01 1.47709830e+01]\n",
      "  [1.47709830e+01 2.66991548e+01]]\n",
      "\n",
      " [[0.00000000e+00 0.00000000e+00]\n",
      "  [0.00000000e+00 0.00000000e+00]]]\n"
     ]
    },
    {
     "ename": "LinAlgError",
     "evalue": "singular matrix",
     "output_type": "error",
     "traceback": [
      "\u001b[0;31m---------------------------------------------------------------------------\u001b[0m",
      "\u001b[0;31mLinAlgError\u001b[0m                               Traceback (most recent call last)",
      "\u001b[0;32m<ipython-input-178-b593bdec24be>\u001b[0m in \u001b[0;36m<module>\u001b[0;34m\u001b[0m\n\u001b[1;32m      1\u001b[0m \u001b[0;32mfor\u001b[0m \u001b[0mi\u001b[0m \u001b[0;32min\u001b[0m \u001b[0mrange\u001b[0m\u001b[0;34m(\u001b[0m\u001b[0;36m10\u001b[0m\u001b[0;34m)\u001b[0m\u001b[0;34m:\u001b[0m\u001b[0;34m\u001b[0m\u001b[0;34m\u001b[0m\u001b[0m\n\u001b[0;32m----> 2\u001b[0;31m     results = np.array([[ multivariate_normal.pdf(x, m[i], S[i]) * prior[i]\n\u001b[0m\u001b[1;32m      3\u001b[0m                         for i in range(K)]\n\u001b[1;32m      4\u001b[0m                         \u001b[0;32mfor\u001b[0m \u001b[0mx\u001b[0m \u001b[0;32min\u001b[0m \u001b[0mX\u001b[0m\u001b[0;34m\u001b[0m\u001b[0;34m\u001b[0m\u001b[0m\n\u001b[1;32m      5\u001b[0m                        ])\n",
      "\u001b[0;32m<ipython-input-178-b593bdec24be>\u001b[0m in \u001b[0;36m<listcomp>\u001b[0;34m(.0)\u001b[0m\n\u001b[1;32m      1\u001b[0m \u001b[0;32mfor\u001b[0m \u001b[0mi\u001b[0m \u001b[0;32min\u001b[0m \u001b[0mrange\u001b[0m\u001b[0;34m(\u001b[0m\u001b[0;36m10\u001b[0m\u001b[0;34m)\u001b[0m\u001b[0;34m:\u001b[0m\u001b[0;34m\u001b[0m\u001b[0;34m\u001b[0m\u001b[0m\n\u001b[0;32m----> 2\u001b[0;31m     results = np.array([[ multivariate_normal.pdf(x, m[i], S[i]) * prior[i]\n\u001b[0m\u001b[1;32m      3\u001b[0m                         for i in range(K)]\n\u001b[1;32m      4\u001b[0m                         \u001b[0;32mfor\u001b[0m \u001b[0mx\u001b[0m \u001b[0;32min\u001b[0m \u001b[0mX\u001b[0m\u001b[0;34m\u001b[0m\u001b[0;34m\u001b[0m\u001b[0m\n\u001b[1;32m      5\u001b[0m                        ])\n",
      "\u001b[0;32m<ipython-input-178-b593bdec24be>\u001b[0m in \u001b[0;36m<listcomp>\u001b[0;34m(.0)\u001b[0m\n\u001b[1;32m      1\u001b[0m \u001b[0;32mfor\u001b[0m \u001b[0mi\u001b[0m \u001b[0;32min\u001b[0m \u001b[0mrange\u001b[0m\u001b[0;34m(\u001b[0m\u001b[0;36m10\u001b[0m\u001b[0;34m)\u001b[0m\u001b[0;34m:\u001b[0m\u001b[0;34m\u001b[0m\u001b[0;34m\u001b[0m\u001b[0m\n\u001b[0;32m----> 2\u001b[0;31m     results = np.array([[ multivariate_normal.pdf(x, m[i], S[i]) * prior[i]\n\u001b[0m\u001b[1;32m      3\u001b[0m                         for i in range(K)]\n\u001b[1;32m      4\u001b[0m                         \u001b[0;32mfor\u001b[0m \u001b[0mx\u001b[0m \u001b[0;32min\u001b[0m \u001b[0mX\u001b[0m\u001b[0;34m\u001b[0m\u001b[0;34m\u001b[0m\u001b[0m\n\u001b[1;32m      5\u001b[0m                        ])\n",
      "\u001b[0;32m~/opt/anaconda3/lib/python3.8/site-packages/scipy/stats/_multivariate.py\u001b[0m in \u001b[0;36mpdf\u001b[0;34m(self, x, mean, cov, allow_singular)\u001b[0m\n\u001b[1;32m    523\u001b[0m         \u001b[0mdim\u001b[0m\u001b[0;34m,\u001b[0m \u001b[0mmean\u001b[0m\u001b[0;34m,\u001b[0m \u001b[0mcov\u001b[0m \u001b[0;34m=\u001b[0m \u001b[0mself\u001b[0m\u001b[0;34m.\u001b[0m\u001b[0m_process_parameters\u001b[0m\u001b[0;34m(\u001b[0m\u001b[0;32mNone\u001b[0m\u001b[0;34m,\u001b[0m \u001b[0mmean\u001b[0m\u001b[0;34m,\u001b[0m \u001b[0mcov\u001b[0m\u001b[0;34m)\u001b[0m\u001b[0;34m\u001b[0m\u001b[0;34m\u001b[0m\u001b[0m\n\u001b[1;32m    524\u001b[0m         \u001b[0mx\u001b[0m \u001b[0;34m=\u001b[0m \u001b[0mself\u001b[0m\u001b[0;34m.\u001b[0m\u001b[0m_process_quantiles\u001b[0m\u001b[0;34m(\u001b[0m\u001b[0mx\u001b[0m\u001b[0;34m,\u001b[0m \u001b[0mdim\u001b[0m\u001b[0;34m)\u001b[0m\u001b[0;34m\u001b[0m\u001b[0;34m\u001b[0m\u001b[0m\n\u001b[0;32m--> 525\u001b[0;31m         \u001b[0mpsd\u001b[0m \u001b[0;34m=\u001b[0m \u001b[0m_PSD\u001b[0m\u001b[0;34m(\u001b[0m\u001b[0mcov\u001b[0m\u001b[0;34m,\u001b[0m \u001b[0mallow_singular\u001b[0m\u001b[0;34m=\u001b[0m\u001b[0mallow_singular\u001b[0m\u001b[0;34m)\u001b[0m\u001b[0;34m\u001b[0m\u001b[0;34m\u001b[0m\u001b[0m\n\u001b[0m\u001b[1;32m    526\u001b[0m         \u001b[0mout\u001b[0m \u001b[0;34m=\u001b[0m \u001b[0mnp\u001b[0m\u001b[0;34m.\u001b[0m\u001b[0mexp\u001b[0m\u001b[0;34m(\u001b[0m\u001b[0mself\u001b[0m\u001b[0;34m.\u001b[0m\u001b[0m_logpdf\u001b[0m\u001b[0;34m(\u001b[0m\u001b[0mx\u001b[0m\u001b[0;34m,\u001b[0m \u001b[0mmean\u001b[0m\u001b[0;34m,\u001b[0m \u001b[0mpsd\u001b[0m\u001b[0;34m.\u001b[0m\u001b[0mU\u001b[0m\u001b[0;34m,\u001b[0m \u001b[0mpsd\u001b[0m\u001b[0;34m.\u001b[0m\u001b[0mlog_pdet\u001b[0m\u001b[0;34m,\u001b[0m \u001b[0mpsd\u001b[0m\u001b[0;34m.\u001b[0m\u001b[0mrank\u001b[0m\u001b[0;34m)\u001b[0m\u001b[0;34m)\u001b[0m\u001b[0;34m\u001b[0m\u001b[0;34m\u001b[0m\u001b[0m\n\u001b[1;32m    527\u001b[0m         \u001b[0;32mreturn\u001b[0m \u001b[0m_squeeze_output\u001b[0m\u001b[0;34m(\u001b[0m\u001b[0mout\u001b[0m\u001b[0;34m)\u001b[0m\u001b[0;34m\u001b[0m\u001b[0;34m\u001b[0m\u001b[0m\n",
      "\u001b[0;32m~/opt/anaconda3/lib/python3.8/site-packages/scipy/stats/_multivariate.py\u001b[0m in \u001b[0;36m__init__\u001b[0;34m(self, M, cond, rcond, lower, check_finite, allow_singular)\u001b[0m\n\u001b[1;32m    163\u001b[0m         \u001b[0md\u001b[0m \u001b[0;34m=\u001b[0m \u001b[0ms\u001b[0m\u001b[0;34m[\u001b[0m\u001b[0ms\u001b[0m \u001b[0;34m>\u001b[0m \u001b[0meps\u001b[0m\u001b[0;34m]\u001b[0m\u001b[0;34m\u001b[0m\u001b[0;34m\u001b[0m\u001b[0m\n\u001b[1;32m    164\u001b[0m         \u001b[0;32mif\u001b[0m \u001b[0mlen\u001b[0m\u001b[0;34m(\u001b[0m\u001b[0md\u001b[0m\u001b[0;34m)\u001b[0m \u001b[0;34m<\u001b[0m \u001b[0mlen\u001b[0m\u001b[0;34m(\u001b[0m\u001b[0ms\u001b[0m\u001b[0;34m)\u001b[0m \u001b[0;32mand\u001b[0m \u001b[0;32mnot\u001b[0m \u001b[0mallow_singular\u001b[0m\u001b[0;34m:\u001b[0m\u001b[0;34m\u001b[0m\u001b[0;34m\u001b[0m\u001b[0m\n\u001b[0;32m--> 165\u001b[0;31m             \u001b[0;32mraise\u001b[0m \u001b[0mnp\u001b[0m\u001b[0;34m.\u001b[0m\u001b[0mlinalg\u001b[0m\u001b[0;34m.\u001b[0m\u001b[0mLinAlgError\u001b[0m\u001b[0;34m(\u001b[0m\u001b[0;34m'singular matrix'\u001b[0m\u001b[0;34m)\u001b[0m\u001b[0;34m\u001b[0m\u001b[0;34m\u001b[0m\u001b[0m\n\u001b[0m\u001b[1;32m    166\u001b[0m         \u001b[0ms_pinv\u001b[0m \u001b[0;34m=\u001b[0m \u001b[0m_pinv_1d\u001b[0m\u001b[0;34m(\u001b[0m\u001b[0ms\u001b[0m\u001b[0;34m,\u001b[0m \u001b[0meps\u001b[0m\u001b[0;34m)\u001b[0m\u001b[0;34m\u001b[0m\u001b[0;34m\u001b[0m\u001b[0m\n\u001b[1;32m    167\u001b[0m         \u001b[0mU\u001b[0m \u001b[0;34m=\u001b[0m \u001b[0mnp\u001b[0m\u001b[0;34m.\u001b[0m\u001b[0mmultiply\u001b[0m\u001b[0;34m(\u001b[0m\u001b[0mu\u001b[0m\u001b[0;34m,\u001b[0m \u001b[0mnp\u001b[0m\u001b[0;34m.\u001b[0m\u001b[0msqrt\u001b[0m\u001b[0;34m(\u001b[0m\u001b[0ms_pinv\u001b[0m\u001b[0;34m)\u001b[0m\u001b[0;34m)\u001b[0m\u001b[0;34m\u001b[0m\u001b[0;34m\u001b[0m\u001b[0m\n",
      "\u001b[0;31mLinAlgError\u001b[0m: singular matrix"
     ]
    }
   ],
   "source": [
    "for i in range(10):\n",
    "    results = np.array([[ multivariate_normal.pdf(x, m[i], S[i]) * prior[i]\n",
    "                        for i in range(K)]\n",
    "                        for x in X\n",
    "                       ])\n",
    "    #results = np.abs(results.sum(keepdims =True, axis = 1)) -  results\n",
    "    h = results/results.sum(keepdims =True, axis = 1)\n",
    "\n",
    "    D = XE - me\n",
    "    Dh = np.einsum('ijk,ji->ijk',D,h)\n",
    "    #m = np.array([(X * h[:,i:(i+1)]).mean(axis = 0) for i in range(K)])\n",
    "    m = Dh.mean(axis = 1)\n",
    "    me = new_m.reshape(m.shape[0], -1, m.shape[1])\n",
    "    \n",
    "    #S = np.array([np.cov((D[i] * h[:,i:(i+1)]).T)/(X.shape[0] - 1) for i in range(K)])\n",
    "    S = np.einsum('ijk,ijb->ikb',Dh,Dh) /(X.shape[0] - 1)\n",
    "    prior = h.mean(axis = 0)\n",
    "    print(S)"
   ]
  },
  {
   "cell_type": "code",
   "execution_count": 147,
   "metadata": {},
   "outputs": [
    {
     "data": {
      "text/plain": [
       "array([[[ 0.00109551, -0.00033211],\n",
       "        [-0.00033211,  0.00089251]],\n",
       "\n",
       "       [[ 0.00375408,  0.00090099],\n",
       "        [ 0.00090099,  0.00165833]],\n",
       "\n",
       "       [[ 0.01174013,  0.00592408],\n",
       "        [ 0.00592408,  0.00576473]]])"
      ]
     },
     "execution_count": 147,
     "metadata": {},
     "output_type": "execute_result"
    }
   ],
   "source": [
    "S"
   ]
  },
  {
   "cell_type": "code",
   "execution_count": 148,
   "metadata": {},
   "outputs": [
    {
     "data": {
      "text/plain": [
       "array([[0.2435316 , 0.33599172, 0.42047668],\n",
       "       [0.24064815, 0.30533248, 0.45401937],\n",
       "       [0.09531782, 0.24427125, 0.66041093],\n",
       "       ...,\n",
       "       [0.45375158, 0.30994362, 0.2363048 ],\n",
       "       [0.38110313, 0.33797778, 0.28091909],\n",
       "       [0.09901753, 0.23723337, 0.66374911]])"
      ]
     },
     "execution_count": 148,
     "metadata": {},
     "output_type": "execute_result"
    }
   ],
   "source": [
    "h"
   ]
  },
  {
   "cell_type": "code",
   "execution_count": 143,
   "metadata": {},
   "outputs": [
    {
     "data": {
      "text/plain": [
       "array([[[-6.45738999,  4.20811012],\n",
       "        [-3.64478468,  6.02828527],\n",
       "        [ 9.09536748,  9.84470577],\n",
       "        ...,\n",
       "        [ 0.19827464, -2.42004235],\n",
       "        [ 1.2227604 , -0.99411277],\n",
       "        [ 8.61876008,  9.97434913]],\n",
       "\n",
       "       [[-6.77651915,  2.73177858],\n",
       "        [-3.96391384,  4.55195372],\n",
       "        [ 8.77623832,  8.36837423],\n",
       "        ...,\n",
       "        [-0.12085451, -3.89637389],\n",
       "        [ 0.90363124, -2.47044431],\n",
       "        [ 8.29963093,  8.49801759]],\n",
       "\n",
       "       [[-6.55001327,  4.14196077],\n",
       "        [-3.73740796,  5.96213592],\n",
       "        [ 9.0027442 ,  9.77855642],\n",
       "        ...,\n",
       "        [ 0.10565137, -2.4861917 ],\n",
       "        [ 1.13013712, -1.06026212],\n",
       "        [ 8.52613681,  9.90819978]]])"
      ]
     },
     "execution_count": 143,
     "metadata": {},
     "output_type": "execute_result"
    }
   ],
   "source": [
    "D"
   ]
  },
  {
   "cell_type": "code",
   "execution_count": 144,
   "metadata": {},
   "outputs": [
    {
     "data": {
      "text/plain": [
       "(3, 1000, 2)"
      ]
     },
     "execution_count": 144,
     "metadata": {},
     "output_type": "execute_result"
    }
   ],
   "source": [
    "D.shape"
   ]
  },
  {
   "cell_type": "code",
   "execution_count": 150,
   "metadata": {},
   "outputs": [
    {
     "data": {
      "text/plain": [
       "(1000, 3)"
      ]
     },
     "execution_count": 150,
     "metadata": {},
     "output_type": "execute_result"
    }
   ],
   "source": [
    "h.shape"
   ]
  },
  {
   "cell_type": "code",
   "execution_count": 156,
   "metadata": {},
   "outputs": [
    {
     "data": {
      "text/plain": [
       "array([[[-1.57257853,  1.0248078 ],\n",
       "        [-0.8771107 ,  1.45069571],\n",
       "        [ 0.86695062,  0.93837592],\n",
       "        ...,\n",
       "        [ 0.08996743, -1.09809804],\n",
       "        [ 0.46599782, -0.37885949],\n",
       "        [ 0.8534083 ,  0.98763537]],\n",
       "\n",
       "       [[-2.27685433,  0.91785498],\n",
       "        [-1.21031164,  1.38985932],\n",
       "        [ 2.14378273,  2.04415325],\n",
       "        ...,\n",
       "        [-0.03745809, -1.20765624],\n",
       "        [ 0.30540728, -0.83495529],\n",
       "        [ 1.96894938,  2.01601331]],\n",
       "\n",
       "       [[-2.75412782,  1.7415979 ],\n",
       "        [-1.6968556 ,  2.70692518],\n",
       "        [ 5.94551063,  6.45786549],\n",
       "        ...,\n",
       "        [ 0.02496592, -0.58749903],\n",
       "        [ 0.31747709, -0.29784787],\n",
       "        [ 5.65921571,  6.57655878]]])"
      ]
     },
     "execution_count": 156,
     "metadata": {},
     "output_type": "execute_result"
    }
   ],
   "source": [
    "DM = np.einsum('ijk,ji->ijk',D,h)\n",
    "DM"
   ]
  },
  {
   "cell_type": "code",
   "execution_count": 155,
   "metadata": {},
   "outputs": [
    {
     "data": {
      "text/plain": [
       "array([[-1.57257853,  1.0248078 ],\n",
       "       [-0.8771107 ,  1.45069571],\n",
       "       [ 0.86695062,  0.93837592],\n",
       "       ...,\n",
       "       [ 0.08996743, -1.09809804],\n",
       "       [ 0.46599782, -0.37885949],\n",
       "       [ 0.8534083 ,  0.98763537]])"
      ]
     },
     "execution_count": 155,
     "metadata": {},
     "output_type": "execute_result"
    }
   ],
   "source": [
    "D[0]  * h[:,0:1]"
   ]
  },
  {
   "cell_type": "code",
   "execution_count": 157,
   "metadata": {},
   "outputs": [
    {
     "data": {
      "text/plain": [
       "array([[-0.19977406,  0.59722401],\n",
       "       [ 0.19229754,  0.8207427 ],\n",
       "       [ 1.0968421 ,  2.37964631]])"
      ]
     },
     "execution_count": 157,
     "metadata": {},
     "output_type": "execute_result"
    }
   ],
   "source": [
    "DM.mean(axis = 1)"
   ]
  },
  {
   "cell_type": "code",
   "execution_count": null,
   "metadata": {},
   "outputs": [],
   "source": []
  }
 ],
 "metadata": {
  "kernelspec": {
   "display_name": "Python 3",
   "language": "python",
   "name": "python3"
  },
  "language_info": {
   "codemirror_mode": {
    "name": "ipython",
    "version": 3
   },
   "file_extension": ".py",
   "mimetype": "text/x-python",
   "name": "python",
   "nbconvert_exporter": "python",
   "pygments_lexer": "ipython3",
   "version": "3.8.3"
  },
  "toc": {
   "base_numbering": 1,
   "nav_menu": {},
   "number_sections": true,
   "sideBar": true,
   "skip_h1_title": false,
   "title_cell": "Table of Contents",
   "title_sidebar": "Contents",
   "toc_cell": false,
   "toc_position": {},
   "toc_section_display": true,
   "toc_window_display": false
  },
  "varInspector": {
   "cols": {
    "lenName": 16,
    "lenType": 16,
    "lenVar": 40
   },
   "kernels_config": {
    "python": {
     "delete_cmd_postfix": "",
     "delete_cmd_prefix": "del ",
     "library": "var_list.py",
     "varRefreshCmd": "print(var_dic_list())"
    },
    "r": {
     "delete_cmd_postfix": ") ",
     "delete_cmd_prefix": "rm(",
     "library": "var_list.r",
     "varRefreshCmd": "cat(var_dic_list()) "
    }
   },
   "types_to_exclude": [
    "module",
    "function",
    "builtin_function_or_method",
    "instance",
    "_Feature"
   ],
   "window_display": false
  }
 },
 "nbformat": 4,
 "nbformat_minor": 4
}
