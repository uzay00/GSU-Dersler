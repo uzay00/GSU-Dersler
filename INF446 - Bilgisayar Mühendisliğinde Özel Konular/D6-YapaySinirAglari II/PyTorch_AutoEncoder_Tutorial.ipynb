{
 "cells": [
  {
   "cell_type": "markdown",
   "metadata": {
    "id": "VBkK1JkJM7K3"
   },
   "source": [
    "# FUN of AI\n",
    " - https://teachablemachine.withgoogle.com/\n",
    " "
   ]
  },
  {
   "cell_type": "code",
   "execution_count": 1,
   "metadata": {
    "id": "WnyBVU0HNBlI"
   },
   "outputs": [],
   "source": [
    "import numpy as np\n",
    "from matplotlib import pyplot as plt\n",
    "import seaborn as sns\n",
    "sns.set()\n",
    "\n",
    "import torch\n",
    "import torch.optim as optim\n",
    "import torch.nn as nn\n",
    "from IPython import display\n"
   ]
  },
  {
   "cell_type": "code",
   "execution_count": 2,
   "metadata": {
    "colab": {
     "base_uri": "https://localhost:8080/"
    },
    "id": "Bzsg3V84Nz7o",
    "outputId": "946e1cd7-ccf8-4748-ca46-57c40b63b351"
   },
   "outputs": [
    {
     "name": "stdout",
     "output_type": "stream",
     "text": [
      "1.9.0\n"
     ]
    }
   ],
   "source": [
    "print(torch.__version__)"
   ]
  },
  {
   "cell_type": "code",
   "execution_count": 3,
   "metadata": {
    "id": "eDvMD0ldPXU5"
   },
   "outputs": [],
   "source": [
    "X1 = np.random.randn(2000,1)\n",
    "X2 = np.random.randn(2000,1)\n",
    "\n",
    "# Data has a special pattern such that X3 = - X1 - X2\n",
    "X_train = np.concatenate([X1, X2, - X1 - X2], axis = 1)"
   ]
  },
  {
   "cell_type": "code",
   "execution_count": 4,
   "metadata": {
    "id": "kAwZINRAmDQG"
   },
   "outputs": [],
   "source": [
    "np.random.randn?"
   ]
  },
  {
   "cell_type": "code",
   "execution_count": 5,
   "metadata": {
    "colab": {
     "base_uri": "https://localhost:8080/"
    },
    "id": "M9bO1GUqQMlB",
    "outputId": "b5a70c8e-1fdb-4447-8267-255bcb5c7897"
   },
   "outputs": [
    {
     "data": {
      "text/plain": [
       "(2000, 3)"
      ]
     },
     "execution_count": 5,
     "metadata": {},
     "output_type": "execute_result"
    }
   ],
   "source": [
    "X_train.shape"
   ]
  },
  {
   "cell_type": "code",
   "execution_count": 6,
   "metadata": {
    "colab": {
     "base_uri": "https://localhost:8080/"
    },
    "id": "WTloYGFQ3mid",
    "outputId": "5d7b5b8b-2221-40c7-bf70-cb9c1fd3ed57"
   },
   "outputs": [
    {
     "data": {
      "text/plain": [
       "array([[-0.72238925, -0.38277841,  1.10516766],\n",
       "       [ 0.02634293,  1.74646448, -1.7728074 ],\n",
       "       [ 0.36648005,  0.13225013, -0.49873018],\n",
       "       [ 0.92531238,  0.50426411, -1.42957649],\n",
       "       [ 1.85745452,  0.86401279, -2.72146731]])"
      ]
     },
     "execution_count": 6,
     "metadata": {},
     "output_type": "execute_result"
    }
   ],
   "source": [
    "X_train[:5]"
   ]
  },
  {
   "cell_type": "markdown",
   "metadata": {
    "id": "dKnp51Jlp7cX"
   },
   "source": [
    "# ANN\n",
    "![](https://upload.wikimedia.org/wikipedia/commons/thumb/4/46/Colored_neural_network.svg/560px-Colored_neural_network.svg.png)\n",
    "\n",
    "> ANN = Universal function approximator!!\n",
    "\n",
    "Supervised learning\n",
    "  - you have (input , output) pairs\n",
    "  - you try yo predict output from the input with your ANN\n",
    "\n",
    "\n"
   ]
  },
  {
   "cell_type": "markdown",
   "metadata": {
    "id": "EBAPo1Om3nh4"
   },
   "source": [
    "\n",
    "# AutoEncoder\n",
    "\n",
    "> Watch https://www.youtube.com/watch?v=7mRfwaGGAPg\n",
    "\n",
    "__Reconstruction Error__ (MSE:Mean Squared Error)\n",
    "\n",
    " - $ E = \\frac{1}{n}\\sum^n_i (X_i - X'_i)^2$\n",
    " - $X' = \\sigma_d(W_d \\sigma_e (W_eX + b_e) + b_d)$\n",
    "\n",
    "You are looking for best parameters $W_e, b_e, W_d, b_d$ that minimize the Reconstruction Error E.\n",
    "\n",
    " - You use a gradient-descent based approach for optimisation\n",
    "\n",
    "\n",
    " ## Application for compression\n",
    "Instead of sending the original data X, we compress our data into smaller dimension (h) in the encoder part of the AutoEncoder. And sent h it to receiver.\n",
    "\n",
    "Receiver should know the decoder part of the AutoEncoder.\n",
    " - $W_d, b_d, \\sigma_d$\n",
    "\n",
    "\n",
    "\n",
    "![](https://upload.wikimedia.org/wikipedia/commons/thumb/3/37/Autoencoder_schema.png/440px-Autoencoder_schema.png)\n",
    "\n",
    "Resource\n",
    " - https://en.wikipedia.org/wiki/Autoencoder\n",
    "\n",
    "\n",
    "\n",
    "UnSupervised learning\n",
    "  - you dont have (input , output) pairs\n",
    "  - you have only(input, ) data\n",
    "  - you try to first encode your input to a smaller dimension than you decode it to the original dimension, hence you generate some output with AutoEncoder\n",
    "  - Your objective is yto generate an output as close as possible to its original input,\n",
    "\n"
   ]
  },
  {
   "cell_type": "code",
   "execution_count": 28,
   "metadata": {
    "colab": {
     "base_uri": "https://localhost:8080/"
    },
    "id": "PRof_Z0YQUWh",
    "outputId": "f86a106c-d0fa-4434-e8ef-56c93540ed7a"
   },
   "outputs": [
    {
     "name": "stdout",
     "output_type": "stream",
     "text": [
      "[EPOCH]: 999/1000, [LOSS]: 0.000000\n"
     ]
    }
   ],
   "source": [
    "device = 'cuda' if torch.cuda.is_available() else 'cpu'\n",
    "\n",
    "# Input\n",
    "x_train_tensor = torch.from_numpy(X_train).float()\n",
    "# Output : X_train and y_train is same\n",
    "# In autoencoders, output = input\n",
    "# output y shoul be as close as possible to input X\n",
    "y_train_tensor = torch.from_numpy(X_train).float()\n",
    "\n",
    "\n",
    "# Linear Model\n",
    "learning_rate = 1e-2 # alpha\n",
    "\n",
    "# nn package to create our linear model\n",
    "# each Linear module has a weight and bias\n",
    "model = nn.Sequential(\n",
    "    # -- encoder part ---\n",
    "    nn.Linear(3, 10),\n",
    "    nn.ReLU(),\n",
    "    nn.Linear(10, 3),\n",
    "    nn.ReLU(),\n",
    "    # -- decoder part ---\n",
    "    nn.Linear(3, 10),\n",
    "    nn.ReLU(),\n",
    "    nn.Linear(10, 3),\n",
    "    #nn.ReLU()\n",
    ")\n",
    "\n",
    "model_compress = nn.Sequential(\n",
    "    # -- encoder part ---\n",
    "    nn.Linear(3, 2),\n",
    "    #nn.ReLU(),\n",
    "    # -- decoder part ---\n",
    "    nn.Linear(2, 3),\n",
    "    #nn.ReLU()\n",
    ")\n",
    "\n",
    "class AE(nn.Module):\n",
    "  def __init__(self, n_features):\n",
    "    super(AE, self).__init__()\n",
    "    self.fc1 = nn.Linear(n_features, 2)\n",
    "    self.fc2 = nn.Linear(2, n_features)\n",
    "\n",
    "  def encode(self, x):\n",
    "    return self.fc1(x)\n",
    "\n",
    "  def decode(self, x):\n",
    "    return self.fc2(x)\n",
    "\n",
    "  def forward(self, x):\n",
    "    h = self.encode(x)\n",
    "    return self.decode(h)\n",
    "\n",
    "ae = AE(3)\n",
    "\n",
    "\n",
    "criterion = nn.MSELoss() # (x-y)^2\n",
    "optimizer = torch.optim.Adam(ae.parameters(), \n",
    "                             lr=learning_rate)\n",
    "n_epoch = 1000\n",
    "losses = []\n",
    "for t in range(n_epoch):\n",
    "    \n",
    "    # Feed forward to get the logits\n",
    "    y_pred = ae(x_train_tensor)\n",
    "    #y_pred = ae(x_train_tensor)\n",
    "    \n",
    "    # Compute the loss \n",
    "    loss = criterion(y_pred, y_train_tensor)\n",
    "    # Dont accumulate previous gradients\n",
    "    optimizer.zero_grad()\n",
    "\n",
    "    print(f\"[EPOCH]: {t}/{n_epoch}, [LOSS]: {loss.item():.6f}\")\n",
    "    display.clear_output(wait=True)\n",
    "    losses.append(loss.item())\n",
    "    \n",
    "    # Backward pass to compute the gradient\n",
    "    # of loss w.r.t our learnable params. \n",
    "    loss.backward()\n",
    "    \n",
    "    # Update params with some gradient-based method\n",
    "    optimizer.step()"
   ]
  },
  {
   "cell_type": "code",
   "execution_count": 29,
   "metadata": {
    "colab": {
     "base_uri": "https://localhost:8080/",
     "height": 509
    },
    "id": "eoRrA8xbdCys",
    "outputId": "24fad370-cd42-4bed-9ff5-45d29b58073c"
   },
   "outputs": [
    {
     "data": {
      "text/plain": [
       "[<matplotlib.lines.Line2D at 0x7f9a2cdf0e50>]"
      ]
     },
     "execution_count": 29,
     "metadata": {},
     "output_type": "execute_result"
    },
    {
     "data": {
      "image/png": "[encoded data removed]",
      "text/plain": [
       "<Figure size 432x288 with 1 Axes>"
      ]
     },
     "metadata": {},
     "output_type": "display_data"
    }
   ],
   "source": [
    "plt.plot(losses)"
   ]
  },
  {
   "cell_type": "markdown",
   "metadata": {
    "id": "SyAy39dIU4Rm"
   },
   "source": [
    "## Normal data \n",
    "\n",
    "with the original pattern\n",
    "\n",
    "AutoEncoder can succesfully reconstruct data that has the pattern X3 = - X1 - X2. Why?\n",
    "\n",
    " - Because the training data had that pattern !! "
   ]
  },
  {
   "cell_type": "code",
   "execution_count": 30,
   "metadata": {
    "colab": {
     "base_uri": "https://localhost:8080/"
    },
    "id": "q5fRPGp1ttm5",
    "outputId": "0cf143bf-156d-450e-cefe-30be56e613d7"
   },
   "outputs": [
    {
     "name": "stdout",
     "output_type": "stream",
     "text": [
      "tensor([[-0.0834, -0.0044],\n",
      "        [-0.0365,  0.1196],\n",
      "        [ 0.9140,  1.0308],\n",
      "        [ 0.6475,  0.1674]])\n",
      "tensor([[ 1.0000e-01,  1.0000e-01, -2.0000e-01],\n",
      "        [ 1.5000e-01,  1.5000e-01, -3.0000e-01],\n",
      "        [-3.7253e-09,  1.0000e+00, -1.0000e+00],\n",
      "        [-4.0000e-01,  7.0000e-01, -3.0000e-01]])\n"
     ]
    }
   ],
   "source": [
    "# Original data has a pattern such that X3 = - X1 - X2\n",
    "with torch.no_grad():\n",
    "  x_test = np.array([[0.1, 0.1, -0.2],\n",
    "                     [0.15, 0.15, -0.3],\n",
    "                     [0,  1, -1 ],\n",
    "                     [-0.4, 0.7, - 0.3 ]])\n",
    "\n",
    "  x_test_tensor = torch.from_numpy(x_test).float()\n",
    "  y_test_pred = ae(x_test_tensor)\n",
    "  h = ae.encode(x_test_tensor)\n",
    "  print(h)\n",
    "  xp = ae.decode(h)\n",
    "  print(xp)\n"
   ]
  },
  {
   "cell_type": "code",
   "execution_count": 31,
   "metadata": {
    "colab": {
     "base_uri": "https://localhost:8080/"
    },
    "id": "90dEqPjiQ4-x",
    "outputId": "7f41f9a4-4fd1-46dc-8c04-afcfe7ef5188"
   },
   "outputs": [
    {
     "name": "stdout",
     "output_type": "stream",
     "text": [
      "tensor([[ 0.2236,  0.2013, -0.3362],\n",
      "        [ 0.2088,  0.1705, -0.3236],\n",
      "        [ 0.2147,  0.1957, -0.3259],\n",
      "        [ 0.2313,  0.2460, -0.3368]])\n",
      "tensor([0.0887, 0.0557, 0.0844, 0.1405])\n"
     ]
    }
   ],
   "source": [
    "# Original data has a pattern such that X3 = - X1 - X2\n",
    "with torch.no_grad():\n",
    "  x_test = np.array([[0.1, 0.5, -0.6],\n",
    "                     [0.5, 0.5, -1],\n",
    "                     [0,  1, -1 ],\n",
    "                     [-0.4, 0.7, - 0.3 ]])\n",
    "\n",
    "  x_test_tensor = torch.from_numpy(x_test).float()\n",
    "  y_test_pred = model(x_test_tensor)\n",
    "  print(y_test_pred)\n",
    "  print(y_test_pred.sum(axis = 1))"
   ]
  },
  {
   "cell_type": "code",
   "execution_count": 36,
   "metadata": {},
   "outputs": [
    {
     "name": "stdout",
     "output_type": "stream",
     "text": [
      "z:  tensor([[0.3531, 0.5088]])\n",
      "xp:  tensor([[ 0.1000,  0.5000, -0.6000]])\n"
     ]
    }
   ],
   "source": [
    "# Original data has a pattern such that X3 = - X1 - X2\n",
    "with torch.no_grad():\n",
    "  x_test = np.array([[0.1, 0.5, -0.6]])\n",
    "\n",
    "  x_test_tensor = torch.from_numpy(x_test).float()\n",
    "  z = ae.encode(x_test_tensor)\n",
    "  print('z: ', z)\n",
    "  xp = ae.decode(z)\n",
    "  print('xp: ', xp)"
   ]
  },
  {
   "cell_type": "markdown",
   "metadata": {
    "id": "4XLJwcxOVFim"
   },
   "source": [
    "## Abnormal data\n",
    "\n",
    "This data does not have the original pattern \n",
    " - Original data has a pattern such that X3 = - X1 - X2"
   ]
  },
  {
   "cell_type": "code",
   "execution_count": 32,
   "metadata": {
    "colab": {
     "base_uri": "https://localhost:8080/"
    },
    "id": "8puNqvUP0RoV",
    "outputId": "76b53595-7f4d-4add-b3cc-c058d593660c"
   },
   "outputs": [
    {
     "name": "stdout",
     "output_type": "stream",
     "text": [
      "tensor([[ 0.2452,  0.2457, -0.3565],\n",
      "        [ 0.2429,  0.2331, -0.3583],\n",
      "        [ 0.2326,  0.2484, -0.3381],\n",
      "        [ 0.2342,  0.2576, -0.3392]])\n",
      "tensor([0.1344, 0.1177, 0.1430, 0.1526])\n"
     ]
    }
   ],
   "source": [
    "# Original data has a pattern sucj that X3 = - X1 - X2\n",
    "with torch.no_grad():\n",
    "  x_test = np.array([[0.1, 0.5, 0],\n",
    "                     [0.5, 0.5, 0],\n",
    "                     [0,  1,    0],\n",
    "                     [-0.4, 0.7, 0]])\n",
    "\n",
    "  x_test_tensor = torch.from_numpy(x_test).float()\n",
    "  y_test_pred = model(x_test_tensor)\n",
    "  print(y_test_pred)\n",
    "  print(y_test_pred.sum(axis = 1))"
   ]
  },
  {
   "cell_type": "markdown",
   "metadata": {
    "id": "LeG1SRXxjhZd"
   },
   "source": [
    "## Anomaly Detection"
   ]
  },
  {
   "cell_type": "code",
   "execution_count": 33,
   "metadata": {
    "id": "n9YvFkQ2dvyk"
   },
   "outputs": [],
   "source": [
    "X1 = np.random.randn(1000,1)\n",
    "X2 = np.random.randn(1000,1)\n",
    "\n",
    "# Generate test data with the special pattern X3 = - X1 - X2\n",
    "# REMEMBER: \n",
    "  # This is the pattern that is fed to the AutoEncoder in the training phase\n",
    "  # At training phase, AutoEncoder succesfully learned to encode and decode that pattern\n",
    "X_test = np.concatenate([X1, X2, - X1 - X2], axis = 1)\n",
    "\n",
    "# Inject anomaly: without the pattern such that X3 = - X1 - X2\n",
    "X_test[:100] = np.random.randn(100,3)"
   ]
  },
  {
   "cell_type": "code",
   "execution_count": 34,
   "metadata": {
    "id": "AeSpp08Cfhwc"
   },
   "outputs": [],
   "source": [
    "with torch.no_grad():\n",
    "  x_test_tensor = torch.from_numpy(X_test).float()\n",
    "  y_test_pred = ae(x_test_tensor)\n",
    "\n",
    "  reconstruction_error = torch.sum((y_test_pred - x_test_tensor)**2, axis = 1)"
   ]
  },
  {
   "cell_type": "code",
   "execution_count": 35,
   "metadata": {
    "colab": {
     "base_uri": "https://localhost:8080/",
     "height": 488
    },
    "id": "G8YCU8LIf4op",
    "outputId": "fca9e824-657a-4b1b-d0d9-e632c10fb3a3"
   },
   "outputs": [
    {
     "data": {
      "image/png": "[encoded data removed]",
      "text/plain": [
       "<Figure size 432x288 with 1 Axes>"
      ]
     },
     "metadata": {},
     "output_type": "display_data"
    }
   ],
   "source": [
    "plt.plot(reconstruction_error, '--o')\n",
    "plt.show()"
   ]
  },
  {
   "cell_type": "code",
   "execution_count": 58,
   "metadata": {
    "colab": {
     "base_uri": "https://localhost:8080/"
    },
    "id": "m1qZZBB1f6KE",
    "outputId": "710cc685-1c5f-4a35-9903-ca7eacbd4ab8"
   },
   "outputs": [
    {
     "data": {
      "text/plain": [
       "tensor([6.1841, 5.6386, 0.9548, 3.6897, 0.1735])"
      ]
     },
     "execution_count": 58,
     "metadata": {},
     "output_type": "execute_result"
    }
   ],
   "source": [
    "reconstruction_error[:5]"
   ]
  },
  {
   "cell_type": "code",
   "execution_count": 59,
   "metadata": {
    "colab": {
     "base_uri": "https://localhost:8080/"
    },
    "id": "MecxVFS2qktR",
    "outputId": "90a878cd-7297-4f04-ce75-78403231c35f"
   },
   "outputs": [
    {
     "data": {
      "text/plain": [
       "tensor([0.0638, 3.7308, 0.6207, 0.0314, 1.8466])"
      ]
     },
     "execution_count": 59,
     "metadata": {},
     "output_type": "execute_result"
    }
   ],
   "source": [
    "reconstruction_error[-5:]"
   ]
  },
  {
   "cell_type": "code",
   "execution_count": 60,
   "metadata": {
    "colab": {
     "base_uri": "https://localhost:8080/"
    },
    "id": "dBjUUxDjulkL",
    "outputId": "2c53807e-eff0-4418-e555-084a6dfedb3b"
   },
   "outputs": [
    {
     "data": {
      "text/plain": [
       "torch.Size([1000])"
      ]
     },
     "execution_count": 60,
     "metadata": {},
     "output_type": "execute_result"
    }
   ],
   "source": [
    "reconstruction_error.shape"
   ]
  },
  {
   "cell_type": "markdown",
   "metadata": {
    "id": "g_xicLw8FFB7"
   },
   "source": [
    "# Further Experiments"
   ]
  },
  {
   "cell_type": "code",
   "execution_count": 18,
   "metadata": {
    "colab": {
     "base_uri": "https://localhost:8080/"
    },
    "id": "uMqypvGJqUBd",
    "outputId": "7e140954-a885-4a2c-dd1a-4118bf962298"
   },
   "outputs": [
    {
     "data": {
      "text/plain": [
       "array([[0., 0., 0., 0., 0.],\n",
       "       [0., 0., 0., 0., 0.],\n",
       "       [0., 0., 0., 0., 0.],\n",
       "       [0., 0., 0., 0., 0.],\n",
       "       [0., 0., 0., 0., 0.]])"
      ]
     },
     "execution_count": 18,
     "metadata": {},
     "output_type": "execute_result"
    }
   ],
   "source": [
    "np.zeros(shape = (5,5))"
   ]
  },
  {
   "cell_type": "code",
   "execution_count": 19,
   "metadata": {
    "colab": {
     "base_uri": "https://localhost:8080/"
    },
    "id": "A_eY4VRuFI8v",
    "outputId": "78a8efee-d455-47de-e980-704132095619"
   },
   "outputs": [
    {
     "data": {
      "text/plain": [
       "array([144, 214, 206, 234, 241])"
      ]
     },
     "execution_count": 19,
     "metadata": {},
     "output_type": "execute_result"
    }
   ],
   "source": [
    "np.random.randint(low = 100, high = 255, size = 5)"
   ]
  },
  {
   "cell_type": "code",
   "execution_count": 20,
   "metadata": {
    "colab": {
     "base_uri": "https://localhost:8080/"
    },
    "id": "AphQNI57Fr7-",
    "outputId": "0a8f15bd-926c-48e1-9a3f-50938e9d5721"
   },
   "outputs": [
    {
     "data": {
      "text/plain": [
       "array([[1., 0., 0., 0., 0.],\n",
       "       [0., 1., 0., 0., 0.],\n",
       "       [0., 0., 1., 0., 0.],\n",
       "       [0., 0., 0., 1., 0.],\n",
       "       [0., 0., 0., 0., 1.]])"
      ]
     },
     "execution_count": 20,
     "metadata": {},
     "output_type": "execute_result"
    }
   ],
   "source": [
    "np.eye(5)"
   ]
  },
  {
   "cell_type": "code",
   "execution_count": 21,
   "metadata": {
    "colab": {
     "base_uri": "https://localhost:8080/"
    },
    "id": "g4ilGqpRF3re",
    "outputId": "7f7a03ea-b2db-4757-de9f-9516fe7a8b0b"
   },
   "outputs": [
    {
     "data": {
      "text/plain": [
       "array([[0.53333333, 0.        , 0.        , 0.        , 0.        ],\n",
       "       [0.        , 0.63921569, 0.        , 0.        , 0.        ],\n",
       "       [0.        , 0.        , 0.76470588, 0.        , 0.        ],\n",
       "       [0.        , 0.        , 0.        , 0.64313725, 0.        ],\n",
       "       [0.        , 0.        , 0.        , 0.        , 0.85882353]])"
      ]
     },
     "execution_count": 21,
     "metadata": {},
     "output_type": "execute_result"
    }
   ],
   "source": [
    "diag = np.random.randint(low = 100, high = 255, size = 5)/255 # normalization \n",
    "values = diag * np.eye(5)\n",
    "values"
   ]
  },
  {
   "cell_type": "markdown",
   "metadata": {
    "id": "LuDH39wRl6qh"
   },
   "source": [
    "## Pattern of the data\n",
    " - All the non-diagonal values are zero\n",
    " - And diagonal values are in between [0,1]"
   ]
  },
  {
   "cell_type": "code",
   "execution_count": 22,
   "metadata": {
    "colab": {
     "base_uri": "https://localhost:8080/",
     "height": 285
    },
    "id": "iDJf7uQeGBU3",
    "outputId": "86f551c5-6f1a-4074-a42f-634f237caa78"
   },
   "outputs": [
    {
     "data": {
      "text/plain": [
       "<matplotlib.image.AxesImage at 0x7f0d4e3fd510>"
      ]
     },
     "execution_count": 22,
     "metadata": {},
     "output_type": "execute_result"
    },
    {
     "data": {
      "image/png": "[encoded data removed]",
      "text/plain": [
       "<Figure size 432x288 with 1 Axes>"
      ]
     },
     "metadata": {
      "needs_background": "light"
     },
     "output_type": "display_data"
    }
   ],
   "source": [
    "plt.imshow(values, cmap ='Greens')"
   ]
  },
  {
   "cell_type": "code",
   "execution_count": 23,
   "metadata": {
    "id": "jxVlOBLgGTfH"
   },
   "outputs": [],
   "source": [
    "def generate_data():\n",
    "  diag = np.random.randint(low = 100, high = 255, size = 5)/255\n",
    "  values = diag * np.eye(5)\n",
    "  return values"
   ]
  },
  {
   "cell_type": "code",
   "execution_count": 24,
   "metadata": {
    "id": "OV3F1UUhGsR9"
   },
   "outputs": [],
   "source": [
    "X = np.array([generate_data() for i in range(1000)])"
   ]
  },
  {
   "cell_type": "code",
   "execution_count": 25,
   "metadata": {
    "colab": {
     "base_uri": "https://localhost:8080/"
    },
    "id": "ONt3sROhGyM_",
    "outputId": "bcf01a99-b796-4100-e314-e58e988bcbdc"
   },
   "outputs": [
    {
     "data": {
      "text/plain": [
       "(1000, 5, 5)"
      ]
     },
     "execution_count": 25,
     "metadata": {},
     "output_type": "execute_result"
    }
   ],
   "source": [
    "X.shape"
   ]
  },
  {
   "cell_type": "code",
   "execution_count": 26,
   "metadata": {
    "colab": {
     "base_uri": "https://localhost:8080/"
    },
    "id": "3F31Z6UjG1_w",
    "outputId": "afe6159c-fbc4-4a69-9d9b-c1726d3ad7a6"
   },
   "outputs": [
    {
     "name": "stdout",
     "output_type": "stream",
     "text": [
      "[EPOCH]: 999/1000, [LOSS]: 0.004975\n"
     ]
    }
   ],
   "source": [
    "device = 'cuda' if torch.cuda.is_available() else 'cpu'\n",
    "\n",
    "x_train_tensor = torch.from_numpy(X).float().view(-1, 25)\n",
    "# X_train and y_train is same\n",
    "y_train_tensor = torch.from_numpy(X).float().view(-1, 25)\n",
    "\n",
    "\n",
    "# Linear Model\n",
    "learning_rate = 1e-2 # alpha\n",
    "\n",
    "# nn package to create our linear model\n",
    "# each Linear module has a weight and bias\n",
    "model = nn.Sequential(\n",
    "    # -- encoder part ---\n",
    "    nn.Linear(25, 10), # W1_e 25x10, b1_e 10x1\n",
    "    nn.ReLU(),\n",
    "    nn.Linear(10, 3), # W2_e 10x3, b2_e 3x1\n",
    "    nn.ReLU(),\n",
    "    # -- decoder part ---\n",
    "    nn.Linear(3, 10), # W1_d 3x10, b1_d 10x1\n",
    "    nn.ReLU(),\n",
    "    nn.Linear(10, 25), # W2_d 10x25, b2_d 25x1\n",
    "    #nn.ReLU()\n",
    ")\n",
    "\n",
    "criterion = nn.MSELoss()\n",
    "optimizer = torch.optim.Adam(model.parameters(), \n",
    "                             lr=learning_rate)\n",
    "n_epoch = 1000\n",
    "losses = []\n",
    "for t in range(n_epoch):\n",
    "    \n",
    "    # Feed forward to get the logits\n",
    "    y_pred = model(x_train_tensor)\n",
    "    \n",
    "    # Compute the loss \n",
    "    loss = criterion(y_pred, y_train_tensor)\n",
    "    # Dont accumulate previous gradients\n",
    "    optimizer.zero_grad()\n",
    "\n",
    "    print(f\"[EPOCH]: {t}/{n_epoch}, [LOSS]: {loss.item():.6f}\")\n",
    "    display.clear_output(wait=True)\n",
    "    losses.append(loss.item())\n",
    "    \n",
    "    # Backward pass to compute the gradient\n",
    "    # of loss w.r.t our learnable params. \n",
    "    loss.backward()\n",
    "    \n",
    "    # Update params with gradient descent \n",
    "    optimizer.step()"
   ]
  },
  {
   "cell_type": "code",
   "execution_count": 27,
   "metadata": {
    "colab": {
     "base_uri": "https://localhost:8080/",
     "height": 374
    },
    "id": "mWNYNGUBHRGV",
    "outputId": "bf4a9829-41ea-4a3b-ef7a-50e4ab547d45"
   },
   "outputs": [
    {
     "name": "stdout",
     "output_type": "stream",
     "text": [
      "[[0.78823529 0.         0.         0.         0.        ]\n",
      " [0.         0.98431373 0.         0.         0.        ]\n",
      " [0.         0.         0.81568627 0.         0.        ]\n",
      " [0.         0.         0.         0.70980392 0.        ]\n",
      " [0.         0.         0.         0.         0.92941176]]\n"
     ]
    },
    {
     "data": {
      "text/plain": [
       "<matplotlib.image.AxesImage at 0x7f0d4e48d750>"
      ]
     },
     "execution_count": 27,
     "metadata": {},
     "output_type": "execute_result"
    },
    {
     "data": {
      "image/png": "[encoded data removed]",
      "text/plain": [
       "<Figure size 432x288 with 1 Axes>"
      ]
     },
     "metadata": {
      "needs_background": "light"
     },
     "output_type": "display_data"
    }
   ],
   "source": [
    "x_test = generate_data()\n",
    "print(x_test)\n",
    "plt.imshow(x_test, cmap ='Greens')"
   ]
  },
  {
   "cell_type": "code",
   "execution_count": 28,
   "metadata": {
    "colab": {
     "base_uri": "https://localhost:8080/",
     "height": 357
    },
    "id": "vfkqWIrgHaUz",
    "outputId": "a3d1e5cc-57a7-4d0e-ea09-020599531e8a"
   },
   "outputs": [
    {
     "name": "stdout",
     "output_type": "stream",
     "text": [
      "tensor([[ 8.1211e-01, -2.1450e-05,  3.7879e-05, -5.4240e-05,  1.6906e-04],\n",
      "        [-1.7181e-04,  8.8993e-01, -2.2026e-04, -4.6223e-05,  7.9380e-04],\n",
      "        [-4.9144e-05, -3.4343e-04,  8.1372e-01, -1.2956e-04, -3.7043e-04],\n",
      "        [-4.3266e-05,  6.7629e-05, -1.2100e-04,  8.7563e-01,  2.5861e-05],\n",
      "        [ 1.3542e-04,  2.2803e-05, -4.5732e-05, -6.9908e-04,  7.9519e-01]])\n"
     ]
    },
    {
     "data": {
      "image/png": "[encoded data removed]",
      "text/plain": [
       "<Figure size 432x288 with 1 Axes>"
      ]
     },
     "metadata": {
      "needs_background": "light"
     },
     "output_type": "display_data"
    }
   ],
   "source": [
    "with torch.no_grad():\n",
    "  x_test_tensor = torch.from_numpy(x_test).float().view(-1,25)\n",
    "  y_test_pred = model(x_test_tensor).view(5,5)\n",
    "  print(y_test_pred)\n",
    "  plt.imshow(y_test_pred, cmap ='Greens')"
   ]
  },
  {
   "cell_type": "markdown",
   "metadata": {
    "id": "nBH73V7tHzFt"
   },
   "source": [
    "## Denoising"
   ]
  },
  {
   "cell_type": "code",
   "execution_count": 29,
   "metadata": {
    "id": "Djp2rqp-HnGb"
   },
   "outputs": [],
   "source": [
    "## Denoising"
   ]
  },
  {
   "cell_type": "code",
   "execution_count": 30,
   "metadata": {
    "colab": {
     "base_uri": "https://localhost:8080/",
     "height": 374
    },
    "id": "OnWTN4g0HxyS",
    "outputId": "e31795fc-610e-4064-9405-94e6cc509592"
   },
   "outputs": [
    {
     "name": "stdout",
     "output_type": "stream",
     "text": [
      "[[0.55271544 0.02622225 0.05672018 0.04597034 0.07858967]\n",
      " [0.07590316 0.92434865 0.05931146 0.02316673 0.01454247]\n",
      " [0.03198641 0.02758936 0.7113482  0.03753212 0.04799221]\n",
      " [0.05042711 0.02436957 0.07140973 0.86475811 0.04761819]\n",
      " [0.08341268 0.00250574 0.05054818 0.03251947 0.99349168]]\n"
     ]
    },
    {
     "data": {
      "text/plain": [
       "<matplotlib.image.AxesImage at 0x7f0d4e339c90>"
      ]
     },
     "execution_count": 30,
     "metadata": {},
     "output_type": "execute_result"
    },
    {
     "data": {
      "image/png": "[encoded data removed]",
      "text/plain": [
       "<Figure size 432x288 with 1 Axes>"
      ]
     },
     "metadata": {
      "needs_background": "light"
     },
     "output_type": "display_data"
    }
   ],
   "source": [
    "x_test = generate_data() + np.random.rand(5,5)/10\n",
    "print(x_test)\n",
    "plt.imshow(x_test, cmap ='Greens')"
   ]
  },
  {
   "cell_type": "code",
   "execution_count": 31,
   "metadata": {
    "colab": {
     "base_uri": "https://localhost:8080/",
     "height": 357
    },
    "id": "BtHWQVT3IFrn",
    "outputId": "7d6e3566-133d-4db3-b891-52c52bdf4a78"
   },
   "outputs": [
    {
     "name": "stdout",
     "output_type": "stream",
     "text": [
      "tensor([[ 7.9846e-01, -1.8731e-05,  3.3133e-05, -4.7777e-05,  1.4859e-04],\n",
      "        [-1.5085e-04,  8.6740e-01, -1.9448e-04, -4.0565e-05,  6.9782e-04],\n",
      "        [-4.3519e-05, -3.0203e-04,  7.9907e-01, -1.1345e-04, -3.2516e-04],\n",
      "        [-3.8244e-05,  5.9083e-05, -1.0680e-04,  8.5431e-01,  2.2888e-05],\n",
      "        [ 1.1894e-04,  1.9893e-05, -4.0554e-05, -6.1458e-04,  7.8264e-01]])\n"
     ]
    },
    {
     "data": {
      "image/png": "[encoded data removed]",
      "text/plain": [
       "<Figure size 432x288 with 1 Axes>"
      ]
     },
     "metadata": {
      "needs_background": "light"
     },
     "output_type": "display_data"
    }
   ],
   "source": [
    "with torch.no_grad():\n",
    "  x_test_tensor = torch.from_numpy(x_test).float().view(-1,25)\n",
    "  y_test_pred = model(x_test_tensor).view(5,5)\n",
    "  print(y_test_pred)\n",
    "  plt.imshow(y_test_pred, cmap ='Greens')"
   ]
  },
  {
   "cell_type": "code",
   "execution_count": 32,
   "metadata": {
    "id": "vMYrAhHqIICQ"
   },
   "outputs": [],
   "source": [
    "import pandas as pd\n",
    "\n",
    "mnist_train = pd.read_csv('/content/sample_data/mnist_train_small.csv').values"
   ]
  },
  {
   "cell_type": "code",
   "execution_count": 33,
   "metadata": {
    "colab": {
     "base_uri": "https://localhost:8080/"
    },
    "id": "MKKufvqwbEcD",
    "outputId": "e6efbfe3-578b-4389-a5d3-bc5106388dc6"
   },
   "outputs": [
    {
     "data": {
      "text/plain": [
       "(19999, 785)"
      ]
     },
     "execution_count": 33,
     "metadata": {},
     "output_type": "execute_result"
    }
   ],
   "source": [
    "mnist_train.shape"
   ]
  },
  {
   "cell_type": "code",
   "execution_count": 34,
   "metadata": {
    "colab": {
     "base_uri": "https://localhost:8080/",
     "height": 303
    },
    "id": "tMuRlIUgbJ_I",
    "outputId": "9301fd20-6f4f-4e92-fbfa-c14df3764d2e"
   },
   "outputs": [
    {
     "name": "stdout",
     "output_type": "stream",
     "text": [
      "5\n"
     ]
    },
    {
     "data": {
      "text/plain": [
       "<matplotlib.image.AxesImage at 0x7f0d4e0dd890>"
      ]
     },
     "execution_count": 34,
     "metadata": {},
     "output_type": "execute_result"
    },
    {
     "data": {
      "image/png": "[encoded data removed]",
      "text/plain": [
       "<Figure size 432x288 with 1 Axes>"
      ]
     },
     "metadata": {
      "needs_background": "light"
     },
     "output_type": "display_data"
    }
   ],
   "source": [
    "observation0 = mnist_train[0][1:].reshape(28,28) # 784 = 28x28\n",
    "label0 = mnist_train[0][0] # 1 for label\n",
    "\n",
    "print(label0)\n",
    "plt.imshow(observation0, cmap ='Greens')"
   ]
  },
  {
   "cell_type": "markdown",
   "metadata": {
    "id": "NHJFmPFRxqBw"
   },
   "source": [
    "# Visual code"
   ]
  },
  {
   "cell_type": "code",
   "execution_count": 35,
   "metadata": {
    "colab": {
     "base_uri": "https://localhost:8080/"
    },
    "id": "QFAr3i3Syx7h",
    "outputId": "4abbea23-0e09-4bc3-f33c-32c68f67058a"
   },
   "outputs": [
    {
     "data": {
      "text/plain": [
       "<torch._C.Generator at 0x7f0e69d7a750>"
      ]
     },
     "execution_count": 35,
     "metadata": {},
     "output_type": "execute_result"
    }
   ],
   "source": [
    "import torch\n",
    "\n",
    "import os\n",
    "import numpy as np\n",
    "import pandas as pd\n",
    "from tqdm import tqdm\n",
    "import seaborn as sns\n",
    "from pylab import rcParams\n",
    "import matplotlib.pyplot as plt\n",
    "from matplotlib import rc\n",
    "from sklearn.model_selection import train_test_split\n",
    "from sklearn.metrics import confusion_matrix, classification_report\n",
    "\n",
    "from torch import nn, optim\n",
    "\n",
    "import torch.nn.functional as F\n",
    "\n",
    "%matplotlib inline\n",
    "%config InlineBackend.figure_format='retina'\n",
    "\n",
    "sns.set(style='whitegrid', palette='muted', font_scale=1.2)\n",
    "\n",
    "HAPPY_COLORS_PALETTE = [\"#01BEFE\", \"#FFDD00\", \"#FF7D00\", \"#FF006D\", \"#93D30C\", \"#8F00FF\"]\n",
    "\n",
    "sns.set_palette(sns.color_palette(HAPPY_COLORS_PALETTE))\n",
    "\n",
    "rcParams['figure.figsize'] = 12, 8\n",
    "\n",
    "RANDOM_SEED = 42\n",
    "np.random.seed(RANDOM_SEED)\n",
    "torch.manual_seed(RANDOM_SEED)"
   ]
  },
  {
   "cell_type": "code",
   "execution_count": 36,
   "metadata": {
    "id": "fZXGnRqzcg4A"
   },
   "outputs": [],
   "source": [
    "# Heavily based on https://github.com/Prodicode/ann-visualizer\n",
    "\n",
    "def ann_viz(model, view=True, filename=\"network.gv\"):\n",
    "    \"\"\"Vizualizez a Sequential model.\n",
    "\n",
    "    # Arguments\n",
    "        model: A Keras model instance.\n",
    "\n",
    "        view: whether to display the model after generation.\n",
    "\n",
    "        filename: where to save the vizualization. (a .gv file)\n",
    "\n",
    "        title: A title for the graph\n",
    "    \"\"\"\n",
    "    from graphviz import Digraph\n",
    "\n",
    "    input_layer = 0\n",
    "    hidden_layers_nr = 0\n",
    "    layer_types = []\n",
    "    hidden_layers = []\n",
    "    output_layer = 0\n",
    "    layers = [layer for layer in model.modules() if type(layer) == torch.nn.Linear]\n",
    "\n",
    "    for layer in layers:\n",
    "        if layer == layers[0]:\n",
    "            input_layer = layer.in_features\n",
    "            hidden_layers_nr += 1\n",
    "            if type(layer) == torch.nn.Linear:                \n",
    "                hidden_layers.append(layer.out_features)\n",
    "                layer_types.append(\"Dense\")\n",
    "            else:\n",
    "                raise Exception(\"Input error\")\n",
    "\n",
    "        else:\n",
    "            if layer == layers[-1]:\n",
    "                output_layer = layer.out_features\n",
    "            else:\n",
    "                hidden_layers_nr += 1\n",
    "                if type(layer) == torch.nn.Linear:\n",
    "\n",
    "                    hidden_layers.append(layer.out_features)\n",
    "                    layer_types.append(\"Dense\")\n",
    "                else:\n",
    "                    raise Exception(\"Hidden error\")\n",
    "        last_layer_nodes = input_layer\n",
    "        nodes_up = input_layer\n",
    "\n",
    "    g = Digraph(\"g\", filename=filename)\n",
    "    n = 0\n",
    "    g.graph_attr.update(splines=\"false\", nodesep=\"0.5\", ranksep=\"0\", rankdir='LR')\n",
    "    # Input Layer\n",
    "    with g.subgraph(name=\"cluster_input\") as c:\n",
    "        if type(layers[0]) == torch.nn.Linear:\n",
    "            the_label = \"Input Layer\"\n",
    "            if layers[0].in_features > 10:\n",
    "                the_label += \" (+\" + str(layers[0].in_features - 10) + \")\"\n",
    "                input_layer = 10\n",
    "            c.attr(color=\"white\")\n",
    "            for i in range(0, input_layer):\n",
    "                n += 1\n",
    "                c.node(str(n))\n",
    "                c.attr(labeljust=\"1\")\n",
    "                c.attr(label=the_label, labelloc=\"bottom\")\n",
    "                c.attr(rank=\"same\")                \n",
    "                c.node_attr.update(\n",
    "                    width=\"0.65\",\n",
    "                    style=\"filled\",                    \n",
    "                    shape=\"circle\",\n",
    "                    color=HAPPY_COLORS_PALETTE[3],\n",
    "                    fontcolor=HAPPY_COLORS_PALETTE[3],\n",
    "                )\n",
    "    for i in range(0, hidden_layers_nr):\n",
    "        with g.subgraph(name=\"cluster_\" + str(i + 1)) as c:\n",
    "            if layer_types[i] == \"Dense\":\n",
    "                c.attr(color=\"white\")\n",
    "                c.attr(rank=\"same\")\n",
    "                the_label = f'Hidden Layer {i + 1}'\n",
    "                if layers[i].out_features > 10:\n",
    "                    the_label += \" (+\" + str(layers[i].out_features - 10) + \")\"\n",
    "                    hidden_layers[i] = 10\n",
    "                c.attr(labeljust=\"right\", labelloc=\"b\", label=the_label)\n",
    "                for j in range(0, hidden_layers[i]):\n",
    "                    n += 1\n",
    "                    c.node(\n",
    "                        str(n),\n",
    "                        width=\"0.65\",\n",
    "                        shape=\"circle\",\n",
    "                        style=\"filled\",\n",
    "                        color=HAPPY_COLORS_PALETTE[0],\n",
    "                        fontcolor=HAPPY_COLORS_PALETTE[0],\n",
    "                    )\n",
    "                    for h in range(nodes_up - last_layer_nodes + 1, nodes_up + 1):\n",
    "                        g.edge(str(h), str(n))\n",
    "                last_layer_nodes = hidden_layers[i]\n",
    "                nodes_up += hidden_layers[i]\n",
    "            else:\n",
    "                raise Exception(\"Hidden layer type not supported\")\n",
    "\n",
    "    with g.subgraph(name=\"cluster_output\") as c:\n",
    "        if type(layers[-1]) == torch.nn.Linear:\n",
    "            c.attr(color=\"white\")\n",
    "            c.attr(rank=\"same\")\n",
    "            c.attr(labeljust=\"1\")\n",
    "            for i in range(1, output_layer + 1):\n",
    "                n += 1\n",
    "                c.node(\n",
    "                    str(n),\n",
    "                    width=\"0.65\",\n",
    "                    shape=\"circle\",\n",
    "                    style=\"filled\",\n",
    "                    color=HAPPY_COLORS_PALETTE[4],\n",
    "                    fontcolor=HAPPY_COLORS_PALETTE[4],\n",
    "                    \n",
    "                )\n",
    "                for h in range(nodes_up - last_layer_nodes + 1, nodes_up + 1):\n",
    "                    g.edge(str(h), str(n))\n",
    "            c.attr(label=\"Output Layer\", labelloc=\"bottom\")\n",
    "            c.node_attr.update(\n",
    "                color=\"#2ecc71\", style=\"filled\", fontcolor=\"#2ecc71\", shape=\"circle\"\n",
    "            )\n",
    "\n",
    "    g.attr(arrowShape=\"none\")\n",
    "    g.edge_attr.update(arrowhead=\"none\", color=\"#707070\", penwidth=\"2\")\n",
    "    if view is True:\n",
    "        g.view()\n",
    "\n",
    "    return g\n"
   ]
  },
  {
   "cell_type": "code",
   "execution_count": 37,
   "metadata": {
    "id": "C_NcnqW_xsH3"
   },
   "outputs": [],
   "source": [
    "model = nn.Sequential(\n",
    "    # -- encoder part ---\n",
    "    nn.Linear(25, 10), # W1_e 25x10, b1_e 10x1\n",
    "    nn.ReLU(),\n",
    "    nn.Linear(10, 3), # W2_e 10x3, b2_e 3x1\n",
    "    nn.ReLU(),\n",
    "    # -- decoder part ---\n",
    "    nn.Linear(3, 10), # W1_d 3x10, b1_d 10x1\n",
    "    nn.ReLU(),\n",
    "    nn.Linear(10, 25), # W2_d 10x25, b2_d 25x1\n",
    "    #nn.ReLU()\n",
    ")"
   ]
  },
  {
   "cell_type": "code",
   "execution_count": 38,
   "metadata": {
    "id": "9qGwS_BFxyDo"
   },
   "outputs": [],
   "source": [
    "class Net(nn.Module):\n",
    "\n",
    "  def __init__(self, n_features = 3):\n",
    "    super(Net, self).__init__()\n",
    "    # -- encoder part ---\n",
    "    self.fc1 = nn.Linear(n_features, 4)\n",
    "    self.fc2 = nn.Linear(4, 1)\n",
    "     # -- decoder part ---\n",
    "    self.fc3 = nn.Linear(1, 4)\n",
    "    self.fc4 = nn.Linear(4, n_features)\n",
    "\n",
    "  def forward(self, x):\n",
    "    # -- encoder part ---\n",
    "    x = F.relu(self.fc1(x))\n",
    "    x = F.relu(self.fc2(x))\n",
    "    # -- decoder part ---\n",
    "    x = F.relu(self.fc3(x))\n",
    "    x = self.fc4(x)\n",
    "    return x"
   ]
  },
  {
   "cell_type": "code",
   "execution_count": 39,
   "metadata": {
    "colab": {
     "base_uri": "https://localhost:8080/",
     "height": 556
    },
    "id": "ASKMXU_JyVh6",
    "outputId": "606d1774-5435-4b7c-8932-8bca04dd0357"
   },
   "outputs": [
    {
     "data": {
      "image/svg+xml": [
       "<?xml version=\"1.0\" encoding=\"UTF-8\" standalone=\"no\"?>\n",
       "<!DOCTYPE svg PUBLIC \"-//W3C//DTD SVG 1.1//EN\"\n",
       " \"http://www.w3.org/Graphics/SVG/1.1/DTD/svg11.dtd\">\n",
       "<!-- Generated by graphviz version 2.40.1 (20161225.0304)\n",
       " -->\n",
       "<!-- Title: g Pages: 1 -->\n",
       "<svg width=\"539pt\" height=\"401pt\"\n",
       " viewBox=\"0.00 0.00 539.00 401.00\" xmlns=\"http://www.w3.org/2000/svg\" xmlns:xlink=\"http://www.w3.org/1999/xlink\">\n",
       "<g id=\"graph0\" class=\"graph\" transform=\"scale(1 1) rotate(0) translate(4 397)\">\n",
       "<title>g</title>\n",
       "<polygon fill=\"#ffffff\" stroke=\"transparent\" points=\"-4,4 -4,-397 535,-397 535,4 -4,4\"/>\n",
       "<g id=\"clust1\" class=\"cluster\">\n",
       "<title>cluster_input</title>\n",
       "<polygon fill=\"none\" stroke=\"#ffffff\" points=\"0,-49 0,-302 84,-302 84,-49 0,-49\"/>\n",
       "<text text-anchor=\"middle\" x=\"42\" y=\"-56.8\" font-family=\"Times,serif\" font-size=\"14.00\" fill=\"#000000\">Input Layer</text>\n",
       "</g>\n",
       "<g id=\"clust2\" class=\"cluster\">\n",
       "<title>cluster_1</title>\n",
       "<polygon fill=\"none\" stroke=\"#ffffff\" points=\"92,-8 92,-344 199,-344 199,-8 92,-8\"/>\n",
       "<text text-anchor=\"middle\" x=\"145.5\" y=\"-15.8\" font-family=\"Times,serif\" font-size=\"14.00\" fill=\"#000000\">Hidden Layer 1</text>\n",
       "</g>\n",
       "<g id=\"clust3\" class=\"cluster\">\n",
       "<title>cluster_2</title>\n",
       "<polygon fill=\"none\" stroke=\"#ffffff\" points=\"207,-132 207,-219 314,-219 314,-132 207,-132\"/>\n",
       "<text text-anchor=\"middle\" x=\"260.5\" y=\"-139.8\" font-family=\"Times,serif\" font-size=\"14.00\" fill=\"#000000\">Hidden Layer 2</text>\n",
       "</g>\n",
       "<g id=\"clust4\" class=\"cluster\">\n",
       "<title>cluster_3</title>\n",
       "<polygon fill=\"none\" stroke=\"#ffffff\" points=\"322,-49 322,-385 429,-385 429,-49 322,-49\"/>\n",
       "<text text-anchor=\"middle\" x=\"375.5\" y=\"-56.8\" font-family=\"Times,serif\" font-size=\"14.00\" fill=\"#000000\">Hidden Layer 3</text>\n",
       "</g>\n",
       "<g id=\"clust5\" class=\"cluster\">\n",
       "<title>cluster_output</title>\n",
       "<polygon fill=\"none\" stroke=\"#ffffff\" points=\"437,-90 437,-343 531,-343 531,-90 437,-90\"/>\n",
       "<text text-anchor=\"middle\" x=\"484\" y=\"-97.8\" font-family=\"Times,serif\" font-size=\"14.00\" fill=\"#000000\">Output Layer</text>\n",
       "</g>\n",
       "<!-- 1 -->\n",
       "<g id=\"node1\" class=\"node\">\n",
       "<title>1</title>\n",
       "<ellipse fill=\"#ff006d\" stroke=\"#ff006d\" cx=\"41.5\" cy=\"-187\" rx=\"23.5\" ry=\"23.5\"/>\n",
       "<text text-anchor=\"middle\" x=\"41.5\" y=\"-183.3\" font-family=\"Times,serif\" font-size=\"14.00\" fill=\"#ff006d\">1</text>\n",
       "</g>\n",
       "<!-- 4 -->\n",
       "<g id=\"node4\" class=\"node\">\n",
       "<title>4</title>\n",
       "<ellipse fill=\"#01befe\" stroke=\"#01befe\" cx=\"145.5\" cy=\"-312\" rx=\"23.5\" ry=\"23.5\"/>\n",
       "<text text-anchor=\"middle\" x=\"145.5\" y=\"-308.3\" font-family=\"Times,serif\" font-size=\"14.00\" fill=\"#01befe\">4</text>\n",
       "</g>\n",
       "<!-- 1&#45;&gt;4 -->\n",
       "<g id=\"edge1\" class=\"edge\">\n",
       "<title>1&#45;&gt;4</title>\n",
       "<path fill=\"none\" stroke=\"#707070\" stroke-width=\"2\" d=\"M56.6225,-205.1761C76.3402,-228.8752 110.6326,-270.092 130.3593,-293.802\"/>\n",
       "</g>\n",
       "<!-- 5 -->\n",
       "<g id=\"node5\" class=\"node\">\n",
       "<title>5</title>\n",
       "<ellipse fill=\"#01befe\" stroke=\"#01befe\" cx=\"145.5\" cy=\"-229\" rx=\"23.5\" ry=\"23.5\"/>\n",
       "<text text-anchor=\"middle\" x=\"145.5\" y=\"-225.3\" font-family=\"Times,serif\" font-size=\"14.00\" fill=\"#01befe\">5</text>\n",
       "</g>\n",
       "<!-- 1&#45;&gt;5 -->\n",
       "<g id=\"edge4\" class=\"edge\">\n",
       "<title>1&#45;&gt;5</title>\n",
       "<path fill=\"none\" stroke=\"#707070\" stroke-width=\"2\" d=\"M63.3018,-195.8046C80.9324,-202.9246 105.6506,-212.907 123.3687,-220.0624\"/>\n",
       "</g>\n",
       "<!-- 6 -->\n",
       "<g id=\"node6\" class=\"node\">\n",
       "<title>6</title>\n",
       "<ellipse fill=\"#01befe\" stroke=\"#01befe\" cx=\"145.5\" cy=\"-146\" rx=\"23.5\" ry=\"23.5\"/>\n",
       "<text text-anchor=\"middle\" x=\"145.5\" y=\"-142.3\" font-family=\"Times,serif\" font-size=\"14.00\" fill=\"#01befe\">6</text>\n",
       "</g>\n",
       "<!-- 1&#45;&gt;6 -->\n",
       "<g id=\"edge7\" class=\"edge\">\n",
       "<title>1&#45;&gt;6</title>\n",
       "<path fill=\"none\" stroke=\"#707070\" stroke-width=\"2\" d=\"M63.5557,-178.305C81.2049,-171.3471 105.8353,-161.637 123.4761,-154.6825\"/>\n",
       "</g>\n",
       "<!-- 7 -->\n",
       "<g id=\"node7\" class=\"node\">\n",
       "<title>7</title>\n",
       "<ellipse fill=\"#01befe\" stroke=\"#01befe\" cx=\"145.5\" cy=\"-63\" rx=\"23.5\" ry=\"23.5\"/>\n",
       "<text text-anchor=\"middle\" x=\"145.5\" y=\"-59.3\" font-family=\"Times,serif\" font-size=\"14.00\" fill=\"#01befe\">7</text>\n",
       "</g>\n",
       "<!-- 1&#45;&gt;7 -->\n",
       "<g id=\"edge10\" class=\"edge\">\n",
       "<title>1&#45;&gt;7</title>\n",
       "<path fill=\"none\" stroke=\"#707070\" stroke-width=\"2\" d=\"M56.6225,-168.9693C76.3402,-145.4598 110.6326,-104.5727 130.3593,-81.0524\"/>\n",
       "</g>\n",
       "<!-- 2 -->\n",
       "<g id=\"node2\" class=\"node\">\n",
       "<title>2</title>\n",
       "<ellipse fill=\"#ff006d\" stroke=\"#ff006d\" cx=\"41.5\" cy=\"-104\" rx=\"23.5\" ry=\"23.5\"/>\n",
       "<text text-anchor=\"middle\" x=\"41.5\" y=\"-100.3\" font-family=\"Times,serif\" font-size=\"14.00\" fill=\"#ff006d\">2</text>\n",
       "</g>\n",
       "<!-- 2&#45;&gt;4 -->\n",
       "<g id=\"edge2\" class=\"edge\">\n",
       "<title>2&#45;&gt;4</title>\n",
       "<path fill=\"none\" stroke=\"#707070\" stroke-width=\"2\" d=\"M52.0444,-125.0888C71.9775,-164.9551 114.973,-250.9461 134.9277,-290.8554\"/>\n",
       "</g>\n",
       "<!-- 2&#45;&gt;5 -->\n",
       "<g id=\"edge5\" class=\"edge\">\n",
       "<title>2&#45;&gt;5</title>\n",
       "<path fill=\"none\" stroke=\"#707070\" stroke-width=\"2\" d=\"M56.6225,-122.1761C76.3402,-145.8752 110.6326,-187.092 130.3593,-210.802\"/>\n",
       "</g>\n",
       "<!-- 2&#45;&gt;6 -->\n",
       "<g id=\"edge8\" class=\"edge\">\n",
       "<title>2&#45;&gt;6</title>\n",
       "<path fill=\"none\" stroke=\"#707070\" stroke-width=\"2\" d=\"M63.3018,-112.8046C80.9324,-119.9246 105.6506,-129.907 123.3687,-137.0624\"/>\n",
       "</g>\n",
       "<!-- 2&#45;&gt;7 -->\n",
       "<g id=\"edge11\" class=\"edge\">\n",
       "<title>2&#45;&gt;7</title>\n",
       "<path fill=\"none\" stroke=\"#707070\" stroke-width=\"2\" d=\"M63.5557,-95.305C81.2049,-88.3471 105.8353,-78.637 123.4761,-71.6825\"/>\n",
       "</g>\n",
       "<!-- 3 -->\n",
       "<g id=\"node3\" class=\"node\">\n",
       "<title>3</title>\n",
       "<ellipse fill=\"#ff006d\" stroke=\"#ff006d\" cx=\"41.5\" cy=\"-270\" rx=\"23.5\" ry=\"23.5\"/>\n",
       "<text text-anchor=\"middle\" x=\"41.5\" y=\"-266.3\" font-family=\"Times,serif\" font-size=\"14.00\" fill=\"#ff006d\">3</text>\n",
       "</g>\n",
       "<!-- 3&#45;&gt;4 -->\n",
       "<g id=\"edge3\" class=\"edge\">\n",
       "<title>3&#45;&gt;4</title>\n",
       "<path fill=\"none\" stroke=\"#707070\" stroke-width=\"2\" d=\"M63.3018,-278.8046C80.9324,-285.9246 105.6506,-295.907 123.3687,-303.0624\"/>\n",
       "</g>\n",
       "<!-- 3&#45;&gt;5 -->\n",
       "<g id=\"edge6\" class=\"edge\">\n",
       "<title>3&#45;&gt;5</title>\n",
       "<path fill=\"none\" stroke=\"#707070\" stroke-width=\"2\" d=\"M63.5557,-261.305C81.2049,-254.3471 105.8353,-244.637 123.4761,-237.6825\"/>\n",
       "</g>\n",
       "<!-- 3&#45;&gt;6 -->\n",
       "<g id=\"edge9\" class=\"edge\">\n",
       "<title>3&#45;&gt;6</title>\n",
       "<path fill=\"none\" stroke=\"#707070\" stroke-width=\"2\" d=\"M56.6225,-251.9693C76.3402,-228.4598 110.6326,-187.5727 130.3593,-164.0524\"/>\n",
       "</g>\n",
       "<!-- 3&#45;&gt;7 -->\n",
       "<g id=\"edge12\" class=\"edge\">\n",
       "<title>3&#45;&gt;7</title>\n",
       "<path fill=\"none\" stroke=\"#707070\" stroke-width=\"2\" d=\"M52.2381,-248.627C72.2189,-208.8576 114.8838,-123.9379 134.8203,-84.2567\"/>\n",
       "</g>\n",
       "<!-- 8 -->\n",
       "<g id=\"node8\" class=\"node\">\n",
       "<title>8</title>\n",
       "<ellipse fill=\"#01befe\" stroke=\"#01befe\" cx=\"260.5\" cy=\"-187\" rx=\"23.5\" ry=\"23.5\"/>\n",
       "<text text-anchor=\"middle\" x=\"260.5\" y=\"-183.3\" font-family=\"Times,serif\" font-size=\"14.00\" fill=\"#01befe\">8</text>\n",
       "</g>\n",
       "<!-- 4&#45;&gt;8 -->\n",
       "<g id=\"edge13\" class=\"edge\">\n",
       "<title>4&#45;&gt;8</title>\n",
       "<path fill=\"none\" stroke=\"#707070\" stroke-width=\"2\" d=\"M161.4903,-294.6193C183.3379,-270.8718 222.3052,-228.5161 244.2748,-204.6361\"/>\n",
       "</g>\n",
       "<!-- 5&#45;&gt;8 -->\n",
       "<g id=\"edge14\" class=\"edge\">\n",
       "<title>5&#45;&gt;8</title>\n",
       "<path fill=\"none\" stroke=\"#707070\" stroke-width=\"2\" d=\"M167.6732,-220.902C188.037,-213.4647 218.0526,-202.5025 238.3949,-195.0732\"/>\n",
       "</g>\n",
       "<!-- 6&#45;&gt;8 -->\n",
       "<g id=\"edge15\" class=\"edge\">\n",
       "<title>6&#45;&gt;8</title>\n",
       "<path fill=\"none\" stroke=\"#707070\" stroke-width=\"2\" d=\"M167.6732,-153.9052C187.9065,-161.1188 217.6682,-171.7295 238.0025,-178.9792\"/>\n",
       "</g>\n",
       "<!-- 7&#45;&gt;8 -->\n",
       "<g id=\"edge16\" class=\"edge\">\n",
       "<title>7&#45;&gt;8</title>\n",
       "<path fill=\"none\" stroke=\"#707070\" stroke-width=\"2\" d=\"M161.4903,-80.2417C183.3379,-103.7991 222.3052,-145.8161 244.2748,-169.505\"/>\n",
       "</g>\n",
       "<!-- 9 -->\n",
       "<g id=\"node9\" class=\"node\">\n",
       "<title>9</title>\n",
       "<ellipse fill=\"#01befe\" stroke=\"#01befe\" cx=\"375.5\" cy=\"-353\" rx=\"23.5\" ry=\"23.5\"/>\n",
       "<text text-anchor=\"middle\" x=\"375.5\" y=\"-349.3\" font-family=\"Times,serif\" font-size=\"14.00\" fill=\"#01befe\">9</text>\n",
       "</g>\n",
       "<!-- 8&#45;&gt;9 -->\n",
       "<g id=\"edge17\" class=\"edge\">\n",
       "<title>8&#45;&gt;9</title>\n",
       "<path fill=\"none\" stroke=\"#707070\" stroke-width=\"2\" d=\"M273.917,-206.3672C296.0171,-238.2681 339.8303,-301.5116 361.9907,-333.4996\"/>\n",
       "</g>\n",
       "<!-- 10 -->\n",
       "<g id=\"node10\" class=\"node\">\n",
       "<title>10</title>\n",
       "<ellipse fill=\"#01befe\" stroke=\"#01befe\" cx=\"375.5\" cy=\"-270\" rx=\"23.5\" ry=\"23.5\"/>\n",
       "<text text-anchor=\"middle\" x=\"375.5\" y=\"-266.3\" font-family=\"Times,serif\" font-size=\"14.00\" fill=\"#01befe\">10</text>\n",
       "</g>\n",
       "<!-- 8&#45;&gt;10 -->\n",
       "<g id=\"edge18\" class=\"edge\">\n",
       "<title>8&#45;&gt;10</title>\n",
       "<path fill=\"none\" stroke=\"#707070\" stroke-width=\"2\" d=\"M279.7484,-200.8923C300.9768,-216.2137 334.9354,-240.7229 356.1888,-256.0623\"/>\n",
       "</g>\n",
       "<!-- 11 -->\n",
       "<g id=\"node11\" class=\"node\">\n",
       "<title>11</title>\n",
       "<ellipse fill=\"#01befe\" stroke=\"#01befe\" cx=\"375.5\" cy=\"-187\" rx=\"23.5\" ry=\"23.5\"/>\n",
       "<text text-anchor=\"middle\" x=\"375.5\" y=\"-183.3\" font-family=\"Times,serif\" font-size=\"14.00\" fill=\"#01befe\">11</text>\n",
       "</g>\n",
       "<!-- 8&#45;&gt;11 -->\n",
       "<g id=\"edge19\" class=\"edge\">\n",
       "<title>8&#45;&gt;11</title>\n",
       "<path fill=\"none\" stroke=\"#707070\" stroke-width=\"2\" d=\"M284.0495,-187C303.8946,-187 332.1458,-187 351.982,-187\"/>\n",
       "</g>\n",
       "<!-- 12 -->\n",
       "<g id=\"node12\" class=\"node\">\n",
       "<title>12</title>\n",
       "<ellipse fill=\"#01befe\" stroke=\"#01befe\" cx=\"375.5\" cy=\"-104\" rx=\"23.5\" ry=\"23.5\"/>\n",
       "<text text-anchor=\"middle\" x=\"375.5\" y=\"-100.3\" font-family=\"Times,serif\" font-size=\"14.00\" fill=\"#01befe\">12</text>\n",
       "</g>\n",
       "<!-- 8&#45;&gt;12 -->\n",
       "<g id=\"edge20\" class=\"edge\">\n",
       "<title>8&#45;&gt;12</title>\n",
       "<path fill=\"none\" stroke=\"#707070\" stroke-width=\"2\" d=\"M279.7484,-173.1077C300.9768,-157.7863 334.9354,-133.2771 356.1888,-117.9377\"/>\n",
       "</g>\n",
       "<!-- 13 -->\n",
       "<g id=\"node13\" class=\"node\">\n",
       "<title>13</title>\n",
       "<ellipse fill=\"#93d30c\" stroke=\"#93d30c\" cx=\"483.5\" cy=\"-145\" rx=\"23.5\" ry=\"23.5\"/>\n",
       "<text text-anchor=\"middle\" x=\"483.5\" y=\"-141.3\" font-family=\"Times,serif\" font-size=\"14.00\" fill=\"#93d30c\">13</text>\n",
       "</g>\n",
       "<!-- 9&#45;&gt;13 -->\n",
       "<g id=\"edge21\" class=\"edge\">\n",
       "<title>9&#45;&gt;13</title>\n",
       "<path fill=\"none\" stroke=\"#707070\" stroke-width=\"2\" d=\"M386.45,-331.9112C407.1498,-292.0449 451.7989,-206.0539 472.5211,-166.1446\"/>\n",
       "</g>\n",
       "<!-- 14 -->\n",
       "<g id=\"node14\" class=\"node\">\n",
       "<title>14</title>\n",
       "<ellipse fill=\"#93d30c\" stroke=\"#93d30c\" cx=\"483.5\" cy=\"-311\" rx=\"23.5\" ry=\"23.5\"/>\n",
       "<text text-anchor=\"middle\" x=\"483.5\" y=\"-307.3\" font-family=\"Times,serif\" font-size=\"14.00\" fill=\"#93d30c\">14</text>\n",
       "</g>\n",
       "<!-- 9&#45;&gt;14 -->\n",
       "<g id=\"edge25\" class=\"edge\">\n",
       "<title>9&#45;&gt;14</title>\n",
       "<path fill=\"none\" stroke=\"#707070\" stroke-width=\"2\" d=\"M397.616,-344.3993C416.2532,-337.1515 442.7847,-326.8337 461.4136,-319.5892\"/>\n",
       "</g>\n",
       "<!-- 15 -->\n",
       "<g id=\"node15\" class=\"node\">\n",
       "<title>15</title>\n",
       "<ellipse fill=\"#93d30c\" stroke=\"#93d30c\" cx=\"483.5\" cy=\"-228\" rx=\"23.5\" ry=\"23.5\"/>\n",
       "<text text-anchor=\"middle\" x=\"483.5\" y=\"-224.3\" font-family=\"Times,serif\" font-size=\"14.00\" fill=\"#93d30c\">15</text>\n",
       "</g>\n",
       "<!-- 9&#45;&gt;15 -->\n",
       "<g id=\"edge29\" class=\"edge\">\n",
       "<title>9&#45;&gt;15</title>\n",
       "<path fill=\"none\" stroke=\"#707070\" stroke-width=\"2\" d=\"M390.9738,-335.0905C411.5046,-311.3281 447.5386,-269.622 468.0549,-245.8762\"/>\n",
       "</g>\n",
       "<!-- 10&#45;&gt;13 -->\n",
       "<g id=\"edge22\" class=\"edge\">\n",
       "<title>10&#45;&gt;13</title>\n",
       "<path fill=\"none\" stroke=\"#707070\" stroke-width=\"2\" d=\"M390.9738,-252.0905C411.5046,-228.3281 447.5386,-186.622 468.0549,-162.8762\"/>\n",
       "</g>\n",
       "<!-- 10&#45;&gt;14 -->\n",
       "<g id=\"edge26\" class=\"edge\">\n",
       "<title>10&#45;&gt;14</title>\n",
       "<path fill=\"none\" stroke=\"#707070\" stroke-width=\"2\" d=\"M397.616,-278.3959C416.2532,-285.4711 442.7847,-295.5433 461.4136,-302.6153\"/>\n",
       "</g>\n",
       "<!-- 10&#45;&gt;15 -->\n",
       "<g id=\"edge30\" class=\"edge\">\n",
       "<title>10&#45;&gt;15</title>\n",
       "<path fill=\"none\" stroke=\"#707070\" stroke-width=\"2\" d=\"M397.616,-261.3993C416.2532,-254.1515 442.7847,-243.8337 461.4136,-236.5892\"/>\n",
       "</g>\n",
       "<!-- 11&#45;&gt;13 -->\n",
       "<g id=\"edge23\" class=\"edge\">\n",
       "<title>11&#45;&gt;13</title>\n",
       "<path fill=\"none\" stroke=\"#707070\" stroke-width=\"2\" d=\"M397.616,-178.3993C416.2532,-171.1515 442.7847,-160.8337 461.4136,-153.5892\"/>\n",
       "</g>\n",
       "<!-- 11&#45;&gt;14 -->\n",
       "<g id=\"edge27\" class=\"edge\">\n",
       "<title>11&#45;&gt;14</title>\n",
       "<path fill=\"none\" stroke=\"#707070\" stroke-width=\"2\" d=\"M390.9738,-204.7662C411.5046,-228.3386 447.5386,-269.711 468.0549,-293.2668\"/>\n",
       "</g>\n",
       "<!-- 11&#45;&gt;15 -->\n",
       "<g id=\"edge31\" class=\"edge\">\n",
       "<title>11&#45;&gt;15</title>\n",
       "<path fill=\"none\" stroke=\"#707070\" stroke-width=\"2\" d=\"M397.616,-195.3959C416.2532,-202.4711 442.7847,-212.5433 461.4136,-219.6153\"/>\n",
       "</g>\n",
       "<!-- 12&#45;&gt;13 -->\n",
       "<g id=\"edge24\" class=\"edge\">\n",
       "<title>12&#45;&gt;13</title>\n",
       "<path fill=\"none\" stroke=\"#707070\" stroke-width=\"2\" d=\"M397.616,-112.3959C416.2532,-119.4711 442.7847,-129.5433 461.4136,-136.6153\"/>\n",
       "</g>\n",
       "<!-- 12&#45;&gt;14 -->\n",
       "<g id=\"edge28\" class=\"edge\">\n",
       "<title>12&#45;&gt;14</title>\n",
       "<path fill=\"none\" stroke=\"#707070\" stroke-width=\"2\" d=\"M386.45,-124.9874C407.1498,-164.662 451.7989,-250.2396 472.5211,-289.957\"/>\n",
       "</g>\n",
       "<!-- 12&#45;&gt;15 -->\n",
       "<g id=\"edge32\" class=\"edge\">\n",
       "<title>12&#45;&gt;15</title>\n",
       "<path fill=\"none\" stroke=\"#707070\" stroke-width=\"2\" d=\"M390.9738,-121.7662C411.5046,-145.3386 447.5386,-186.711 468.0549,-210.2668\"/>\n",
       "</g>\n",
       "</g>\n",
       "</svg>\n"
      ],
      "text/plain": [
       "<graphviz.dot.Digraph at 0x7f0d4da91b90>"
      ]
     },
     "execution_count": 39,
     "metadata": {},
     "output_type": "execute_result"
    }
   ],
   "source": [
    "net = Net()\n",
    "ann_viz(net, view=False)"
   ]
  },
  {
   "cell_type": "code",
   "execution_count": 39,
   "metadata": {
    "id": "9tup14ndygSx"
   },
   "outputs": [],
   "source": []
  }
 ],
 "metadata": {
  "accelerator": "GPU",
  "colab": {
   "collapsed_sections": [],
   "name": "PyTorch AutoEncoder Tutorial.ipynb",
   "provenance": []
  },
  "kernelspec": {
   "display_name": "Python 3",
   "language": "python",
   "name": "python3"
  },
  "language_info": {
   "codemirror_mode": {
    "name": "ipython",
    "version": 3
   },
   "file_extension": ".py",
   "mimetype": "text/x-python",
   "name": "python",
   "nbconvert_exporter": "python",
   "pygments_lexer": "ipython3",
   "version": "3.8.3"
  },
  "toc": {
   "base_numbering": 1,
   "nav_menu": {},
   "number_sections": true,
   "sideBar": true,
   "skip_h1_title": false,
   "title_cell": "Table of Contents",
   "title_sidebar": "Contents",
   "toc_cell": false,
   "toc_position": {},
   "toc_section_display": true,
   "toc_window_display": false
  },
  "varInspector": {
   "cols": {
    "lenName": 16,
    "lenType": 16,
    "lenVar": 40
   },
   "kernels_config": {
    "python": {
     "delete_cmd_postfix": "",
     "delete_cmd_prefix": "del ",
     "library": "var_list.py",
     "varRefreshCmd": "print(var_dic_list())"
    },
    "r": {
     "delete_cmd_postfix": ") ",
     "delete_cmd_prefix": "rm(",
     "library": "var_list.r",
     "varRefreshCmd": "cat(var_dic_list()) "
    }
   },
   "types_to_exclude": [
    "module",
    "function",
    "builtin_function_or_method",
    "instance",
    "_Feature"
   ],
   "window_display": false
  }
 },
 "nbformat": 4,
 "nbformat_minor": 1
}
