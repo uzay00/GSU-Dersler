{
  "nbformat": 4,
  "nbformat_minor": 0,
  "metadata": {
    "kernelspec": {
      "display_name": "Python 3",
      "language": "python",
      "name": "python3"
    },
    "language_info": {
      "codemirror_mode": {
        "name": "ipython",
        "version": 3
      },
      "file_extension": ".py",
      "mimetype": "text/x-python",
      "name": "python",
      "nbconvert_exporter": "python",
      "pygments_lexer": "ipython3",
      "version": "3.7.1"
    },
    "toc": {
      "base_numbering": 1,
      "nav_menu": {},
      "number_sections": true,
      "sideBar": true,
      "skip_h1_title": false,
      "title_cell": "Table of Contents",
      "title_sidebar": "Contents",
      "toc_cell": false,
      "toc_position": {},
      "toc_section_display": true,
      "toc_window_display": false
    },
    "varInspector": {
      "cols": {
        "lenName": 16,
        "lenType": 16,
        "lenVar": 40
      },
      "kernels_config": {
        "python": {
          "delete_cmd_postfix": "",
          "delete_cmd_prefix": "del ",
          "library": "var_list.py",
          "varRefreshCmd": "print(var_dic_list())"
        },
        "r": {
          "delete_cmd_postfix": ") ",
          "delete_cmd_prefix": "rm(",
          "library": "var_list.r",
          "varRefreshCmd": "cat(var_dic_list()) "
        }
      },
      "types_to_exclude": [
        "module",
        "function",
        "builtin_function_or_method",
        "instance",
        "_Feature"
      ],
      "window_display": false
    },
    "colab": {
      "name": "Artificial Neural Networks.ipynb",
      "provenance": [],
      "collapsed_sections": [
        "Uu2MNMkx6lo_"
      ]
    }
  },
  "cells": [
    {
      "cell_type": "markdown",
      "metadata": {
        "id": "03IvVWyo6loO"
      },
      "source": [
        "# Artificial Neural Networks\n",
        "\n",
        "### Data\n",
        "Composed of $X$ and $y$\n",
        "\n",
        " - X comes with shape $[d \\times n]$ \n",
        " - Each column vector is another unique observation with d features\n",
        " - There is a corresponding real value in vector $y$ with shape $[1 \\times n]$\n",
        "\n",
        " \n",
        "### Architecture of an ANN\n",
        " \n",
        "![](Figures/ANN_Weights.pdf)"
      ]
    },
    {
      "cell_type": "markdown",
      "metadata": {
        "id": "LpgGDGK_6loP"
      },
      "source": [
        "## Forward Propagation\n",
        "\n",
        "$\\hspace{8cm}$ Take the input data (here $d^{[0]} = d$)\n",
        "\n",
        "$$\n",
        "a^{[0]} = X\n",
        "$$\n",
        "\n",
        "$\\hspace{8cm}$ Calculate the outcome of next layer\n",
        "\n",
        "\\begin{equation} \\label{eq1}\n",
        "\\begin{split}\n",
        "z^{[i+1]} & =  W^{[i+1]} a^{[i]} + b^{[i+1]} \\\\\n",
        "a^{[i+1]} & = \\sigma(z^{[i+1]})\n",
        "\\end{split}\n",
        "\\end{equation}\n",
        "\n",
        "\n",
        "\n",
        "\n",
        "\n",
        "__Check Dimensions__\n",
        "\n",
        "> $W^{[1]} a^{[0]}$ with dimensions $[d^{[1]} \\times d^{[0]}]$ and $[d^{[0]} \\times n]$ outputs first hidden layer with dimensions $[d^{[1]} \\times n]$.\n",
        "\n",
        "Similarly\n",
        ">$W^{[i+1]} a^{[i]}$ outputs a vector with shape $[d^{[i+1]} \\times d^{[i]}] \\times [d^{[i]} \\times n] = [d^{[i + 1]} \\times n]$ \n"
      ]
    },
    {
      "cell_type": "markdown",
      "metadata": {
        "id": "KRcdeP5Y6loR"
      },
      "source": [
        "![](Figures/board.JPG)"
      ]
    },
    {
      "cell_type": "markdown",
      "metadata": {
        "id": "O2rVhlTm6loS"
      },
      "source": [
        "# Data\n",
        " - Recruitment Robot"
      ]
    },
    {
      "cell_type": "code",
      "metadata": {
        "id": "G4eg44z86loT"
      },
      "source": [
        "import numpy as np\n",
        "import pandas as pd\n",
        "import matplotlib.pyplot as plt\n",
        "import seaborn as sns\n",
        "sns.set()\n",
        "\n",
        "from sklearn.model_selection import train_test_split\n",
        "from sklearn.metrics import accuracy_score, confusion_matrix\n",
        "import requests\n",
        "import io\n",
        "\n",
        "url = \"https://raw.githubusercontent.com/uzay00/KaVe-Egitim/master/ARGE/Sorular/1-İseAlımRobotu/data.csv\"\n",
        "s = requests.get(url).content\n",
        "\n",
        "data = pd.read_csv(io.StringIO(s.decode('utf-8')))\n",
        "M = data.values\n",
        "X = M[:,:-1]\n",
        "y = M[:,-1:]\n",
        "\n",
        "X_train, X_test, y_train, y_test = train_test_split(X, y, test_size=0.33, random_state=42)\n",
        "\n",
        "# For our implemenatation, transposes are needed. \n",
        "X_train, X_test, y_train, y_test = X_train.T, X_test.T, y_train.T, y_test.T"
      ],
      "execution_count": null,
      "outputs": []
    },
    {
      "cell_type": "code",
      "metadata": {
        "id": "sqYR6jAk6loY",
        "colab": {
          "base_uri": "https://localhost:8080/"
        },
        "outputId": "beccffd9-f002-4ce7-ed47-dfb8529c4d05"
      },
      "source": [
        "X_train.shape, y_train.shape"
      ],
      "execution_count": null,
      "outputs": [
        {
          "output_type": "execute_result",
          "data": {
            "text/plain": [
              "((4, 670), (1, 670))"
            ]
          },
          "metadata": {},
          "execution_count": 2
        }
      ]
    },
    {
      "cell_type": "code",
      "metadata": {
        "id": "cP0nnYWz6lob",
        "colab": {
          "base_uri": "https://localhost:8080/",
          "height": 206
        },
        "outputId": "8bf33452-e62f-4253-edcc-f8605147335a"
      },
      "source": [
        "data.head()"
      ],
      "execution_count": null,
      "outputs": [
        {
          "output_type": "execute_result",
          "data": {
            "text/html": [
              "\n",
              "  <div id=\"df-61fee7ee-36ed-462a-9bbb-65ee51f5803a\">\n",
              "    <div class=\"colab-df-container\">\n",
              "      <div>\n",
              "<style scoped>\n",
              "    .dataframe tbody tr th:only-of-type {\n",
              "        vertical-align: middle;\n",
              "    }\n",
              "\n",
              "    .dataframe tbody tr th {\n",
              "        vertical-align: top;\n",
              "    }\n",
              "\n",
              "    .dataframe thead th {\n",
              "        text-align: right;\n",
              "    }\n",
              "</style>\n",
              "<table border=\"1\" class=\"dataframe\">\n",
              "  <thead>\n",
              "    <tr style=\"text-align: right;\">\n",
              "      <th></th>\n",
              "      <th>age</th>\n",
              "      <th>algorithm</th>\n",
              "      <th>gpa</th>\n",
              "      <th>social</th>\n",
              "      <th>y</th>\n",
              "    </tr>\n",
              "  </thead>\n",
              "  <tbody>\n",
              "    <tr>\n",
              "      <th>0</th>\n",
              "      <td>3.576113</td>\n",
              "      <td>3.728920</td>\n",
              "      <td>0.930603</td>\n",
              "      <td>4.438372</td>\n",
              "      <td>1</td>\n",
              "    </tr>\n",
              "    <tr>\n",
              "      <th>1</th>\n",
              "      <td>1.829891</td>\n",
              "      <td>4.393183</td>\n",
              "      <td>3.137649</td>\n",
              "      <td>4.831307</td>\n",
              "      <td>1</td>\n",
              "    </tr>\n",
              "    <tr>\n",
              "      <th>2</th>\n",
              "      <td>3.981593</td>\n",
              "      <td>4.050717</td>\n",
              "      <td>3.886304</td>\n",
              "      <td>4.865860</td>\n",
              "      <td>1</td>\n",
              "    </tr>\n",
              "    <tr>\n",
              "      <th>3</th>\n",
              "      <td>1.734623</td>\n",
              "      <td>4.605488</td>\n",
              "      <td>2.605315</td>\n",
              "      <td>3.663224</td>\n",
              "      <td>1</td>\n",
              "    </tr>\n",
              "    <tr>\n",
              "      <th>4</th>\n",
              "      <td>2.759050</td>\n",
              "      <td>4.288383</td>\n",
              "      <td>1.894925</td>\n",
              "      <td>3.238931</td>\n",
              "      <td>1</td>\n",
              "    </tr>\n",
              "  </tbody>\n",
              "</table>\n",
              "</div>\n",
              "      <button class=\"colab-df-convert\" onclick=\"convertToInteractive('df-61fee7ee-36ed-462a-9bbb-65ee51f5803a')\"\n",
              "              title=\"Convert this dataframe to an interactive table.\"\n",
              "              style=\"display:none;\">\n",
              "        \n",
              "  <svg xmlns=\"http://www.w3.org/2000/svg\" height=\"24px\"viewBox=\"0 0 24 24\"\n",
              "       width=\"24px\">\n",
              "    <path d=\"M0 0h24v24H0V0z\" fill=\"none\"/>\n",
              "    <path d=\"M18.56 5.44l.94 2.06.94-2.06 2.06-.94-2.06-.94-.94-2.06-.94 2.06-2.06.94zm-11 1L8.5 8.5l.94-2.06 2.06-.94-2.06-.94L8.5 2.5l-.94 2.06-2.06.94zm10 10l.94 2.06.94-2.06 2.06-.94-2.06-.94-.94-2.06-.94 2.06-2.06.94z\"/><path d=\"M17.41 7.96l-1.37-1.37c-.4-.4-.92-.59-1.43-.59-.52 0-1.04.2-1.43.59L10.3 9.45l-7.72 7.72c-.78.78-.78 2.05 0 2.83L4 21.41c.39.39.9.59 1.41.59.51 0 1.02-.2 1.41-.59l7.78-7.78 2.81-2.81c.8-.78.8-2.07 0-2.86zM5.41 20L4 18.59l7.72-7.72 1.47 1.35L5.41 20z\"/>\n",
              "  </svg>\n",
              "      </button>\n",
              "      \n",
              "  <style>\n",
              "    .colab-df-container {\n",
              "      display:flex;\n",
              "      flex-wrap:wrap;\n",
              "      gap: 12px;\n",
              "    }\n",
              "\n",
              "    .colab-df-convert {\n",
              "      background-color: #E8F0FE;\n",
              "      border: none;\n",
              "      border-radius: 50%;\n",
              "      cursor: pointer;\n",
              "      display: none;\n",
              "      fill: #1967D2;\n",
              "      height: 32px;\n",
              "      padding: 0 0 0 0;\n",
              "      width: 32px;\n",
              "    }\n",
              "\n",
              "    .colab-df-convert:hover {\n",
              "      background-color: #E2EBFA;\n",
              "      box-shadow: 0px 1px 2px rgba(60, 64, 67, 0.3), 0px 1px 3px 1px rgba(60, 64, 67, 0.15);\n",
              "      fill: #174EA6;\n",
              "    }\n",
              "\n",
              "    [theme=dark] .colab-df-convert {\n",
              "      background-color: #3B4455;\n",
              "      fill: #D2E3FC;\n",
              "    }\n",
              "\n",
              "    [theme=dark] .colab-df-convert:hover {\n",
              "      background-color: #434B5C;\n",
              "      box-shadow: 0px 1px 3px 1px rgba(0, 0, 0, 0.15);\n",
              "      filter: drop-shadow(0px 1px 2px rgba(0, 0, 0, 0.3));\n",
              "      fill: #FFFFFF;\n",
              "    }\n",
              "  </style>\n",
              "\n",
              "      <script>\n",
              "        const buttonEl =\n",
              "          document.querySelector('#df-61fee7ee-36ed-462a-9bbb-65ee51f5803a button.colab-df-convert');\n",
              "        buttonEl.style.display =\n",
              "          google.colab.kernel.accessAllowed ? 'block' : 'none';\n",
              "\n",
              "        async function convertToInteractive(key) {\n",
              "          const element = document.querySelector('#df-61fee7ee-36ed-462a-9bbb-65ee51f5803a');\n",
              "          const dataTable =\n",
              "            await google.colab.kernel.invokeFunction('convertToInteractive',\n",
              "                                                     [key], {});\n",
              "          if (!dataTable) return;\n",
              "\n",
              "          const docLinkHtml = 'Like what you see? Visit the ' +\n",
              "            '<a target=\"_blank\" href=https://colab.research.google.com/notebooks/data_table.ipynb>data table notebook</a>'\n",
              "            + ' to learn more about interactive tables.';\n",
              "          element.innerHTML = '';\n",
              "          dataTable['output_type'] = 'display_data';\n",
              "          await google.colab.output.renderOutput(dataTable, element);\n",
              "          const docLink = document.createElement('div');\n",
              "          docLink.innerHTML = docLinkHtml;\n",
              "          element.appendChild(docLink);\n",
              "        }\n",
              "      </script>\n",
              "    </div>\n",
              "  </div>\n",
              "  "
            ],
            "text/plain": [
              "        age  algorithm       gpa    social  y\n",
              "0  3.576113   3.728920  0.930603  4.438372  1\n",
              "1  1.829891   4.393183  3.137649  4.831307  1\n",
              "2  3.981593   4.050717  3.886304  4.865860  1\n",
              "3  1.734623   4.605488  2.605315  3.663224  1\n",
              "4  2.759050   4.288383  1.894925  3.238931  1"
            ]
          },
          "metadata": {},
          "execution_count": 3
        }
      ]
    },
    {
      "cell_type": "code",
      "metadata": {
        "id": "w5Dih2sR6loe",
        "colab": {
          "base_uri": "https://localhost:8080/"
        },
        "outputId": "f5410eb4-4ade-41b8-a2de-eda6702f8173"
      },
      "source": [
        "data.y.value_counts()"
      ],
      "execution_count": null,
      "outputs": [
        {
          "output_type": "execute_result",
          "data": {
            "text/plain": [
              "0    900\n",
              "1    100\n",
              "Name: y, dtype: int64"
            ]
          },
          "metadata": {},
          "execution_count": 4
        }
      ]
    },
    {
      "cell_type": "markdown",
      "metadata": {
        "id": "ljFBUQA26loh"
      },
      "source": [
        "## Linear Transformation\n",
        "\n",
        "$$W^{[1]} \\times a^{[0]} = z^{[1]}$$"
      ]
    },
    {
      "cell_type": "code",
      "metadata": {
        "id": "MAi-TIGh6loh",
        "colab": {
          "base_uri": "https://localhost:8080/"
        },
        "outputId": "a2e40133-e46e-4dfd-9388-acbd30426d3a"
      },
      "source": [
        "W1 = np.random.randint(2, size = (3,5))\n",
        "W1.shape"
      ],
      "execution_count": null,
      "outputs": [
        {
          "output_type": "execute_result",
          "data": {
            "text/plain": [
              "(3, 5)"
            ]
          },
          "metadata": {},
          "execution_count": 5
        }
      ]
    },
    {
      "cell_type": "code",
      "metadata": {
        "id": "Pyv4Mjpk6lok",
        "colab": {
          "base_uri": "https://localhost:8080/"
        },
        "outputId": "3ffe2844-a559-435a-b5e6-f34f6e122021"
      },
      "source": [
        "a0 = np.random.randint(2, size = (5,4))\n",
        "a0.shape"
      ],
      "execution_count": null,
      "outputs": [
        {
          "output_type": "execute_result",
          "data": {
            "text/plain": [
              "(5, 4)"
            ]
          },
          "metadata": {},
          "execution_count": 6
        }
      ]
    },
    {
      "cell_type": "code",
      "metadata": {
        "id": "XKj1tGFk6loo",
        "colab": {
          "base_uri": "https://localhost:8080/"
        },
        "outputId": "f1af495e-2439-4175-a9d0-36c1534f3940"
      },
      "source": [
        "z1 = W1.dot(a0)\n",
        "z1.shape"
      ],
      "execution_count": null,
      "outputs": [
        {
          "output_type": "execute_result",
          "data": {
            "text/plain": [
              "(3, 4)"
            ]
          },
          "metadata": {},
          "execution_count": 7
        }
      ]
    },
    {
      "cell_type": "code",
      "metadata": {
        "id": "koaqXUSJ6loq",
        "colab": {
          "base_uri": "https://localhost:8080/"
        },
        "outputId": "06100849-1c30-47db-f6d4-f87077074fc6"
      },
      "source": [
        "print(W1.shape , ' x ', a0.shape,  ' = ',z1.shape)"
      ],
      "execution_count": null,
      "outputs": [
        {
          "output_type": "stream",
          "name": "stdout",
          "text": [
            "(3, 5)  x  (5, 4)  =  (3, 4)\n"
          ]
        }
      ]
    },
    {
      "cell_type": "markdown",
      "metadata": {
        "id": "i4ON2J5H6lot"
      },
      "source": [
        "# Neural Network Architecture"
      ]
    },
    {
      "cell_type": "code",
      "metadata": {
        "id": "7t4D27Gb6lou",
        "colab": {
          "base_uri": "https://localhost:8080/"
        },
        "outputId": "1e5f6fee-bc5a-40e5-ac5d-72111f7f0600"
      },
      "source": [
        "layers = [4,6,6,1]\n",
        "\n",
        "weight_dims = list(zip(layers[1:], layers[:-1]))\n",
        "bias_dims = layers[1:]\n",
        "\n",
        "print(\"weight_dims: \", weight_dims)\n",
        "print(\"bias_dims: \", bias_dims)"
      ],
      "execution_count": null,
      "outputs": [
        {
          "output_type": "stream",
          "name": "stdout",
          "text": [
            "weight_dims:  [(6, 4), (6, 6), (1, 6)]\n",
            "bias_dims:  [6, 6, 1]\n"
          ]
        }
      ]
    },
    {
      "cell_type": "code",
      "metadata": {
        "id": "edBwaHCT6low",
        "colab": {
          "base_uri": "https://localhost:8080/"
        },
        "outputId": "541420c4-52f0-43b0-c397-0f23d9634148"
      },
      "source": [
        "weights = [np.random.randn(n,d)/100 for n,d in weight_dims]\n",
        "biases = [np.random.randn(d)/100 for d in bias_dims]\n",
        "\n",
        "print(\"weights \", weights)\n",
        "print(\"biases: \", biases)"
      ],
      "execution_count": null,
      "outputs": [
        {
          "output_type": "stream",
          "name": "stdout",
          "text": [
            "weights  [array([[-0.00190576, -0.00294654, -0.00400003, -0.00547645],\n",
            "       [ 0.0004725 ,  0.01308075,  0.01018623, -0.00337862],\n",
            "       [ 0.00617641,  0.00279271,  0.01461182, -0.01656667],\n",
            "       [ 0.00644654, -0.00657917,  0.00994753, -0.00631578],\n",
            "       [-0.00358224,  0.00459296,  0.00809732,  0.00351996],\n",
            "       [ 0.01893197, -0.00773648, -0.01262935, -0.00252683]]), array([[-0.00365914, -0.0105136 , -0.00203137,  0.00036806,  0.00338488,\n",
            "        -0.00261782],\n",
            "       [-0.00946255, -0.00710477,  0.0016012 ,  0.01463702,  0.01539666,\n",
            "        -0.01376629],\n",
            "       [ 0.01718693, -0.00867595,  0.00889791,  0.00772363, -0.00949526,\n",
            "         0.02023425],\n",
            "       [-0.00372284,  0.00935948, -0.00176856,  0.01224052,  0.00493409,\n",
            "        -0.00724643],\n",
            "       [ 0.01413312, -0.00477839, -0.00132213, -0.00039025,  0.00503631,\n",
            "         0.01258396],\n",
            "       [-0.01943435,  0.01683108, -0.00798958,  0.0103267 ,  0.00267387,\n",
            "         0.00162946]]), array([[ 0.00693219,  0.00038084, -0.01675228, -0.00594924,  0.00398358,\n",
            "        -0.01697274]])]\n",
            "biases:  [array([ 0.00018321, -0.01574133,  0.00658333, -0.00374764,  0.00560855,\n",
            "       -0.00329919]), array([ 0.00029249, -0.0185172 , -0.00755979,  0.00677317, -0.00300339,\n",
            "       -0.00217843]), array([-0.01957274])]\n"
          ]
        }
      ]
    },
    {
      "cell_type": "markdown",
      "metadata": {
        "id": "tIbHa4KO6loy"
      },
      "source": [
        "# Forward Propagation"
      ]
    },
    {
      "cell_type": "code",
      "metadata": {
        "id": "MGSVPhFX6loy",
        "colab": {
          "base_uri": "https://localhost:8080/"
        },
        "outputId": "1115de12-d6f8-4d9c-ba83-f778a596f11b"
      },
      "source": [
        "weights[0].shape, X_train.shape"
      ],
      "execution_count": null,
      "outputs": [
        {
          "output_type": "execute_result",
          "data": {
            "text/plain": [
              "((6, 4), (4, 670))"
            ]
          },
          "metadata": {},
          "execution_count": 11
        }
      ]
    },
    {
      "cell_type": "code",
      "metadata": {
        "id": "EwDjBj586lo0"
      },
      "source": [
        "def sigmoid(z):\n",
        "    return 1 / (1 + np.exp(-z))\n",
        "\n",
        "def derivative_sigmoid(z):\n",
        "    s = sigmoid(z)\n",
        "    return s * (1.0-s)"
      ],
      "execution_count": null,
      "outputs": []
    },
    {
      "cell_type": "code",
      "metadata": {
        "id": "Xaw8ZiUt6lo2"
      },
      "source": [
        "a = X_train\n",
        "for i in range(len(weights)):\n",
        "    W = weights[i]\n",
        "    b = biases[i]\n",
        "    z = W.dot(a) + b.reshape(-1,1)\n",
        "    a = sigmoid(z)"
      ],
      "execution_count": null,
      "outputs": []
    },
    {
      "cell_type": "code",
      "metadata": {
        "id": "ctYFzLKf6lo4",
        "colab": {
          "base_uri": "https://localhost:8080/"
        },
        "outputId": "e1fefde0-a8a1-4d4c-90cd-c66434ef19cc"
      },
      "source": [
        "a.shape, y_train.shape"
      ],
      "execution_count": null,
      "outputs": [
        {
          "output_type": "execute_result",
          "data": {
            "text/plain": [
              "((1, 670), (1, 670))"
            ]
          },
          "metadata": {},
          "execution_count": 14
        }
      ]
    },
    {
      "cell_type": "markdown",
      "metadata": {
        "id": "RVS6E7UT6lo5"
      },
      "source": [
        "## Calculate Error"
      ]
    },
    {
      "cell_type": "code",
      "metadata": {
        "id": "xFbrOYkP6lo6"
      },
      "source": [
        "def cross_entropy_loss(a, y):\n",
        "    cost = - (y* np.log(a) + (1 - y) * (np.log(1 - a)))\n",
        "    return cost"
      ],
      "execution_count": null,
      "outputs": []
    },
    {
      "cell_type": "code",
      "metadata": {
        "id": "pWT5IQHh6lo7"
      },
      "source": [
        "#cross_entropy_loss(a, y_train)"
      ],
      "execution_count": null,
      "outputs": []
    },
    {
      "cell_type": "markdown",
      "metadata": {
        "id": "wzsgNYOK6lo8"
      },
      "source": [
        "## $\\hspace{7cm}$Backward Propagation\n",
        "\n",
        "#### $\\hspace{8cm}$Vectorized Cost Function \n",
        "$$\n",
        "J =  \\frac{1}{n}( - y \\log a^{[i+1]}  - (1 - y) \\log (1 - a^{[i+1]}))\n",
        "$$\n",
        "\n",
        "#### $\\hspace{8cm}$Error at last layer to backpropagate\n",
        "\n",
        "\\begin{equation} \n",
        "\\begin{split}\n",
        "dz^{[i+1]}\n",
        "&= \\frac{\\partial J}{\\partial z^{[i+1]}} &= \\frac{\\partial J}{\\partial a^{[i+1]}}  \\frac{\\partial a^{[i+1]}}{\\partial z^{[i+1]}}  \\\\\n",
        "& &= \\frac{1}{n} \\left( \\frac{-y}{a^{[i+1]}} - (-1) \\frac{1-y}{1- a^{[i+1]}}\\right)  \\frac{\\partial a^{[i+1]}}{\\partial z^{[i+1]}}\\\\\n",
        "& &= \\frac{1}{n} \\left( \\frac{a^{[i+1]}-y}{a^{[i+1]}(1-a^{[i+1]})}\\right) \\left(a^{[i+1]}(1-a^{[i+1]})\\right)\\\\\n",
        "& &= \\frac{1}{n}  \\left(a^{[i+1]}-y\\right)\n",
        "\\end{split}\n",
        "\\end{equation}\n",
        "\n",
        "$\\hspace{8cm}$ __In python:__ `dz = np.mean(a-y)`\n"
      ]
    },
    {
      "cell_type": "markdown",
      "metadata": {
        "id": "4uMFzhOe6lo8"
      },
      "source": [
        "### $\\hspace{7cm}$Backpropagate to previous layer\n",
        "### $\\hspace{8cm}$Forward\n",
        "\\begin{equation} \n",
        "\\begin{split}\n",
        "a^{[i]} \n",
        "&= \\sigma(z^{[i]})\\\\\n",
        "z^{[i+1]} \n",
        "&=  W^{[i+1]} a^{[i]} + b^{[i+1]} \\\\\n",
        "\\end{split}\n",
        "\\end{equation}\n",
        "\n",
        "### $\\hspace{8cm}$Backward\n",
        "\n",
        "\\begin{equation} \n",
        "\\begin{split}\n",
        "dz^{[i]} \n",
        "&= \\frac{\\partial J}{\\partial z^{[i]}} &=   \\frac{\\partial J}{\\partial z^{[i+1]}} \\frac{\\partial z^{[i+1]}}{\\partial a^{[i]}} \\frac{\\partial a^{[i]}}{\\partial z^{[i]}}\\\\\n",
        "& &= \\left(  \\left(W^{[i+1]}\\right)^{T} dz^{[i+1]} \\right)  \\sigma'(z^{[i]})\\\\\n",
        "\\end{split}\n",
        "\\end{equation}\n",
        "\n",
        "$\\hspace{8cm}$ __In python:__ `dz = np.dot(W.T , dz) * derivative_sigma(z)` \n",
        "\n",
        "##### $\\hspace{8cm}$ Dimension Check\n",
        "\n",
        "\\begin{equation} \n",
        "\\begin{split}\n",
        "W^{[i+1]} & \\rightarrow & \\;[d^{[i+1]}, d^{[i]}] \\\\\n",
        "dz^{[i+1]} & \\rightarrow & \\;[d^{[i+1]}, 1] \\\\\n",
        "z^{[i]} & \\rightarrow & \\;[d^{[i]},1] \\\\\n",
        "\\end{split}\n",
        "\\end{equation}"
      ]
    },
    {
      "cell_type": "code",
      "metadata": {
        "id": "Oe__ADBM6lo9"
      },
      "source": [
        ""
      ],
      "execution_count": null,
      "outputs": []
    },
    {
      "cell_type": "markdown",
      "metadata": {
        "id": "O7Xtr0yC6lo-"
      },
      "source": [
        "## Backward Propagation\n",
        "\n",
        "####  Cost Function for one example\n",
        "$$\n",
        "J =  - y_{i} \\log a_{i}  - (1 - y_{i}) \\log (1 - a))\n",
        "$$\n"
      ]
    },
    {
      "cell_type": "markdown",
      "metadata": {
        "id": "N_z7wXrK6lo_"
      },
      "source": [
        "### Architecture of an ANN\n",
        " \n",
        "![](Figures/ANN_Weights.pdf)"
      ]
    },
    {
      "cell_type": "markdown",
      "metadata": {
        "id": "Uu2MNMkx6lo_"
      },
      "source": [
        "#### Error at last layer to backpropagate\n",
        "For one example\n",
        "\\begin{equation} \n",
        "\\begin{split}\n",
        "dz \n",
        "&= \\frac{\\partial J}{\\partial z} &= \\frac{\\partial J}{\\partial a}  \\frac{\\partial a}{\\partial z}  \\\\\n",
        "& &= \\frac{a-y}{a(1-a)} a(1-a)\\\\\n",
        "& &= a-y\n",
        "\\end{split}\n",
        "\\end{equation}\n",
        "\n",
        "Error for whole dataset\n",
        "\\begin{equation} \n",
        "\\begin{split}\n",
        "dz \n",
        "&= np.mean(a-y)\n",
        "\\end{split}\n",
        "\\end{equation}"
      ]
    },
    {
      "cell_type": "markdown",
      "metadata": {
        "id": "HCwlYhu36lo_"
      },
      "source": [
        "#### Backward Propagation\n",
        "\\begin{equation} \n",
        "\\begin{split}\n",
        "dz^{[i]} \n",
        "&= \\frac{\\partial J}{\\partial z^{[i]}} &=   \\frac{\\partial J}{\\partial z^{[i+1]}} \\frac{\\partial z^{[i+1]}}{\\partial a^{[i]}} \\frac{\\partial a^{[i]}}{\\partial z^{[i]}}\\\\\n",
        "& &= dz^{[i+1]} W^{[i+1]}  \\sigma'(z^{[i]})\\\\\n",
        "& &= np.dot(W^{[i+1]}.T, dz^{[i+1]}) \\sigma'(z^{[i]})\n",
        "\\end{split}\n",
        "\\end{equation}\n",
        "\n",
        "#### Update Parameters\n",
        "\n",
        "$\\hspace{8cm}$ Weight update\n",
        "\n",
        "\\begin{equation} \n",
        "\\begin{split}\n",
        "\\frac{\\partial J}{\\partial W^{[i+1]}} \n",
        "&= \\frac{\\partial J}{\\partial z^{[i+1]}} \\frac{\\partial z^{[i+1]}}{\\partial W^{[i+1]}} \\\\\n",
        "&= dz^{[i+1]} a^{[i]}.T \\\\\n",
        "\\end{split}\n",
        "\\end{equation}\n",
        "\n",
        "$\\hspace{8cm}$ Bias update\n",
        "\n",
        "\\begin{equation} \n",
        "\\begin{split}\n",
        "\\frac{\\partial J}{\\partial b^{[i+1]}} \n",
        "&= \\frac{\\partial J}{\\partial z^{[i+1]}} \\frac{\\partial z^{[i+1]}}{\\partial b^{[i+1]}} \\\\\n",
        "&= dz^{[i+1]}\\\\\n",
        "\\end{split}\n",
        "\\end{equation}\n",
        "\n",
        "\n",
        "#### Key to backprogation\n",
        "\n",
        "\\begin{equation} \n",
        "\\begin{split}\n",
        "dz^{[i+1]}\n",
        "&= \n",
        "\\frac{\\partial J}{\\partial z^{[i+1]}} \\\\\n",
        "\\end{split}\n",
        "\\end{equation}"
      ]
    },
    {
      "cell_type": "code",
      "metadata": {
        "id": "EBPOqK2O6lo_"
      },
      "source": [
        "# forward propagation\n",
        "a = X_train\n",
        "cache = {'a0':a}\n",
        "for i in range(len(weights)):\n",
        "    W = weights[i]\n",
        "    b = biases[i]\n",
        "    z = W.dot(a) + b.reshape(-1,1)\n",
        "    a = sigmoid(z)\n",
        "    \n",
        "    cache[f'W{i+1}'] = W\n",
        "    cache[f'b{i+1}'] = b\n",
        "    cache[f'a{i+1}'] = a\n",
        "    cache[f'z{i+1}'] = z"
      ],
      "execution_count": null,
      "outputs": []
    },
    {
      "cell_type": "code",
      "metadata": {
        "id": "NTOAaAsC6lpB",
        "colab": {
          "base_uri": "https://localhost:8080/"
        },
        "outputId": "d391de99-9ad1-407e-e6c2-f831d2f25b9c"
      },
      "source": [
        "[(key, cache[key].shape) for key in cache.keys()]"
      ],
      "execution_count": null,
      "outputs": [
        {
          "output_type": "execute_result",
          "data": {
            "text/plain": [
              "[('a0', (4, 670)),\n",
              " ('W1', (6, 4)),\n",
              " ('b1', (6,)),\n",
              " ('a1', (6, 670)),\n",
              " ('z1', (6, 670)),\n",
              " ('W2', (6, 6)),\n",
              " ('b2', (6,)),\n",
              " ('a2', (6, 670)),\n",
              " ('z2', (6, 670)),\n",
              " ('W3', (1, 6)),\n",
              " ('b3', (1,)),\n",
              " ('a3', (1, 670)),\n",
              " ('z3', (1, 670))]"
            ]
          },
          "metadata": {},
          "execution_count": 18
        }
      ]
    },
    {
      "cell_type": "markdown",
      "metadata": {
        "id": "H-uZQ8eT6lpC"
      },
      "source": [
        "<figure> \n",
        "    <img src=\"Figures/w3.png\" alt=\"flamingo\", width=\"340\"> \n",
        "    <figcaption><i>fig. 1</i> Update on last weight matrix</figcaption> \n",
        "</figure>\n"
      ]
    },
    {
      "cell_type": "code",
      "metadata": {
        "id": "s40ttnqa6lpC",
        "colab": {
          "base_uri": "https://localhost:8080/"
        },
        "outputId": "906b0f14-ce86-44a6-8fa5-174858674f85"
      },
      "source": [
        "# dz[3]\n",
        "dz = cache['a3'] - y_train ## Error at last layer\n",
        "dz.shape"
      ],
      "execution_count": null,
      "outputs": [
        {
          "output_type": "execute_result",
          "data": {
            "text/plain": [
              "(1, 670)"
            ]
          },
          "metadata": {},
          "execution_count": 19
        }
      ]
    },
    {
      "cell_type": "code",
      "metadata": {
        "id": "pij8m6C06lpD",
        "colab": {
          "base_uri": "https://localhost:8080/"
        },
        "outputId": "f4f635b4-c7f2-4338-9b75-c4db8320d282"
      },
      "source": [
        "db = dz.mean(axis = 1)\n",
        "db"
      ],
      "execution_count": null,
      "outputs": [
        {
          "output_type": "execute_result",
          "data": {
            "text/plain": [
              "array([0.39602086])"
            ]
          },
          "metadata": {},
          "execution_count": 20
        }
      ]
    },
    {
      "cell_type": "code",
      "metadata": {
        "id": "Im2Ukf9h6lpF",
        "colab": {
          "base_uri": "https://localhost:8080/"
        },
        "outputId": "e19d6b58-0b8a-40a4-b5e9-7b1980236a03"
      },
      "source": [
        "cache['a2'].shape, cache['z3'].shape"
      ],
      "execution_count": null,
      "outputs": [
        {
          "output_type": "execute_result",
          "data": {
            "text/plain": [
              "((6, 670), (1, 670))"
            ]
          },
          "metadata": {},
          "execution_count": 21
        }
      ]
    },
    {
      "cell_type": "code",
      "metadata": {
        "id": "eoLBqbQO6lpG",
        "colab": {
          "base_uri": "https://localhost:8080/"
        },
        "outputId": "d44052d4-caf8-472a-d093-77ddb3399bbd"
      },
      "source": [
        "dw = dz.dot(cache['a2'].T)\n",
        "dw.shape, cache['W3'].shape"
      ],
      "execution_count": null,
      "outputs": [
        {
          "output_type": "execute_result",
          "data": {
            "text/plain": [
              "((1, 6), (1, 6))"
            ]
          },
          "metadata": {},
          "execution_count": 22
        }
      ]
    },
    {
      "cell_type": "code",
      "metadata": {
        "id": "OLkv2hqn6lpH"
      },
      "source": [
        "## Learning rate\n",
        "alpha = 0.01"
      ],
      "execution_count": null,
      "outputs": []
    },
    {
      "cell_type": "code",
      "metadata": {
        "id": "FjB4i9P86lpI",
        "colab": {
          "base_uri": "https://localhost:8080/"
        },
        "outputId": "222a0a21-9a8e-43d6-aab7-0c66db404ee8"
      },
      "source": [
        "cache['W3'] = cache['W3'] - alpha * dw \n",
        "cache['W3'].shape"
      ],
      "execution_count": null,
      "outputs": [
        {
          "output_type": "execute_result",
          "data": {
            "text/plain": [
              "(1, 6)"
            ]
          },
          "metadata": {},
          "execution_count": 24
        }
      ]
    },
    {
      "cell_type": "code",
      "metadata": {
        "id": "7yf_Rh106lpJ",
        "colab": {
          "base_uri": "https://localhost:8080/"
        },
        "outputId": "9b880a96-74f7-4b59-8db5-19fc3d6ee3cf"
      },
      "source": [
        "cache['b3'] = cache['b3'] - alpha * db\n",
        "cache['b3'].shape"
      ],
      "execution_count": null,
      "outputs": [
        {
          "output_type": "execute_result",
          "data": {
            "text/plain": [
              "(1,)"
            ]
          },
          "metadata": {},
          "execution_count": 25
        }
      ]
    },
    {
      "cell_type": "markdown",
      "metadata": {
        "id": "QSxUj9mZ6lpK"
      },
      "source": [
        "<figure> \n",
        "    <img src=\"Figures/w3.png\" alt=\"flamingo\", width=\"340\"> \n",
        "    <figcaption><i>fig. 1</i> Update on last weight matrix</figcaption> \n",
        "</figure>\n",
        "\n",
        "#### Backward Propagation\n",
        "\\begin{equation} \n",
        "\\begin{split}\n",
        "dz^{[i]} = np.dot(W^{[i+1]}.T, dz^{[i+1]}) \\sigma'(z^{[i]})\n",
        "\\end{split}\n",
        "\\end{equation}\n",
        "\n",
        "\n"
      ]
    },
    {
      "cell_type": "code",
      "metadata": {
        "id": "UxchULn-6lpK",
        "colab": {
          "base_uri": "https://localhost:8080/"
        },
        "outputId": "a0c081a2-4596-4885-b8d3-9eb361de406e"
      },
      "source": [
        "dz.shape"
      ],
      "execution_count": null,
      "outputs": [
        {
          "output_type": "execute_result",
          "data": {
            "text/plain": [
              "(1, 670)"
            ]
          },
          "metadata": {},
          "execution_count": 26
        }
      ]
    },
    {
      "cell_type": "code",
      "metadata": {
        "id": "L68vTton6lpL",
        "colab": {
          "base_uri": "https://localhost:8080/"
        },
        "outputId": "b7640738-fbb6-4676-9c1d-88fac2d7bd93"
      },
      "source": [
        "# bacpropagate from d[z3] to d[z2]\n",
        "dz = np.dot(cache['W3'].T, dz) * derivative_sigmoid(cache['z2'])\n",
        "dz.shape"
      ],
      "execution_count": null,
      "outputs": [
        {
          "output_type": "execute_result",
          "data": {
            "text/plain": [
              "(6, 670)"
            ]
          },
          "metadata": {},
          "execution_count": 27
        }
      ]
    },
    {
      "cell_type": "markdown",
      "metadata": {
        "id": "ekBwvsKS6lpM"
      },
      "source": [
        "<figure> \n",
        "    <img src=\"Figures/w2.png\" alt=\"flamingo\", width=\"340\"> \n",
        "    <figcaption><i>fig. 1</i> Update on previous layer</figcaption> \n",
        "</figure>\n",
        "\n",
        "#### Update Parameters\n",
        "\n",
        "Weight update\n",
        "\n",
        "\\begin{equation} \n",
        "\\begin{split}\n",
        "\\frac{\\partial J}{\\partial W^{[i+1]}} \n",
        "&= dz^{[i+1]} a^{[i]}.T \\\\\n",
        "\\end{split}\n",
        "\\end{equation}\n",
        "\n",
        "Bias update\n",
        "\n",
        "\\begin{equation} \n",
        "\\begin{split}\n",
        "\\frac{\\partial J}{\\partial b^{[i+1]}} \n",
        "&= dz^{[i+1]}\\\\\n",
        "\\end{split}\n",
        "\\end{equation}"
      ]
    },
    {
      "cell_type": "code",
      "metadata": {
        "id": "R5dSaPEm6lpM",
        "colab": {
          "base_uri": "https://localhost:8080/"
        },
        "outputId": "a853fd45-9fb6-4341-d913-e2d446d2d3aa"
      },
      "source": [
        "dz.shape, cache['a2'].shape"
      ],
      "execution_count": null,
      "outputs": [
        {
          "output_type": "execute_result",
          "data": {
            "text/plain": [
              "((6, 670), (6, 670))"
            ]
          },
          "metadata": {},
          "execution_count": 28
        }
      ]
    },
    {
      "cell_type": "code",
      "metadata": {
        "id": "yD4Uqdtl6lpN",
        "colab": {
          "base_uri": "https://localhost:8080/"
        },
        "outputId": "64037a6e-3335-452e-c64b-dc89de238ceb"
      },
      "source": [
        "dw = dz.dot(cache['a1'].T)\n",
        "dw.shape"
      ],
      "execution_count": null,
      "outputs": [
        {
          "output_type": "execute_result",
          "data": {
            "text/plain": [
              "(6, 6)"
            ]
          },
          "metadata": {},
          "execution_count": 29
        }
      ]
    },
    {
      "cell_type": "code",
      "metadata": {
        "id": "JyCf_bUZ6lpP",
        "colab": {
          "base_uri": "https://localhost:8080/"
        },
        "outputId": "ac97bbc9-d121-4fc6-9ba9-b348c32a2d7d"
      },
      "source": [
        "cache['W2'] = cache['W2'] - alpha * dw \n",
        "cache['W2'].shape"
      ],
      "execution_count": null,
      "outputs": [
        {
          "output_type": "execute_result",
          "data": {
            "text/plain": [
              "(6, 6)"
            ]
          },
          "metadata": {},
          "execution_count": 30
        }
      ]
    },
    {
      "cell_type": "code",
      "metadata": {
        "id": "QXO-ddXZ6lpQ",
        "colab": {
          "base_uri": "https://localhost:8080/"
        },
        "outputId": "474d8714-72fa-4201-ed3d-d79e582f018f"
      },
      "source": [
        "db = dz.mean(axis = 1)\n",
        "db.shape"
      ],
      "execution_count": null,
      "outputs": [
        {
          "output_type": "execute_result",
          "data": {
            "text/plain": [
              "(6,)"
            ]
          },
          "metadata": {},
          "execution_count": 31
        }
      ]
    },
    {
      "cell_type": "code",
      "metadata": {
        "id": "NY3Fo5Rr6lpR",
        "colab": {
          "base_uri": "https://localhost:8080/"
        },
        "outputId": "f80f3494-1ef1-420e-acd6-c313e4ae55b8"
      },
      "source": [
        "cache['b2'] = cache['b2'] - alpha * db\n",
        "cache['b2'].shape"
      ],
      "execution_count": null,
      "outputs": [
        {
          "output_type": "execute_result",
          "data": {
            "text/plain": [
              "(6,)"
            ]
          },
          "metadata": {},
          "execution_count": 32
        }
      ]
    },
    {
      "cell_type": "markdown",
      "metadata": {
        "id": "3uCtBE4Q6lpS"
      },
      "source": [
        "\n",
        "#### Backward Propagation\n",
        "\\begin{equation} \n",
        "\\begin{split}\n",
        "dz^{[i]} = np.dot(W^{[i+1]}.T, dz^{[i+1]}) \\sigma'(z^{[i]})\n",
        "\\end{split}\n",
        "\\end{equation}\n",
        "\n",
        "\n"
      ]
    },
    {
      "cell_type": "code",
      "metadata": {
        "id": "R811LFRG6lpS",
        "colab": {
          "base_uri": "https://localhost:8080/"
        },
        "outputId": "4ba22360-d462-4b00-f575-1e3d09f99e0d"
      },
      "source": [
        "dz.shape"
      ],
      "execution_count": null,
      "outputs": [
        {
          "output_type": "execute_result",
          "data": {
            "text/plain": [
              "(6, 670)"
            ]
          },
          "metadata": {},
          "execution_count": 33
        }
      ]
    },
    {
      "cell_type": "code",
      "metadata": {
        "id": "H5mRDoB16lpT",
        "colab": {
          "base_uri": "https://localhost:8080/"
        },
        "outputId": "93c64ae6-7f09-4bc3-cfec-ea1abc3de162"
      },
      "source": [
        "# bacpropagate from d[z2] to d[z1]\n",
        "dz = np.dot(cache['W2'].T, dz) * derivative_sigmoid(cache['z1'])\n",
        "dz.shape"
      ],
      "execution_count": null,
      "outputs": [
        {
          "output_type": "execute_result",
          "data": {
            "text/plain": [
              "(6, 670)"
            ]
          },
          "metadata": {},
          "execution_count": 34
        }
      ]
    },
    {
      "cell_type": "markdown",
      "metadata": {
        "id": "1Of5PFPq6lpU"
      },
      "source": [
        "<figure> \n",
        "    <img src=\"Figures/w1.png\" alt=\"flamingo\", width=\"340\"> \n",
        "    <figcaption><i>fig. 1</i> Update on previous layer</figcaption> \n",
        "</figure>\n",
        "\n",
        "\n",
        "#### Update Parameters\n",
        "\n",
        "Weight update\n",
        "\n",
        "\\begin{equation} \n",
        "\\begin{split}\n",
        "\\frac{\\partial J}{\\partial W^{[i+1]}} \n",
        "&= dz^{[i+1]} a^{[i]}.T \\\\\n",
        "\\end{split}\n",
        "\\end{equation}\n",
        "\n",
        "Bias update\n",
        "\n",
        "\\begin{equation} \n",
        "\\begin{split}\n",
        "\\frac{\\partial J}{\\partial b^{[i+1]}} \n",
        "&= dz^{[i+1]}\\\\\n",
        "\\end{split}\n",
        "\\end{equation}"
      ]
    },
    {
      "cell_type": "code",
      "metadata": {
        "id": "3Sso1fD76lpU",
        "colab": {
          "base_uri": "https://localhost:8080/"
        },
        "outputId": "41301902-4f9b-4824-ce6a-67e29eeb3263"
      },
      "source": [
        "dw = dz.dot(cache['a0'].T)\n",
        "dw.shape"
      ],
      "execution_count": null,
      "outputs": [
        {
          "output_type": "execute_result",
          "data": {
            "text/plain": [
              "(6, 4)"
            ]
          },
          "metadata": {},
          "execution_count": 35
        }
      ]
    },
    {
      "cell_type": "code",
      "metadata": {
        "id": "jkmokL5j6lpV",
        "colab": {
          "base_uri": "https://localhost:8080/"
        },
        "outputId": "eaf20c90-bcbd-45bf-f248-c516b5e411e9"
      },
      "source": [
        "cache['W1'] = cache['W1'] - alpha * dw \n",
        "cache['W1'].shape"
      ],
      "execution_count": null,
      "outputs": [
        {
          "output_type": "execute_result",
          "data": {
            "text/plain": [
              "(6, 4)"
            ]
          },
          "metadata": {},
          "execution_count": 36
        }
      ]
    },
    {
      "cell_type": "code",
      "metadata": {
        "id": "ThJypoBQ6lpW",
        "colab": {
          "base_uri": "https://localhost:8080/"
        },
        "outputId": "f21dc603-3d26-4620-f994-dd481afa8df2"
      },
      "source": [
        "db = dz.mean(axis = 1)\n",
        "db.shape"
      ],
      "execution_count": null,
      "outputs": [
        {
          "output_type": "execute_result",
          "data": {
            "text/plain": [
              "(6,)"
            ]
          },
          "metadata": {},
          "execution_count": 37
        }
      ]
    },
    {
      "cell_type": "code",
      "metadata": {
        "id": "BAh8o3Nt6lpX",
        "colab": {
          "base_uri": "https://localhost:8080/"
        },
        "outputId": "ce5e6737-5f28-4abb-d28f-42a760324c86"
      },
      "source": [
        "cache['b2'] = cache['b2'] - alpha * db\n",
        "cache['b2'].shape"
      ],
      "execution_count": null,
      "outputs": [
        {
          "output_type": "execute_result",
          "data": {
            "text/plain": [
              "(6,)"
            ]
          },
          "metadata": {},
          "execution_count": 38
        }
      ]
    },
    {
      "cell_type": "markdown",
      "metadata": {
        "id": "DCq_HmBQ6lpY"
      },
      "source": [
        "# ANN From Scratch"
      ]
    },
    {
      "cell_type": "code",
      "metadata": {
        "id": "ViFwUimM6lpY"
      },
      "source": [
        "def cross_entropy_loss(a, y):\n",
        "    cost = - np.mean(y * np.log(a) + (1 - a) * np.log(1 - a))\n",
        "    return np.squeeze(cost)\n",
        "\n",
        "def sigmoid(z):\n",
        "    return 1 / (1 + np.exp(-z))\n",
        "\n",
        "def derivative_sigmoid(z):\n",
        "    s = sigmoid(z)\n",
        "    return s * (1.0-s)\n",
        "\n",
        "def construct(layers = [4,6,6,1]):\n",
        "    weight_dims = list(zip(layers[1:], layers[:-1]))\n",
        "    bias_dims = layers[1:]\n",
        "\n",
        "    weights = [np.random.randn(n,d)/100.0 for n,d in weight_dims]\n",
        "    biases = [np.random.randn(d,1)/100.0 for d in bias_dims]\n",
        "    \n",
        "    return weights, biases\n",
        "\n",
        "def forward_propagation(X_train, weights, biases):\n",
        "    # forward propagation\n",
        "    a = X_train\n",
        "    cache = {'a0':a}\n",
        "    for i in range(len(weights)):\n",
        "        W = weights[i]\n",
        "        b = biases[i]\n",
        "        z = W.dot(a) + b\n",
        "        a = sigmoid(z)\n",
        "\n",
        "        cache[f'W{i+1}'] = W\n",
        "        cache[f'b{i+1}'] = b\n",
        "        cache[f'a{i+1}'] = a\n",
        "        cache[f'z{i+1}'] = z\n",
        "    return cache\n",
        "\n",
        "def backward_propagation(X_train, y_train, weights, biases,alpha = 0.01, epochs = 1000):\n",
        "    cache = forward_propagation(X_train, weights, biases)\n",
        "    last = len(cache)//4 \n",
        "    n = X_train.shape[1]\n",
        "    \n",
        "    loss = cross_entropy_loss(cache[f'a{last}'], y_train)\n",
        "    J = [loss]\n",
        "\n",
        "    for epoch in range(epochs):\n",
        "        dz = cache[f'a{last}'] - y_train # d[z3]\n",
        "        for i in range(last,0,-1):\n",
        "            db = dz.mean()\n",
        "            dw = dz.dot(cache[f'a{i-1}'].T)/n\n",
        "\n",
        "            # Gradient Descent\n",
        "            cache[f'W{i}'] = cache[f'W{i}'] - alpha * dw \n",
        "            cache[f'b{i}'] = cache[f'b{i}'] - alpha * db\n",
        "\n",
        "            # backpropagate from d[z3] to d[z2]\n",
        "            if i == 1: break\n",
        "            dz = np.dot(cache[f'W{i}'].T, dz) * derivative_sigmoid(cache[f'z{i-1}'])\n",
        "\n",
        "        weights = [cache[f'W{i+1}'] for i in range(len(cache)//4)]\n",
        "        biases = [cache[f'b{i+1}'] for i in range(len(cache)//4)]\n",
        "\n",
        "        cache = forward_propagation(X_train, weights, biases)\n",
        "        loss = cross_entropy_loss(cache[f'a{last}'], y_train)\n",
        "        J.append(loss)\n",
        "    return cache, J\n",
        "\n",
        "def predict(X_test, cache):\n",
        "    last = len(cache)//4\n",
        "    \n",
        "    weights = [cache[f'W{i+1}'] for i in range(last)]\n",
        "    biases = [cache[f'b{i+1}'] for i in range(last)]\n",
        "    \n",
        "    new_cache = forward_propagation(X_test, weights, biases)\n",
        "    a = new_cache[f'a{last}']\n",
        "    \n",
        "    return (a > 0.5) + 0"
      ],
      "execution_count": null,
      "outputs": []
    },
    {
      "cell_type": "markdown",
      "metadata": {
        "id": "NJRSE0JB6lpZ"
      },
      "source": [
        "# Test"
      ]
    },
    {
      "cell_type": "code",
      "metadata": {
        "id": "tyyy4OPG6lpZ",
        "colab": {
          "base_uri": "https://localhost:8080/",
          "height": 338
        },
        "outputId": "9340ed0d-4c7f-4758-a861-a3161fdbed0e"
      },
      "source": [
        "weights, biases = construct(layers = [4,1] )\n",
        "cache, J = backward_propagation(X_train, y_train, weights, biases, alpha = 0.1, epochs = 1000)\n",
        "\n",
        "y_pred = predict(X_test, cache)\n",
        "print(confusion_matrix(y_test[0], y_pred[0]))\n",
        "\n",
        "plt.plot(J);plt.xlabel('Epoch');plt.ylabel('Loss J')"
      ],
      "execution_count": null,
      "outputs": [
        {
          "output_type": "stream",
          "name": "stdout",
          "text": [
            "[[294   0]\n",
            " [  2  34]]\n"
          ]
        },
        {
          "output_type": "execute_result",
          "data": {
            "text/plain": [
              "Text(0, 0.5, 'Loss J')"
            ]
          },
          "metadata": {},
          "execution_count": 40
        },
        {
          "output_type": "display_data",
          "data": {
            "image/png": "[encoded data removed]",
            "text/plain": [
              "<Figure size 432x288 with 1 Axes>"
            ]
          },
          "metadata": {
            "needs_background": "light"
          }
        }
      ]
    },
    {
      "cell_type": "code",
      "metadata": {
        "id": "-GB2E13y6lpa",
        "colab": {
          "base_uri": "https://localhost:8080/"
        },
        "outputId": "bdb41bb4-466b-45cd-8c9d-0fe23a7556f8"
      },
      "source": [
        "[(key, cache[key].shape) for key in cache.keys()]"
      ],
      "execution_count": null,
      "outputs": [
        {
          "output_type": "execute_result",
          "data": {
            "text/plain": [
              "[('a0', (4, 670)),\n",
              " ('W1', (1, 4)),\n",
              " ('b1', (1, 1)),\n",
              " ('a1', (1, 670)),\n",
              " ('z1', (1, 670))]"
            ]
          },
          "metadata": {},
          "execution_count": 41
        }
      ]
    },
    {
      "cell_type": "code",
      "metadata": {
        "id": "zztlnjA86lpb",
        "colab": {
          "base_uri": "https://localhost:8080/",
          "height": 338
        },
        "outputId": "03c3f96b-ff9b-4e48-913c-c0efa13bfe8f"
      },
      "source": [
        "weights, biases = construct(layers = [4,6,1] )\n",
        "cache, J = backward_propagation(X_train, y_train, weights, biases, alpha = 0.1, epochs = 1000)\n",
        "\n",
        "y_pred = predict(X_test, cache)\n",
        "print(confusion_matrix(y_test[0], y_pred[0]))\n",
        "\n",
        "plt.plot(J);plt.xlabel('Epoch');plt.ylabel('Loss J')"
      ],
      "execution_count": null,
      "outputs": [
        {
          "output_type": "stream",
          "name": "stdout",
          "text": [
            "[[294   0]\n",
            " [  2  34]]\n"
          ]
        },
        {
          "output_type": "execute_result",
          "data": {
            "text/plain": [
              "Text(0, 0.5, 'Loss J')"
            ]
          },
          "metadata": {},
          "execution_count": 42
        },
        {
          "output_type": "display_data",
          "data": {
            "image/png": "[encoded data removed]",
            "text/plain": [
              "<Figure size 432x288 with 1 Axes>"
            ]
          },
          "metadata": {
            "needs_background": "light"
          }
        }
      ]
    },
    {
      "cell_type": "code",
      "metadata": {
        "id": "n-plILF36lpc",
        "colab": {
          "base_uri": "https://localhost:8080/"
        },
        "outputId": "1c6189cd-1d2a-47da-c74e-bd834837baf5"
      },
      "source": [
        "[(key, cache[key].shape) for key in cache.keys()]"
      ],
      "execution_count": null,
      "outputs": [
        {
          "output_type": "execute_result",
          "data": {
            "text/plain": [
              "[('a0', (4, 670)),\n",
              " ('W1', (6, 4)),\n",
              " ('b1', (6, 1)),\n",
              " ('a1', (6, 670)),\n",
              " ('z1', (6, 670)),\n",
              " ('W2', (1, 6)),\n",
              " ('b2', (1, 1)),\n",
              " ('a2', (1, 670)),\n",
              " ('z2', (1, 670))]"
            ]
          },
          "metadata": {},
          "execution_count": 43
        }
      ]
    },
    {
      "cell_type": "code",
      "metadata": {
        "id": "dA76i75j6lpd",
        "colab": {
          "base_uri": "https://localhost:8080/"
        },
        "outputId": "e25ebfc9-a63c-4186-a2e5-639473e88662"
      },
      "source": [
        "dz = np.array([[2,2,2,2]])\n",
        "np.sum(dz) / 4"
      ],
      "execution_count": null,
      "outputs": [
        {
          "output_type": "execute_result",
          "data": {
            "text/plain": [
              "2.0"
            ]
          },
          "metadata": {},
          "execution_count": 44
        }
      ]
    },
    {
      "cell_type": "markdown",
      "metadata": {
        "id": "5mGz1XU77toD"
      },
      "source": [
        "# Pytorch"
      ]
    },
    {
      "cell_type": "code",
      "metadata": {
        "id": "hfUmLhNi77rd"
      },
      "source": [
        "import numpy as np\n",
        "from matplotlib import pyplot as plt\n",
        "import seaborn as sns\n",
        "sns.set()\n",
        "\n",
        "import torch\n",
        "import torch.optim as optim\n",
        "import torch.nn as nn\n",
        "from IPython import display"
      ],
      "execution_count": null,
      "outputs": []
    },
    {
      "cell_type": "code",
      "metadata": {
        "id": "k0DJZQCt78C3",
        "colab": {
          "base_uri": "https://localhost:8080/"
        },
        "outputId": "4b246714-9537-4a46-bc10-881f2d0e99cc"
      },
      "source": [
        "device = 'cuda' if torch.cuda.is_available() else 'cpu'\n",
        "\n",
        "x_train_tensor = torch.from_numpy(X_train.T).float().to(device)\n",
        "y_train_tensor = torch.from_numpy(y_train).float().to(device)\n",
        "\n",
        "# Linear Model\n",
        "learning_rate = 0.01 # alpha\n",
        "\n",
        "# nn package to create our linear model\n",
        "# each Linear module has a weight and bias\n",
        "model = nn.Sequential(\n",
        "    nn.Linear(4, 6),\n",
        "    nn.ReLU(),\n",
        "    nn.Linear(6, 6),\n",
        "    nn.ReLU(), # https://pytorch.org/docs/stable/generated/torch.nn.ReLU.html?highlight=relu#torch.nn.ReLU\n",
        "    nn.Linear(6, 1),\n",
        "    nn.Sigmoid()\n",
        ")\n",
        "\n",
        "criterion = nn.BCELoss()\n",
        "optimizer = torch.optim.Adam(model.parameters(), \n",
        "                             lr=learning_rate)\n",
        "n_epoch = 1000\n",
        "# Training\n",
        "for t in range(n_epoch):\n",
        "    \n",
        "    # Feed forward to get the logits\n",
        "    y_pred = model(x_train_tensor)\n",
        "    \n",
        "    # Compute the loss (BCE: Binary Cross Entropy Loss)\n",
        "    loss = criterion(y_pred.T, y_train_tensor)\n",
        "    # Dont accumulate previous gradients\n",
        "    optimizer.zero_grad()\n",
        "\n",
        "    print(f\"[EPOCH]: {t}/{n_epoch}, [LOSS]: {loss.item():.6f}\")\n",
        "    display.clear_output(wait=True)\n",
        "    \n",
        "    # Backward pass to compute the gradient\n",
        "    # of loss w.r.t our learnable params. \n",
        "    loss.backward()\n",
        "    \n",
        "    # Update params\n",
        "    optimizer.step()"
      ],
      "execution_count": null,
      "outputs": [
        {
          "output_type": "stream",
          "name": "stdout",
          "text": [
            "[EPOCH]: 999/1000, [LOSS]: 0.003009\n"
          ]
        }
      ]
    },
    {
      "cell_type": "code",
      "metadata": {
        "id": "8iUxxd4Z8KVb"
      },
      "source": [
        "x_test_tensor = torch.from_numpy(X_test.T).float().to(device)\n",
        "y_test_pred = model(x_test_tensor)"
      ],
      "execution_count": null,
      "outputs": []
    },
    {
      "cell_type": "code",
      "metadata": {
        "id": "4IXHVE2Y9A3N"
      },
      "source": [
        "y_test_pred = 1 * (y_test_pred > 0.5)"
      ],
      "execution_count": null,
      "outputs": []
    },
    {
      "cell_type": "code",
      "metadata": {
        "id": "JFAeSylg9B2v",
        "colab": {
          "base_uri": "https://localhost:8080/"
        },
        "outputId": "5b9cff90-908b-421d-8733-6993f3ad6dcf"
      },
      "source": [
        "y_test_pred.shape, y_test.T.shape"
      ],
      "execution_count": null,
      "outputs": [
        {
          "output_type": "execute_result",
          "data": {
            "text/plain": [
              "(torch.Size([330, 1]), (330, 1))"
            ]
          },
          "metadata": {},
          "execution_count": 50
        }
      ]
    },
    {
      "cell_type": "code",
      "metadata": {
        "id": "i9Vsr46W9I6S",
        "colab": {
          "base_uri": "https://localhost:8080/"
        },
        "outputId": "b01f4213-f99d-43de-c8e4-f2ef6fae4981"
      },
      "source": [
        "print(confusion_matrix(y_test.T, y_test_pred))"
      ],
      "execution_count": null,
      "outputs": [
        {
          "output_type": "stream",
          "name": "stdout",
          "text": [
            "[[294   0]\n",
            " [  1  35]]\n"
          ]
        }
      ]
    },
    {
      "cell_type": "code",
      "metadata": {
        "id": "0PuaUBF_9X6e",
        "colab": {
          "base_uri": "https://localhost:8080/"
        },
        "outputId": "c121107e-066c-4d2b-ee4c-4e8e11749817"
      },
      "source": [
        "y_test.T.flatten()"
      ],
      "execution_count": null,
      "outputs": [
        {
          "output_type": "execute_result",
          "data": {
            "text/plain": [
              "array([0., 0., 0., 0., 0., 0., 0., 0., 0., 0., 0., 1., 0., 0., 0., 0., 0.,\n",
              "       0., 0., 0., 0., 0., 0., 0., 0., 0., 0., 0., 0., 0., 0., 0., 0., 0.,\n",
              "       0., 0., 0., 0., 0., 1., 0., 1., 0., 0., 0., 0., 0., 0., 0., 0., 0.,\n",
              "       0., 0., 0., 1., 1., 0., 1., 0., 0., 0., 1., 0., 0., 0., 0., 0., 0.,\n",
              "       1., 0., 0., 0., 0., 0., 0., 0., 0., 1., 0., 0., 0., 1., 0., 1., 0.,\n",
              "       0., 0., 0., 0., 0., 0., 0., 0., 0., 0., 0., 0., 1., 1., 0., 0., 0.,\n",
              "       0., 0., 0., 0., 0., 0., 0., 0., 0., 0., 0., 0., 1., 0., 0., 0., 0.,\n",
              "       0., 0., 0., 0., 0., 0., 0., 0., 0., 0., 0., 0., 0., 0., 0., 0., 1.,\n",
              "       0., 0., 1., 1., 1., 0., 0., 0., 0., 0., 0., 0., 0., 0., 0., 0., 0.,\n",
              "       0., 0., 0., 0., 0., 1., 0., 0., 0., 0., 0., 0., 0., 0., 0., 0., 0.,\n",
              "       0., 0., 0., 0., 0., 0., 0., 0., 0., 0., 0., 0., 0., 0., 0., 0., 0.,\n",
              "       0., 0., 0., 0., 0., 0., 0., 0., 0., 0., 0., 0., 1., 1., 0., 0., 0.,\n",
              "       0., 0., 0., 0., 0., 0., 1., 0., 0., 0., 0., 0., 0., 0., 0., 0., 0.,\n",
              "       0., 0., 1., 0., 1., 0., 0., 0., 0., 0., 0., 0., 0., 1., 1., 0., 0.,\n",
              "       0., 0., 1., 0., 0., 0., 0., 0., 0., 1., 1., 0., 1., 0., 0., 0., 0.,\n",
              "       0., 0., 0., 0., 1., 0., 0., 1., 0., 0., 0., 0., 0., 0., 0., 0., 0.,\n",
              "       0., 0., 0., 1., 0., 0., 1., 0., 0., 0., 0., 0., 0., 0., 0., 0., 0.,\n",
              "       0., 0., 0., 0., 0., 0., 0., 0., 0., 1., 0., 0., 0., 0., 0., 0., 0.,\n",
              "       0., 0., 0., 0., 0., 0., 0., 0., 0., 0., 0., 0., 0., 0., 1., 0., 0.,\n",
              "       0., 0., 0., 0., 0., 0., 0.])"
            ]
          },
          "metadata": {},
          "execution_count": 52
        }
      ]
    },
    {
      "cell_type": "code",
      "metadata": {
        "id": "TKs79-b691QF",
        "colab": {
          "base_uri": "https://localhost:8080/"
        },
        "outputId": "e689da69-8858-4964-f6c2-f02b553d6d83"
      },
      "source": [
        "y_test_pred.flatten()"
      ],
      "execution_count": null,
      "outputs": [
        {
          "output_type": "execute_result",
          "data": {
            "text/plain": [
              "tensor([0, 0, 0, 0, 0, 0, 0, 0, 0, 0, 0, 1, 0, 0, 0, 0, 0, 0, 0, 0, 0, 0, 0, 0,\n",
              "        0, 0, 0, 0, 0, 0, 0, 0, 0, 0, 0, 0, 0, 0, 0, 1, 0, 1, 0, 0, 0, 0, 0, 0,\n",
              "        0, 0, 0, 0, 0, 0, 1, 1, 0, 1, 0, 0, 0, 1, 0, 0, 0, 0, 0, 0, 1, 0, 0, 0,\n",
              "        0, 0, 0, 0, 0, 1, 0, 0, 0, 1, 0, 1, 0, 0, 0, 0, 0, 0, 0, 0, 0, 0, 0, 0,\n",
              "        0, 1, 1, 0, 0, 0, 0, 0, 0, 0, 0, 0, 0, 0, 0, 0, 0, 0, 1, 0, 0, 0, 0, 0,\n",
              "        0, 0, 0, 0, 0, 0, 0, 0, 0, 0, 0, 0, 0, 0, 0, 1, 0, 0, 1, 1, 1, 0, 0, 0,\n",
              "        0, 0, 0, 0, 0, 0, 0, 0, 0, 0, 0, 0, 0, 0, 1, 0, 0, 0, 0, 0, 0, 0, 0, 0,\n",
              "        0, 0, 0, 0, 0, 0, 0, 0, 0, 0, 0, 0, 0, 0, 0, 0, 0, 0, 0, 0, 0, 0, 0, 0,\n",
              "        0, 0, 0, 0, 0, 0, 0, 1, 1, 0, 0, 0, 0, 0, 0, 0, 0, 0, 1, 0, 0, 0, 0, 0,\n",
              "        0, 0, 0, 0, 0, 0, 0, 1, 0, 1, 0, 0, 0, 0, 0, 0, 0, 0, 1, 1, 0, 0, 0, 0,\n",
              "        1, 0, 0, 0, 0, 0, 0, 1, 1, 0, 1, 0, 0, 0, 0, 0, 0, 0, 0, 1, 0, 0, 0, 0,\n",
              "        0, 0, 0, 0, 0, 0, 0, 0, 0, 0, 0, 1, 0, 0, 1, 0, 0, 0, 0, 0, 0, 0, 0, 0,\n",
              "        0, 0, 0, 0, 0, 0, 0, 0, 0, 0, 1, 0, 0, 0, 0, 0, 0, 0, 0, 0, 0, 0, 0, 0,\n",
              "        0, 0, 0, 0, 0, 0, 0, 0, 1, 0, 0, 0, 0, 0, 0, 0, 0, 0])"
            ]
          },
          "metadata": {},
          "execution_count": 53
        }
      ]
    },
    {
      "cell_type": "code",
      "metadata": {
        "id": "UL6cqzr_92mQ"
      },
      "source": [
        ""
      ],
      "execution_count": null,
      "outputs": []
    }
  ]
}