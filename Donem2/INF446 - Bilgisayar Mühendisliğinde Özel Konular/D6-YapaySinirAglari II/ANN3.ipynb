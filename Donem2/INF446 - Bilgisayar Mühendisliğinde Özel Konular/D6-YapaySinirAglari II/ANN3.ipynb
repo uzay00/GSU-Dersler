{
 "cells": [
  {
   "cell_type": "markdown",
   "metadata": {},
   "source": [
    "# Artificial Neural Networks\n",
    "\n",
    "### Data\n",
    "Composed of $X$ and $y$\n",
    "\n",
    " - X comes with shape $[d \\times n]$ \n",
    " - Each column vector is another unique observation with d features\n",
    " - There is a corresponding real value in vector $y$ with shape $[1 \\times n]$\n",
    "\n",
    " \n",
    "### Architecture of an ANN\n",
    " \n",
    "![](Figures/ANN_Weights.pdf)"
   ]
  },
  {
   "cell_type": "markdown",
   "metadata": {},
   "source": [
    "## Forward Propagation\n",
    "\n",
    "$\\hspace{8cm}$ Take the input data (here $d^{[0]} = d$)\n",
    "\n",
    "$$\n",
    "a^{[0]} = X\n",
    "$$\n",
    "\n",
    "$\\hspace{8cm}$ Calculate the outcome of next layer\n",
    "\n",
    "\\begin{equation} \\label{eq1}\n",
    "\\begin{split}\n",
    "z^{[i+1]} & =  W^{[i+1]} a^{[i]} + b^{[i+1]} \\\\\n",
    "a^{[i+1]} & = \\sigma(z^{[i+1]})\n",
    "\\end{split}\n",
    "\\end{equation}\n",
    "\n",
    "\n",
    "\n",
    "\n",
    "\n",
    "__Check Dimensions__\n",
    "\n",
    "> $W^{[1]} a^{[0]}$ with dimensions $[d^{[1]} \\times d^{[0]}]$ and $[d^{[0]} \\times n]$ outputs first hidden layer with dimensions $[d^{[1]} \\times n]$.\n",
    "\n",
    "Similarly\n",
    ">$W^{[i+1]} a^{[i]}$ outputs a vector with shape $[d^{[i+1]} \\times d^{[i]}] \\times [d^{[i]} \\times n] = [d^{[i + 1]} \\times n]$ \n"
   ]
  },
  {
   "cell_type": "markdown",
   "metadata": {},
   "source": [
    "![](Figures/board.JPG)"
   ]
  },
  {
   "cell_type": "markdown",
   "metadata": {},
   "source": [
    "# Data\n",
    " - Recruitment Robot"
   ]
  },
  {
   "cell_type": "code",
   "execution_count": 14,
   "metadata": {},
   "outputs": [],
   "source": [
    "import numpy as np\n",
    "import pandas as pd\n",
    "import matplotlib.pyplot as plt\n",
    "import seaborn as sns\n",
    "sns.set()\n",
    "\n",
    "from sklearn.model_selection import train_test_split\n",
    "from sklearn.metrics import accuracy_score, confusion_matrix\n",
    "import requests\n",
    "import io\n",
    "\n",
    "url = \"https://raw.githubusercontent.com/uzay00/KaVe-Egitim/master/ARGE/Sorular/1-İseAlımRobotu/data.csv\"\n",
    "s = requests.get(url).content\n",
    "\n",
    "data = pd.read_csv(io.StringIO(s.decode('utf-8')))\n",
    "M = data.values\n",
    "X = M[:,:-1]\n",
    "y = M[:,-1:]\n",
    "\n",
    "X_train, X_test, y_train, y_test = train_test_split(X, y, test_size=0.33, random_state=42)\n",
    "\n",
    "# For our implemenatation, transposes are needed. \n",
    "X_train, X_test, y_train, y_test = X_train.T, X_test.T, y_train.T, y_test.T"
   ]
  },
  {
   "cell_type": "code",
   "execution_count": 15,
   "metadata": {},
   "outputs": [
    {
     "data": {
      "text/plain": [
       "((4, 670), (1, 670))"
      ]
     },
     "execution_count": 15,
     "metadata": {},
     "output_type": "execute_result"
    }
   ],
   "source": [
    "X_train.shape, y_train.shape"
   ]
  },
  {
   "cell_type": "code",
   "execution_count": 16,
   "metadata": {},
   "outputs": [
    {
     "data": {
      "text/html": [
       "<div>\n",
       "<style scoped>\n",
       "    .dataframe tbody tr th:only-of-type {\n",
       "        vertical-align: middle;\n",
       "    }\n",
       "\n",
       "    .dataframe tbody tr th {\n",
       "        vertical-align: top;\n",
       "    }\n",
       "\n",
       "    .dataframe thead th {\n",
       "        text-align: right;\n",
       "    }\n",
       "</style>\n",
       "<table border=\"1\" class=\"dataframe\">\n",
       "  <thead>\n",
       "    <tr style=\"text-align: right;\">\n",
       "      <th></th>\n",
       "      <th>social</th>\n",
       "      <th>algorithm</th>\n",
       "      <th>gpa</th>\n",
       "      <th>age</th>\n",
       "      <th>y</th>\n",
       "    </tr>\n",
       "  </thead>\n",
       "  <tbody>\n",
       "    <tr>\n",
       "      <th>0</th>\n",
       "      <td>4.385110</td>\n",
       "      <td>3.902737</td>\n",
       "      <td>3.854389</td>\n",
       "      <td>3.462752</td>\n",
       "      <td>1</td>\n",
       "    </tr>\n",
       "    <tr>\n",
       "      <th>1</th>\n",
       "      <td>4.872397</td>\n",
       "      <td>4.127768</td>\n",
       "      <td>3.802623</td>\n",
       "      <td>3.296719</td>\n",
       "      <td>1</td>\n",
       "    </tr>\n",
       "    <tr>\n",
       "      <th>2</th>\n",
       "      <td>4.830242</td>\n",
       "      <td>4.779077</td>\n",
       "      <td>2.979467</td>\n",
       "      <td>2.291362</td>\n",
       "      <td>1</td>\n",
       "    </tr>\n",
       "    <tr>\n",
       "      <th>3</th>\n",
       "      <td>4.848431</td>\n",
       "      <td>3.396778</td>\n",
       "      <td>3.130300</td>\n",
       "      <td>3.409216</td>\n",
       "      <td>1</td>\n",
       "    </tr>\n",
       "    <tr>\n",
       "      <th>4</th>\n",
       "      <td>3.602784</td>\n",
       "      <td>4.199958</td>\n",
       "      <td>2.820921</td>\n",
       "      <td>1.815152</td>\n",
       "      <td>1</td>\n",
       "    </tr>\n",
       "  </tbody>\n",
       "</table>\n",
       "</div>"
      ],
      "text/plain": [
       "     social  algorithm       gpa       age  y\n",
       "0  4.385110   3.902737  3.854389  3.462752  1\n",
       "1  4.872397   4.127768  3.802623  3.296719  1\n",
       "2  4.830242   4.779077  2.979467  2.291362  1\n",
       "3  4.848431   3.396778  3.130300  3.409216  1\n",
       "4  3.602784   4.199958  2.820921  1.815152  1"
      ]
     },
     "execution_count": 16,
     "metadata": {},
     "output_type": "execute_result"
    }
   ],
   "source": [
    "data.head()"
   ]
  },
  {
   "cell_type": "code",
   "execution_count": 17,
   "metadata": {},
   "outputs": [
    {
     "data": {
      "text/plain": [
       "0    900\n",
       "1    100\n",
       "Name: y, dtype: int64"
      ]
     },
     "execution_count": 17,
     "metadata": {},
     "output_type": "execute_result"
    }
   ],
   "source": [
    "data.y.value_counts()"
   ]
  },
  {
   "cell_type": "markdown",
   "metadata": {},
   "source": [
    "## Linear Transformation\n",
    "\n",
    "$$W^{[1]} \\times a^{[0]} = z^{[1]}$$"
   ]
  },
  {
   "cell_type": "code",
   "execution_count": 18,
   "metadata": {},
   "outputs": [
    {
     "data": {
      "text/plain": [
       "(3, 5)"
      ]
     },
     "execution_count": 18,
     "metadata": {},
     "output_type": "execute_result"
    }
   ],
   "source": [
    "W1 = np.random.randint(2, size = (3,5))\n",
    "W1.shape"
   ]
  },
  {
   "cell_type": "code",
   "execution_count": 19,
   "metadata": {},
   "outputs": [
    {
     "data": {
      "text/plain": [
       "(5, 4)"
      ]
     },
     "execution_count": 19,
     "metadata": {},
     "output_type": "execute_result"
    }
   ],
   "source": [
    "a0 = np.random.randint(2, size = (5,4))\n",
    "a0.shape"
   ]
  },
  {
   "cell_type": "code",
   "execution_count": 20,
   "metadata": {},
   "outputs": [
    {
     "data": {
      "text/plain": [
       "(3, 4)"
      ]
     },
     "execution_count": 20,
     "metadata": {},
     "output_type": "execute_result"
    }
   ],
   "source": [
    "z1 = W1.dot(a0)\n",
    "z1.shape"
   ]
  },
  {
   "cell_type": "code",
   "execution_count": 21,
   "metadata": {},
   "outputs": [
    {
     "name": "stdout",
     "output_type": "stream",
     "text": [
      "(3, 5)  x  (5, 4)  =  (3, 4)\n"
     ]
    }
   ],
   "source": [
    "print(W1.shape , ' x ', a0.shape,  ' = ',z1.shape)"
   ]
  },
  {
   "cell_type": "markdown",
   "metadata": {},
   "source": [
    "# Neural Network Architecture"
   ]
  },
  {
   "cell_type": "code",
   "execution_count": 22,
   "metadata": {},
   "outputs": [
    {
     "name": "stdout",
     "output_type": "stream",
     "text": [
      "weight_dims:  [(6, 4), (6, 6), (1, 6)]\n",
      "bias_dims:  [6, 6, 1]\n"
     ]
    }
   ],
   "source": [
    "layers = [4,6,6,1]\n",
    "\n",
    "weight_dims = list(zip(layers[1:], layers[:-1]))\n",
    "bias_dims = layers[1:]\n",
    "\n",
    "print(\"weight_dims: \", weight_dims)\n",
    "print(\"bias_dims: \", bias_dims)"
   ]
  },
  {
   "cell_type": "code",
   "execution_count": 23,
   "metadata": {},
   "outputs": [
    {
     "name": "stdout",
     "output_type": "stream",
     "text": [
      "weights  [array([[-0.01032627, -0.00613371, -0.02073367,  0.00320867],\n",
      "       [-0.01876751, -0.00106064,  0.00617727,  0.00632558],\n",
      "       [ 0.0005518 ,  0.00578897,  0.01718797, -0.00743917],\n",
      "       [ 0.00167716, -0.01197579, -0.00159652,  0.01265029],\n",
      "       [-0.0047885 ,  0.00765258,  0.00825555, -0.00715218],\n",
      "       [-0.00578535,  0.0114745 ,  0.01078958, -0.01230101]]), array([[-0.02133078, -0.01629224,  0.0129046 ,  0.00720891, -0.00646733,\n",
      "         0.00593464],\n",
      "       [ 0.01607984,  0.01330565, -0.01041004,  0.00622405, -0.01630594,\n",
      "        -0.01295712],\n",
      "       [-0.00029427,  0.00648067,  0.00050024,  0.00292801,  0.00619257,\n",
      "        -0.00145778],\n",
      "       [-0.00551544,  0.00575566, -0.00161095,  0.0022693 , -0.01108828,\n",
      "        -0.00300273],\n",
      "       [-0.0019797 , -0.00555281,  0.00669681, -0.00242111,  0.00656591,\n",
      "         0.00545747],\n",
      "       [ 0.00899482,  0.02357558, -0.0183524 , -0.02062463,  0.00255286,\n",
      "        -0.02016338]]), array([[-0.00558366,  0.00876631, -0.00568115,  0.01223302, -0.00402434,\n",
      "         0.00294763]])]\n",
      "biases:  [array([-0.00513575, -0.01270875,  0.00528347,  0.00071154,  0.00022403,\n",
      "        0.00531523]), array([-0.01466546,  0.00392365,  0.015838  ,  0.0158993 ,  0.0018915 ,\n",
      "       -0.00443372]), array([-0.00539447])]\n"
     ]
    }
   ],
   "source": [
    "weights = [np.random.randn(n,d)/100 for n,d in weight_dims]\n",
    "biases = [np.random.randn(d)/100 for d in bias_dims]\n",
    "\n",
    "print(\"weights \", weights)\n",
    "print(\"biases: \", biases)"
   ]
  },
  {
   "cell_type": "markdown",
   "metadata": {},
   "source": [
    "# Forward Propagation"
   ]
  },
  {
   "cell_type": "code",
   "execution_count": 24,
   "metadata": {},
   "outputs": [
    {
     "data": {
      "text/plain": [
       "((6, 4), (4, 670))"
      ]
     },
     "execution_count": 24,
     "metadata": {},
     "output_type": "execute_result"
    }
   ],
   "source": [
    "weights[0].shape, X_train.shape"
   ]
  },
  {
   "cell_type": "code",
   "execution_count": 25,
   "metadata": {},
   "outputs": [],
   "source": [
    "def sigmoid(z):\n",
    "    return 1 / (1 + np.exp(-z))\n",
    "\n",
    "def derivative_sigmoid(z):\n",
    "    s = sigmoid(z)\n",
    "    return s * (1.0-s)"
   ]
  },
  {
   "cell_type": "code",
   "execution_count": 27,
   "metadata": {},
   "outputs": [],
   "source": [
    "a = X_train\n",
    "for i in range(len(weights)):\n",
    "    W = weights[i]\n",
    "    b = biases[i]\n",
    "    z = W.dot(a) + b.reshape(-1,1)\n",
    "    a = sigmoid(z)"
   ]
  },
  {
   "cell_type": "code",
   "execution_count": 28,
   "metadata": {},
   "outputs": [
    {
     "data": {
      "text/plain": [
       "((1, 670), (1, 670))"
      ]
     },
     "execution_count": 28,
     "metadata": {},
     "output_type": "execute_result"
    }
   ],
   "source": [
    "a.shape, y_train.shape"
   ]
  },
  {
   "cell_type": "markdown",
   "metadata": {},
   "source": [
    "## Calculate Error"
   ]
  },
  {
   "cell_type": "code",
   "execution_count": 29,
   "metadata": {},
   "outputs": [],
   "source": [
    "def cross_entropy_loss(a, y):\n",
    "    cost = - (y* np.log(a) + (1 - y) * (np.log(1 - a)))\n",
    "    return cost"
   ]
  },
  {
   "cell_type": "code",
   "execution_count": 30,
   "metadata": {},
   "outputs": [],
   "source": [
    "#cross_entropy_loss(a, y_train)"
   ]
  },
  {
   "cell_type": "markdown",
   "metadata": {},
   "source": [
    "## $\\hspace{7cm}$Backward Propagation\n",
    "\n",
    "#### $\\hspace{8cm}$Vectorized Cost Function \n",
    "$$\n",
    "J =  \\frac{1}{n}( - y \\log a^{[i+1]}  - (1 - y) \\log (1 - a^{[i+1]}))\n",
    "$$\n",
    "\n",
    "#### $\\hspace{8cm}$Error at last layer to backpropagate\n",
    "\n",
    "\\begin{equation} \n",
    "\\begin{split}\n",
    "dz^{[i+1]}\n",
    "&= \\frac{\\partial J}{\\partial z^{[i+1]}} &= \\frac{\\partial J}{\\partial a^{[i+1]}}  \\frac{\\partial a^{[i+1]}}{\\partial z^{[i+1]}}  \\\\\n",
    "& &= \\frac{1}{n} \\left( \\frac{-y}{a^{[i+1]}} - (-1) \\frac{1-y}{1- a^{[i+1]}}\\right)  \\frac{\\partial a^{[i+1]}}{\\partial z^{[i+1]}}\\\\\n",
    "& &= \\frac{1}{n} \\left( \\frac{a^{[i+1]}-y}{a^{[i+1]}(1-a^{[i+1]})}\\right) \\left(a^{[i+1]}(1-a^{[i+1]})\\right)\\\\\n",
    "& &= \\frac{1}{n}  \\left(a^{[i+1]}-y\\right)\n",
    "\\end{split}\n",
    "\\end{equation}\n",
    "\n",
    "$\\hspace{8cm}$ __In python:__ `dz = np.mean(a-y)`\n"
   ]
  },
  {
   "cell_type": "markdown",
   "metadata": {},
   "source": [
    "### $\\hspace{7cm}$Backpropagate to previous layer\n",
    "### $\\hspace{8cm}$Forward\n",
    "\\begin{equation} \\label{eq1}\n",
    "\\begin{split}\n",
    "a^{[i]} & = \\sigma(z^{[i]})\\\\\n",
    "z^{[i+1]} & =  W^{[i+1]} a^{[i]} + b^{[i+1]} \n",
    "\\end{split}\n",
    "\\end{equation}\n",
    "\n",
    "### $\\hspace{8cm}$Backward\n",
    "\n",
    "\\begin{equation} \n",
    "\\begin{split}\n",
    "dz^{[i]} \n",
    "&= \\frac{\\partial J}{\\partial z^{[i]}} &=   \\frac{\\partial J}{\\partial z^{[i+1]}} \\frac{\\partial z^{[i+1]}}{\\partial a^{[i]}} \\frac{\\partial a^{[i]}}{\\partial z^{[i]}}\\\\\n",
    "& &= \\left(  \\left(W^{[i+1]}\\right)^{T} dz^{[i+1]} \\right)  \\sigma'(z^{[i]})\\\\\n",
    "\\end{split}\n",
    "\\end{equation}\n",
    "\n",
    "$\\hspace{8cm}$ __In python:__ `dz = np.dot(W.T , dz) * derivative_sigma(z)` \n",
    "\n",
    "##### $\\hspace{8cm}$ Dimension Check\n",
    "\n",
    "\\begin{equation} \n",
    "\\begin{split}\n",
    "W^{[i+1]} & \\rightarrow & \\;[d^{[i+1]}, d^{[i]}] \\\\\n",
    "dz^{[i+1]} & \\rightarrow & \\;[d^{[i+1]}, 1] \\\\\n",
    "z^{[i]} & \\rightarrow & \\;[d^{[i]},1] \\\\\n",
    "\\end{split}\n",
    "\\end{equation}"
   ]
  },
  {
   "cell_type": "code",
   "execution_count": null,
   "metadata": {},
   "outputs": [],
   "source": []
  },
  {
   "cell_type": "markdown",
   "metadata": {},
   "source": [
    "## Backward Propagation\n",
    "\n",
    "####  Cost Function for one example\n",
    "$$\n",
    "J =  - y_{i} \\log a_{i}  - (1 - y_{i}) \\log (1 - a))\n",
    "$$\n"
   ]
  },
  {
   "cell_type": "markdown",
   "metadata": {},
   "source": [
    "### Architecture of an ANN\n",
    " \n",
    "![](Figures/ANN_Weights.pdf)"
   ]
  },
  {
   "cell_type": "markdown",
   "metadata": {},
   "source": [
    "#### Error at last layer to backpropagate\n",
    "For one example\n",
    "\\begin{equation} \n",
    "\\begin{split}\n",
    "dz \n",
    "&= \\frac{\\partial J}{\\partial z} &= \\frac{\\partial J}{\\partial a}  \\frac{\\partial a}{\\partial z}  \\\\\n",
    "& &= \\frac{a-y}{a(1-a)} a(1-a)\\\\\n",
    "& &= a-y\n",
    "\\end{split}\n",
    "\\end{equation}\n",
    "\n",
    "Error for whole dataset\n",
    "\\begin{equation} \n",
    "\\begin{split}\n",
    "dz \n",
    "&= np.mean(a-y)\n",
    "\\end{split}\n",
    "\\end{equation}"
   ]
  },
  {
   "cell_type": "markdown",
   "metadata": {},
   "source": [
    "#### Backward Propagation\n",
    "\\begin{equation} \n",
    "\\begin{split}\n",
    "dz^{[i]} \n",
    "&= \\frac{\\partial J}{\\partial z^{[i]}} &=   \\frac{\\partial J}{\\partial z^{[i+1]}} \\frac{\\partial z^{[i+1]}}{\\partial a^{[i]}} \\frac{\\partial a^{[i]}}{\\partial z^{[i]}}\\\\\n",
    "& &= dz^{[i+1]} W^{[i+1]}  \\sigma'(z^{[i]})\\\\\n",
    "& &= np.dot(W^{[i+1]}.T, dz^{[i+1]}) \\sigma'(z^{[i]})\n",
    "\\end{split}\n",
    "\\end{equation}\n",
    "\n",
    "#### Update Parameters\n",
    "\n",
    "$\\hspace{8cm}$ Weight update\n",
    "\n",
    "\\begin{equation} \n",
    "\\begin{split}\n",
    "\\frac{\\partial J}{\\partial W^{[i+1]}} \n",
    "&= \\frac{\\partial J}{\\partial z^{[i+1]}} \\frac{\\partial z^{[i+1]}}{\\partial W^{[i+1]}} \\\\\n",
    "&= dz^{[i+1]} a^{[i]}.T \\\\\n",
    "\\end{split}\n",
    "\\end{equation}\n",
    "\n",
    "$\\hspace{8cm}$ Bias update\n",
    "\n",
    "\\begin{equation} \n",
    "\\begin{split}\n",
    "\\frac{\\partial J}{\\partial b^{[i+1]}} \n",
    "&= \\frac{\\partial J}{\\partial z^{[i+1]}} \\frac{\\partial z^{[i+1]}}{\\partial b^{[i+1]}} \\\\\n",
    "&= dz^{[i+1]}\\\\\n",
    "\\end{split}\n",
    "\\end{equation}\n",
    "\n",
    "\n",
    "#### Key to backprogation\n",
    "\n",
    "\\begin{equation} \n",
    "\\begin{split}\n",
    "dz^{[i+1]}\n",
    "&= \n",
    "\\frac{\\partial J}{\\partial z^{[i+1]}} \\\\\n",
    "\\end{split}\n",
    "\\end{equation}"
   ]
  },
  {
   "cell_type": "code",
   "execution_count": 32,
   "metadata": {},
   "outputs": [],
   "source": [
    "# forward propagation\n",
    "a = X_train\n",
    "cache = {'a0':a}\n",
    "for i in range(len(weights)):\n",
    "    W = weights[i]\n",
    "    b = biases[i]\n",
    "    z = W.dot(a) + b.reshape(-1,1)\n",
    "    a = sigmoid(z)\n",
    "    \n",
    "    cache[f'W{i+1}'] = W\n",
    "    cache[f'b{i+1}'] = b\n",
    "    cache[f'a{i+1}'] = a\n",
    "    cache[f'z{i+1}'] = z"
   ]
  },
  {
   "cell_type": "code",
   "execution_count": 33,
   "metadata": {},
   "outputs": [
    {
     "data": {
      "text/plain": [
       "[('a0', (4, 670)),\n",
       " ('W1', (6, 4)),\n",
       " ('b1', (6,)),\n",
       " ('a1', (6, 670)),\n",
       " ('z1', (6, 670)),\n",
       " ('W2', (6, 6)),\n",
       " ('b2', (6,)),\n",
       " ('a2', (6, 670)),\n",
       " ('z2', (6, 670)),\n",
       " ('W3', (1, 6)),\n",
       " ('b3', (1,)),\n",
       " ('a3', (1, 670)),\n",
       " ('z3', (1, 670))]"
      ]
     },
     "execution_count": 33,
     "metadata": {},
     "output_type": "execute_result"
    }
   ],
   "source": [
    "[(key, cache[key].shape) for key in cache.keys()]"
   ]
  },
  {
   "cell_type": "markdown",
   "metadata": {},
   "source": [
    "<figure> \n",
    "    <img src=\"Figures/w3.png\" alt=\"flamingo\", width=\"340\"> \n",
    "    <figcaption><i>fig. 1</i> Update on last weight matrix</figcaption> \n",
    "</figure>\n"
   ]
  },
  {
   "cell_type": "code",
   "execution_count": 34,
   "metadata": {},
   "outputs": [
    {
     "data": {
      "text/plain": [
       "(1, 670)"
      ]
     },
     "execution_count": 34,
     "metadata": {},
     "output_type": "execute_result"
    }
   ],
   "source": [
    "# dz[3]\n",
    "dz = cache['a3'] - y_train ## Error at last layer\n",
    "dz.shape"
   ]
  },
  {
   "cell_type": "code",
   "execution_count": 35,
   "metadata": {},
   "outputs": [
    {
     "data": {
      "text/plain": [
       "array([0.40421427])"
      ]
     },
     "execution_count": 35,
     "metadata": {},
     "output_type": "execute_result"
    }
   ],
   "source": [
    "db = dz.mean(axis = 1)\n",
    "db"
   ]
  },
  {
   "cell_type": "code",
   "execution_count": 36,
   "metadata": {},
   "outputs": [
    {
     "data": {
      "text/plain": [
       "((6, 670), (1, 670))"
      ]
     },
     "execution_count": 36,
     "metadata": {},
     "output_type": "execute_result"
    }
   ],
   "source": [
    "cache['a2'].shape, cache['z3'].shape"
   ]
  },
  {
   "cell_type": "code",
   "execution_count": 37,
   "metadata": {},
   "outputs": [
    {
     "data": {
      "text/plain": [
       "((1, 6), (1, 6))"
      ]
     },
     "execution_count": 37,
     "metadata": {},
     "output_type": "execute_result"
    }
   ],
   "source": [
    "dw = dz.dot(cache['a2'].T)\n",
    "dw.shape, cache['W3'].shape"
   ]
  },
  {
   "cell_type": "code",
   "execution_count": 38,
   "metadata": {},
   "outputs": [],
   "source": [
    "## Learning rate\n",
    "alpha = 0.01"
   ]
  },
  {
   "cell_type": "code",
   "execution_count": 39,
   "metadata": {},
   "outputs": [
    {
     "data": {
      "text/plain": [
       "(1, 6)"
      ]
     },
     "execution_count": 39,
     "metadata": {},
     "output_type": "execute_result"
    }
   ],
   "source": [
    "cache['W3'] = cache['W3'] - alpha * dw \n",
    "cache['W3'].shape"
   ]
  },
  {
   "cell_type": "code",
   "execution_count": 40,
   "metadata": {},
   "outputs": [
    {
     "data": {
      "text/plain": [
       "(1,)"
      ]
     },
     "execution_count": 40,
     "metadata": {},
     "output_type": "execute_result"
    }
   ],
   "source": [
    "cache['b3'] = cache['b3'] - alpha * db\n",
    "cache['b3'].shape"
   ]
  },
  {
   "cell_type": "markdown",
   "metadata": {},
   "source": [
    "<figure> \n",
    "    <img src=\"Figures/w3.png\" alt=\"flamingo\", width=\"340\"> \n",
    "    <figcaption><i>fig. 1</i> Update on last weight matrix</figcaption> \n",
    "</figure>\n",
    "\n",
    "#### Backward Propagation\n",
    "\\begin{equation} \n",
    "\\begin{split}\n",
    "dz^{[i]} = np.dot(W^{[i+1]}.T, dz^{[i+1]}) \\sigma'(z^{[i]})\n",
    "\\end{split}\n",
    "\\end{equation}\n",
    "\n",
    "\n"
   ]
  },
  {
   "cell_type": "code",
   "execution_count": 41,
   "metadata": {},
   "outputs": [
    {
     "data": {
      "text/plain": [
       "(1, 670)"
      ]
     },
     "execution_count": 41,
     "metadata": {},
     "output_type": "execute_result"
    }
   ],
   "source": [
    "dz.shape"
   ]
  },
  {
   "cell_type": "code",
   "execution_count": 42,
   "metadata": {},
   "outputs": [
    {
     "data": {
      "text/plain": [
       "(6, 670)"
      ]
     },
     "execution_count": 42,
     "metadata": {},
     "output_type": "execute_result"
    }
   ],
   "source": [
    "# bacpropagate from d[z3] to d[z2]\n",
    "dz = np.dot(cache['W3'].T, dz) * derivative_sigmoid(cache['z2'])\n",
    "dz.shape"
   ]
  },
  {
   "cell_type": "markdown",
   "metadata": {},
   "source": [
    "<figure> \n",
    "    <img src=\"Figures/w2.png\" alt=\"flamingo\", width=\"340\"> \n",
    "    <figcaption><i>fig. 1</i> Update on previous layer</figcaption> \n",
    "</figure>\n",
    "\n",
    "#### Update Parameters\n",
    "\n",
    "Weight update\n",
    "\n",
    "\\begin{equation} \n",
    "\\begin{split}\n",
    "\\frac{\\partial J}{\\partial W^{[i+1]}} \n",
    "&= dz^{[i+1]} a^{[i]}.T \\\\\n",
    "\\end{split}\n",
    "\\end{equation}\n",
    "\n",
    "Bias update\n",
    "\n",
    "\\begin{equation} \n",
    "\\begin{split}\n",
    "\\frac{\\partial J}{\\partial b^{[i+1]}} \n",
    "&= dz^{[i+1]}\\\\\n",
    "\\end{split}\n",
    "\\end{equation}"
   ]
  },
  {
   "cell_type": "code",
   "execution_count": 43,
   "metadata": {},
   "outputs": [
    {
     "data": {
      "text/plain": [
       "((6, 670), (6, 670))"
      ]
     },
     "execution_count": 43,
     "metadata": {},
     "output_type": "execute_result"
    }
   ],
   "source": [
    "dz.shape, cache['a2'].shape"
   ]
  },
  {
   "cell_type": "code",
   "execution_count": 44,
   "metadata": {},
   "outputs": [
    {
     "data": {
      "text/plain": [
       "(6, 6)"
      ]
     },
     "execution_count": 44,
     "metadata": {},
     "output_type": "execute_result"
    }
   ],
   "source": [
    "dw = dz.dot(cache['a1'].T)\n",
    "dw.shape"
   ]
  },
  {
   "cell_type": "code",
   "execution_count": 45,
   "metadata": {},
   "outputs": [
    {
     "data": {
      "text/plain": [
       "(6, 6)"
      ]
     },
     "execution_count": 45,
     "metadata": {},
     "output_type": "execute_result"
    }
   ],
   "source": [
    "cache['W2'] = cache['W2'] - alpha * dw \n",
    "cache['W2'].shape"
   ]
  },
  {
   "cell_type": "code",
   "execution_count": 46,
   "metadata": {},
   "outputs": [
    {
     "data": {
      "text/plain": [
       "(6,)"
      ]
     },
     "execution_count": 46,
     "metadata": {},
     "output_type": "execute_result"
    }
   ],
   "source": [
    "db = dz.mean(axis = 1)\n",
    "db.shape"
   ]
  },
  {
   "cell_type": "code",
   "execution_count": 47,
   "metadata": {},
   "outputs": [
    {
     "data": {
      "text/plain": [
       "(6,)"
      ]
     },
     "execution_count": 47,
     "metadata": {},
     "output_type": "execute_result"
    }
   ],
   "source": [
    "cache['b2'] = cache['b2'] - alpha * db\n",
    "cache['b2'].shape"
   ]
  },
  {
   "cell_type": "markdown",
   "metadata": {},
   "source": [
    "\n",
    "#### Backward Propagation\n",
    "\\begin{equation} \n",
    "\\begin{split}\n",
    "dz^{[i]} = np.dot(W^{[i+1]}.T, dz^{[i+1]}) \\sigma'(z^{[i]})\n",
    "\\end{split}\n",
    "\\end{equation}\n",
    "\n",
    "\n"
   ]
  },
  {
   "cell_type": "code",
   "execution_count": 48,
   "metadata": {},
   "outputs": [
    {
     "data": {
      "text/plain": [
       "(6, 670)"
      ]
     },
     "execution_count": 48,
     "metadata": {},
     "output_type": "execute_result"
    }
   ],
   "source": [
    "dz.shape"
   ]
  },
  {
   "cell_type": "code",
   "execution_count": 49,
   "metadata": {},
   "outputs": [
    {
     "data": {
      "text/plain": [
       "(6, 670)"
      ]
     },
     "execution_count": 49,
     "metadata": {},
     "output_type": "execute_result"
    }
   ],
   "source": [
    "# bacpropagate from d[z2] to d[z1]\n",
    "dz = np.dot(cache['W2'].T, dz) * derivative_sigmoid(cache['z1'])\n",
    "dz.shape"
   ]
  },
  {
   "cell_type": "markdown",
   "metadata": {},
   "source": [
    "<figure> \n",
    "    <img src=\"Figures/w1.png\" alt=\"flamingo\", width=\"340\"> \n",
    "    <figcaption><i>fig. 1</i> Update on previous layer</figcaption> \n",
    "</figure>\n",
    "\n",
    "\n",
    "#### Update Parameters\n",
    "\n",
    "Weight update\n",
    "\n",
    "\\begin{equation} \n",
    "\\begin{split}\n",
    "\\frac{\\partial J}{\\partial W^{[i+1]}} \n",
    "&= dz^{[i+1]} a^{[i]}.T \\\\\n",
    "\\end{split}\n",
    "\\end{equation}\n",
    "\n",
    "Bias update\n",
    "\n",
    "\\begin{equation} \n",
    "\\begin{split}\n",
    "\\frac{\\partial J}{\\partial b^{[i+1]}} \n",
    "&= dz^{[i+1]}\\\\\n",
    "\\end{split}\n",
    "\\end{equation}"
   ]
  },
  {
   "cell_type": "code",
   "execution_count": 50,
   "metadata": {},
   "outputs": [
    {
     "data": {
      "text/plain": [
       "(6, 4)"
      ]
     },
     "execution_count": 50,
     "metadata": {},
     "output_type": "execute_result"
    }
   ],
   "source": [
    "dw = dz.dot(cache['a0'].T)\n",
    "dw.shape"
   ]
  },
  {
   "cell_type": "code",
   "execution_count": 51,
   "metadata": {},
   "outputs": [
    {
     "data": {
      "text/plain": [
       "(6, 4)"
      ]
     },
     "execution_count": 51,
     "metadata": {},
     "output_type": "execute_result"
    }
   ],
   "source": [
    "cache['W1'] = cache['W1'] - alpha * dw \n",
    "cache['W1'].shape"
   ]
  },
  {
   "cell_type": "code",
   "execution_count": 52,
   "metadata": {},
   "outputs": [
    {
     "data": {
      "text/plain": [
       "(6,)"
      ]
     },
     "execution_count": 52,
     "metadata": {},
     "output_type": "execute_result"
    }
   ],
   "source": [
    "db = dz.mean(axis = 1)\n",
    "db.shape"
   ]
  },
  {
   "cell_type": "code",
   "execution_count": 53,
   "metadata": {},
   "outputs": [
    {
     "data": {
      "text/plain": [
       "(6,)"
      ]
     },
     "execution_count": 53,
     "metadata": {},
     "output_type": "execute_result"
    }
   ],
   "source": [
    "cache['b2'] = cache['b2'] - alpha * db\n",
    "cache['b2'].shape"
   ]
  },
  {
   "cell_type": "markdown",
   "metadata": {},
   "source": [
    "# ANN From Scratch"
   ]
  },
  {
   "cell_type": "code",
   "execution_count": 72,
   "metadata": {},
   "outputs": [],
   "source": [
    "def cross_entropy_loss(a, y):\n",
    "    cost = - np.mean(y * np.log(a) + (1 - a) * np.log(1 - a))\n",
    "    return np.squeeze(cost)\n",
    "\n",
    "def sigmoid(z):\n",
    "    return 1 / (1 + np.exp(-z))\n",
    "\n",
    "def derivative_sigmoid(z):\n",
    "    s = sigmoid(z)\n",
    "    return s * (1.0-s)\n",
    "\n",
    "def construct(layers = [4,6,6,1]):\n",
    "    weight_dims = list(zip(layers[1:], layers[:-1]))\n",
    "    bias_dims = layers[1:]\n",
    "\n",
    "    weights = [np.random.randn(n,d)/100.0 for n,d in weight_dims]\n",
    "    biases = [np.random.randn(d,1)/100.0 for d in bias_dims]\n",
    "    \n",
    "    return weights, biases\n",
    "\n",
    "def forward_propagation(X_train, weights, biases):\n",
    "    # forward propagation\n",
    "    a = X_train\n",
    "    cache = {'a0':a}\n",
    "    for i in range(len(weights)):\n",
    "        W = weights[i]\n",
    "        b = biases[i]\n",
    "        z = W.dot(a) + b\n",
    "        a = sigmoid(z)\n",
    "\n",
    "        cache[f'W{i+1}'] = W\n",
    "        cache[f'b{i+1}'] = b\n",
    "        cache[f'a{i+1}'] = a\n",
    "        cache[f'z{i+1}'] = z\n",
    "    return cache\n",
    "\n",
    "def backward_propagation(X_train, y_train, weights, biases,alpha = 0.01, epochs = 1000):\n",
    "    cache = forward_propagation(X_train, weights, biases)\n",
    "    last = len(cache)//4 \n",
    "    n = X_train.shape[1]\n",
    "    \n",
    "    loss = cross_entropy_loss(cache[f'a{last}'], y_train)\n",
    "    J = [loss]\n",
    "\n",
    "    for epoch in range(epochs):\n",
    "        dz = cache[f'a{last}'] - y_train # d[z3]\n",
    "        for i in range(last,0,-1):\n",
    "            db = dz.mean()\n",
    "            dw = dz.dot(cache[f'a{i-1}'].T)/n\n",
    "\n",
    "            # Gradient Descent\n",
    "            cache[f'W{i}'] = cache[f'W{i}'] - alpha * dw \n",
    "            cache[f'b{i}'] = cache[f'b{i}'] - alpha * db\n",
    "\n",
    "            # backpropagate from d[z3] to d[z2]\n",
    "            if i == 1: break\n",
    "            dz = np.dot(cache[f'W{i}'].T, dz) * derivative_sigmoid(cache[f'z{i-1}'])\n",
    "\n",
    "        weights = [cache[f'W{i+1}'] for i in range(len(cache)//4)]\n",
    "        biases = [cache[f'b{i+1}'] for i in range(len(cache)//4)]\n",
    "\n",
    "        cache = forward_propagation(X_train, weights, biases)\n",
    "        loss = cross_entropy_loss(cache[f'a{last}'], y_train)\n",
    "        J.append(loss)\n",
    "    return cache, J\n",
    "\n",
    "def predict(X_test, cache):\n",
    "    last = len(cache)//4\n",
    "    \n",
    "    weights = [cache[f'W{i+1}'] for i in range(last)]\n",
    "    biases = [cache[f'b{i+1}'] for i in range(last)]\n",
    "    \n",
    "    new_cache = forward_propagation(X_test, weights, biases)\n",
    "    a = new_cache[f'a{last}']\n",
    "    \n",
    "    return (a > 0.5) + 0"
   ]
  },
  {
   "cell_type": "markdown",
   "metadata": {},
   "source": [
    "# Test"
   ]
  },
  {
   "cell_type": "code",
   "execution_count": 73,
   "metadata": {},
   "outputs": [
    {
     "name": "stdout",
     "output_type": "stream",
     "text": [
      "[[290   4]\n",
      " [  8  28]]\n"
     ]
    },
    {
     "data": {
      "text/plain": [
       "Text(0, 0.5, 'Loss J')"
      ]
     },
     "execution_count": 73,
     "metadata": {},
     "output_type": "execute_result"
    },
    {
     "data": {
      "image/png": "[encoded data removed]",
      "text/plain": [
       "<Figure size 432x288 with 1 Axes>"
      ]
     },
     "metadata": {},
     "output_type": "display_data"
    }
   ],
   "source": [
    "weights, biases = construct(layers = [4,1] )\n",
    "cache, J = backward_propagation(X_train, y_train, weights, biases, alpha = 0.1, epochs = 1000)\n",
    "\n",
    "y_pred = predict(X_test, cache)\n",
    "print(confusion_matrix(y_test[0], y_pred[0]))\n",
    "\n",
    "plt.plot(J);plt.xlabel('Epoch');plt.ylabel('Loss J')"
   ]
  },
  {
   "cell_type": "code",
   "execution_count": 74,
   "metadata": {},
   "outputs": [
    {
     "data": {
      "text/plain": [
       "[('a0', (4, 670)),\n",
       " ('W1', (1, 4)),\n",
       " ('b1', (1, 1)),\n",
       " ('a1', (1, 670)),\n",
       " ('z1', (1, 670))]"
      ]
     },
     "execution_count": 74,
     "metadata": {},
     "output_type": "execute_result"
    }
   ],
   "source": [
    "[(key, cache[key].shape) for key in cache.keys()]"
   ]
  },
  {
   "cell_type": "code",
   "execution_count": 75,
   "metadata": {},
   "outputs": [
    {
     "name": "stdout",
     "output_type": "stream",
     "text": [
      "[[294   0]\n",
      " [ 10  26]]\n"
     ]
    },
    {
     "data": {
      "text/plain": [
       "Text(0, 0.5, 'Loss J')"
      ]
     },
     "execution_count": 75,
     "metadata": {},
     "output_type": "execute_result"
    },
    {
     "data": {
      "image/png": "[encoded data removed]",
      "text/plain": [
       "<Figure size 432x288 with 1 Axes>"
      ]
     },
     "metadata": {},
     "output_type": "display_data"
    }
   ],
   "source": [
    "weights, biases = construct(layers = [4,6,1] )\n",
    "cache, J = backward_propagation(X_train, y_train, weights, biases, alpha = 0.1, epochs = 1000)\n",
    "\n",
    "y_pred = predict(X_test, cache)\n",
    "print(confusion_matrix(y_test[0], y_pred[0]))\n",
    "\n",
    "plt.plot(J);plt.xlabel('Epoch');plt.ylabel('Loss J')"
   ]
  },
  {
   "cell_type": "code",
   "execution_count": 76,
   "metadata": {},
   "outputs": [
    {
     "data": {
      "text/plain": [
       "[('a0', (4, 670)),\n",
       " ('W1', (6, 4)),\n",
       " ('b1', (6, 1)),\n",
       " ('a1', (6, 670)),\n",
       " ('z1', (6, 670)),\n",
       " ('W2', (1, 6)),\n",
       " ('b2', (1, 1)),\n",
       " ('a2', (1, 670)),\n",
       " ('z2', (1, 670))]"
      ]
     },
     "execution_count": 76,
     "metadata": {},
     "output_type": "execute_result"
    }
   ],
   "source": [
    "[(key, cache[key].shape) for key in cache.keys()]"
   ]
  },
  {
   "cell_type": "code",
   "execution_count": 65,
   "metadata": {},
   "outputs": [
    {
     "data": {
      "text/plain": [
       "2.0"
      ]
     },
     "execution_count": 65,
     "metadata": {},
     "output_type": "execute_result"
    }
   ],
   "source": [
    "dz = np.array([[2,2,2,2]])\n",
    "np.sum(dz) / 4"
   ]
  },
  {
   "cell_type": "code",
   "execution_count": null,
   "metadata": {},
   "outputs": [],
   "source": []
  }
 ],
 "metadata": {
  "kernelspec": {
   "display_name": "Python 3",
   "language": "python",
   "name": "python3"
  },
  "language_info": {
   "codemirror_mode": {
    "name": "ipython",
    "version": 3
   },
   "file_extension": ".py",
   "mimetype": "text/x-python",
   "name": "python",
   "nbconvert_exporter": "python",
   "pygments_lexer": "ipython3",
   "version": "3.7.1"
  },
  "toc": {
   "base_numbering": 1,
   "nav_menu": {},
   "number_sections": true,
   "sideBar": true,
   "skip_h1_title": false,
   "title_cell": "Table of Contents",
   "title_sidebar": "Contents",
   "toc_cell": false,
   "toc_position": {},
   "toc_section_display": true,
   "toc_window_display": false
  },
  "varInspector": {
   "cols": {
    "lenName": 16,
    "lenType": 16,
    "lenVar": 40
   },
   "kernels_config": {
    "python": {
     "delete_cmd_postfix": "",
     "delete_cmd_prefix": "del ",
     "library": "var_list.py",
     "varRefreshCmd": "print(var_dic_list())"
    },
    "r": {
     "delete_cmd_postfix": ") ",
     "delete_cmd_prefix": "rm(",
     "library": "var_list.r",
     "varRefreshCmd": "cat(var_dic_list()) "
    }
   },
   "types_to_exclude": [
    "module",
    "function",
    "builtin_function_or_method",
    "instance",
    "_Feature"
   ],
   "window_display": false
  }
 },
 "nbformat": 4,
 "nbformat_minor": 2
}
