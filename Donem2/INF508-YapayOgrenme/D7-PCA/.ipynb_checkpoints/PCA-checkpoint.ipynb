{
 "cells": [
  {
   "cell_type": "markdown",
   "metadata": {},
   "source": [
    "# Veri"
   ]
  },
  {
   "cell_type": "code",
   "execution_count": 12,
   "metadata": {},
   "outputs": [
    {
     "data": {
      "text/plain": [
       "array([[-1.41421356,  0.81649658, -1.36216257],\n",
       "       [-0.70710678, -1.22474487, -0.66718167],\n",
       "       [ 0.        ,  0.81649658, -0.25019312],\n",
       "       [ 0.70710678, -1.22474487,  1.0007725 ],\n",
       "       [ 1.41421356,  0.81649658,  1.27876486]])"
      ]
     },
     "execution_count": 12,
     "metadata": {},
     "output_type": "execute_result"
    }
   ],
   "source": [
    "import numpy as np\n",
    "import pandas as pd\n",
    "import matplotlib.pyplot as plt\n",
    "import seaborn as sns\n",
    "sns.set()\n",
    "\n",
    "X = np.array([\n",
    "    [1,2,4],\n",
    "    [2,-2,9],\n",
    "    [3,2,12],\n",
    "    [4,-2,21],\n",
    "    [5,2,23],\n",
    "])\n",
    "\n",
    "# standardization\n",
    "X_normal = (X - X.mean(axis = 0))/(X.std(axis = 0))\n",
    "X_normal"
   ]
  },
  {
   "cell_type": "markdown",
   "metadata": {},
   "source": [
    "# Sklearn PCA"
   ]
  },
  {
   "cell_type": "code",
   "execution_count": 13,
   "metadata": {},
   "outputs": [
    {
     "name": "stdout",
     "output_type": "stream",
     "text": [
      "\n",
      "eigenvalue: 2.490302413639413\n",
      "[-0.70041477  0.09705232 -0.70710678]\n",
      "eigenvector length: 0.9999999999999997\n",
      "\n",
      "eigenvalue: 1.2500000000000002\n",
      "[-0.1372527  -0.99053606  0.        ]\n",
      "eigenvector length: 1.0\n"
     ]
    }
   ],
   "source": [
    "from sklearn.decomposition import PCA\n",
    "pca = PCA(2)\n",
    "pca.fit(X_normal)\n",
    "\n",
    "for eigenvalue, eigenvector in zip(pca.explained_variance_, pca.components_):\n",
    "    print(\"\\neigenvalue: {}\".format(eigenvalue))\n",
    "    print(eigenvector)\n",
    "    print(\"eigenvector length: {}\".format(eigenvector.dot(eigenvector.T)))"
   ]
  },
  {
   "cell_type": "markdown",
   "metadata": {},
   "source": [
    "# El yapimi PCA"
   ]
  },
  {
   "cell_type": "code",
   "execution_count": 37,
   "metadata": {},
   "outputs": [
    {
     "name": "stdout",
     "output_type": "stream",
     "text": [
      "\n",
      "Ozvektor 1 : Temel Bilesen 1\n",
      "[[ 0.70041477]\n",
      " [-0.09705232]\n",
      " [-0.70710678]]\n",
      "Ozdeger 1: 0.009697586360586818\n",
      "eigenvector length: [[1.]]\n",
      "\n",
      "Ozvektor 2 : Temel Bilesen 2\n",
      "[[ 0.70041477]\n",
      " [-0.09705232]\n",
      " [ 0.70710678]]\n",
      "Ozdeger 2: 2.490302413639412\n",
      "eigenvector length: [[1.]]\n",
      "\n",
      "Ozvektor 3 : Temel Bilesen 3\n",
      "[[ 1.37252703e-01]\n",
      " [ 9.90536065e-01]\n",
      " [-3.14764774e-17]]\n",
      "Ozdeger 2: 1.25\n",
      "eigenvector length: [[1.]]\n"
     ]
    }
   ],
   "source": [
    "COV = (1/(X.shape[0] - 1)) * X_normal.T.dot(X_normal)\n",
    "ozdegerler, ozvektorler = np.linalg.eig(COV)\n",
    "\n",
    "ozvektorler_tersi = np.linalg.inv(ozvektorler)\n",
    "ozdegerler = ozdegerler\n",
    "\n",
    "w1,w2, w3 = ozvektorler[:,0:1], ozvektorler[:,1:2], ozvektorler[:,2:]\n",
    "print(\"\\nOzvektor 1 : Temel Bilesen 1\")\n",
    "print(w1)\n",
    "print(\"Ozdeger 1: {}\".format(ozdegerler[0]))\n",
    "print(\"eigenvector length: {}\".format(w1.T.dot(w1)))\n",
    "\n",
    "print(\"\\nOzvektor 2 : Temel Bilesen 2\")\n",
    "print(w2)\n",
    "print(\"Ozdeger 2: {}\".format(ozdegerler[1]))\n",
    "print(\"eigenvector length: {}\".format(w2.T.dot(w2)))\n",
    "\n",
    "print(\"\\nOzvektor 3 : Temel Bilesen 3\")\n",
    "print(w3)\n",
    "print(\"Ozdeger 2: {}\".format(ozdegerler[2]))\n",
    "print(\"eigenvector length: {}\".format(w3.T.dot(w3)))"
   ]
  },
  {
   "cell_type": "markdown",
   "metadata": {},
   "source": [
    "# Verinin Geri Donusumu"
   ]
  },
  {
   "cell_type": "code",
   "execution_count": 54,
   "metadata": {},
   "outputs": [
    {
     "data": {
      "text/plain": [
       "array([[-0.10658456],\n",
       "       [ 0.09536498],\n",
       "       [ 0.09767037],\n",
       "       [-0.09352066],\n",
       "       [ 0.00706988]])"
      ]
     },
     "execution_count": 54,
     "metadata": {},
     "output_type": "execute_result"
    }
   ],
   "source": [
    "z1 = X_normal.dot(w1)\n",
    "z1"
   ]
  },
  {
   "cell_type": "code",
   "execution_count": 55,
   "metadata": {},
   "outputs": [
    {
     "data": {
      "text/plain": [
       "array([[ 0.70041477, -0.09705232, -0.70710678]])"
      ]
     },
     "execution_count": 55,
     "metadata": {},
     "output_type": "execute_result"
    }
   ],
   "source": [
    "w1T = ozvektorler_tersi[0:1]\n",
    "w1T"
   ]
  },
  {
   "cell_type": "code",
   "execution_count": 56,
   "metadata": {},
   "outputs": [
    {
     "data": {
      "text/plain": [
       "array([[-0.0746534 ,  0.01034428,  0.07536667],\n",
       "       [ 0.06679504, -0.00925539, -0.06743322],\n",
       "       [ 0.06840977, -0.00947914, -0.06906338],\n",
       "       [-0.06550325,  0.0090764 ,  0.06612909],\n",
       "       [ 0.00495185, -0.00068615, -0.00499916]])"
      ]
     },
     "execution_count": 56,
     "metadata": {},
     "output_type": "execute_result"
    }
   ],
   "source": [
    "z1.dot(w1T)"
   ]
  },
  {
   "cell_type": "code",
   "execution_count": 59,
   "metadata": {},
   "outputs": [
    {
     "data": {
      "text/plain": [
       "array([[-1.41421356e+00,  8.16496581e-01, -1.36216257e+00],\n",
       "       [-7.07106781e-01, -1.22474487e+00, -6.67181666e-01],\n",
       "       [-1.38777878e-17,  8.16496581e-01, -2.50193125e-01],\n",
       "       [ 7.07106781e-01, -1.22474487e+00,  1.00077250e+00],\n",
       "       [ 1.41421356e+00,  8.16496581e-01,  1.27876486e+00]])"
      ]
     },
     "execution_count": 59,
     "metadata": {},
     "output_type": "execute_result"
    }
   ],
   "source": [
    "z2 = X_normal.dot(w2)\n",
    "w2T = ozvektorler_tersi[1:2]\n",
    "\n",
    "z3 = X_normal.dot(w3)\n",
    "w3T = ozvektorler_tersi[2:]\n",
    "\n",
    "z1.dot(w1T) + z2.dot(w2T) + z3.dot(w3T)"
   ]
  },
  {
   "cell_type": "code",
   "execution_count": 57,
   "metadata": {},
   "outputs": [
    {
     "data": {
      "text/plain": [
       "array([[-1.41421356,  0.81649658, -1.36216257],\n",
       "       [-0.70710678, -1.22474487, -0.66718167],\n",
       "       [ 0.        ,  0.81649658, -0.25019312],\n",
       "       [ 0.70710678, -1.22474487,  1.0007725 ],\n",
       "       [ 1.41421356,  0.81649658,  1.27876486]])"
      ]
     },
     "execution_count": 57,
     "metadata": {},
     "output_type": "execute_result"
    }
   ],
   "source": [
    "X_normal"
   ]
  },
  {
   "cell_type": "code",
   "execution_count": 58,
   "metadata": {},
   "outputs": [
    {
     "data": {
      "text/plain": [
       "array([[-1.41421356e+00,  8.16496581e-01, -1.36216257e+00],\n",
       "       [-7.07106781e-01, -1.22474487e+00, -6.67181666e-01],\n",
       "       [ 3.56711290e-17,  8.16496581e-01, -2.50193125e-01],\n",
       "       [ 7.07106781e-01, -1.22474487e+00,  1.00077250e+00],\n",
       "       [ 1.41421356e+00,  8.16496581e-01,  1.27876486e+00]])"
      ]
     },
     "execution_count": 58,
     "metadata": {},
     "output_type": "execute_result"
    }
   ],
   "source": [
    "X_normal.dot(ozvektorler).dot(ozvektorler_tersi)"
   ]
  },
  {
   "cell_type": "code",
   "execution_count": null,
   "metadata": {},
   "outputs": [],
   "source": []
  }
 ],
 "metadata": {
  "kernelspec": {
   "display_name": "Python 3",
   "language": "python",
   "name": "python3"
  },
  "language_info": {
   "codemirror_mode": {
    "name": "ipython",
    "version": 3
   },
   "file_extension": ".py",
   "mimetype": "text/x-python",
   "name": "python",
   "nbconvert_exporter": "python",
   "pygments_lexer": "ipython3",
   "version": "3.8.3"
  },
  "toc": {
   "base_numbering": 1,
   "nav_menu": {},
   "number_sections": true,
   "sideBar": true,
   "skip_h1_title": false,
   "title_cell": "Table of Contents",
   "title_sidebar": "Contents",
   "toc_cell": false,
   "toc_position": {},
   "toc_section_display": true,
   "toc_window_display": false
  },
  "varInspector": {
   "cols": {
    "lenName": 16,
    "lenType": 16,
    "lenVar": 40
   },
   "kernels_config": {
    "python": {
     "delete_cmd_postfix": "",
     "delete_cmd_prefix": "del ",
     "library": "var_list.py",
     "varRefreshCmd": "print(var_dic_list())"
    },
    "r": {
     "delete_cmd_postfix": ") ",
     "delete_cmd_prefix": "rm(",
     "library": "var_list.r",
     "varRefreshCmd": "cat(var_dic_list()) "
    }
   },
   "types_to_exclude": [
    "module",
    "function",
    "builtin_function_or_method",
    "instance",
    "_Feature"
   ],
   "window_display": false
  }
 },
 "nbformat": 4,
 "nbformat_minor": 4
}
