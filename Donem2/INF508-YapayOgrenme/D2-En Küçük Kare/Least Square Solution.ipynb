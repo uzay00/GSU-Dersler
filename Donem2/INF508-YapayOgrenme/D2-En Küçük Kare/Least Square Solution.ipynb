{
 "cells": [
  {
   "cell_type": "markdown",
   "metadata": {},
   "source": [
    "# Least Square Solution\n",
    "![](LeastSquare.png)"
   ]
  },
  {
   "cell_type": "code",
   "execution_count": 1,
   "metadata": {},
   "outputs": [],
   "source": [
    "import numpy as np"
   ]
  },
  {
   "cell_type": "code",
   "execution_count": 2,
   "metadata": {},
   "outputs": [],
   "source": [
    "n, d = 1000, 5"
   ]
  },
  {
   "cell_type": "code",
   "execution_count": 3,
   "metadata": {},
   "outputs": [],
   "source": [
    "X = np.random.rand(n,d)"
   ]
  },
  {
   "cell_type": "code",
   "execution_count": 4,
   "metadata": {},
   "outputs": [],
   "source": [
    "y = X.mean(axis = 1)"
   ]
  },
  {
   "cell_type": "code",
   "execution_count": 5,
   "metadata": {},
   "outputs": [
    {
     "data": {
      "text/plain": [
       "506.5047024307777"
      ]
     },
     "execution_count": 5,
     "metadata": {},
     "output_type": "execute_result"
    }
   ],
   "source": [
    "y.sum()"
   ]
  },
  {
   "cell_type": "code",
   "execution_count": 6,
   "metadata": {},
   "outputs": [
    {
     "data": {
      "text/plain": [
       "(5, 5)"
      ]
     },
     "execution_count": 6,
     "metadata": {},
     "output_type": "execute_result"
    }
   ],
   "source": [
    "XTX = np.dot(X.T, X)\n",
    "XTX.shape"
   ]
  },
  {
   "cell_type": "code",
   "execution_count": 7,
   "metadata": {},
   "outputs": [
    {
     "data": {
      "text/plain": [
       "(5, 5)"
      ]
     },
     "execution_count": 7,
     "metadata": {},
     "output_type": "execute_result"
    }
   ],
   "source": [
    "XTXINV = np.linalg.inv(XTX)\n",
    "XTXINV.shape"
   ]
  },
  {
   "cell_type": "code",
   "execution_count": 8,
   "metadata": {},
   "outputs": [
    {
     "data": {
      "text/plain": [
       "(5,)"
      ]
     },
     "execution_count": 8,
     "metadata": {},
     "output_type": "execute_result"
    }
   ],
   "source": [
    "XTY = np.dot(X.T, y)\n",
    "XTY.shape"
   ]
  },
  {
   "cell_type": "code",
   "execution_count": 9,
   "metadata": {},
   "outputs": [
    {
     "data": {
      "text/plain": [
       "array([0.2, 0.2, 0.2, 0.2, 0.2])"
      ]
     },
     "execution_count": 9,
     "metadata": {},
     "output_type": "execute_result"
    }
   ],
   "source": [
    "w = np.dot(XTXINV, XTY)\n",
    "w"
   ]
  },
  {
   "cell_type": "code",
   "execution_count": 10,
   "metadata": {},
   "outputs": [],
   "source": [
    "yhat = np.dot(X, w)"
   ]
  },
  {
   "cell_type": "code",
   "execution_count": 11,
   "metadata": {},
   "outputs": [
    {
     "data": {
      "text/plain": [
       "-1.6199541708061815e-13"
      ]
     },
     "execution_count": 11,
     "metadata": {},
     "output_type": "execute_result"
    }
   ],
   "source": [
    "np.sum(yhat - y)"
   ]
  },
  {
   "cell_type": "markdown",
   "metadata": {},
   "source": [
    "# Formulation - Least Square Solution\n",
    "\n",
    "Data = Signal + Noise\n",
    "$$\n",
    "y = f(x) + \\epsilon \n",
    "$$\n",
    "\n",
    "Where $f(x) = Xw$"
   ]
  },
  {
   "cell_type": "markdown",
   "metadata": {},
   "source": [
    "## Generate Data"
   ]
  },
  {
   "cell_type": "code",
   "execution_count": 19,
   "metadata": {},
   "outputs": [],
   "source": [
    "# Generate Data\n",
    "n, d = 1000000, 100\n",
    "X = np.random.rand(n,d)\n",
    "\n",
    "# Signal\n",
    "    # When you take average with mean(), \n",
    "    # you give equal weight (1/d) to each feature, \n",
    "signal = X.mean(axis = 1)\n",
    "\n",
    "# Noise\n",
    "noise = np.random.rand(n,) /100\n",
    "\n",
    "# Data\n",
    "y =  signal + noise"
   ]
  },
  {
   "cell_type": "markdown",
   "metadata": {},
   "source": [
    "## Solution"
   ]
  },
  {
   "cell_type": "code",
   "execution_count": 20,
   "metadata": {},
   "outputs": [
    {
     "data": {
      "text/plain": [
       "array([0.01009343, 0.01008596, 0.01010215, 0.0101094 , 0.01011016,\n",
       "       0.01009838, 0.01008166, 0.0101165 , 0.01009913, 0.01009807,\n",
       "       0.01010921, 0.01009757, 0.01010795, 0.01010437, 0.01009239,\n",
       "       0.01010985, 0.01011204, 0.01008617, 0.01009034, 0.01009318,\n",
       "       0.01009497, 0.01010498, 0.01008189, 0.01008292, 0.01011521,\n",
       "       0.01009488, 0.01008972, 0.01010818, 0.0100906 , 0.01009524,\n",
       "       0.01007767, 0.01009892, 0.01008767, 0.01008866, 0.01011385,\n",
       "       0.01009751, 0.01011588, 0.01011224, 0.01008544, 0.01008879,\n",
       "       0.01010828, 0.01010504, 0.01010744, 0.01009024, 0.01008977,\n",
       "       0.01010414, 0.01010574, 0.01009128, 0.01009452, 0.01009289,\n",
       "       0.01008451, 0.01010434, 0.01009222, 0.0101046 , 0.01011472,\n",
       "       0.01010576, 0.01010435, 0.01009471, 0.01009821, 0.01008988,\n",
       "       0.01011207, 0.01009885, 0.01011057, 0.01011299, 0.01008124,\n",
       "       0.01008664, 0.01009934, 0.01009881, 0.01009843, 0.01011578,\n",
       "       0.01009583, 0.01011348, 0.0100828 , 0.01009795, 0.01009427,\n",
       "       0.01011337, 0.01010956, 0.01010988, 0.01010332, 0.01008753,\n",
       "       0.01010905, 0.01009791, 0.01010502, 0.01012155, 0.01010146,\n",
       "       0.01010517, 0.01010067, 0.01010633, 0.01009192, 0.01010505,\n",
       "       0.01009929, 0.01011756, 0.01007845, 0.01010205, 0.01009748,\n",
       "       0.0101067 , 0.01010173, 0.01009213, 0.01008617, 0.01010703])"
      ]
     },
     "execution_count": 20,
     "metadata": {},
     "output_type": "execute_result"
    }
   ],
   "source": [
    "XTX = np.dot(X.T, X)\n",
    "XTXINV = np.linalg.inv(XTX)\n",
    "XTY = np.dot(X.T, y)\n",
    "w = np.dot(XTXINV, XTY)\n",
    "w"
   ]
  },
  {
   "cell_type": "markdown",
   "metadata": {},
   "source": [
    "# İşe Alım Verisi"
   ]
  },
  {
   "cell_type": "code",
   "execution_count": 22,
   "metadata": {},
   "outputs": [
    {
     "data": {
      "text/html": [
       "<div>\n",
       "<style scoped>\n",
       "    .dataframe tbody tr th:only-of-type {\n",
       "        vertical-align: middle;\n",
       "    }\n",
       "\n",
       "    .dataframe tbody tr th {\n",
       "        vertical-align: top;\n",
       "    }\n",
       "\n",
       "    .dataframe thead th {\n",
       "        text-align: right;\n",
       "    }\n",
       "</style>\n",
       "<table border=\"1\" class=\"dataframe\">\n",
       "  <thead>\n",
       "    <tr style=\"text-align: right;\">\n",
       "      <th></th>\n",
       "      <th>age</th>\n",
       "      <th>algorithm</th>\n",
       "      <th>gpa</th>\n",
       "      <th>social</th>\n",
       "      <th>y</th>\n",
       "    </tr>\n",
       "  </thead>\n",
       "  <tbody>\n",
       "    <tr>\n",
       "      <th>0</th>\n",
       "      <td>3.576113</td>\n",
       "      <td>3.728920</td>\n",
       "      <td>0.930603</td>\n",
       "      <td>4.438372</td>\n",
       "      <td>1</td>\n",
       "    </tr>\n",
       "    <tr>\n",
       "      <th>1</th>\n",
       "      <td>1.829891</td>\n",
       "      <td>4.393183</td>\n",
       "      <td>3.137649</td>\n",
       "      <td>4.831307</td>\n",
       "      <td>1</td>\n",
       "    </tr>\n",
       "    <tr>\n",
       "      <th>2</th>\n",
       "      <td>3.981593</td>\n",
       "      <td>4.050717</td>\n",
       "      <td>3.886304</td>\n",
       "      <td>4.865860</td>\n",
       "      <td>1</td>\n",
       "    </tr>\n",
       "    <tr>\n",
       "      <th>3</th>\n",
       "      <td>1.734623</td>\n",
       "      <td>4.605488</td>\n",
       "      <td>2.605315</td>\n",
       "      <td>3.663224</td>\n",
       "      <td>1</td>\n",
       "    </tr>\n",
       "    <tr>\n",
       "      <th>4</th>\n",
       "      <td>2.759050</td>\n",
       "      <td>4.288383</td>\n",
       "      <td>1.894925</td>\n",
       "      <td>3.238931</td>\n",
       "      <td>1</td>\n",
       "    </tr>\n",
       "    <tr>\n",
       "      <th>...</th>\n",
       "      <td>...</td>\n",
       "      <td>...</td>\n",
       "      <td>...</td>\n",
       "      <td>...</td>\n",
       "      <td>...</td>\n",
       "    </tr>\n",
       "    <tr>\n",
       "      <th>995</th>\n",
       "      <td>0.756427</td>\n",
       "      <td>0.931875</td>\n",
       "      <td>2.769794</td>\n",
       "      <td>0.218749</td>\n",
       "      <td>0</td>\n",
       "    </tr>\n",
       "    <tr>\n",
       "      <th>996</th>\n",
       "      <td>3.344518</td>\n",
       "      <td>1.182757</td>\n",
       "      <td>2.696908</td>\n",
       "      <td>0.735196</td>\n",
       "      <td>0</td>\n",
       "    </tr>\n",
       "    <tr>\n",
       "      <th>997</th>\n",
       "      <td>1.812786</td>\n",
       "      <td>1.081876</td>\n",
       "      <td>2.940970</td>\n",
       "      <td>1.076683</td>\n",
       "      <td>0</td>\n",
       "    </tr>\n",
       "    <tr>\n",
       "      <th>998</th>\n",
       "      <td>2.316372</td>\n",
       "      <td>2.211849</td>\n",
       "      <td>4.594402</td>\n",
       "      <td>0.614308</td>\n",
       "      <td>0</td>\n",
       "    </tr>\n",
       "    <tr>\n",
       "      <th>999</th>\n",
       "      <td>1.845348</td>\n",
       "      <td>1.809162</td>\n",
       "      <td>3.783898</td>\n",
       "      <td>0.629247</td>\n",
       "      <td>0</td>\n",
       "    </tr>\n",
       "  </tbody>\n",
       "</table>\n",
       "<p>1000 rows × 5 columns</p>\n",
       "</div>"
      ],
      "text/plain": [
       "          age  algorithm       gpa    social  y\n",
       "0    3.576113   3.728920  0.930603  4.438372  1\n",
       "1    1.829891   4.393183  3.137649  4.831307  1\n",
       "2    3.981593   4.050717  3.886304  4.865860  1\n",
       "3    1.734623   4.605488  2.605315  3.663224  1\n",
       "4    2.759050   4.288383  1.894925  3.238931  1\n",
       "..        ...        ...       ...       ... ..\n",
       "995  0.756427   0.931875  2.769794  0.218749  0\n",
       "996  3.344518   1.182757  2.696908  0.735196  0\n",
       "997  1.812786   1.081876  2.940970  1.076683  0\n",
       "998  2.316372   2.211849  4.594402  0.614308  0\n",
       "999  1.845348   1.809162  3.783898  0.629247  0\n",
       "\n",
       "[1000 rows x 5 columns]"
      ]
     },
     "execution_count": 22,
     "metadata": {},
     "output_type": "execute_result"
    }
   ],
   "source": [
    "import numpy as np\n",
    "import pandas as pd\n",
    "\n",
    "import requests\n",
    "import io\n",
    "\n",
    "\n",
    "url = \"https://raw.githubusercontent.com/uzay00/KaVe-Egitim/master/ARGE/Sorular/1-İseAlımRobotu/data.csv\"\n",
    "s = requests.get(url).content\n",
    "\n",
    "data = pd.read_csv(io.StringIO(s.decode('utf-8')))\n",
    "data"
   ]
  },
  {
   "cell_type": "code",
   "execution_count": 23,
   "metadata": {},
   "outputs": [],
   "source": [
    "idx_train = np.random.choice(1000, size = 800,replace = False)"
   ]
  },
  {
   "cell_type": "code",
   "execution_count": 24,
   "metadata": {},
   "outputs": [],
   "source": [
    "idx_test = np.array(list(set(range(1000)) - set(idx_train)))"
   ]
  },
  {
   "cell_type": "code",
   "execution_count": 41,
   "metadata": {},
   "outputs": [],
   "source": [
    "X_train = data.values[idx_train, :-1]\n",
    "y_train = data.values[idx_train, -1]"
   ]
  },
  {
   "cell_type": "code",
   "execution_count": 42,
   "metadata": {},
   "outputs": [],
   "source": [
    "X_test = data.values[idx_test, :-1]\n",
    "y_test = data.values[idx_test, -1]"
   ]
  },
  {
   "cell_type": "code",
   "execution_count": 43,
   "metadata": {},
   "outputs": [],
   "source": [
    "def leastsquare(X, y):\n",
    "    XTX = np.dot(X.T, X)\n",
    "    XTXINV = np.linalg.inv(XTX)\n",
    "    XTY = np.dot(X.T, y)\n",
    "    w = np.dot(XTXINV, XTY)\n",
    "    return w"
   ]
  },
  {
   "cell_type": "code",
   "execution_count": 44,
   "metadata": {},
   "outputs": [],
   "source": [
    "w = leastsquare(X_train, y_train)"
   ]
  },
  {
   "cell_type": "code",
   "execution_count": 46,
   "metadata": {},
   "outputs": [
    {
     "data": {
      "text/plain": [
       "array([-0.03027535,  0.11682794, -0.03376863,  0.12444453])"
      ]
     },
     "execution_count": 46,
     "metadata": {},
     "output_type": "execute_result"
    }
   ],
   "source": [
    "w"
   ]
  },
  {
   "cell_type": "code",
   "execution_count": 47,
   "metadata": {},
   "outputs": [
    {
     "data": {
      "text/plain": [
       "(200,)"
      ]
     },
     "execution_count": 47,
     "metadata": {},
     "output_type": "execute_result"
    }
   ],
   "source": [
    "y_hat = np.dot(X_test,w)\n",
    "y_hat.shape"
   ]
  },
  {
   "cell_type": "code",
   "execution_count": 48,
   "metadata": {},
   "outputs": [
    {
     "data": {
      "text/plain": [
       "array([ 0.84827993,  0.10380341,  0.23413703,  0.01382315, -0.01945005,\n",
       "        0.95540057,  0.14016386, -0.09474477,  0.87466829,  0.07268193,\n",
       "        0.82723253, -0.10331694, -0.02478553,  0.86779698, -0.08183577,\n",
       "       -0.0120177 ,  0.08638828,  0.80164852,  0.92533897, -0.11170882,\n",
       "        0.00445056,  0.9489995 ,  0.79017488, -0.0752375 , -0.10954375,\n",
       "        0.23259053,  0.00792392, -0.07719663, -0.01426011,  0.18984695,\n",
       "        0.92644957,  0.57398609,  0.07193158,  0.04215846, -0.0538264 ,\n",
       "        0.90725067,  0.95341818,  0.92414776,  0.3523862 ,  0.97420245,\n",
       "       -0.09925784,  0.03302611,  0.0124821 ,  0.24260392,  0.05453726,\n",
       "        0.12807578, -0.03625106,  0.07147381,  0.22871354,  0.01637949,\n",
       "        0.15346802,  0.21167992, -0.09902408,  0.22285762,  0.21910228,\n",
       "       -0.15063255, -0.04980437, -0.08274074, -0.03822665,  0.15122674,\n",
       "        0.04389496, -0.03889836, -0.04717826,  0.24064613,  0.33080513,\n",
       "        0.18171212, -0.03338466, -0.11570362, -0.07629339,  0.0070763 ,\n",
       "        0.18176964,  0.0601706 ,  0.09051766,  0.03986226, -0.11351787,\n",
       "        0.04272499, -0.00232087, -0.17846203,  0.01224474,  0.18683654,\n",
       "       -0.05712679,  0.02273019,  0.02819857, -0.15390891,  0.0477825 ,\n",
       "        0.04939121, -0.13791671, -0.06678981,  0.04158112,  0.13944579,\n",
       "        0.03769644,  0.09905337, -0.15173945,  0.13856885,  0.11592581,\n",
       "        0.0689092 ,  0.0763495 , -0.03177985, -0.04424837, -0.01121672,\n",
       "        0.11904009, -0.08894523, -0.04989712,  0.05593767, -0.08379478,\n",
       "        0.00798002,  0.22103664, -0.06777318,  0.09545396, -0.07266884,\n",
       "        0.07542689,  0.06740307, -0.14057325,  0.13967589,  0.02692414,\n",
       "       -0.0760893 ,  0.00560113,  0.13006802, -0.06783711,  0.0993619 ,\n",
       "        0.05716489, -0.05594124,  0.15159641,  0.11488625,  0.02515762,\n",
       "       -0.08359646,  0.01169321,  0.01836195,  0.07700854,  0.11466156,\n",
       "        0.09362316,  0.04333259, -0.06271503,  0.12988068,  0.11127324,\n",
       "        0.10231563,  0.0044486 ,  0.18899085,  0.06321837, -0.11191576,\n",
       "       -0.07850452,  0.18096239,  0.22575896, -0.08483548,  0.09691865,\n",
       "        0.10955561, -0.1011566 , -0.13523522,  0.08596946,  0.07694025,\n",
       "        0.0522653 ,  0.03890187, -0.04250027, -0.07532003, -0.00182702,\n",
       "        0.03028864, -0.02726985, -0.02937127,  0.04332307,  0.01945188,\n",
       "        0.09750012,  0.07633592,  0.06572974,  0.00297018, -0.18522811,\n",
       "        0.08409318, -0.1009253 ,  0.24969253,  0.11812261, -0.061002  ,\n",
       "       -0.08818764,  0.04825791,  0.0066566 , -0.0017407 , -0.11596509,\n",
       "        0.1213316 ,  0.06308505,  0.04024914, -0.038863  , -0.1163769 ,\n",
       "        0.33925108,  0.18666269, -0.02102249,  0.07911816,  0.12941773,\n",
       "       -0.0421701 , -0.11880168,  0.07545449,  0.02754249,  0.00624003,\n",
       "        0.10291015, -0.07000498, -0.15719023, -0.06734199, -0.10405958,\n",
       "       -0.03853427, -0.04510603,  0.02741365, -0.00409182, -0.09613104])"
      ]
     },
     "execution_count": 48,
     "metadata": {},
     "output_type": "execute_result"
    }
   ],
   "source": [
    "y_hat"
   ]
  },
  {
   "cell_type": "code",
   "execution_count": 49,
   "metadata": {},
   "outputs": [
    {
     "data": {
      "text/plain": [
       "array([1, 0, 0, 0, 0, 1, 0, 0, 1, 0, 1, 0, 0, 1, 0, 0, 0, 1, 1, 0, 0, 1,\n",
       "       1, 0, 0, 0, 0, 0, 0, 0, 1, 1, 0, 0, 0, 1, 1, 1, 0, 1, 0, 0, 0, 0,\n",
       "       0, 0, 0, 0, 0, 0, 0, 0, 0, 0, 0, 0, 0, 0, 0, 0, 0, 0, 0, 0, 0, 0,\n",
       "       0, 0, 0, 0, 0, 0, 0, 0, 0, 0, 0, 0, 0, 0, 0, 0, 0, 0, 0, 0, 0, 0,\n",
       "       0, 0, 0, 0, 0, 0, 0, 0, 0, 0, 0, 0, 0, 0, 0, 0, 0, 0, 0, 0, 0, 0,\n",
       "       0, 0, 0, 0, 0, 0, 0, 0, 0, 0, 0, 0, 0, 0, 0, 0, 0, 0, 0, 0, 0, 0,\n",
       "       0, 0, 0, 0, 0, 0, 0, 0, 0, 0, 0, 0, 0, 0, 0, 0, 0, 0, 0, 0, 0, 0,\n",
       "       0, 0, 0, 0, 0, 0, 0, 0, 0, 0, 0, 0, 0, 0, 0, 0, 0, 0, 0, 0, 0, 0,\n",
       "       0, 0, 0, 0, 0, 0, 0, 0, 0, 0, 0, 0, 0, 0, 0, 0, 0, 0, 0, 0, 0, 0,\n",
       "       0, 0])"
      ]
     },
     "execution_count": 49,
     "metadata": {},
     "output_type": "execute_result"
    }
   ],
   "source": [
    "y_pred = 1 * (y_hat > 0.5)\n",
    "y_pred"
   ]
  },
  {
   "cell_type": "code",
   "execution_count": 50,
   "metadata": {},
   "outputs": [
    {
     "data": {
      "text/plain": [
       "array([1., 0., 0., 0., 0., 1., 0., 0., 1., 0., 1., 0., 0., 1., 0., 0., 0.,\n",
       "       1., 1., 0., 0., 1., 1., 0., 0., 0., 0., 0., 0., 0., 1., 1., 0., 0.,\n",
       "       0., 1., 1., 1., 1., 1., 0., 0., 0., 0., 0., 0., 0., 0., 0., 0., 0.,\n",
       "       0., 0., 0., 0., 0., 0., 0., 0., 0., 0., 0., 0., 0., 0., 0., 0., 0.,\n",
       "       0., 0., 0., 0., 0., 0., 0., 0., 0., 0., 0., 0., 0., 0., 0., 0., 0.,\n",
       "       0., 0., 0., 0., 0., 0., 0., 0., 0., 0., 0., 0., 0., 0., 0., 0., 0.,\n",
       "       0., 0., 0., 0., 0., 0., 0., 0., 0., 0., 0., 0., 0., 0., 0., 0., 0.,\n",
       "       0., 0., 0., 0., 0., 0., 0., 0., 0., 0., 0., 0., 0., 0., 0., 0., 0.,\n",
       "       0., 0., 0., 0., 0., 0., 0., 0., 0., 0., 0., 0., 0., 0., 0., 0., 0.,\n",
       "       0., 0., 0., 0., 0., 0., 0., 0., 0., 0., 0., 0., 0., 0., 0., 0., 0.,\n",
       "       0., 0., 0., 0., 0., 0., 0., 0., 0., 0., 0., 0., 0., 0., 0., 0., 0.,\n",
       "       0., 0., 0., 0., 0., 0., 0., 0., 0., 0., 0., 0., 0.])"
      ]
     },
     "execution_count": 50,
     "metadata": {},
     "output_type": "execute_result"
    }
   ],
   "source": [
    "y_test"
   ]
  },
  {
   "cell_type": "code",
   "execution_count": 51,
   "metadata": {},
   "outputs": [
    {
     "data": {
      "text/plain": [
       "array([[184,   0],\n",
       "       [  1,  15]])"
      ]
     },
     "execution_count": 51,
     "metadata": {},
     "output_type": "execute_result"
    }
   ],
   "source": [
    "from sklearn.metrics import confusion_matrix\n",
    "\n",
    "confusion_matrix(y_test, y_pred)"
   ]
  },
  {
   "cell_type": "markdown",
   "metadata": {},
   "source": [
    "# Linear Regression\n",
    "\n",
    "Model \n",
    "$$\n",
    "\\hat{y} = Xw\n",
    "$$\n",
    "\n",
    "Error\n",
    "$$\n",
    "J(w) = \\frac{1}{2n} ||y - \\hat{y}||_2 = \\frac{1}{2n}(y - \\hat{y})^T(y - \\hat{y})\n",
    "$$\n",
    "\n",
    "Gradient\n",
    "\n",
    "$$\n",
    "\\frac{dJ}{dw} = \\frac{1}{n} X^T(y - \\hat{y})\n",
    "$$\n",
    "\n",
    "![](LeastSquare-gradient.png)"
   ]
  },
  {
   "cell_type": "code",
   "execution_count": 52,
   "metadata": {},
   "outputs": [
    {
     "name": "stdout",
     "output_type": "stream",
     "text": [
      "w: [[-0.03029581]\n",
      " [ 0.11484898]\n",
      " [-0.03368894]\n",
      " [ 0.12633072]]\n",
      "\n"
     ]
    }
   ],
   "source": [
    "n = X_train.shape[0]   # ornek sayisi\n",
    "d = X_train.shape[1]   # oznitelik sayisi\n",
    "y_train = y_train.reshape(-1,1)\n",
    "\n",
    "\n",
    "\n",
    "alpha =  0.01\n",
    "Js = []\n",
    "w  = np.random.rand(d,1) # rastgele d agirlik parametre degeri\n",
    "\n",
    "for i in range(1000):\n",
    "    # ileri yayilim\n",
    "    h = np.dot(X_train, w) \n",
    "    # geri yayilim\n",
    "    dw = (1 / n) * np.dot(X_train.T, (h - y_train))\n",
    "    # Egim Inis\n",
    "    w = w - alpha * dw\n",
    "    \n",
    "    if i%100:\n",
    "        Js.append((1 / (2 * n)) * np.sum(np.power(h - y_train,2)))\n",
    "    \n",
    "print(\"w: {}\\n\".format(w))"
   ]
  },
  {
   "cell_type": "code",
   "execution_count": 53,
   "metadata": {},
   "outputs": [
    {
     "data": {
      "text/plain": [
       "(200, 1)"
      ]
     },
     "execution_count": 53,
     "metadata": {},
     "output_type": "execute_result"
    }
   ],
   "source": [
    "y_hat = np.dot(X_test,w)\n",
    "y_hat.shape"
   ]
  },
  {
   "cell_type": "code",
   "execution_count": 54,
   "metadata": {},
   "outputs": [
    {
     "data": {
      "text/plain": [
       "(200,)"
      ]
     },
     "execution_count": 54,
     "metadata": {},
     "output_type": "execute_result"
    }
   ],
   "source": [
    "y_pred = 1 * (y_hat > 0.5)\n",
    "y_pred = y_pred.flatten()\n",
    "y_pred.shape"
   ]
  },
  {
   "cell_type": "code",
   "execution_count": 55,
   "metadata": {},
   "outputs": [
    {
     "data": {
      "text/plain": [
       "array([[184,   0],\n",
       "       [  1,  15]])"
      ]
     },
     "execution_count": 55,
     "metadata": {},
     "output_type": "execute_result"
    }
   ],
   "source": [
    "from sklearn.metrics import confusion_matrix\n",
    "\n",
    "confusion_matrix(y_test, y_pred)"
   ]
  },
  {
   "cell_type": "code",
   "execution_count": null,
   "metadata": {},
   "outputs": [],
   "source": []
  },
  {
   "cell_type": "code",
   "execution_count": null,
   "metadata": {},
   "outputs": [],
   "source": []
  }
 ],
 "metadata": {
  "kernelspec": {
   "display_name": "Python 3",
   "language": "python",
   "name": "python3"
  },
  "language_info": {
   "codemirror_mode": {
    "name": "ipython",
    "version": 3
   },
   "file_extension": ".py",
   "mimetype": "text/x-python",
   "name": "python",
   "nbconvert_exporter": "python",
   "pygments_lexer": "ipython3",
   "version": "3.8.3"
  },
  "toc": {
   "base_numbering": 1,
   "nav_menu": {},
   "number_sections": true,
   "sideBar": true,
   "skip_h1_title": false,
   "title_cell": "Table of Contents",
   "title_sidebar": "Contents",
   "toc_cell": false,
   "toc_position": {},
   "toc_section_display": true,
   "toc_window_display": false
  },
  "varInspector": {
   "cols": {
    "lenName": 16,
    "lenType": 16,
    "lenVar": 40
   },
   "kernels_config": {
    "python": {
     "delete_cmd_postfix": "",
     "delete_cmd_prefix": "del ",
     "library": "var_list.py",
     "varRefreshCmd": "print(var_dic_list())"
    },
    "r": {
     "delete_cmd_postfix": ") ",
     "delete_cmd_prefix": "rm(",
     "library": "var_list.r",
     "varRefreshCmd": "cat(var_dic_list()) "
    }
   },
   "types_to_exclude": [
    "module",
    "function",
    "builtin_function_or_method",
    "instance",
    "_Feature"
   ],
   "window_display": false
  }
 },
 "nbformat": 4,
 "nbformat_minor": 4
}
